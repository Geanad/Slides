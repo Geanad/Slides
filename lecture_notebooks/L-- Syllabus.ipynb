{
 "cells": [
  {
   "cell_type": "markdown",
   "metadata": {
    "id": "5UyFJYXOx-WH",
    "slideshow": {
     "slide_type": "slide"
    }
   },
   "source": [
    "# Syllabus "
   ]
  },
  {
   "cell_type": "markdown",
   "metadata": {
    "slideshow": {
     "slide_type": "slide"
    }
   },
   "source": [
    "# Lecture 1 - Intro \n",
    "* What's a program?\n",
    "* Hello World!\n",
    "* Basic Input and Output\n",
    "* Interpreted vs. compiled languages\n",
    "* Ways to run Python (notebooks, via the interactive console, via an editor (PyCharm))\n",
    "* The debug loop\n",
    "* Basic input and output\n",
    "* Comments\n",
    "* Basic types\n",
    "  * integers (ints)\n",
    "  * strings\n",
    "  * floating point numbers (floats)\n",
    "* ZyBook: Chapter 1"
   ]
  },
  {
   "cell_type": "markdown",
   "metadata": {
    "slideshow": {
     "slide_type": "slide"
    }
   },
   "source": [
    "# Lecture 2 - Variables and Expressions \n",
    "* Objects\n",
    "* Variables\n",
    "* Assignment is not equals\n",
    "* Copying References\n",
    "* Variable Names\n",
    "* Expressions\n",
    "* Statements\n",
    "* Operators\n",
    "* Abbreviated assignment\n",
    "* Logical operators\n",
    "* Order of operations\n",
    "* ZyBook: Chapter 2"
   ]
  },
  {
   "cell_type": "markdown",
   "metadata": {
    "slideshow": {
     "slide_type": "slide"
    }
   },
   "source": [
    "# Lecture 3 - More Types \n",
    "* More strings\n",
    "* F strings and number formatting\n",
    "* Type Conversions\n",
    "* Automatic Type Conversion\n",
    "* More Input\n",
    "* List basics\n",
    "* Dictionary Basics\n",
    "* ZyBook: Chapter 3"
   ]
  },
  {
   "cell_type": "markdown",
   "metadata": {
    "slideshow": {
     "slide_type": "slide"
    }
   },
   "source": [
    "# Lecture 4 - Conditionals and Branching \n",
    "* If statements\n",
    "* Else\n",
    "* Elif\n",
    "* Pass\n",
    "* First looping control flow:\n",
    "  * While loops\n",
    "* ZyBook: Chapter 4"
   ]
  },
  {
   "cell_type": "markdown",
   "metadata": {
    "slideshow": {
     "slide_type": "slide"
    }
   },
   "source": [
    "# Lecture 5 - Loops \n",
    "* More control flow:\n",
    "  * For loops\n",
    "  * List iteration\n",
    "  * Range\n",
    "  * Nested loops\n",
    "  * Break statement\n",
    "  * Continue statement\n",
    "* Look at some complex examples of control flow that use control statements to get more comfortable\n",
    "* ZyBook: Chapter 5"
   ]
  },
  {
   "cell_type": "markdown",
   "metadata": {
    "slideshow": {
     "slide_type": "slide"
    }
   },
   "source": [
    "# Lecture 6 - Functions  \n",
    "\n",
    "* Functions:\n",
    "  * Function definitions and function calls\n",
    "  * Return values are optional\n",
    "  * Docstrings\n",
    "  * Return can be used for control flow\n",
    "  * None and the default return value\n",
    "  * Return can often sub for break\n",
    "  * Functions can call other functions - the stack\n",
    "  * The stack: getting to grips with functions and control flow\n",
    "* ZyBook: Chapter 6"
   ]
  },
  {
   "cell_type": "markdown",
   "metadata": {
    "slideshow": {
     "slide_type": "slide"
    }
   },
   "source": [
    "# Lecture 7 - Functions Continued  \n",
    "  \n",
    "* Functions continued:\n",
    "  * Functions, namespaces and score\n",
    "  * Optional functional arguments \n",
    "  * A few common mistakes about functions\n",
    "  * Examples\n"
   ]
  },
  {
   "cell_type": "markdown",
   "metadata": {
    "slideshow": {
     "slide_type": "slide"
    }
   },
   "source": [
    "# Lecture 8 - Strings \n",
    "* Strings:\n",
    "  * String operators\n",
    "  * Length function\n",
    "  * Slicing\n",
    "  * Immutability\n",
    "  * String comparison\n",
    "  * For loops\n",
    "  * In operator\n",
    "  * Convenience functions\n",
    "    * Find\n",
    "    * Split\n",
    "    * Join\n",
    "    * etc.\n",
    "  * Format method and other ways to do string substitution\n",
    "* ZyBook: Chapter 7"
   ]
  },
  {
   "cell_type": "markdown",
   "metadata": {
    "slideshow": {
     "slide_type": "slide"
    }
   },
   "source": [
    "# Lecture 9 - Tuples, Lists and Dictionaries \n",
    "* Tuples (recap many things introduced with respect to strings) \n",
    "* Lists \n",
    "* List comprehensions\n",
    "* More Dictionaries\n",
    "* Sets\n",
    "* ZyBook: Chapter 8"
   ]
  },
  {
   "cell_type": "markdown",
   "metadata": {
    "slideshow": {
     "slide_type": "slide"
    }
   },
   "source": [
    "# Midterm in class (everything in lectures 1 - 9)"
   ]
  },
  {
   "cell_type": "markdown",
   "metadata": {
    "slideshow": {
     "slide_type": "slide"
    }
   },
   "source": [
    "# Lecture 10 - Modules \n",
    "* Finishing up sequences:\n",
    "  * Iterators vs. lists\n",
    "  * Generators and the yield keyword\n",
    "  * Generator expressions\n",
    "* Modules:\n",
    "  * Some useful modules\n",
    "  * Hierarchical namespaces\n",
    "  * Making your own modules\n",
    "* The main() function\n",
    "* PEP 8 (v. briefly)\n",
    "* A revisit to debugging, now that we're writing longer programs:\n",
    "  * Looking at different error types (syntax, runtime, logical)\n",
    "* ZyBook: Chapter 11"
   ]
  },
  {
   "cell_type": "markdown",
   "metadata": {
    "slideshow": {
     "slide_type": "slide"
    }
   },
   "source": [
    "# Lecture 11 - Files \n",
    "* Writing Files\n",
    "* Reading files\n",
    "* With keyword\n",
    "* For loops on file handles\n",
    "* Binary files \n",
    "* Large worked example (Fasta file processing)\n",
    "* Directories\n",
    "* Web file retrieval\n",
    "* ZyBook: Chapter 12"
   ]
  },
  {
   "cell_type": "markdown",
   "metadata": {
    "slideshow": {
     "slide_type": "slide"
    }
   },
   "source": [
    "# Lecture 12 - Classes and Objects \n",
    "* The basics of Python classes and objects:\n",
    "  * Classes and Objects\n",
    " \t* The \\__init__ constructor method\n",
    " \t* Object membership: Dot notation and classes\n",
    " \t* Everything is an object in Python!\n",
    " \t* Methods: adding functions to class and the self argument\n",
    " \t* Object vs. class variables\n",
    " \t* Objects Mutability\n",
    "* Is vs. ==\n",
    "* ZyBook: Chapter 9"
   ]
  },
  {
   "cell_type": "markdown",
   "metadata": {
    "slideshow": {
     "slide_type": "slide"
    }
   },
   "source": [
    "# Lecture 13 - Objects and Polymorphism \n",
    "* Python objects:\n",
    "  * Polymorphism\n",
    "\t* Polymorphism by reimplementing basic object functionality:\n",
    "    * Redefining the \\__str__ method\n",
    "  \t* How Python implements ''==\" for objects\n",
    "  \t* General operator overloading, including comparison operators\n",
    "\t* Copying objects\n",
    "* No Zybooks!"
   ]
  },
  {
   "cell_type": "markdown",
   "metadata": {
    "slideshow": {
     "slide_type": "slide"
    }
   },
   "source": [
    "# Lecture 14 - Inheritance \n",
    "* Inheritance\n",
    "\t* Object composition\n",
    "\t* Inheritance vs. composition: aka: 'Is a' vs. 'has a'.\n",
    "* An Example of OOP: Implementing the card game Old Maid\n",
    "* ZyBook: Chapter 13"
   ]
  },
  {
   "cell_type": "markdown",
   "metadata": {
    "slideshow": {
     "slide_type": "slide"
    }
   },
   "source": [
    "# Lecture 15 - More Functions and Recursion \n",
    "* Recursion\n",
    "* Consolidate: Look at some more complex examples of recursive control flow that use functions and control statements to get more comfortable\n",
    "* Lambda functions\n",
    "* Functions as arguments\n",
    "* ZyBook: Chapter 14"
   ]
  },
  {
   "cell_type": "markdown",
   "metadata": {
    "slideshow": {
     "slide_type": "slide"
    }
   },
   "source": [
    "# Lecture 16 - Exceptions and Unit Testing \n",
    "* Unit-testing with unitest\n",
    "* Exceptions and error handling\n",
    "* ZyBook: Chapter 10"
   ]
  },
  {
   "cell_type": "markdown",
   "metadata": {
    "slideshow": {
     "slide_type": "slide"
    }
   },
   "source": [
    "# Lecture 17 - Search Algorithms \n",
    "* A couple of simple list algorithms:\n",
    "  * Linear search\n",
    "  * Binary search \n",
    "* A very brief introduction to runtime analysis and Big O Notation\n",
    "* Word counting with dictionaries\n",
    "* Zybook Chapter 16"
   ]
  },
  {
   "cell_type": "markdown",
   "metadata": {
    "slideshow": {
     "slide_type": "slide"
    }
   },
   "source": [
    "# Lecture 18 - Intro to data science \n",
    "Worked example intro to Python data science\n",
    "* NumPy\n",
    "* MatPlotLib (to make plots)\n",
    "* Pandas\n",
    "* Sklearn\n",
    "* Zybook Chapter 15"
   ]
  },
  {
   "cell_type": "markdown",
   "metadata": {
    "slideshow": {
     "slide_type": "slide"
    }
   },
   "source": [
    "# Revision for final (everything!)"
   ]
  }
 ],
 "metadata": {
  "celltoolbar": "Slideshow",
  "colab": {
   "collapsed_sections": [],
   "name": "L-- Syllabus.ipynb",
   "provenance": []
  },
  "kernelspec": {
   "display_name": "Python 3",
   "language": "python",
   "name": "python3"
  },
  "language_info": {
   "codemirror_mode": {
    "name": "ipython",
    "version": 3
   },
   "file_extension": ".py",
   "mimetype": "text/x-python",
   "name": "python",
   "nbconvert_exporter": "python",
   "pygments_lexer": "ipython3",
   "version": "3.8.8"
  }
 },
 "nbformat": 4,
 "nbformat_minor": 1
}
