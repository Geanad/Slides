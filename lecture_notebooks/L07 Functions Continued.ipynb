{
 "cells": [
  {
   "cell_type": "markdown",
   "metadata": {
    "id": "5UyFJYXOx-WH",
    "slideshow": {
     "slide_type": "slide"
    }
   },
   "source": [
    "# Lecture 7 - Functions Continued \n",
    "\n",
    "* Functions continued:\n",
    "  * Functions, namespaces and score\n",
    "  * Optional functional arguments \n",
    "  * A few common mistakes about functions\n",
    "  * Examples\n"
   ]
  },
  {
   "cell_type": "markdown",
   "metadata": {
    "slideshow": {
     "slide_type": "slide"
    }
   },
   "source": [
    "# Warm-up: Practice with Loops and Functions"
   ]
  },
  {
   "cell_type": "code",
   "execution_count": 6,
   "metadata": {},
   "outputs": [
    {
     "data": {
      "text/plain": [
       "0"
      ]
     },
     "execution_count": 6,
     "metadata": {},
     "output_type": "execute_result"
    }
   ],
   "source": [
    "# Write the following functions without using '+', '*', or '**'\n",
    "# Instead use loops and call add from mul, etc\n",
    "\n",
    "def add(x,y):\n",
    "    # write without using '+'\n",
    "    # instead use a loop with increments and decrements\n",
    "    assert y >= 0\n",
    "    while y != 0:\n",
    "        x += 1\n",
    "        y -= 1\n",
    "    return x    \n",
    "\n",
    "def mul(x,y):\n",
    "    # write without using '*' or '+', instead call add in a loop\n",
    "    # 0 + x + x + x + ...  (y times)\n",
    "    p = 0\n",
    "    for i in range(y):\n",
    "        p = add(p,x)\n",
    "    return p\n",
    "    \n",
    "def exp(x,y):\n",
    "    # write without using '**' or '*' or '+', instead call mul in a loop\n",
    "    # 1 * x * x * x ... (y times)\n",
    "    e = 1\n",
    "    for i in range(y):\n",
    "        e = mul(e,x)\n",
    "    return e\n",
    "\n",
    "exp(2,4)"
   ]
  },
  {
   "cell_type": "code",
   "execution_count": 9,
   "metadata": {},
   "outputs": [
    {
     "data": {
      "text/plain": [
       "['a', 'b', 'c', 'd', 'd']"
      ]
     },
     "execution_count": 9,
     "metadata": {},
     "output_type": "execute_result"
    }
   ],
   "source": [
    "'b' not in ['b','c','d']\n",
    "\n",
    "\"this\" in (\"this is a sentence\".split())\n",
    "\n",
    "x = ['a','b','c']\n",
    "x.append('d')\n",
    "x.append('d')\n",
    "x"
   ]
  },
  {
   "cell_type": "markdown",
   "metadata": {
    "id": "Flpncg1fes22",
    "slideshow": {
     "slide_type": "slide"
    }
   },
   "source": [
    "# Namespace\n",
    "\n",
    "\n",
    "\n"
   ]
  },
  {
   "cell_type": "markdown",
   "metadata": {
    "id": "_Mv0hbyZXDQl",
    "slideshow": {
     "slide_type": "fragment"
    }
   },
   "source": [
    "**Namespace**: in simple terms, the set of identifiers (variables, functions, classes, objects in general) a line of code can refer to."
   ]
  },
  {
   "cell_type": "code",
   "execution_count": 1,
   "metadata": {
    "colab": {
     "base_uri": "https://localhost:8080/",
     "height": 240
    },
    "execution": {
     "iopub.execute_input": "2022-09-23T00:20:10.452171Z",
     "iopub.status.busy": "2022-09-23T00:20:10.451184Z",
     "iopub.status.idle": "2022-09-23T00:20:10.530100Z",
     "shell.execute_reply": "2022-09-23T00:20:10.530513Z"
    },
    "executionInfo": {
     "elapsed": 1345,
     "status": "error",
     "timestamp": 1571957988264,
     "user": {
      "displayName": "Benedict Paten",
      "photoUrl": "https://lh3.googleusercontent.com/a-/AAuE7mBMnWy8dDR7jyTHNy9tPaRx6DCyA3QKrIcuQ7R4=s64",
      "userId": "06399644931392855882"
     },
     "user_tz": 420
    },
    "id": "8VfByLPOJUBU",
    "outputId": "7c3b3b74-7cf0-467f-b932-29b81b4ec5b9",
    "slideshow": {
     "slide_type": "fragment"
    }
   },
   "outputs": [
    {
     "ename": "NameError",
     "evalue": "name 'x' is not defined",
     "output_type": "error",
     "traceback": [
      "\u001b[0;31m---------------------------------------------------------------------------\u001b[0m",
      "\u001b[0;31mNameError\u001b[0m                                 Traceback (most recent call last)",
      "\u001b[0;32m<ipython-input-1-a7b942829a0c>\u001b[0m in \u001b[0;36m<module>\u001b[0;34m\u001b[0m\n\u001b[1;32m      1\u001b[0m \u001b[0;31m# A simple example of a namespace fail:\u001b[0m\u001b[0;34m\u001b[0m\u001b[0;34m\u001b[0m\u001b[0;34m\u001b[0m\u001b[0m\n\u001b[1;32m      2\u001b[0m \u001b[0;34m\u001b[0m\u001b[0m\n\u001b[0;32m----> 3\u001b[0;31m \u001b[0mprint\u001b[0m\u001b[0;34m(\u001b[0m\u001b[0mx\u001b[0m\u001b[0;34m)\u001b[0m \u001b[0;31m# This doesn't work because x is not yet defined\u001b[0m\u001b[0;34m\u001b[0m\u001b[0;34m\u001b[0m\u001b[0m\n\u001b[0m\u001b[1;32m      4\u001b[0m \u001b[0;31m# In other words, it is not yet in the \"namespace\" of this line of code\u001b[0m\u001b[0;34m\u001b[0m\u001b[0;34m\u001b[0m\u001b[0;34m\u001b[0m\u001b[0m\n\u001b[1;32m      5\u001b[0m \u001b[0;34m\u001b[0m\u001b[0m\n",
      "\u001b[0;31mNameError\u001b[0m: name 'x' is not defined"
     ]
    }
   ],
   "source": [
    "# A simple example of a namespace fail:\n",
    "\n",
    "print(x) # This doesn't work because x is not yet defined\n",
    "# In other words, it is not yet in the \"namespace\" of this line of code\n",
    "\n",
    "x = 5"
   ]
  },
  {
   "cell_type": "markdown",
   "metadata": {
    "id": "UGT7JF9yXYWF",
    "slideshow": {
     "slide_type": "slide"
    }
   },
   "source": [
    "# Scope"
   ]
  },
  {
   "cell_type": "markdown",
   "metadata": {
    "id": "CDhZEuhjJkQf",
    "slideshow": {
     "slide_type": "fragment"
    }
   },
   "source": [
    "**Scope**: rules to help define what is and is not in a name space.\n",
    "\n"
   ]
  },
  {
   "cell_type": "markdown",
   "metadata": {
    "id": "LSXCXIB-XwaD",
    "slideshow": {
     "slide_type": "subslide"
    }
   },
   "source": [
    "Python defines three levels of scope:\n",
    "\n",
    "* **Local scope** refers to identifiers declared within a function. These identifiers are kept in the namespace that belongs to the function, and each function has its own namespace. Variables in local scope are not outside of the function."
   ]
  },
  {
   "cell_type": "code",
   "execution_count": 2,
   "metadata": {
    "execution": {
     "iopub.execute_input": "2022-09-23T00:20:10.535100Z",
     "iopub.status.busy": "2022-09-23T00:20:10.534439Z",
     "iopub.status.idle": "2022-09-23T00:20:10.536704Z",
     "shell.execute_reply": "2022-09-23T00:20:10.537143Z"
    },
    "id": "NWBgegWbKKqW",
    "slideshow": {
     "slide_type": "fragment"
    }
   },
   "outputs": [],
   "source": [
    "def sum(x, y):\n",
    "  z = x + y # x, y and z are in the local scope of the function, they\n",
    "  # are \"local variables\"\n",
    "  return z"
   ]
  },
  {
   "cell_type": "markdown",
   "metadata": {
    "id": "UJs-GeWeKBil",
    "slideshow": {
     "slide_type": "subslide"
    }
   },
   "source": [
    "* **Global scope** refers to all the identifiers declared within the current module, or file.\n",
    "\n"
   ]
  },
  {
   "cell_type": "code",
   "execution_count": 3,
   "metadata": {
    "execution": {
     "iopub.execute_input": "2022-09-23T00:20:10.541649Z",
     "iopub.status.busy": "2022-09-23T00:20:10.540816Z",
     "iopub.status.idle": "2022-09-23T00:20:10.543022Z",
     "shell.execute_reply": "2022-09-23T00:20:10.543830Z"
    },
    "id": "dEqrqBxIKUxU",
    "slideshow": {
     "slide_type": "fragment"
    }
   },
   "outputs": [],
   "source": [
    "s = \"hello\" # s is in global scope, it is a global variable\n",
    "\n",
    "def sum(x, y):\n",
    "  z = x + y\n",
    "  return z"
   ]
  },
  {
   "cell_type": "markdown",
   "metadata": {
    "id": "KvErBbabKGip",
    "slideshow": {
     "slide_type": "subslide"
    }
   },
   "source": [
    "* **Built-in scope** refers to all the identifiers built into Python — those like range and list.\n",
    "\n"
   ]
  },
  {
   "cell_type": "code",
   "execution_count": 7,
   "metadata": {
    "execution": {
     "iopub.execute_input": "2022-09-23T00:20:10.549184Z",
     "iopub.status.busy": "2022-09-23T00:20:10.548375Z",
     "iopub.status.idle": "2022-09-23T00:20:10.556337Z",
     "shell.execute_reply": "2022-09-23T00:20:10.556806Z"
    },
    "id": "Z625Gwf-KrCo",
    "slideshow": {
     "slide_type": "fragment"
    }
   },
   "outputs": [
    {
     "name": "stdout",
     "output_type": "stream",
     "text": [
      "enter a number3\n"
     ]
    }
   ],
   "source": [
    "s = \"hello\" \n",
    "\n",
    "def sum(x, y):\n",
    "  z = x + y\n",
    "  return z\n",
    "\n",
    "w = float(input(\"enter a number\")) # float and input are builtin functions, they are\n",
    "# in built-in scope\n"
   ]
  },
  {
   "cell_type": "markdown",
   "metadata": {
    "id": "a-VRyvr9KpGM",
    "slideshow": {
     "slide_type": "subslide"
    }
   },
   "source": [
    "A line of code's **namespace** is defined by combining these three levels of scope. \n",
    "\n",
    "Identifier collisions (identifiers with the same name) are resolved\n",
    "by taking a local scope version in precedence to a global score version, and in turn a global score version in precedence to a built-in scope version, i.e.:\n",
    "\n",
    "* **local scope > global scope > built-in scope.**\n",
    "\n",
    "\n"
   ]
  },
  {
   "cell_type": "code",
   "execution_count": 5,
   "metadata": {
    "colab": {
     "base_uri": "https://localhost:8080/"
    },
    "execution": {
     "iopub.execute_input": "2022-09-23T00:20:10.561629Z",
     "iopub.status.busy": "2022-09-23T00:20:10.560976Z",
     "iopub.status.idle": "2022-09-23T00:20:10.563863Z",
     "shell.execute_reply": "2022-09-23T00:20:10.564284Z"
    },
    "executionInfo": {
     "elapsed": 402,
     "status": "ok",
     "timestamp": 1607649524942,
     "user": {
      "displayName": "Benedict Paten",
      "photoUrl": "https://lh3.googleusercontent.com/a-/AOh14Gh2rYrrH6yoNnUp0Oj4p4ouybc6ZcWGyPmKFtIY=s64",
      "userId": "06399644931392855882"
     },
     "user_tz": 480
    },
    "id": "RKvZcpb3LKR1",
    "outputId": "7e932094-0c56-4dc4-ab6b-5f88113dafa8",
    "slideshow": {
     "slide_type": "fragment"
    }
   },
   "outputs": [
    {
     "name": "stdout",
     "output_type": "stream",
     "text": [
      "5\n",
      "15\n",
      "5\n"
     ]
    }
   ],
   "source": [
    "# Let's see how these rules affect an example\n",
    "\n",
    "x = 5 # Global scope\n",
    "\n",
    "def f():\n",
    "  x = 15 # This copy of x is in local scope\n",
    "  print(x) # As local scope > global scope, this prints 15\n",
    "\n",
    "print(x) # This copy of x is the global scope version\n",
    "\n",
    "f() # This calls f, execution jumps into f\n",
    "\n",
    "print(x) # What happens in f does not affect global scope, so this x is still 5 "
   ]
  },
  {
   "cell_type": "markdown",
   "metadata": {
    "id": "wdfe3rBkLJHR",
    "slideshow": {
     "slide_type": "slide"
    }
   },
   "source": [
    "# Illustrating The Effect of Scope Rules\n",
    "\n",
    "\n",
    "Okay, let's look at some more illustrative examples of the effect of scope rules on namespace:\n",
    "\n"
   ]
  },
  {
   "cell_type": "markdown",
   "metadata": {
    "id": "oCa_CQUCaGxO",
    "slideshow": {
     "slide_type": "subslide"
    }
   },
   "source": [
    "**The local scope of a function is not available outside of the function**"
   ]
  },
  {
   "cell_type": "code",
   "execution_count": 8,
   "metadata": {
    "colab": {
     "base_uri": "https://localhost:8080/",
     "height": 253
    },
    "execution": {
     "iopub.execute_input": "2022-09-23T00:20:10.570838Z",
     "iopub.status.busy": "2022-09-23T00:20:10.569960Z",
     "iopub.status.idle": "2022-09-23T00:20:10.576739Z",
     "shell.execute_reply": "2022-09-23T00:20:10.577403Z"
    },
    "executionInfo": {
     "elapsed": 364,
     "status": "error",
     "timestamp": 1607649666069,
     "user": {
      "displayName": "Benedict Paten",
      "photoUrl": "https://lh3.googleusercontent.com/a-/AOh14Gh2rYrrH6yoNnUp0Oj4p4ouybc6ZcWGyPmKFtIY=s64",
      "userId": "06399644931392855882"
     },
     "user_tz": 480
    },
    "id": "GJZFUzenvsn2",
    "outputId": "f5660ba5-3cb6-4800-9874-6f0d104c1614",
    "slideshow": {
     "slide_type": "fragment"
    }
   },
   "outputs": [
    {
     "name": "stdout",
     "output_type": "stream",
     "text": [
      "The sum is 18\n"
     ]
    },
    {
     "ename": "NameError",
     "evalue": "name 'j' is not defined",
     "output_type": "error",
     "traceback": [
      "\u001b[0;31m---------------------------------------------------------------------------\u001b[0m",
      "\u001b[0;31mNameError\u001b[0m                                 Traceback (most recent call last)",
      "\u001b[0;32m<ipython-input-8-9dbf69dfc9bc>\u001b[0m in \u001b[0;36m<module>\u001b[0;34m\u001b[0m\n\u001b[1;32m     16\u001b[0m \u001b[0;34m\u001b[0m\u001b[0m\n\u001b[1;32m     17\u001b[0m \u001b[0;31m# But note this doesn't work\u001b[0m\u001b[0;34m\u001b[0m\u001b[0;34m\u001b[0m\u001b[0m\n\u001b[0;32m---> 18\u001b[0;31m \u001b[0mprint\u001b[0m\u001b[0;34m(\u001b[0m\u001b[0mj\u001b[0m\u001b[0;34m)\u001b[0m\u001b[0;34m\u001b[0m\u001b[0m\n\u001b[0m\u001b[1;32m     19\u001b[0m \u001b[0;34m\u001b[0m\u001b[0m\n\u001b[1;32m     20\u001b[0m \u001b[0;31m# And nor would this\u001b[0m\u001b[0;34m\u001b[0m\u001b[0;34m\u001b[0m\u001b[0m\n",
      "\u001b[0;31mNameError\u001b[0m: name 'j' is not defined"
     ]
    }
   ],
   "source": [
    "# Illustrating that the local scope of a function is not available outside of the function.\n",
    "\n",
    "def sum(l):\n",
    "  \"\"\"\n",
    "  Returns the sum of elements in a list\n",
    "  \"\"\"\n",
    "  j = 0\n",
    "  for i in l:\n",
    "    j = j + i\n",
    "  \n",
    "  return j\n",
    "\n",
    "numbers = [1, 9, 8]\n",
    "\n",
    "print(\"The sum is\", sum(numbers))\n",
    "\n",
    "# But note this doesn't work\n",
    "print(j)\n",
    "\n",
    "# And nor would this\n",
    "print(l)\n",
    "\n",
    "# This is because j and l belong to the local namespace of l,\n",
    "# that is they have local scope to sum, and are not defined outside of it"
   ]
  },
  {
   "cell_type": "markdown",
   "metadata": {
    "id": "STQ7CVavapco",
    "slideshow": {
     "slide_type": "subslide"
    }
   },
   "source": [
    "**A function's namespace inherits scope from outside**"
   ]
  },
  {
   "cell_type": "code",
   "execution_count": 7,
   "metadata": {
    "colab": {
     "base_uri": "https://localhost:8080/",
     "height": 35
    },
    "execution": {
     "iopub.execute_input": "2022-09-23T00:20:10.588912Z",
     "iopub.status.busy": "2022-09-23T00:20:10.588178Z",
     "iopub.status.idle": "2022-09-23T00:20:10.591242Z",
     "shell.execute_reply": "2022-09-23T00:20:10.591655Z"
    },
    "executionInfo": {
     "elapsed": 542,
     "status": "ok",
     "timestamp": 1571958320011,
     "user": {
      "displayName": "Benedict Paten",
      "photoUrl": "https://lh3.googleusercontent.com/a-/AAuE7mBMnWy8dDR7jyTHNy9tPaRx6DCyA3QKrIcuQ7R4=s64",
      "userId": "06399644931392855882"
     },
     "user_tz": 420
    },
    "id": "9A6-vfZ90iBJ",
    "outputId": "3fee9c2b-2fc5-46f7-c10b-308cd2a02e0d",
    "slideshow": {
     "slide_type": "fragment"
    }
   },
   "outputs": [
    {
     "data": {
      "text/plain": [
       "['went', 'shops', 'bought', 'hat']"
      ]
     },
     "execution_count": 7,
     "metadata": {},
     "output_type": "execute_result"
    }
   ],
   "source": [
    "# A function's namespace inherits scope from outside.\n",
    "\n",
    "little_words = [ \"a\", \"an\", \"the\", \"and\", \"or\", \"I\", \"to\"]\n",
    "\n",
    "def filterLittleWords(sentence):\n",
    "  \"\"\"\n",
    "  Removes some little words from a sentence\n",
    "  \"\"\"\n",
    "  \n",
    "  filteredSentence = []\n",
    "  \n",
    "  for word in sentence:\n",
    "    if word not in little_words:\n",
    "      filteredSentence.append(word) # Adds word to the list\n",
    "  \n",
    "  return filteredSentence\n",
    "\n",
    "filterLittleWords([ \"I\", \"went\", \"to\", \"the\", \"shops\", \"and\", \"bought\", \"a\", \"hat\"])  \n",
    "\n",
    "# Here little_words is a \"global variable\" (has global scope), \n",
    "# that is it can be accessed by any line of the program.\n",
    "# In contrast \"filteredSentence\" is a local variable (has local scope)\n",
    "# of the \"filterLittleWords\" function"
   ]
  },
  {
   "cell_type": "markdown",
   "metadata": {
    "id": "BQ11Tkd9asKJ",
    "slideshow": {
     "slide_type": "subslide"
    }
   },
   "source": [
    "**Identifier Collisions**"
   ]
  },
  {
   "cell_type": "code",
   "execution_count": 8,
   "metadata": {
    "colab": {
     "base_uri": "https://localhost:8080/",
     "height": 35
    },
    "execution": {
     "iopub.execute_input": "2022-09-23T00:20:10.596783Z",
     "iopub.status.busy": "2022-09-23T00:20:10.595613Z",
     "iopub.status.idle": "2022-09-23T00:20:10.598985Z",
     "shell.execute_reply": "2022-09-23T00:20:10.598551Z"
    },
    "executionInfo": {
     "elapsed": 944,
     "status": "ok",
     "timestamp": 1571958444495,
     "user": {
      "displayName": "Benedict Paten",
      "photoUrl": "https://lh3.googleusercontent.com/a-/AAuE7mBMnWy8dDR7jyTHNy9tPaRx6DCyA3QKrIcuQ7R4=s64",
      "userId": "06399644931392855882"
     },
     "user_tz": 420
    },
    "id": "g41OKv8BbLv8",
    "outputId": "04b551de-15e8-4e32-d3ab-c6b646a5c65e",
    "slideshow": {
     "slide_type": "fragment"
    }
   },
   "outputs": [
    {
     "name": "stdout",
     "output_type": "stream",
     "text": [
      "10\n"
     ]
    }
   ],
   "source": [
    "# Okay, so what about identifier collisions?:\n",
    "\n",
    "def range(x):\n",
    "  \"\"\" Redefining a built-in function (generally a bad idea)\"\"\"\n",
    "  print(x)\n",
    "  \n",
    "range(10) # This calls the above function, because global scope > built-in scope"
   ]
  },
  {
   "cell_type": "markdown",
   "metadata": {
    "id": "FiLzcCEaa_C1",
    "slideshow": {
     "slide_type": "subslide"
    }
   },
   "source": [
    "**Be careful trying to manipulate global variables within a local scope**"
   ]
  },
  {
   "cell_type": "code",
   "execution_count": 9,
   "metadata": {
    "colab": {
     "base_uri": "https://localhost:8080/",
     "height": 52
    },
    "execution": {
     "iopub.execute_input": "2022-09-23T00:20:10.605054Z",
     "iopub.status.busy": "2022-09-23T00:20:10.603986Z",
     "iopub.status.idle": "2022-09-23T00:20:10.608401Z",
     "shell.execute_reply": "2022-09-23T00:20:10.607659Z"
    },
    "executionInfo": {
     "elapsed": 520,
     "status": "ok",
     "timestamp": 1571958570456,
     "user": {
      "displayName": "Benedict Paten",
      "photoUrl": "https://lh3.googleusercontent.com/a-/AAuE7mBMnWy8dDR7jyTHNy9tPaRx6DCyA3QKrIcuQ7R4=s64",
      "userId": "06399644931392855882"
     },
     "user_tz": 420
    },
    "id": "ZO2_F4rx2kC8",
    "outputId": "14f98509-4be8-4164-d00b-64f371a9d698",
    "slideshow": {
     "slide_type": "subslide"
    }
   },
   "outputs": [
    {
     "name": "stdout",
     "output_type": "stream",
     "text": [
      "Went looking for shapes, seenAShape: True\n",
      "Finished look for shapes, seenAShape: False\n"
     ]
    }
   ],
   "source": [
    "# Scope rules can do some things that might seem unexpected\n",
    "\n",
    "seenAShape = False\n",
    "\n",
    "def lookForShapes(sentence):\n",
    "  \"\"\" Function tries to set seenAShape to True if the input sentence contains \n",
    "  a shape word.\n",
    "  \"\"\"\n",
    "  for word in sentence:\n",
    "    if word in [ \"circle\", \"square\", \"rhombus\"]:\n",
    "      seenAShape = True # Assign a new value to seenAShape?\n",
    "  print(\"Went looking for shapes, seenAShape: \" + str(seenAShape))\n",
    "  \n",
    "lookForShapes(\"I went for a walk around a rhombus\".split())\n",
    "\n",
    "print(\"Finished look for shapes, seenAShape: \" + str(seenAShape))"
   ]
  },
  {
   "cell_type": "markdown",
   "metadata": {
    "id": "UMgjO53o5nQ9",
    "slideshow": {
     "slide_type": "fragment"
    }
   },
   "source": [
    "The assignment of \"seenAShape = True\" does not replace  the global variable seenAShape, rather it creates a local scope copy. If you think about it, this is only way to be consistent with the scope precedence rules.\n",
    "\n",
    "By default, you can inherit variables from the surrounding scope, but you can't reassign variables defined outside your scope."
   ]
  },
  {
   "cell_type": "markdown",
   "metadata": {
    "slideshow": {
     "slide_type": "subslide"
    }
   },
   "source": [
    "# Global\n",
    "\n",
    "Let's fix the example using the **global** keyword:"
   ]
  },
  {
   "cell_type": "code",
   "execution_count": 10,
   "metadata": {
    "colab": {
     "base_uri": "https://localhost:8080/",
     "height": 52
    },
    "execution": {
     "iopub.execute_input": "2022-09-23T00:20:10.616483Z",
     "iopub.status.busy": "2022-09-23T00:20:10.615560Z",
     "iopub.status.idle": "2022-09-23T00:20:10.618569Z",
     "shell.execute_reply": "2022-09-23T00:20:10.618999Z"
    },
    "executionInfo": {
     "elapsed": 540,
     "status": "ok",
     "timestamp": 1571958694331,
     "user": {
      "displayName": "Benedict Paten",
      "photoUrl": "https://lh3.googleusercontent.com/a-/AAuE7mBMnWy8dDR7jyTHNy9tPaRx6DCyA3QKrIcuQ7R4=s64",
      "userId": "06399644931392855882"
     },
     "user_tz": 420
    },
    "id": "AR4KHFA4dTzV",
    "outputId": "8c89f049-478a-4d56-e15b-27a51f367cb1",
    "slideshow": {
     "slide_type": "fragment"
    }
   },
   "outputs": [
    {
     "name": "stdout",
     "output_type": "stream",
     "text": [
      "Went looking for shapes, seenAShape: True\n",
      "Finished look for shapes, seenAShape: True\n"
     ]
    }
   ],
   "source": [
    "# To fix the above example we can avoid the local scope variable creation \n",
    "# by using the global keyword:\n",
    "\n",
    "seenAShape = False \n",
    "\n",
    "def lookForShapes(sentence):\n",
    "  \"\"\" Function tries to set seenAShape to True is the input sentence contains \n",
    "  a shape word.\n",
    "  \"\"\"\n",
    "  global seenAShape # The global variable seenAShape, not a copy, \n",
    "                    # is now in the namespace of the function\n",
    "  for word in sentence:\n",
    "    if word in [ \"circle\", \"square\", \"rhombus\"]:\n",
    "      seenAShape = True # With global we can now edit the global seenAShape variable\n",
    "  \n",
    "  print(\"Went looking for shapes, seenAShape: \" + str(seenAShape))\n",
    "  \n",
    "lookForShapes(\"I went for a walk around a rhombus\".split())\n",
    "\n",
    "# This behaves as we expect\n",
    "print(\"Finished look for shapes, seenAShape: \" + str(seenAShape)) \n"
   ]
  },
  {
   "cell_type": "markdown",
   "metadata": {
    "id": "QJ71vuuAbinL",
    "slideshow": {
     "slide_type": "fragment"
    }
   },
   "source": [
    "Use the global keyword sparingly, in general it is a bad pattern to change global variables within a function.\n",
    "\n",
    "Okay: don't worry if these rules don't click immediately - it takes a little time to get used to scope rules!"
   ]
  },
  {
   "cell_type": "markdown",
   "metadata": {
    "slideshow": {
     "slide_type": "subslide"
    }
   },
   "source": [
    "# Challenge 1"
   ]
  },
  {
   "cell_type": "code",
   "execution_count": 6,
   "metadata": {
    "execution": {
     "iopub.execute_input": "2022-09-23T00:20:10.625442Z",
     "iopub.status.busy": "2022-09-23T00:20:10.624104Z",
     "iopub.status.idle": "2022-09-23T00:20:10.627783Z",
     "shell.execute_reply": "2022-09-23T00:20:10.627107Z"
    },
    "slideshow": {
     "slide_type": "fragment"
    }
   },
   "outputs": [
    {
     "name": "stdout",
     "output_type": "stream",
     "text": [
      "5\n",
      "13\n"
     ]
    }
   ],
   "source": [
    "yg = 5\n",
    "\n",
    "def adding_xs(x, y):\n",
    "    y = x + y\n",
    "    return y\n",
    "\n",
    "adding_xs(6, 7)\n",
    "\n",
    "# Q1: What is the value of y at this point? (something like this may be on the exam!)\n",
    "print(yg)\n",
    "yg = adding_xs(6, 7)\n",
    "print(yg)\n",
    "# Q2: And is the value of y now? "
   ]
  },
  {
   "cell_type": "markdown",
   "metadata": {
    "id": "CFyk6QZ6Vad0",
    "slideshow": {
     "slide_type": "slide"
    }
   },
   "source": [
    "# Optional function arguments \n",
    "\n",
    "This is another important piece of syntax that makes Python fun to work with."
   ]
  },
  {
   "cell_type": "code",
   "execution_count": 12,
   "metadata": {
    "colab": {
     "base_uri": "https://localhost:8080/"
    },
    "execution": {
     "iopub.execute_input": "2022-09-23T00:20:10.635004Z",
     "iopub.status.busy": "2022-09-23T00:20:10.634081Z",
     "iopub.status.idle": "2022-09-23T00:20:10.638352Z",
     "shell.execute_reply": "2022-09-23T00:20:10.638851Z"
    },
    "executionInfo": {
     "elapsed": 400,
     "status": "ok",
     "timestamp": 1607650578485,
     "user": {
      "displayName": "Benedict Paten",
      "photoUrl": "https://lh3.googleusercontent.com/a-/AOh14Gh2rYrrH6yoNnUp0Oj4p4ouybc6ZcWGyPmKFtIY=s64",
      "userId": "06399644931392855882"
     },
     "user_tz": 480
    },
    "id": "nyQXT0RwOSh9",
    "outputId": "8aba00b2-be48-4608-8d92-2ff3e78a8879",
    "slideshow": {
     "slide_type": "fragment"
    }
   },
   "outputs": [
    {
     "name": "stdout",
     "output_type": "stream",
     "text": [
      "x is: 5 y is: 10\n"
     ]
    },
    {
     "data": {
      "text/plain": [
       "15"
      ]
     },
     "execution_count": 12,
     "metadata": {},
     "output_type": "execute_result"
    }
   ],
   "source": [
    "\n",
    "def add_to_x_function(x, y=10): # y has a default value, if you don't specify \n",
    "  # it as an argument it is assumed to have the default value\n",
    "  print(\"x is:\", x, \"y is:\", y)\n",
    "  return x + y\n",
    "\n",
    "add_to_x_function(5) # Calling this function with one argument, defaults to filling\n",
    "# in values from left-to-right (so called \"positional arguments\")"
   ]
  },
  {
   "cell_type": "code",
   "execution_count": 13,
   "metadata": {
    "colab": {
     "base_uri": "https://localhost:8080/"
    },
    "execution": {
     "iopub.execute_input": "2022-09-23T00:20:10.644221Z",
     "iopub.status.busy": "2022-09-23T00:20:10.643285Z",
     "iopub.status.idle": "2022-09-23T00:20:10.647256Z",
     "shell.execute_reply": "2022-09-23T00:20:10.647645Z"
    },
    "executionInfo": {
     "elapsed": 425,
     "status": "ok",
     "timestamp": 1607650583256,
     "user": {
      "displayName": "Benedict Paten",
      "photoUrl": "https://lh3.googleusercontent.com/a-/AOh14Gh2rYrrH6yoNnUp0Oj4p4ouybc6ZcWGyPmKFtIY=s64",
      "userId": "06399644931392855882"
     },
     "user_tz": 480
    },
    "id": "zl0QL8w-Pjsy",
    "outputId": "5ee05e22-bda8-4bb3-8ed7-143dc4e6b90c",
    "slideshow": {
     "slide_type": "fragment"
    }
   },
   "outputs": [
    {
     "name": "stdout",
     "output_type": "stream",
     "text": [
      "x is: 5 y is: 1\n"
     ]
    },
    {
     "data": {
      "text/plain": [
       "6"
      ]
     },
     "execution_count": 13,
     "metadata": {},
     "output_type": "execute_result"
    }
   ],
   "source": [
    "# You can also do this, where two arguments are given and the values are\n",
    "# assigned from left to right\n",
    "\n",
    "add_to_x_function(5, 1)"
   ]
  },
  {
   "cell_type": "code",
   "execution_count": 14,
   "metadata": {
    "colab": {
     "base_uri": "https://localhost:8080/"
    },
    "execution": {
     "iopub.execute_input": "2022-09-23T00:20:10.652461Z",
     "iopub.status.busy": "2022-09-23T00:20:10.651524Z",
     "iopub.status.idle": "2022-09-23T00:20:10.655830Z",
     "shell.execute_reply": "2022-09-23T00:20:10.656464Z"
    },
    "executionInfo": {
     "elapsed": 392,
     "status": "ok",
     "timestamp": 1607650589467,
     "user": {
      "displayName": "Benedict Paten",
      "photoUrl": "https://lh3.googleusercontent.com/a-/AOh14Gh2rYrrH6yoNnUp0Oj4p4ouybc6ZcWGyPmKFtIY=s64",
      "userId": "06399644931392855882"
     },
     "user_tz": 480
    },
    "id": "EGsJSIRaPyuK",
    "outputId": "16cbda67-2de1-4362-8d10-ca81581d606a",
    "slideshow": {
     "slide_type": "fragment"
    }
   },
   "outputs": [
    {
     "name": "stdout",
     "output_type": "stream",
     "text": [
      "x is: 5 y is: 10\n"
     ]
    },
    {
     "data": {
      "text/plain": [
       "15"
      ]
     },
     "execution_count": 14,
     "metadata": {},
     "output_type": "execute_result"
    }
   ],
   "source": [
    "# You can also name the arguments if you want to be more explicit\n",
    "\n",
    "add_to_x_function(x=5)"
   ]
  },
  {
   "cell_type": "code",
   "execution_count": 15,
   "metadata": {
    "colab": {
     "base_uri": "https://localhost:8080/"
    },
    "execution": {
     "iopub.execute_input": "2022-09-23T00:20:10.661549Z",
     "iopub.status.busy": "2022-09-23T00:20:10.660549Z",
     "iopub.status.idle": "2022-09-23T00:20:10.664713Z",
     "shell.execute_reply": "2022-09-23T00:20:10.665672Z"
    },
    "executionInfo": {
     "elapsed": 386,
     "status": "ok",
     "timestamp": 1607650593537,
     "user": {
      "displayName": "Benedict Paten",
      "photoUrl": "https://lh3.googleusercontent.com/a-/AOh14Gh2rYrrH6yoNnUp0Oj4p4ouybc6ZcWGyPmKFtIY=s64",
      "userId": "06399644931392855882"
     },
     "user_tz": 480
    },
    "id": "u66ZTZAmQLB0",
    "outputId": "dc26a152-fe54-40c6-aeb6-8d3422741473",
    "slideshow": {
     "slide_type": "fragment"
    }
   },
   "outputs": [
    {
     "name": "stdout",
     "output_type": "stream",
     "text": [
      "x is: 5 y is: 1\n"
     ]
    },
    {
     "data": {
      "text/plain": [
       "6"
      ]
     },
     "execution_count": 15,
     "metadata": {},
     "output_type": "execute_result"
    }
   ],
   "source": [
    "# Similarly...\n",
    "\n",
    "add_to_x_function(y=1, x=5)"
   ]
  },
  {
   "cell_type": "code",
   "execution_count": 16,
   "metadata": {
    "colab": {
     "base_uri": "https://localhost:8080/"
    },
    "execution": {
     "iopub.execute_input": "2022-09-23T00:20:10.670852Z",
     "iopub.status.busy": "2022-09-23T00:20:10.669978Z",
     "iopub.status.idle": "2022-09-23T00:20:10.673961Z",
     "shell.execute_reply": "2022-09-23T00:20:10.674392Z"
    },
    "executionInfo": {
     "elapsed": 416,
     "status": "ok",
     "timestamp": 1607650597278,
     "user": {
      "displayName": "Benedict Paten",
      "photoUrl": "https://lh3.googleusercontent.com/a-/AOh14Gh2rYrrH6yoNnUp0Oj4p4ouybc6ZcWGyPmKFtIY=s64",
      "userId": "06399644931392855882"
     },
     "user_tz": 480
    },
    "id": "mqDh6vQJQn-F",
    "outputId": "2139f007-97db-46d1-e101-51dbeae49582",
    "slideshow": {
     "slide_type": "fragment"
    }
   },
   "outputs": [
    {
     "name": "stdout",
     "output_type": "stream",
     "text": [
      "x is: 5 y is: 1\n"
     ]
    },
    {
     "data": {
      "text/plain": [
       "6"
      ]
     },
     "execution_count": 16,
     "metadata": {},
     "output_type": "execute_result"
    }
   ],
   "source": [
    "# You can also mix named and left-to-right (aka positional) argument assignment, e.g.\n",
    "\n",
    "add_to_x_function(5, y=1)"
   ]
  },
  {
   "cell_type": "code",
   "execution_count": 17,
   "metadata": {
    "colab": {
     "base_uri": "https://localhost:8080/",
     "height": 132
    },
    "execution": {
     "iopub.execute_input": "2022-09-23T00:20:10.679347Z",
     "iopub.status.busy": "2022-09-23T00:20:10.678416Z",
     "iopub.status.idle": "2022-09-23T00:20:10.681639Z",
     "shell.execute_reply": "2022-09-23T00:20:10.682237Z"
    },
    "executionInfo": {
     "elapsed": 402,
     "status": "error",
     "timestamp": 1607650867606,
     "user": {
      "displayName": "Benedict Paten",
      "photoUrl": "https://lh3.googleusercontent.com/a-/AOh14Gh2rYrrH6yoNnUp0Oj4p4ouybc6ZcWGyPmKFtIY=s64",
      "userId": "06399644931392855882"
     },
     "user_tz": 480
    },
    "id": "UUQuyEPZQzlw",
    "outputId": "ca512737-ed1b-4ce7-db2d-f6c1b2fe6bc8",
    "slideshow": {
     "slide_type": "subslide"
    }
   },
   "outputs": [
    {
     "ename": "SyntaxError",
     "evalue": "non-default argument follows default argument (<ipython-input-17-669048f5566c>, line 4)",
     "output_type": "error",
     "traceback": [
      "\u001b[0;36m  File \u001b[0;32m\"<ipython-input-17-669048f5566c>\"\u001b[0;36m, line \u001b[0;32m4\u001b[0m\n\u001b[0;31m    def add_to_x_function(x=10, y):\u001b[0m\n\u001b[0m                          ^\u001b[0m\n\u001b[0;31mSyntaxError\u001b[0m\u001b[0;31m:\u001b[0m non-default argument follows default argument\n"
     ]
    }
   ],
   "source": [
    "# However, Python insists that once you give default arguments\n",
    "# you give all remaining arguments default values..\n",
    "\n",
    "def add_to_x_function(x=10, y): \n",
    "  return x + y"
   ]
  },
  {
   "cell_type": "code",
   "execution_count": 18,
   "metadata": {
    "colab": {
     "base_uri": "https://localhost:8080/",
     "height": 132
    },
    "execution": {
     "iopub.execute_input": "2022-09-23T00:20:10.687606Z",
     "iopub.status.busy": "2022-09-23T00:20:10.686625Z",
     "iopub.status.idle": "2022-09-23T00:20:10.689772Z",
     "shell.execute_reply": "2022-09-23T00:20:10.690280Z"
    },
    "executionInfo": {
     "elapsed": 415,
     "status": "error",
     "timestamp": 1607650964939,
     "user": {
      "displayName": "Benedict Paten",
      "photoUrl": "https://lh3.googleusercontent.com/a-/AOh14Gh2rYrrH6yoNnUp0Oj4p4ouybc6ZcWGyPmKFtIY=s64",
      "userId": "06399644931392855882"
     },
     "user_tz": 480
    },
    "id": "TiFToKS6ROls",
    "outputId": "d5884236-07ca-4c3c-a31b-08ce91b50727",
    "slideshow": {
     "slide_type": "subslide"
    }
   },
   "outputs": [
    {
     "ename": "SyntaxError",
     "evalue": "positional argument follows keyword argument (<ipython-input-18-e4a33d593b6b>, line 8)",
     "output_type": "error",
     "traceback": [
      "\u001b[0;36m  File \u001b[0;32m\"<ipython-input-18-e4a33d593b6b>\"\u001b[0;36m, line \u001b[0;32m8\u001b[0m\n\u001b[0;31m    add_to_x_function(x=5, 10) # This does not work, presumably because this\u001b[0m\n\u001b[0m                           ^\u001b[0m\n\u001b[0;31mSyntaxError\u001b[0m\u001b[0;31m:\u001b[0m positional argument follows keyword argument\n"
     ]
    }
   ],
   "source": [
    "# Similarly, when you call a function, once you start giving \n",
    "# named arguments all the remaining arguments must be named..\n",
    "\n",
    "def add_to_x_function(x, y=10): \n",
    "  print(\"x is:\", x, \"y is:\", y)\n",
    "  return x + y\n",
    "\n",
    "add_to_x_function(x=5, 10) # This does not work, presumably because this \n",
    "# could be intrepreted using the left-to-right argument assignment rule as trying\n",
    "# to give x two values\n",
    "\n"
   ]
  },
  {
   "cell_type": "markdown",
   "metadata": {
    "id": "mGHcxGrfS9_D",
    "slideshow": {
     "slide_type": "fragment"
    }
   },
   "source": [
    "There are even fancier ways of instantiating the arguments of functions in Python using a dictionary which I will not cover here."
   ]
  },
  {
   "cell_type": "markdown",
   "metadata": {
    "slideshow": {
     "slide_type": "subslide"
    }
   },
   "source": [
    "# Challenge 2"
   ]
  },
  {
   "cell_type": "code",
   "execution_count": 17,
   "metadata": {
    "execution": {
     "iopub.execute_input": "2022-09-23T00:20:10.694201Z",
     "iopub.status.busy": "2022-09-23T00:20:10.693555Z",
     "iopub.status.idle": "2022-09-23T00:20:10.695867Z",
     "shell.execute_reply": "2022-09-23T00:20:10.696338Z"
    },
    "slideshow": {
     "slide_type": "fragment"
    }
   },
   "outputs": [
    {
     "name": "stdout",
     "output_type": "stream",
     "text": [
      "hi\n",
      "None\n",
      "None\n"
     ]
    }
   ],
   "source": [
    "# Firstly write a function named 'pow' with two arguments: x and then y.\n",
    "# Give y the default value 2 \n",
    "# The function should return the value of x to the power of y. \n",
    "\n",
    "# Secondly, call pow using named arguments such that x=2 and y=1\n",
    "\n",
    "# Finally, call pow using a single argument 3 (what are the values of x and y in this case?)\n",
    "\n",
    "def pow(x,y=2):\n",
    "    return x**y\n",
    "\n",
    "x = print(\"hi\")\n",
    "print(x)\n",
    "\n",
    "def foo():\n",
    "    y = 3\n",
    "    return None\n",
    "    \n",
    "z = foo()\n",
    "print(z)"
   ]
  },
  {
   "cell_type": "code",
   "execution_count": 22,
   "metadata": {},
   "outputs": [
    {
     "name": "stdout",
     "output_type": "stream",
     "text": [
      "Hello World\n"
     ]
    }
   ],
   "source": [
    "def myfn():\n",
    "    print(\"Hello\", end=' ')\n",
    "    print(\"World\")\n",
    "    \n",
    "def print(stringToBePrinted, end='\\n'):\n",
    "    \n",
    "myfn()"
   ]
  },
  {
   "cell_type": "code",
   "execution_count": 7,
   "metadata": {},
   "outputs": [
    {
     "name": "stdout",
     "output_type": "stream",
     "text": [
      "False\n",
      "True\n"
     ]
    },
    {
     "data": {
      "text/plain": [
       "3"
      ]
     },
     "execution_count": 7,
     "metadata": {},
     "output_type": "execute_result"
    }
   ],
   "source": [
    "def odd(n):\n",
    "    if n==0:\n",
    "        return False\n",
    "    return even(n-1)\n",
    "    \n",
    "def even(n):\n",
    "    if n==0:\n",
    "        return True\n",
    "    return odd(n-1)\n",
    "\n",
    "print(even(11))\n",
    "print(even(10))\n",
    "\n",
    "def foo():\n",
    "    return 1,2\n",
    "\n",
    "x,y = foo()\n",
    "x+y\n"
   ]
  },
  {
   "cell_type": "markdown",
   "metadata": {
    "id": "JfAlNS5TnfQF",
    "slideshow": {
     "slide_type": "slide"
    }
   },
   "source": [
    "# A Few Common Mistakes About Functions"
   ]
  },
  {
   "cell_type": "code",
   "execution_count": 20,
   "metadata": {
    "colab": {
     "base_uri": "https://localhost:8080/"
    },
    "execution": {
     "iopub.execute_input": "2022-09-23T00:20:10.701849Z",
     "iopub.status.busy": "2022-09-23T00:20:10.700931Z",
     "iopub.status.idle": "2022-09-23T00:20:10.704003Z",
     "shell.execute_reply": "2022-09-23T00:20:10.704627Z"
    },
    "executionInfo": {
     "elapsed": 529,
     "status": "ok",
     "timestamp": 1607651032598,
     "user": {
      "displayName": "Benedict Paten",
      "photoUrl": "https://lh3.googleusercontent.com/a-/AOh14Gh2rYrrH6yoNnUp0Oj4p4ouybc6ZcWGyPmKFtIY=s64",
      "userId": "06399644931392855882"
     },
     "user_tz": 480
    },
    "id": "2WiKGKXwno9c",
    "outputId": "7be121ad-bdda-4f26-b520-093f184bd862",
    "slideshow": {
     "slide_type": "subslide"
    }
   },
   "outputs": [
    {
     "name": "stdout",
     "output_type": "stream",
     "text": [
      "15\n",
      "The return value is: None\n"
     ]
    }
   ],
   "source": [
    "# Return and print are not the same:\n",
    "\n",
    "def sum(x, y):\n",
    "  return print(x + y)\n",
    "\n",
    "\n",
    "z = sum(5, 10)\n",
    "\n",
    "print(\"The return value is:\", z)"
   ]
  },
  {
   "cell_type": "code",
   "execution_count": 21,
   "metadata": {
    "colab": {
     "base_uri": "https://localhost:8080/",
     "height": 201
    },
    "execution": {
     "iopub.execute_input": "2022-09-23T00:20:10.711246Z",
     "iopub.status.busy": "2022-09-23T00:20:10.710150Z",
     "iopub.status.idle": "2022-09-23T00:20:10.718381Z",
     "shell.execute_reply": "2022-09-23T00:20:10.718937Z"
    },
    "executionInfo": {
     "elapsed": 369,
     "status": "error",
     "timestamp": 1607651153173,
     "user": {
      "displayName": "Benedict Paten",
      "photoUrl": "https://lh3.googleusercontent.com/a-/AOh14Gh2rYrrH6yoNnUp0Oj4p4ouybc6ZcWGyPmKFtIY=s64",
      "userId": "06399644931392855882"
     },
     "user_tz": 480
    },
    "id": "EJdHIO7an4Y9",
    "outputId": "8722d1a4-ce32-4413-ffdf-f710860bdab7",
    "slideshow": {
     "slide_type": "subslide"
    }
   },
   "outputs": [
    {
     "ename": "TypeError",
     "evalue": "kilos_to_pounds() missing 1 required positional argument: 'kilos'",
     "output_type": "error",
     "traceback": [
      "\u001b[0;31m---------------------------------------------------------------------------\u001b[0m",
      "\u001b[0;31mTypeError\u001b[0m                                 Traceback (most recent call last)",
      "\u001b[0;32m<ipython-input-21-fa396da834ee>\u001b[0m in \u001b[0;36m<module>\u001b[0;34m\u001b[0m\n\u001b[1;32m      7\u001b[0m \u001b[0;34m\u001b[0m\u001b[0m\n\u001b[1;32m      8\u001b[0m \u001b[0;34m\u001b[0m\u001b[0m\n\u001b[0;32m----> 9\u001b[0;31m \u001b[0mkilos_to_pounds\u001b[0m\u001b[0;34m(\u001b[0m\u001b[0;34m)\u001b[0m\u001b[0;34m\u001b[0m\u001b[0;34m\u001b[0m\u001b[0m\n\u001b[0m",
      "\u001b[0;31mTypeError\u001b[0m: kilos_to_pounds() missing 1 required positional argument: 'kilos'"
     ]
    }
   ],
   "source": [
    "# Global variables do not automatically substitute for function arguments\n",
    "\n",
    "kilos = 10\n",
    "\n",
    "def kilos_to_pounds(kilos):\n",
    "  return kilos * 2.205\n",
    "\n",
    "\n",
    "kilos_to_pounds()"
   ]
  },
  {
   "cell_type": "markdown",
   "metadata": {
    "id": "dtBRbb0AT5cA",
    "slideshow": {
     "slide_type": "slide"
    }
   },
   "source": [
    "# Consolidate functions by looking at examples\n",
    "\n",
    "The examples are all directly adapted from Chapter 7 of the open textbook, so you can use textbook to help you understand them."
   ]
  },
  {
   "cell_type": "markdown",
   "metadata": {
    "id": "lo65FcZ4Tx4a",
    "slideshow": {
     "slide_type": "subslide"
    }
   },
   "source": [
    "**Printing multiplication tables**\n",
    "\n",
    "Here's an example of making a table using multiple functions to break the work up and the use of for loops:"
   ]
  },
  {
   "cell_type": "code",
   "execution_count": 9,
   "metadata": {
    "colab": {
     "base_uri": "https://localhost:8080/"
    },
    "execution": {
     "iopub.execute_input": "2022-09-23T00:20:10.727074Z",
     "iopub.status.busy": "2022-09-23T00:20:10.725936Z",
     "iopub.status.idle": "2022-09-23T00:20:10.735540Z",
     "shell.execute_reply": "2022-09-23T00:20:10.736382Z"
    },
    "executionInfo": {
     "elapsed": 361,
     "status": "ok",
     "timestamp": 1607651224321,
     "user": {
      "displayName": "Benedict Paten",
      "photoUrl": "https://lh3.googleusercontent.com/a-/AOh14Gh2rYrrH6yoNnUp0Oj4p4ouybc6ZcWGyPmKFtIY=s64",
      "userId": "06399644931392855882"
     },
     "user_tz": 480
    },
    "id": "m3prRfUjTrMP",
    "outputId": "1dfda794-b3de-4140-dfb0-4b314949eb5f",
    "slideshow": {
     "slide_type": "fragment"
    }
   },
   "outputs": [
    {
     "name": "stdout",
     "output_type": "stream",
     "text": [
      "5\t10\t15\t20\t25\t30\t35\t40\t45\t50\t\n"
     ]
    }
   ],
   "source": [
    "# Program prints multiplication tables\n",
    "\n",
    "def print_multiples(n, columnNo):\n",
    "  \"\"\" Prints a line giving the multiples of n from 1 to columnNo\n",
    "  \"\"\"\n",
    "  for i in range(1, columnNo+1):\n",
    "    print(n * i, end=\"\\t\") # '\\t' is the code for a tab, as we will soon learn\n",
    "  print()\n",
    "            \n",
    "print_multiples(5, 10)"
   ]
  },
  {
   "cell_type": "code",
   "execution_count": 10,
   "metadata": {
    "colab": {
     "base_uri": "https://localhost:8080/"
    },
    "execution": {
     "iopub.execute_input": "2022-09-23T00:20:10.745852Z",
     "iopub.status.busy": "2022-09-23T00:20:10.743109Z",
     "iopub.status.idle": "2022-09-23T00:20:10.754386Z",
     "shell.execute_reply": "2022-09-23T00:20:10.755309Z"
    },
    "executionInfo": {
     "elapsed": 441,
     "status": "ok",
     "timestamp": 1607651226382,
     "user": {
      "displayName": "Benedict Paten",
      "photoUrl": "https://lh3.googleusercontent.com/a-/AOh14Gh2rYrrH6yoNnUp0Oj4p4ouybc6ZcWGyPmKFtIY=s64",
      "userId": "06399644931392855882"
     },
     "user_tz": 480
    },
    "id": "su73Q9PZOazG",
    "outputId": "fc9e8e6f-129f-4522-e977-b87fd879c14d",
    "slideshow": {
     "slide_type": "fragment"
    }
   },
   "outputs": [
    {
     "name": "stdout",
     "output_type": "stream",
     "text": [
      "1\t2\t3\t4\t5\t6\t7\t8\t9\t10\t\n",
      "2\t4\t6\t8\t10\t12\t14\t16\t18\t20\t\n",
      "3\t6\t9\t12\t15\t18\t21\t24\t27\t30\t\n",
      "4\t8\t12\t16\t20\t24\t28\t32\t36\t40\t\n",
      "5\t10\t15\t20\t25\t30\t35\t40\t45\t50\t\n",
      "6\t12\t18\t24\t30\t36\t42\t48\t54\t60\t\n",
      "7\t14\t21\t28\t35\t42\t49\t56\t63\t70\t\n",
      "8\t16\t24\t32\t40\t48\t56\t64\t72\t80\t\n"
     ]
    }
   ],
   "source": [
    "def print_mult_table(rowNo=8, columnNo=10):\n",
    "  \"\"\" Prints a 2-d table with rowNo rows, \n",
    "  where the ith row represents the multiples of i from 1 to columnNo\n",
    "  \"\"\"\n",
    "  for i in range(1, rowNo+1):\n",
    "    print_multiples(i, columnNo)\n",
    "        \n",
    "print_mult_table()"
   ]
  },
  {
   "cell_type": "markdown",
   "metadata": {
    "id": "YF293aEee_r6",
    "slideshow": {
     "slide_type": "subslide"
    }
   },
   "source": [
    "**Okay, now let's revisit the pesky concept of nested function calls but add in the effect of scope rules:**"
   ]
  },
  {
   "cell_type": "code",
   "execution_count": 12,
   "metadata": {
    "execution": {
     "iopub.execute_input": "2022-09-23T00:20:10.763484Z",
     "iopub.status.busy": "2022-09-23T00:20:10.762360Z",
     "iopub.status.idle": "2022-09-23T00:20:10.767383Z",
     "shell.execute_reply": "2022-09-23T00:20:10.768132Z"
    },
    "slideshow": {
     "slide_type": "fragment"
    }
   },
   "outputs": [
    {
     "name": "stdout",
     "output_type": "stream",
     "text": [
      "in one 30\n",
      "in two 20\n",
      "in one 10\n",
      "in two 0\n",
      "exit two 0\n",
      "exit one 10\n",
      "exit two 20\n",
      "exit one 30\n"
     ]
    }
   ],
   "source": [
    "def one(a):\n",
    "  print(\"in one\", a)\n",
    "  two(a-10)\n",
    "  print(\"exit one\", a)\n",
    "\n",
    "def two(a):\n",
    "  print(\"in two\", a)\n",
    "  if a > 10:\n",
    "    one(a-10)\n",
    "  print(\"exit two\", a)\n",
    "  \n",
    "one(30)"
   ]
  },
  {
   "cell_type": "markdown",
   "metadata": {
    "slideshow": {
     "slide_type": "subslide"
    }
   },
   "source": [
    "<img src=\"https://raw.githubusercontent.com/cormacflanagan/intro_python/main/lecture_notebooks/figures/graffles/call%20stack%20with%20args.jpg\" width=1500 height=750 />\n"
   ]
  },
  {
   "cell_type": "markdown",
   "metadata": {
    "slideshow": {
     "slide_type": "slide"
    }
   },
   "source": [
    "# Challenge 3"
   ]
  },
  {
   "cell_type": "code",
   "execution_count": 25,
   "metadata": {
    "colab": {
     "base_uri": "https://localhost:8080/"
    },
    "execution": {
     "iopub.execute_input": "2022-09-23T00:20:10.776520Z",
     "iopub.status.busy": "2022-09-23T00:20:10.775464Z",
     "iopub.status.idle": "2022-09-23T00:20:10.778867Z",
     "shell.execute_reply": "2022-09-23T00:20:10.779567Z"
    },
    "executionInfo": {
     "elapsed": 507,
     "status": "ok",
     "timestamp": 1607651342713,
     "user": {
      "displayName": "Benedict Paten",
      "photoUrl": "https://lh3.googleusercontent.com/a-/AOh14Gh2rYrrH6yoNnUp0Oj4p4ouybc6ZcWGyPmKFtIY=s64",
      "userId": "06399644931392855882"
     },
     "user_tz": 480
    },
    "id": "bDlZ4SxLF-MW",
    "outputId": "8656b9ec-2713-4162-d918-8b266957b4fd",
    "slideshow": {
     "slide_type": "fragment"
    }
   },
   "outputs": [
    {
     "name": "stdout",
     "output_type": "stream",
     "text": [
      "Starting first function, a is: 20\n",
      "Starting second function, a is: 20\n",
      "Starting first function, a is: 10\n",
      "Third function, a is: 10\n",
      "Ending first function, a is: 10\n",
      "Ending second function, a is: 10\n",
      "Ending first function, a is: 20\n"
     ]
    }
   ],
   "source": [
    "# Without running this code write down the output! \n",
    "\n",
    "def firstFunction(a):\n",
    "  print(\"Starting first function, a is: \" + str(a))\n",
    "  if a > 10:\n",
    "    secondFunction(a)\n",
    "  else:\n",
    "    thirdFunction(a)\n",
    "  print(\"Ending first function, a is: \" + str(a))\n",
    "  \n",
    "def secondFunction(a):\n",
    "  print(\"Starting second function, a is: \" + str(a))\n",
    "  a = a - 10\n",
    "  firstFunction(a)\n",
    "  print(\"Ending second function, a is: \" + str(a))\n",
    "  \n",
    "def thirdFunction(a):\n",
    "  print(\"Third function, a is: \" + str(a))\n",
    "\n",
    "firstFunction(20)"
   ]
  },
  {
   "cell_type": "markdown",
   "metadata": {
    "id": "UxULa5wYE4co",
    "slideshow": {
     "slide_type": "slide"
    }
   },
   "source": [
    "# Challenge 4"
   ]
  },
  {
   "cell_type": "code",
   "execution_count": 26,
   "metadata": {
    "execution": {
     "iopub.execute_input": "2022-09-23T00:20:10.787165Z",
     "iopub.status.busy": "2022-09-23T00:20:10.786175Z",
     "iopub.status.idle": "2022-09-23T00:20:10.790167Z",
     "shell.execute_reply": "2022-09-23T00:20:10.790707Z"
    },
    "id": "W78Bw4AsYeNq",
    "slideshow": {
     "slide_type": "fragment"
    }
   },
   "outputs": [
    {
     "data": {
      "text/plain": [
       "False"
      ]
     },
     "execution_count": 26,
     "metadata": {},
     "output_type": "execute_result"
    }
   ],
   "source": [
    "# Complete this code!\n",
    "\n",
    "def get_minimum(l):\n",
    "  \"\"\" Returns the minimum element in the list l\"\"\"\n",
    "  # Code to write, do not use builtin / list functions, just iteration\n",
    "  # over the elements in the list\n",
    "\n",
    "def sort_list(l):\n",
    "  \"\"\" Returns a sorted copy of the list in ascending order. Do not use sorted or sort. \"\"\"\n",
    "  # Code to write, should use calls to get_minimum to construct the\n",
    "  # new list\n",
    "\n",
    "\n",
    "sort_list([ 3, -7, 1, 20, 2 ]) == [ -7, 1, 2, 3, 20 ]  \n"
   ]
  },
  {
   "cell_type": "markdown",
   "metadata": {
    "id": "KZP9y5sgyVm8",
    "slideshow": {
     "slide_type": "slide"
    }
   },
   "source": [
    "# Reading\n",
    "\n",
    "* Read chapter 4: http://openbookproject.net/thinkcs/python/english3e/functions.html\n",
    "\n",
    "* Read chapter 6: http://openbookproject.net/thinkcs/python/english3e/fruitful_functions.html\n",
    "\n",
    "\n",
    "# Homework\n",
    "\n",
    "* Zybooks Reading 7\n",
    "* Go to Canvas and complete the lecture quiz, which involves completing each challenge problem\n"
   ]
  }
 ],
 "metadata": {
  "celltoolbar": "Slideshow",
  "colab": {
   "collapsed_sections": [],
   "name": "L07 Functions Continued.ipynb",
   "provenance": []
  },
  "kernelspec": {
   "display_name": "Python 3",
   "language": "python",
   "name": "python3"
  },
  "language_info": {
   "codemirror_mode": {
    "name": "ipython",
    "version": 3
   },
   "file_extension": ".py",
   "mimetype": "text/x-python",
   "name": "python",
   "nbconvert_exporter": "python",
   "pygments_lexer": "ipython3",
   "version": "3.6.6+"
  }
 },
 "nbformat": 4,
 "nbformat_minor": 1
}
