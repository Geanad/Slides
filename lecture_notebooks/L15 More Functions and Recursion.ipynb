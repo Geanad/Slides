{
 "cells": [
  {
   "cell_type": "markdown",
   "metadata": {
    "id": "f28Xd6z9-lp_",
    "slideshow": {
     "slide_type": "slide"
    }
   },
   "source": [
    "# Lecture 15 - More Functions and Recursion \n",
    "\n",
    "Today is more functions :) :\n",
    "* Recursion\n",
    "* Consolidate: Look at some more complex examples of recursive control flow that use functions and control statements to get more comfortable\n",
    "* Lambda functions\n",
    "* Functions as arguments\n"
   ]
  },
  {
   "cell_type": "markdown",
   "metadata": {
    "slideshow": {
     "slide_type": "slide"
    }
   },
   "source": [
    "# Review of Function Calls"
   ]
  },
  {
   "cell_type": "code",
   "execution_count": 3,
   "metadata": {
    "slideshow": {
     "slide_type": "fragment"
    }
   },
   "outputs": [
    {
     "name": "stdout",
     "output_type": "stream",
     "text": [
      "hi\n",
      "hi\n"
     ]
    }
   ],
   "source": [
    "def one(s):\n",
    "    print(s)\n",
    "    return\n",
    "\n",
    "def two(s):\n",
    "    one(s)\n",
    "    one(s)\n",
    "    return\n",
    "\n",
    "two(\"hi\")"
   ]
  },
  {
   "cell_type": "code",
   "execution_count": 5,
   "metadata": {
    "slideshow": {
     "slide_type": "slide"
    }
   },
   "outputs": [
    {
     "data": {
      "text/plain": [
       "24"
      ]
     },
     "execution_count": 5,
     "metadata": {},
     "output_type": "execute_result"
    }
   ],
   "source": [
    "def fact(n):\n",
    "    r = 1\n",
    "    for i in range(1,n+1): r *= i\n",
    "    return r\n",
    "\n",
    "fact(4)"
   ]
  },
  {
   "cell_type": "code",
   "execution_count": 8,
   "metadata": {
    "slideshow": {
     "slide_type": "fragment"
    }
   },
   "outputs": [
    {
     "data": {
      "text/plain": [
       "24"
      ]
     },
     "execution_count": 8,
     "metadata": {},
     "output_type": "execute_result"
    }
   ],
   "source": [
    "def fact(n):\n",
    "    if n > 1: return n * fact(n-1)\n",
    "    else:     return 1\n",
    "\n",
    "fact(4)"
   ]
  },
  {
   "cell_type": "code",
   "execution_count": 7,
   "metadata": {
    "slideshow": {
     "slide_type": "fragment"
    }
   },
   "outputs": [
    {
     "data": {
      "text/plain": [
       "24"
      ]
     },
     "execution_count": 7,
     "metadata": {},
     "output_type": "execute_result"
    }
   ],
   "source": [
    "def fact(n):\n",
    "    return n * fact(n-1) if n>1 else 1\n",
    "\n",
    "fact(4)"
   ]
  },
  {
   "cell_type": "markdown",
   "metadata": {
    "id": "GkYm_4rEedmq",
    "slideshow": {
     "slide_type": "slide"
    }
   },
   "source": [
    "# Recursion: Functions can call themselves\n",
    "\n",
    "* Functions can call each other - you know this.\n",
    "\n",
    "* Functions can also call themselves, this is called recursion:\n",
    "\n",
    "<img src=\"https://raw.githubusercontent.com/cormacflanagan/intro_python/main/lecture_notebooks/figures/graffles/recursive.jpg\" width=600 height=300 />\n",
    "\n",
    "* Recursion is a powerful method for breaking down a problem into smaller, more easily solved subproblems. \n",
    "\n",
    "* Recursion can be direct (where a function calls itself) or indirect (e.g. where a function calls another function which then calls the first function, etc.)\n",
    "\n",
    "* Let's start by looking at a simple example: factorial calculation"
   ]
  },
  {
   "cell_type": "code",
   "execution_count": null,
   "metadata": {
    "colab": {
     "base_uri": "https://localhost:8080/"
    },
    "executionInfo": {
     "elapsed": 894,
     "status": "ok",
     "timestamp": 1608072437557,
     "user": {
      "displayName": "Benedict Paten",
      "photoUrl": "https://lh3.googleusercontent.com/a-/AOh14Gh2rYrrH6yoNnUp0Oj4p4ouybc6ZcWGyPmKFtIY=s64",
      "userId": "06399644931392855882"
     },
     "user_tz": 480
    },
    "id": "IU0UDyrqUAqX",
    "outputId": "1ec0d55f-d36f-4cb3-c7ff-0c9e14e9ab93",
    "slideshow": {
     "slide_type": "subslide"
    }
   },
   "outputs": [
    {
     "name": "stdout",
     "output_type": "stream",
     "text": [
      "Factorial 0 is 1\n",
      "Factorial 1 is 1\n",
      "Factorial 2 is 2\n",
      "Factorial 3 is 6\n",
      "Factorial 4 is 24\n",
      "Factorial 5 is 120\n",
      "Factorial 6 is 720\n",
      "Factorial 7 is 5040\n",
      "Factorial 8 is 40320\n",
      "Factorial 9 is 362880\n",
      "Factorial 10 is 3628800\n"
     ]
    }
   ],
   "source": [
    "# Okay, to recap, here's a non-recursive function to calculate factorials:\n",
    "\n",
    "def factorial(x):\n",
    "  \"\"\" Calculates factorials, x * x-1 * x-2 ... 1, for an integer >= 0\n",
    "  \"\"\"\n",
    "  assert(x >= 0)\n",
    "  j = 1\n",
    "  for i in range(1, x+1):\n",
    "    j *= i \n",
    "  return j\n",
    "\n",
    "for i in range(11):\n",
    "  print(\"Factorial\", i, \"is\", factorial(i))\n"
   ]
  },
  {
   "cell_type": "markdown",
   "metadata": {
    "id": "je55DIkrZKwn",
    "slideshow": {
     "slide_type": "subslide"
    }
   },
   "source": [
    "To recap:\n",
    "\n",
    "* factorial(x) = x * x-1 * x-2 ... 1, for an integer >= 0\n",
    "\n",
    "We note that for x > 1:\n",
    "\n",
    "* factorial(x) = x * factorial(x-1)\n",
    "\n",
    "This suggests a recursive way to break the problem up:"
   ]
  },
  {
   "cell_type": "code",
   "execution_count": null,
   "metadata": {
    "colab": {
     "base_uri": "https://localhost:8080/"
    },
    "executionInfo": {
     "elapsed": 523,
     "status": "ok",
     "timestamp": 1608072465254,
     "user": {
      "displayName": "Benedict Paten",
      "photoUrl": "https://lh3.googleusercontent.com/a-/AOh14Gh2rYrrH6yoNnUp0Oj4p4ouybc6ZcWGyPmKFtIY=s64",
      "userId": "06399644931392855882"
     },
     "user_tz": 480
    },
    "id": "41beJQDkYNu7",
    "outputId": "9d134fd6-f48b-467c-87cc-5da09806d5bf",
    "slideshow": {
     "slide_type": "fragment"
    }
   },
   "outputs": [
    {
     "name": "stdout",
     "output_type": "stream",
     "text": [
      "Factorial 0 is 1\n",
      "Factorial 1 is 1\n",
      "Factorial 2 is 2\n",
      "Factorial 3 is 6\n",
      "Factorial 4 is 24\n",
      "Factorial 5 is 120\n",
      "Factorial 6 is 720\n",
      "Factorial 7 is 5040\n",
      "Factorial 8 is 40320\n",
      "Factorial 9 is 362880\n",
      "Factorial 10 is 3628800\n"
     ]
    }
   ],
   "source": [
    "def factorial_recursive(x):\n",
    "  \"\"\" Calculates factorials, x * x-1 * x-2 ... 1, for an integer >= 0\n",
    "  \"\"\"\n",
    "  assert(x >= 0)\n",
    "  return x * factorial_recursive(x-1) if x > 1 else 1 \n",
    "\n",
    "for i in range(11):\n",
    "  print(\"Factorial\", i, \"is\", factorial_recursive(i))"
   ]
  },
  {
   "cell_type": "markdown",
   "metadata": {
    "id": "4osdy6takrKl",
    "slideshow": {
     "slide_type": "subslide"
    }
   },
   "source": [
    "Here's a visual that shows you what is going on where I've replaced the variable name with its value:\n",
    "\n",
    "<img src=\"https://raw.githubusercontent.com/cormacflanagan/intro_python/main/lecture_notebooks/figures/graffles/factorial%20function.jpg\" width=1000 height=600 />\n"
   ]
  },
  {
   "cell_type": "markdown",
   "metadata": {
    "slideshow": {
     "slide_type": "subslide"
    }
   },
   "source": [
    "The following figure shows the call stack (note, I've abbreviated factorial_recursive to fr):\n",
    "\n",
    "<img src=\"https://raw.githubusercontent.com/cormacflanagan/intro_python/main/lecture_notebooks/figures/graffles/factorial%20recursion%20stack.jpg\" width=1000 height=500 />\n"
   ]
  },
  {
   "cell_type": "markdown",
   "metadata": {
    "id": "6coWzD7V9SRk",
    "slideshow": {
     "slide_type": "slide"
    }
   },
   "source": [
    "# Revisiting earlier practice examples as non-recursive and recursive functions\n",
    "\n",
    "The best way to get the hang of recursion is to write out examples\n"
   ]
  },
  {
   "cell_type": "markdown",
   "metadata": {
    "id": "1fvWuYf1ISYp",
    "slideshow": {
     "slide_type": "subslide"
    }
   },
   "source": [
    " **Counting digits**"
   ]
  },
  {
   "cell_type": "code",
   "execution_count": 17,
   "metadata": {
    "colab": {
     "base_uri": "https://localhost:8080/"
    },
    "executionInfo": {
     "elapsed": 562,
     "status": "ok",
     "timestamp": 1608082394449,
     "user": {
      "displayName": "Benedict Paten",
      "photoUrl": "https://lh3.googleusercontent.com/a-/AOh14Gh2rYrrH6yoNnUp0Oj4p4ouybc6ZcWGyPmKFtIY=s64",
      "userId": "06399644931392855882"
     },
     "user_tz": 480
    },
    "id": "lWJ1ieJnH3Mt",
    "outputId": "6a4c0a76-2315-4d62-cb40-afc03451471d",
    "slideshow": {
     "slide_type": "fragment"
    }
   },
   "outputs": [
    {
     "name": "stdout",
     "output_type": "stream",
     "text": [
      "count is 0 n is 4324789\n",
      "count is 1 n is 432478\n",
      "count is 2 n is 43247\n",
      "count is 3 n is 4324\n",
      "count is 4 n is 432\n",
      "count is 5 n is 43\n",
      "count is 6 n is 4\n"
     ]
    },
    {
     "data": {
      "text/plain": [
       "7"
      ]
     },
     "execution_count": 17,
     "metadata": {},
     "output_type": "execute_result"
    }
   ],
   "source": [
    "def num_digits(n):\n",
    "    \"\"\"Returns the number of digits in the number (base 10).\n",
    "    e.g. For n = 6706 returns 4\n",
    "    \"\"\"\n",
    "    count = 0\n",
    "    while n != 0:\n",
    "        print(f\"count is {count} n is {n}\")\n",
    "        count += 1\n",
    "        n = n // 10 # This is the integer division operator, it loses the remainder\n",
    "    return count\n",
    "  \n",
    "num_digits(4324789)"
   ]
  },
  {
   "cell_type": "markdown",
   "metadata": {
    "id": "ncoE7lwMKS_u",
    "slideshow": {
     "slide_type": "slide"
    }
   },
   "source": [
    "We note that for n > 0:\n",
    "\n",
    "* num_digits(n) = 1 + num_digits(n//10) \n",
    "\n",
    "This suggests a recursive definition:"
   ]
  },
  {
   "cell_type": "code",
   "execution_count": 18,
   "metadata": {
    "colab": {
     "base_uri": "https://localhost:8080/"
    },
    "executionInfo": {
     "elapsed": 770,
     "status": "ok",
     "timestamp": 1608082397037,
     "user": {
      "displayName": "Benedict Paten",
      "photoUrl": "https://lh3.googleusercontent.com/a-/AOh14Gh2rYrrH6yoNnUp0Oj4p4ouybc6ZcWGyPmKFtIY=s64",
      "userId": "06399644931392855882"
     },
     "user_tz": 480
    },
    "id": "A9aiyqvE4uu9",
    "outputId": "0780acb2-2231-48c3-da53-d43e9b862f45",
    "slideshow": {
     "slide_type": "fragment"
    }
   },
   "outputs": [
    {
     "name": "stdout",
     "output_type": "stream",
     "text": [
      "4324789\n",
      "432478\n",
      "43247\n",
      "4324\n",
      "432\n",
      "43\n",
      "4\n",
      "0\n"
     ]
    },
    {
     "data": {
      "text/plain": [
       "7"
      ]
     },
     "execution_count": 18,
     "metadata": {},
     "output_type": "execute_result"
    }
   ],
   "source": [
    "# Here's a recursive version\n",
    "\n",
    "def num_digits(n):\n",
    "    print(n)\n",
    "    if n == 0: return 0\n",
    "    else:      return 1 + num_digits( n // 10 )\n",
    "    \n",
    "num_digits(4324789)"
   ]
  },
  {
   "cell_type": "markdown",
   "metadata": {
    "id": "shO-JrIxMQyu",
    "slideshow": {
     "slide_type": "subslide"
    }
   },
   "source": [
    "**Sorting**\n",
    "\n",
    "* It turns out there is a simple way to sort lists recursively"
   ]
  },
  {
   "cell_type": "code",
   "execution_count": 3,
   "metadata": {
    "colab": {
     "base_uri": "https://localhost:8080/",
     "height": 105
    },
    "executionInfo": {
     "elapsed": 628,
     "status": "ok",
     "timestamp": 1571959203324,
     "user": {
      "displayName": "Benedict Paten",
      "photoUrl": "https://lh3.googleusercontent.com/a-/AAuE7mBMnWy8dDR7jyTHNy9tPaRx6DCyA3QKrIcuQ7R4=s64",
      "userId": "06399644931392855882"
     },
     "user_tz": 420
    },
    "id": "gGjPyP_IoXpR",
    "outputId": "6a80cebf-9b66-4189-b209-68e85591086e",
    "slideshow": {
     "slide_type": "fragment"
    }
   },
   "outputs": [
    {
     "name": "stdout",
     "output_type": "stream",
     "text": [
      "sortTheList( [4, -8, 12, 1] )\n",
      "min is -8\n",
      "sortTheList( [4, 12, 1] )\n",
      "min is 1\n",
      "sortTheList( [4, 12] )\n",
      "min is 4\n",
      "sortTheList( [12] )\n",
      "min is 12\n",
      "sortTheList( [] )\n"
     ]
    },
    {
     "data": {
      "text/plain": [
       "[-8, 1, 4, 12]"
      ]
     },
     "execution_count": 3,
     "metadata": {},
     "output_type": "execute_result"
    }
   ],
   "source": [
    "def sortTheList(l):\n",
    "    \"\"\" Function takes a list l and returns a sorted version of l\"\"\"\n",
    "    print(f\"sortTheList( {l} )\")\n",
    "\n",
    "    if len(l) == 0:  \n",
    "        return l\n",
    "    else:\n",
    "        i = min(l)\n",
    "        print( f\"min is {i}\" )    \n",
    "        l.remove(i)\n",
    "        return [ i ] + sortTheList(l) \n",
    "    \n",
    "    \n",
    "    \n",
    "    \n",
    "sortTheList([ 4, -8, 12, 1 ])"
   ]
  },
  {
   "cell_type": "code",
   "execution_count": 4,
   "metadata": {
    "slideshow": {
     "slide_type": "slide"
    }
   },
   "outputs": [
    {
     "data": {
      "text/plain": [
       "60"
      ]
     },
     "execution_count": 4,
     "metadata": {},
     "output_type": "execute_result"
    }
   ],
   "source": [
    "def multiplylist(l):\n",
    "    \"Multiply all the numbers in a list\"\n",
    "    if l == []: return 1\n",
    "    else:       return l[0] * multiplylist(l[1:])\n",
    "    \n",
    "    \n",
    "    \n",
    "    \n",
    "multiplylist( [ 10, 3, 2] )"
   ]
  },
  {
   "cell_type": "code",
   "execution_count": 4,
   "metadata": {
    "slideshow": {
     "slide_type": "slide"
    }
   },
   "outputs": [
    {
     "data": {
      "text/plain": [
       "['10', '3', '2']"
      ]
     },
     "execution_count": 4,
     "metadata": {},
     "output_type": "execute_result"
    }
   ],
   "source": [
    "def convertlist(l):\n",
    "    \"Convert all the numbers in a list to strings\"\n",
    "    if l == []: return []\n",
    "    else:       return [ str(l[0]) ] + convertlist( l[1:] )\n",
    "    \n",
    "    \n",
    "    \n",
    "    \n",
    "convertlist( [ 10, 3, 2] )"
   ]
  },
  {
   "cell_type": "markdown",
   "metadata": {
    "id": "J_ShlgSsM4RY",
    "slideshow": {
     "slide_type": "slide"
    }
   },
   "source": [
    "# Recursion Summary\n",
    "\n",
    "* Recursion is a powerful technique to write elegant solutions to problems that involve solving smaller subproblems of the same type.\n",
    "\n",
    "* For more challenges, see: https://www.geeksforgeeks.org/recursion-practice-problems-solutions/"
   ]
  },
  {
   "cell_type": "markdown",
   "metadata": {
    "slideshow": {
     "slide_type": "subslide"
    }
   },
   "source": [
    "# Challenge 1: Enumerate all bit strings of length n"
   ]
  },
  {
   "cell_type": "code",
   "execution_count": 5,
   "metadata": {
    "slideshow": {
     "slide_type": "fragment"
    }
   },
   "outputs": [
    {
     "name": "stdout",
     "output_type": "stream",
     "text": [
      "bit_strings(3)\n",
      "bit_strings(2)\n",
      "bit_strings(1)\n",
      "bit_strings(0)\n",
      "n=1 S=[''] Swith0=['0'] Swith1=['1']\n",
      "n=2 S=['0', '1'] Swith0=['00', '10'] Swith1=['01', '11']\n",
      "n=3 S=['00', '10', '01', '11'] Swith0=['000', '100', '010', '110'] Swith1=['001', '101', '011', '111']\n"
     ]
    },
    {
     "data": {
      "text/plain": [
       "['000', '100', '010', '110', '001', '101', '011', '111']"
      ]
     },
     "execution_count": 5,
     "metadata": {},
     "output_type": "execute_result"
    }
   ],
   "source": [
    "# A bit string of length n is a string of n bits, each 0 or 1.\n",
    "\n",
    "# Write a recursive fn to enumerate the set of bit strings of a given length,\n",
    "# e.g. for n = 3 we have '000' '001' '010' '011' '100' '101' '110' '111'\n",
    "\n",
    "# The problem is naturally recursive because, for n>0,\n",
    "# the set of bit strings T of length n\n",
    "# can be formed from the set of bit strings S of length n-1 via\n",
    "# T = { s+\"0\" for s in S } union { s+\"1\" for s in S }\n",
    "\n",
    "def bit_strings(n):\n",
    "    \"\"\" Returns the set of bit strings of length n\n",
    "    \"\"\"\n",
    "    print(f\"bit_strings({n})\")\n",
    "    if n==0: \n",
    "        return [ \"\" ] # not {}\n",
    "    else:\n",
    "        S = bit_strings(n-1)\n",
    "        Swith0 = [ s+\"0\" for s in S ]\n",
    "        Swith1 = [ s+\"1\" for s in S ]\n",
    "        print(f\"n={n} S={S} Swith0={Swith0} Swith1={Swith1}\")\n",
    "        return Swith0 + (Swith1)\n",
    "        \n",
    "bit_strings(3)"
   ]
  },
  {
   "cell_type": "code",
   "execution_count": null,
   "metadata": {},
   "outputs": [],
   "source": []
  },
  {
   "cell_type": "code",
   "execution_count": 22,
   "metadata": {},
   "outputs": [
    {
     "data": {
      "text/plain": [
       "['7', '9', '11']"
      ]
     },
     "execution_count": 22,
     "metadata": {},
     "output_type": "execute_result"
    }
   ],
   "source": [
    "# Write a function to add 1 to each element in a list\n",
    "def add1(l):\n",
    "    for i in range(len(l)):\n",
    "        l[i] += 1\n",
    "\n",
    "# Write a function to add 2 to each element in a list\n",
    "def add2(l): \n",
    "    addn(l,2)\n",
    "\n",
    "def addn(l,n):\n",
    "    for i in range(len(l)):\n",
    "        l[i] = l[i] + n\n",
    "\n",
    "# Write a function to multiply each element in a list by 2\n",
    "def muln(l,n):\n",
    "    for i in range(len(l)):\n",
    "        l[i] = l[i] * n\n",
    "        \n",
    "def foreach(l,f): # f a function to apply to each element in l\n",
    "    for i in range(len(l)):\n",
    "        l[i] = f( l[i] )\n",
    "        \n",
    "\n",
    "def mul2(l):\n",
    "    # def times2(x): return x * 2\n",
    "    foreach( l,  lambda x: x*2 )\n",
    "    \n",
    "l = [3,4,5]\n",
    "list(map(str, map( lambda x: x+1,  map( lambda x: x*2, l ))))\n"
   ]
  },
  {
   "cell_type": "markdown",
   "metadata": {
    "slideshow": {
     "slide_type": "subslide"
    }
   },
   "source": [
    "# Extreme Challenge 2: Enumerate all permutations of a set"
   ]
  },
  {
   "cell_type": "code",
   "execution_count": 12,
   "metadata": {
    "slideshow": {
     "slide_type": "fragment"
    }
   },
   "outputs": [
    {
     "name": "stdout",
     "output_type": "stream",
     "text": [
      "(2,) {()} 2\n",
      "(1, 2) {(2,)} 1\n",
      "(0, 1, 2) {(1, 2), (2, 1)} 0\n"
     ]
    },
    {
     "data": {
      "text/plain": [
       "{(0, 1, 2), (0, 2, 1), (1, 0, 2), (1, 2, 0), (2, 0, 1), (2, 1, 0)}"
      ]
     },
     "execution_count": 12,
     "metadata": {},
     "output_type": "execute_result"
    }
   ],
   "source": [
    "# Given a set S of elements, say integers { 0, 1, 2 },\n",
    "# a permutation is an ordering of the elements, e.g:\n",
    "# (0, 1, 2) or (1, 0, 2) or (2, 1, 0), etc.\n",
    "\n",
    "# The challenge is to write a recursive function to enumerate all possible permutations \n",
    "# of an input set.\n",
    "\n",
    "# The problem is recursive because the set of permutations R of a set S containing a member x\n",
    "# can be constructed from the set of permutations, T, of S - { x } (S after removing x) \n",
    "# as follows:\n",
    "\n",
    "# For each P = y_1, y_2, ..., y_n permutation in T, create n+2 permutations containing x:\n",
    "# x, y_1, y_2, ..., y_n\n",
    "# y_1, x, y_2, ..., y_n\n",
    "# y_1, y_2, x, ..., y_n\n",
    "# ...\n",
    "# y_1, y_2, ..., x, y_n\n",
    "# y_1, y_2, ..., y_n, x\n",
    "# For example for S = { 0, 1, 2 } and x=2\n",
    "# then S - { 2 } = { 0, 1 } and \n",
    "# T = { (0,1), (1,0) }\n",
    "# then R = { (2,0,1), (0,2,1), (0,1,2), (2,1,0), (1,2,0), (1,0,2) }\n",
    "\n",
    "def permutations(S):\n",
    "    \"\"\" Returns the set of tuples of all permutations of S\n",
    "    \"\"\"\n",
    "    if len(S) == 0:\n",
    "        return {()}\n",
    "    x = S[0]\n",
    "    T = permutations(S[1:])\n",
    "    print(S,T,x)\n",
    "    # Code to complete\n",
    "    R = set()\n",
    "    for t in T:\n",
    "        for i in range(len(t)+1):\n",
    "            R.add( t[:i]+(x,)+t[i:])\n",
    "    return R\n",
    "    \n",
    "\n",
    "\n",
    "permutations((0,1,2))"
   ]
  },
  {
   "cell_type": "markdown",
   "metadata": {
    "id": "oeXHxduP1V4U",
    "slideshow": {
     "slide_type": "slide"
    }
   },
   "source": [
    "# Lambdas \n",
    "\n",
    "What if you want to define a little function?\n",
    "\n",
    "Lambdas are one-liner functions:"
   ]
  },
  {
   "cell_type": "code",
   "execution_count": 2,
   "metadata": {
    "colab": {
     "base_uri": "https://localhost:8080/",
     "height": 35
    },
    "executionInfo": {
     "elapsed": 896,
     "status": "ok",
     "timestamp": 1571959373898,
     "user": {
      "displayName": "Benedict Paten",
      "photoUrl": "https://lh3.googleusercontent.com/a-/AAuE7mBMnWy8dDR7jyTHNy9tPaRx6DCyA3QKrIcuQ7R4=s64",
      "userId": "06399644931392855882"
     },
     "user_tz": 420
    },
    "id": "7zCP0m8LD8Kl",
    "outputId": "5c8620b4-3370-4494-8ab7-70c8af5e99b9",
    "slideshow": {
     "slide_type": "fragment"
    }
   },
   "outputs": [
    {
     "data": {
      "text/plain": [
       "True"
      ]
     },
     "execution_count": 2,
     "metadata": {},
     "output_type": "execute_result"
    }
   ],
   "source": [
    "fn1 = lambda x, y : x + y > 10\n",
    "\n",
    "#lambda definition is equivalent to\n",
    "def fn2(x, y):\n",
    "    return x + y > 10\n",
    "\n",
    "fn1(5, 6)"
   ]
  },
  {
   "cell_type": "markdown",
   "metadata": {
    "id": "at6E7-UGPI0h",
    "slideshow": {
     "slide_type": "fragment"
    }
   },
   "source": [
    "Lambda functions are great when you want to define something small.\n",
    "\n",
    "Particularly when we want to pass a small lambda function as an argument to another function.\n",
    "\n",
    "If you're interested see https://en.wikipedia.org/wiki/Anonymous_function (functions without names) - the lambda name comes from Alonzo Church, who created the lambda calculus. "
   ]
  },
  {
   "cell_type": "markdown",
   "metadata": {
    "id": "7r2yQ-5y1nfJ",
    "slideshow": {
     "slide_type": "slide"
    }
   },
   "source": [
    "# Functions can be passed around as arguments\n",
    "\n",
    "Passing functions as arguments to another function is a powerful trick"
   ]
  },
  {
   "cell_type": "code",
   "execution_count": 3,
   "metadata": {
    "colab": {
     "base_uri": "https://localhost:8080/",
     "height": 55
    },
    "executionInfo": {
     "elapsed": 528,
     "status": "ok",
     "timestamp": 1571959410010,
     "user": {
      "displayName": "Benedict Paten",
      "photoUrl": "https://lh3.googleusercontent.com/a-/AAuE7mBMnWy8dDR7jyTHNy9tPaRx6DCyA3QKrIcuQ7R4=s64",
      "userId": "06399644931392855882"
     },
     "user_tz": 420
    },
    "id": "38zbC_xH1-l6",
    "outputId": "d116a29b-ba34-45c2-cd21-fd03a5d7fa7a",
    "slideshow": {
     "slide_type": "fragment"
    }
   },
   "outputs": [
    {
     "data": {
      "text/plain": [
       "['Once', 'a', 'a', 'lived', 'teacher', 'there', 'time', 'upon', 'wicked']"
      ]
     },
     "execution_count": 3,
     "metadata": {},
     "output_type": "execute_result"
    }
   ],
   "source": [
    "# First consider a function for sorting a list of strings\n",
    "\n",
    "someStrings = [ \"Once\", \"upon\", \"a\", \"time\", \"there\", \"lived\", \n",
    "               \"a\", \"wicked\", \"teacher\"]\n",
    "\n",
    "sorted(someStrings)"
   ]
  },
  {
   "cell_type": "markdown",
   "metadata": {
    "id": "dM4e5PZnQyls",
    "slideshow": {
     "slide_type": "fragment"
    }
   },
   "source": [
    "Strange, 'Once' is first!!\n",
    "\n",
    "To fix this, sorted() can take a \"key\" argument which allows you to define the sort value for each element in the list."
   ]
  },
  {
   "cell_type": "code",
   "execution_count": 47,
   "metadata": {
    "colab": {
     "base_uri": "https://localhost:8080/"
    },
    "executionInfo": {
     "elapsed": 826,
     "status": "ok",
     "timestamp": 1608083879365,
     "user": {
      "displayName": "Benedict Paten",
      "photoUrl": "https://lh3.googleusercontent.com/a-/AOh14Gh2rYrrH6yoNnUp0Oj4p4ouybc6ZcWGyPmKFtIY=s64",
      "userId": "06399644931392855882"
     },
     "user_tz": 480
    },
    "id": "477-AIOE1pWg",
    "outputId": "e84b9986-ace7-45ac-e336-460e3f1114c9",
    "slideshow": {
     "slide_type": "fragment"
    }
   },
   "outputs": [
    {
     "data": {
      "text/plain": [
       "['a', 'a', 'lived', 'Once', 'teacher', 'there', 'time', 'upon', 'wicked']"
      ]
     },
     "execution_count": 47,
     "metadata": {},
     "output_type": "execute_result"
    }
   ],
   "source": [
    "def tolower(s): return s.lower()\n",
    "\n",
    "sorted(someStrings, key=tolower) "
   ]
  },
  {
   "cell_type": "code",
   "execution_count": 48,
   "metadata": {
    "colab": {
     "base_uri": "https://localhost:8080/"
    },
    "executionInfo": {
     "elapsed": 826,
     "status": "ok",
     "timestamp": 1608083879365,
     "user": {
      "displayName": "Benedict Paten",
      "photoUrl": "https://lh3.googleusercontent.com/a-/AOh14Gh2rYrrH6yoNnUp0Oj4p4ouybc6ZcWGyPmKFtIY=s64",
      "userId": "06399644931392855882"
     },
     "user_tz": 480
    },
    "id": "477-AIOE1pWg",
    "outputId": "e84b9986-ace7-45ac-e336-460e3f1114c9",
    "slideshow": {
     "slide_type": "fragment"
    }
   },
   "outputs": [
    {
     "data": {
      "text/plain": [
       "['a', 'a', 'lived', 'Once', 'teacher', 'there', 'time', 'upon', 'wicked']"
      ]
     },
     "execution_count": 48,
     "metadata": {},
     "output_type": "execute_result"
    }
   ],
   "source": [
    "# Or with a lambda function\n",
    "\n",
    "tolower = lambda s: s.lower()\n",
    "\n",
    "sorted(someStrings, key=tolower) "
   ]
  },
  {
   "cell_type": "code",
   "execution_count": 4,
   "metadata": {
    "colab": {
     "base_uri": "https://localhost:8080/"
    },
    "executionInfo": {
     "elapsed": 826,
     "status": "ok",
     "timestamp": 1608083879365,
     "user": {
      "displayName": "Benedict Paten",
      "photoUrl": "https://lh3.googleusercontent.com/a-/AOh14Gh2rYrrH6yoNnUp0Oj4p4ouybc6ZcWGyPmKFtIY=s64",
      "userId": "06399644931392855882"
     },
     "user_tz": 480
    },
    "id": "477-AIOE1pWg",
    "outputId": "e84b9986-ace7-45ac-e336-460e3f1114c9",
    "slideshow": {
     "slide_type": "fragment"
    }
   },
   "outputs": [
    {
     "data": {
      "text/plain": [
       "['a', 'a', 'lived', 'Once', 'teacher', 'there', 'time', 'upon', 'wicked']"
      ]
     },
     "execution_count": 4,
     "metadata": {},
     "output_type": "execute_result"
    }
   ],
   "source": [
    "# Or as a one liner with an anonymous lambda function (never given a name)\n",
    "sorted(someStrings, key = lambda s: s.lower()  ) "
   ]
  },
  {
   "cell_type": "markdown",
   "metadata": {
    "id": "sWi13HRmRqBS",
    "slideshow": {
     "slide_type": "subslide"
    }
   },
   "source": [
    "We can combine inline lambdas to do complex things:"
   ]
  },
  {
   "cell_type": "code",
   "execution_count": 55,
   "metadata": {
    "colab": {
     "base_uri": "https://localhost:8080/"
    },
    "executionInfo": {
     "elapsed": 1069,
     "status": "ok",
     "timestamp": 1608084160710,
     "user": {
      "displayName": "Benedict Paten",
      "photoUrl": "https://lh3.googleusercontent.com/a-/AOh14Gh2rYrrH6yoNnUp0Oj4p4ouybc6ZcWGyPmKFtIY=s64",
      "userId": "06399644931392855882"
     },
     "user_tz": 480
    },
    "id": "Ib1MpmxhR5L3",
    "outputId": "7ede385c-5af3-4358-9ee2-a8b0e6f1d8ad",
    "slideshow": {
     "slide_type": "fragment"
    }
   },
   "outputs": [
    {
     "data": {
      "text/plain": [
       "['a', 'a', 'wicked', 'lived', 'Once', 'time', 'there', 'upon', 'teacher']"
      ]
     },
     "execution_count": 55,
     "metadata": {},
     "output_type": "execute_result"
    }
   ],
   "source": [
    "sorted(someStrings, key=lambda x : x[::-1]) \n",
    "# x[::-1] is the reverse string of x,\n",
    "# so this sorts the strings according to their reversals"
   ]
  },
  {
   "cell_type": "markdown",
   "metadata": {
    "slideshow": {
     "slide_type": "subslide"
    }
   },
   "source": [
    "# Challenge 3"
   ]
  },
  {
   "cell_type": "code",
   "execution_count": 6,
   "metadata": {
    "slideshow": {
     "slide_type": "fragment"
    }
   },
   "outputs": [
    {
     "name": "stdout",
     "output_type": "stream",
     "text": [
      "['ne', 'pn', '', 'ie', 'hr', 'ie', '', 'ikd', 'ece']\n"
     ]
    },
    {
     "data": {
      "text/plain": [
       "<function sorted(iterable, /, *, key=None, reverse=False)>"
      ]
     },
     "execution_count": 6,
     "metadata": {},
     "output_type": "execute_result"
    }
   ],
   "source": [
    "someStrings = [ \"Once\", \"upon\", \"a\", \"time\", \"there\", \"lived\",\n",
    "               \"a\", \"wicked\", \"teacher\"]\n",
    "\n",
    "print([s[1::2] for s in someStrings])\n",
    "sorted(someStrings, key=lambda s: len(s) ) \n",
    "# replace xx with a lambda function such that shorter strings will be sorted first.\n",
    "\n",
    "sorted"
   ]
  },
  {
   "cell_type": "code",
   "execution_count": 3,
   "metadata": {
    "slideshow": {
     "slide_type": "fragment"
    }
   },
   "outputs": [
    {
     "data": {
      "text/plain": [
       "['teacher', 'wicked', 'there', 'lived', 'Once', 'upon', 'time', 'a', 'a']"
      ]
     },
     "execution_count": 3,
     "metadata": {},
     "output_type": "execute_result"
    }
   ],
   "source": [
    "someStrings = [ \"Once\", \"upon\", \"a\", \"time\", \"there\", \"lived\",\n",
    "               \"a\", \"wicked\", \"teacher\"]\n",
    "\n",
    "sorted(someStrings, key= lambda s: -len(s) ) \n",
    "# replace xx with a lambda function such that longer strings will be sorted first."
   ]
  },
  {
   "cell_type": "markdown",
   "metadata": {
    "id": "L8o5zkQjNHMU",
    "pycharm": {
     "name": "#%% md\n"
    },
    "slideshow": {
     "slide_type": "slide"
    }
   },
   "source": [
    "# Homework\n",
    "\n",
    "* Go to Canvas and complete the lecture quiz, which involves completing each challenge problem\n",
    "* ZyBooks Reading 15"
   ]
  }
 ],
 "metadata": {
  "celltoolbar": "Slideshow",
  "colab": {
   "collapsed_sections": [],
   "name": "L15 More Functions and Recursion.ipynb",
   "provenance": []
  },
  "kernelspec": {
   "display_name": "Python 3",
   "language": "python",
   "name": "python3"
  },
  "language_info": {
   "codemirror_mode": {
    "name": "ipython",
    "version": 3
   },
   "file_extension": ".py",
   "mimetype": "text/x-python",
   "name": "python",
   "nbconvert_exporter": "python",
   "pygments_lexer": "ipython3",
   "version": "3.6.6+"
  }
 },
 "nbformat": 4,
 "nbformat_minor": 1
}
