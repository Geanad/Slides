{
 "cells": [
  {
   "cell_type": "code",
   "execution_count": 2,
   "metadata": {},
   "outputs": [
    {
     "data": {
      "text/plain": [
       "['', 'a', 'b', 'ab', 'c', 'ac', 'bc', 'abc']"
      ]
     },
     "execution_count": 2,
     "metadata": {},
     "output_type": "execute_result"
    }
   ],
   "source": [
    "# Write a generator function (with yield) called substrings that,\n",
    "# when called with a string s,\n",
    "# returns a set of strings\n",
    "\n",
    "def substrings(xs):\n",
    "    if len(xs)==0:\n",
    "        yield \"\"\n",
    "    else:\n",
    "        x=xs[0]\n",
    "        rest = xs[1:]\n",
    "        for s in substrings(rest):\n",
    "            yield s\n",
    "            yield x+s\n",
    "                \n",
    "list(substrings(\"abc\"))\n",
    "            \n",
    "            \n",
    "            "
   ]
  },
  {
   "cell_type": "code",
   "execution_count": 7,
   "metadata": {},
   "outputs": [
    {
     "data": {
      "text/plain": [
       "['00', '10', '20', '01', '11', '21', '02', '12', '22']"
      ]
     },
     "execution_count": 7,
     "metadata": {},
     "output_type": "execute_result"
    }
   ],
   "source": [
    "# Write a generator function (using yield) that \n",
    "# takes two arguments, a string alphabet and an integer n,\n",
    "# and which generates all strings of length n,\n",
    "# where each character in the string is chosen from the alphabet\n",
    "# Hint: use recursion\n",
    "\n",
    "def combinations(alphabet,n):\n",
    "    if n==0:\n",
    "        yield \"\"\n",
    "    else:\n",
    "        for s in combinations(alphabet,n-1):\n",
    "            for x in alphabet:\n",
    "                yield x+s\n",
    "                \n",
    "list(combinations(\"012\",2))"
   ]
  },
  {
   "cell_type": "code",
   "execution_count": 17,
   "metadata": {},
   "outputs": [
    {
     "name": "stdout",
     "output_type": "stream",
     "text": [
      "[[], [5], [10], [5, 10], [11], [5, 11], [10, 11], [5, 10, 11]]\n",
      "cs is [[], [5], [10], [5, 10], [7], [5, 7], [10, 7], [5, 10, 7], [2], [5, 2], [10, 2], [5, 10, 2], [7, 2], [5, 7, 2], [10, 7, 2], [5, 10, 7, 2]]\n",
      "cs2 is [[], [5], [10], [5, 10], [7], [5, 7], [10, 7], [2], [5, 2], [10, 2], [5, 10, 2], [7, 2], [5, 7, 2], [10, 7, 2]]\n",
      "cs3 is [[10, 7, 2], [10, 7], [5, 10, 2], [5, 10], [5, 7, 2], [5, 7], [10, 2], [10], [7, 2], [7], [5, 2], [5], [2], []]\n",
      "[10, 7, 2]\n"
     ]
    }
   ],
   "source": [
    "# Write a generator function (using yield) that \n",
    "# takes an argument boxes, which is a list of integers,\n",
    "# and which generates all lists containing each element of boxes either 0 or 1 times.\n",
    "# Hint: use recursion\n",
    "\n",
    "def combinations(boxes):\n",
    "    if boxes==[]:\n",
    "        yield []\n",
    "    else:\n",
    "        for c in combinations(boxes[1:]):\n",
    "            yield c\n",
    "            yield [boxes[0]]+c\n",
    "     \n",
    "print(list(combinations([5,10,11])))    \n",
    "\n",
    "\n",
    "# Write a function bestfit that takes boxes (a list of integers)\n",
    "# and an integer limit,\n",
    "# and finds the highest combination of boxes that fits under that limit.\n",
    "\n",
    "def bestfit(boxes,limit):\n",
    "    cs = list(combinations(boxes))\n",
    "    print(f\"cs is {cs}\")\n",
    "    cs2 = [c for c in cs if sum(c) <= limit]\n",
    "    print(f\"cs2 is {cs2}\")\n",
    "    cs3 = sorted(cs2,key=lambda c: -sum(c))\n",
    "    print(f\"cs3 is {cs3}\")\n",
    "    return cs3[0]\n",
    "                \n",
    "print(bestfit([5,10,7,2],21))\n"
   ]
  },
  {
   "cell_type": "markdown",
   "metadata": {},
   "source": [
    "## Topics to make sure you review\n",
    "\n",
    "* Strings, slicing, indexing etc\n",
    "* f-strings and formatting, eg {n:...}\n",
    "* Dictionaries, lists, sets, tuples\n",
    "* Generators\n",
    "* File IO\n",
    "* Classes, and Operator overloading of +, * etc\n",
    "* Exceptions, try ... except ...\n",
    "* Lambda functions\n",
    "\n",
    "Finally, please fill out the Student Evaluation of Teaching on Canvas!"
   ]
  }
 ],
 "metadata": {
  "kernelspec": {
   "display_name": "Python 3",
   "language": "python",
   "name": "python3"
  },
  "language_info": {
   "codemirror_mode": {
    "name": "ipython",
    "version": 3
   },
   "file_extension": ".py",
   "mimetype": "text/x-python",
   "name": "python",
   "nbconvert_exporter": "python",
   "pygments_lexer": "ipython3",
   "version": "3.6.6+"
  }
 },
 "nbformat": 4,
 "nbformat_minor": 2
}
