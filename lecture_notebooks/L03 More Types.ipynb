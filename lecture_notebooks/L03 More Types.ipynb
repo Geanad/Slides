{
 "cells": [
  {
   "cell_type": "markdown",
   "metadata": {
    "id": "S4CkZnM_4FvB",
    "slideshow": {
     "slide_type": "slide"
    }
   },
   "source": [
    "# Lecture 3 - More Types \n",
    "\n",
    "Today:\n",
    "* More strings\n",
    "* F strings and number formatting\n",
    "* Type Conversions\n",
    "* Automatic Type Conversion\n",
    "* More Input\n",
    "* List basics\n",
    "* Dictionary Basics"
   ]
  },
  {
   "cell_type": "markdown",
   "metadata": {
    "id": "odfPyGzkdUIJ",
    "slideshow": {
     "slide_type": "slide"
    }
   },
   "source": [
    "# More Strings\n",
    "\n",
    "In Python3.0 strings are sequences of symbols from an alphabet called Unicode: https://unicode.org/ \n",
    "\n",
    "* Unicode allows a very wide range of symbols for many languages and encodings. Much more than ASCII (http://www.asciitable.com/), which is what Python used to use. This requires more memory to store the strings, but prevents weird syntax translation issues."
   ]
  },
  {
   "cell_type": "markdown",
   "metadata": {
    "id": "qEy9bWvx5QHt",
    "slideshow": {
     "slide_type": "subslide"
    }
   },
   "source": [
    "![alt text](https://pediaa.com/wp-content/uploads/2018/07/Difference-Between-ASCII-and-Unicode-Comparison-Summary.jpg)"
   ]
  },
  {
   "cell_type": "markdown",
   "metadata": {
    "slideshow": {
     "slide_type": "slide"
    }
   },
   "source": [
    "# String Syntax"
   ]
  },
  {
   "cell_type": "code",
   "execution_count": 1,
   "metadata": {
    "colab": {
     "base_uri": "https://localhost:8080/",
     "height": 34
    },
    "execution": {
     "iopub.execute_input": "2022-09-23T00:20:03.526743Z",
     "iopub.status.busy": "2022-09-23T00:20:03.525567Z",
     "iopub.status.idle": "2022-09-23T00:20:03.530049Z",
     "shell.execute_reply": "2022-09-23T00:20:03.530717Z"
    },
    "executionInfo": {
     "elapsed": 584,
     "status": "ok",
     "timestamp": 1569539469038,
     "user": {
      "displayName": "Benedict Paten",
      "photoUrl": "",
      "userId": "02468802669323291213"
     },
     "user_tz": 420
    },
    "id": "z5hWOCXYcrFt",
    "outputId": "694e6e4c-17e5-429d-d48a-8bc0552cff97",
    "slideshow": {
     "slide_type": "fragment"
    }
   },
   "outputs": [
    {
     "data": {
      "text/plain": [
       "str"
      ]
     },
     "execution_count": 1,
     "metadata": {},
     "output_type": "execute_result"
    }
   ],
   "source": [
    "# Strings can be expressed a bunch of ways:\n",
    "\n",
    "type(\"hello\") # Double quotes"
   ]
  },
  {
   "cell_type": "code",
   "execution_count": 2,
   "metadata": {
    "colab": {
     "base_uri": "https://localhost:8080/",
     "height": 34
    },
    "execution": {
     "iopub.execute_input": "2022-09-23T00:20:03.537432Z",
     "iopub.status.busy": "2022-09-23T00:20:03.536580Z",
     "iopub.status.idle": "2022-09-23T00:20:03.540165Z",
     "shell.execute_reply": "2022-09-23T00:20:03.540692Z"
    },
    "executionInfo": {
     "elapsed": 693,
     "status": "ok",
     "timestamp": 1554323886402,
     "user": {
      "displayName": "Benedict Paten",
      "photoUrl": "https://lh6.googleusercontent.com/-KEXp34y2Ra8/AAAAAAAAAAI/AAAAAAAAAHs/xzPsOsCpcaU/s64/photo.jpg",
      "userId": "06399644931392855882"
     },
     "user_tz": 420
    },
    "id": "13L6yoJ2f5_F",
    "outputId": "17e82f98-e82e-4f31-e2a0-3bc2c856471c",
    "slideshow": {
     "slide_type": "fragment"
    }
   },
   "outputs": [
    {
     "data": {
      "text/plain": [
       "str"
      ]
     },
     "execution_count": 2,
     "metadata": {},
     "output_type": "execute_result"
    }
   ],
   "source": [
    "type('hello') # Single quotes"
   ]
  },
  {
   "cell_type": "code",
   "execution_count": 3,
   "metadata": {
    "colab": {
     "base_uri": "https://localhost:8080/",
     "height": 34
    },
    "execution": {
     "iopub.execute_input": "2022-09-23T00:20:03.546887Z",
     "iopub.status.busy": "2022-09-23T00:20:03.545793Z",
     "iopub.status.idle": "2022-09-23T00:20:03.550210Z",
     "shell.execute_reply": "2022-09-23T00:20:03.549684Z"
    },
    "executionInfo": {
     "elapsed": 378,
     "status": "ok",
     "timestamp": 1554323904826,
     "user": {
      "displayName": "Benedict Paten",
      "photoUrl": "https://lh6.googleusercontent.com/-KEXp34y2Ra8/AAAAAAAAAAI/AAAAAAAAAHs/xzPsOsCpcaU/s64/photo.jpg",
      "userId": "06399644931392855882"
     },
     "user_tz": 420
    },
    "id": "xG8NQ3iLf7m4",
    "outputId": "cdf6c8d7-bfc9-46e3-8cb2-f8b64a39fc59",
    "slideshow": {
     "slide_type": "fragment"
    }
   },
   "outputs": [
    {
     "data": {
      "text/plain": [
       "str"
      ]
     },
     "execution_count": 3,
     "metadata": {},
     "output_type": "execute_result"
    }
   ],
   "source": [
    "type(\"\"\"hello\"\"\") # Triple double quotes"
   ]
  },
  {
   "cell_type": "code",
   "execution_count": 4,
   "metadata": {
    "colab": {
     "base_uri": "https://localhost:8080/",
     "height": 34
    },
    "execution": {
     "iopub.execute_input": "2022-09-23T00:20:03.556019Z",
     "iopub.status.busy": "2022-09-23T00:20:03.554986Z",
     "iopub.status.idle": "2022-09-23T00:20:03.558755Z",
     "shell.execute_reply": "2022-09-23T00:20:03.559338Z"
    },
    "executionInfo": {
     "elapsed": 539,
     "status": "ok",
     "timestamp": 1554324028562,
     "user": {
      "displayName": "Benedict Paten",
      "photoUrl": "https://lh6.googleusercontent.com/-KEXp34y2Ra8/AAAAAAAAAAI/AAAAAAAAAHs/xzPsOsCpcaU/s64/photo.jpg",
      "userId": "06399644931392855882"
     },
     "user_tz": 420
    },
    "id": "ospXwmAEf9cn",
    "outputId": "13ca371a-b6ce-48f6-afcc-3df1628a2531",
    "slideshow": {
     "slide_type": "fragment"
    }
   },
   "outputs": [
    {
     "data": {
      "text/plain": [
       "str"
      ]
     },
     "execution_count": 4,
     "metadata": {},
     "output_type": "execute_result"
    }
   ],
   "source": [
    "type('''hello''') # Triple single quotes"
   ]
  },
  {
   "cell_type": "markdown",
   "metadata": {
    "id": "ND2UHQJkgCCH",
    "slideshow": {
     "slide_type": "subslide"
    }
   },
   "source": [
    "We have these different syntax so we can embed quotes and whitespace (tabs, spaces and new lines) in strings. "
   ]
  },
  {
   "cell_type": "code",
   "execution_count": 5,
   "metadata": {
    "colab": {
     "base_uri": "https://localhost:8080/",
     "height": 34
    },
    "execution": {
     "iopub.execute_input": "2022-09-23T00:20:03.565692Z",
     "iopub.status.busy": "2022-09-23T00:20:03.564620Z",
     "iopub.status.idle": "2022-09-23T00:20:03.568315Z",
     "shell.execute_reply": "2022-09-23T00:20:03.568829Z"
    },
    "executionInfo": {
     "elapsed": 437,
     "status": "ok",
     "timestamp": 1554324081443,
     "user": {
      "displayName": "Benedict Paten",
      "photoUrl": "https://lh6.googleusercontent.com/-KEXp34y2Ra8/AAAAAAAAAAI/AAAAAAAAAHs/xzPsOsCpcaU/s64/photo.jpg",
      "userId": "06399644931392855882"
     },
     "user_tz": 420
    },
    "id": "_kq0Ugs2Gc8_",
    "outputId": "3ec14f59-7aa5-44c7-8d0d-474b02e1450f",
    "slideshow": {
     "slide_type": "fragment"
    }
   },
   "outputs": [
    {
     "data": {
      "text/plain": [
       "str"
      ]
     },
     "execution_count": 5,
     "metadata": {},
     "output_type": "execute_result"
    }
   ],
   "source": [
    "# We can embed single quotes in double quotes:\n",
    "type(\"This is a string containing a 'single quoted substring'\")"
   ]
  },
  {
   "cell_type": "code",
   "execution_count": 6,
   "metadata": {
    "colab": {
     "base_uri": "https://localhost:8080/",
     "height": 130
    },
    "execution": {
     "iopub.execute_input": "2022-09-23T00:20:03.574069Z",
     "iopub.status.busy": "2022-09-23T00:20:03.572888Z",
     "iopub.status.idle": "2022-09-23T00:20:03.576755Z",
     "shell.execute_reply": "2022-09-23T00:20:03.577676Z"
    },
    "executionInfo": {
     "elapsed": 501,
     "status": "error",
     "timestamp": 1554324108166,
     "user": {
      "displayName": "Benedict Paten",
      "photoUrl": "https://lh6.googleusercontent.com/-KEXp34y2Ra8/AAAAAAAAAAI/AAAAAAAAAHs/xzPsOsCpcaU/s64/photo.jpg",
      "userId": "06399644931392855882"
     },
     "user_tz": 420
    },
    "id": "J5UDSxu6gnm8",
    "outputId": "b27a3768-0b1f-4524-c772-bee9b7a8b837",
    "slideshow": {
     "slide_type": "fragment"
    }
   },
   "outputs": [
    {
     "ename": "SyntaxError",
     "evalue": "invalid syntax (<ipython-input-6-9cb9b8b60d3d>, line 3)",
     "output_type": "error",
     "traceback": [
      "\u001b[0;36m  File \u001b[0;32m\"<ipython-input-6-9cb9b8b60d3d>\"\u001b[0;36m, line \u001b[0;32m3\u001b[0m\n\u001b[0;31m    type('This is a string containing a 'single quoted substring'')\u001b[0m\n\u001b[0m                                         ^\u001b[0m\n\u001b[0;31mSyntaxError\u001b[0m\u001b[0;31m:\u001b[0m invalid syntax\n"
     ]
    }
   ],
   "source": [
    "# Trying to embed single quotes \n",
    "# in a single quoted string naively does not work\n",
    "type('This is a string containing a 'single quoted substring'')"
   ]
  },
  {
   "cell_type": "code",
   "execution_count": 7,
   "metadata": {
    "colab": {
     "base_uri": "https://localhost:8080/",
     "height": 34
    },
    "execution": {
     "iopub.execute_input": "2022-09-23T00:20:03.584142Z",
     "iopub.status.busy": "2022-09-23T00:20:03.583122Z",
     "iopub.status.idle": "2022-09-23T00:20:03.586698Z",
     "shell.execute_reply": "2022-09-23T00:20:03.587221Z"
    },
    "executionInfo": {
     "elapsed": 432,
     "status": "ok",
     "timestamp": 1554324181369,
     "user": {
      "displayName": "Benedict Paten",
      "photoUrl": "https://lh6.googleusercontent.com/-KEXp34y2Ra8/AAAAAAAAAAI/AAAAAAAAAHs/xzPsOsCpcaU/s64/photo.jpg",
      "userId": "06399644931392855882"
     },
     "user_tz": 420
    },
    "id": "nvgVKUi2g7yI",
    "outputId": "49f5539f-bdd5-4965-c235-f0fe8bea4316",
    "slideshow": {
     "slide_type": "fragment"
    }
   },
   "outputs": [
    {
     "data": {
      "text/plain": [
       "str"
      ]
     },
     "execution_count": 7,
     "metadata": {},
     "output_type": "execute_result"
    }
   ],
   "source": [
    "# And vice-versa, we can embed double quotes in single quotes:\n",
    "type('This is a string containing a \"double quoted substring\"')"
   ]
  },
  {
   "cell_type": "code",
   "execution_count": 8,
   "metadata": {
    "colab": {
     "base_uri": "https://localhost:8080/",
     "height": 131
    },
    "execution": {
     "iopub.execute_input": "2022-09-23T00:20:03.592520Z",
     "iopub.status.busy": "2022-09-23T00:20:03.591626Z",
     "iopub.status.idle": "2022-09-23T00:20:03.596039Z",
     "shell.execute_reply": "2022-09-23T00:20:03.595286Z"
    },
    "executionInfo": {
     "elapsed": 1099,
     "status": "error",
     "timestamp": 1569539635155,
     "user": {
      "displayName": "Benedict Paten",
      "photoUrl": "",
      "userId": "02468802669323291213"
     },
     "user_tz": 420
    },
    "id": "mZ-JcBF9jkay",
    "outputId": "aac1e383-898b-4b0f-95a0-a5592e4b20c3",
    "slideshow": {
     "slide_type": "subslide"
    }
   },
   "outputs": [
    {
     "ename": "SyntaxError",
     "evalue": "EOL while scanning string literal (<ipython-input-8-fe80fb3e4808>, line 2)",
     "output_type": "error",
     "traceback": [
      "\u001b[0;36m  File \u001b[0;32m\"<ipython-input-8-fe80fb3e4808>\"\u001b[0;36m, line \u001b[0;32m2\u001b[0m\n\u001b[0;31m    type('This is an\u001b[0m\n\u001b[0m                     ^\u001b[0m\n\u001b[0;31mSyntaxError\u001b[0m\u001b[0;31m:\u001b[0m EOL while scanning string literal\n"
     ]
    }
   ],
   "source": [
    "# Single and double quoted strings can't span multiple lines:\n",
    "type('This is an \n",
    "      attempt to have a string on two lines')"
   ]
  },
  {
   "cell_type": "code",
   "execution_count": 9,
   "metadata": {
    "colab": {
     "base_uri": "https://localhost:8080/",
     "height": 34
    },
    "execution": {
     "iopub.execute_input": "2022-09-23T00:20:03.602131Z",
     "iopub.status.busy": "2022-09-23T00:20:03.601084Z",
     "iopub.status.idle": "2022-09-23T00:20:03.604736Z",
     "shell.execute_reply": "2022-09-23T00:20:03.605265Z"
    },
    "executionInfo": {
     "elapsed": 417,
     "status": "ok",
     "timestamp": 1554324236518,
     "user": {
      "displayName": "Benedict Paten",
      "photoUrl": "https://lh6.googleusercontent.com/-KEXp34y2Ra8/AAAAAAAAAAI/AAAAAAAAAHs/xzPsOsCpcaU/s64/photo.jpg",
      "userId": "06399644931392855882"
     },
     "user_tz": 420
    },
    "id": "tPVSUn-biK47",
    "outputId": "d6dda436-f9f3-4bb3-dd71-5213c27942b7",
    "slideshow": {
     "slide_type": "fragment"
    }
   },
   "outputs": [
    {
     "data": {
      "text/plain": [
       "str"
      ]
     },
     "execution_count": 9,
     "metadata": {},
     "output_type": "execute_result"
    }
   ],
   "source": [
    "# Triple quotes (either single or double), allow embedding essentially anything, \n",
    "# including spanning multiple lines:\n",
    "\n",
    "type(\"\"\"Boom, now\n",
    "   we can make crazy strings that ' nest quotes in quotes \" \" ' etc.\n",
    "   and which span multiple lines\"\"\")"
   ]
  },
  {
   "cell_type": "code",
   "execution_count": 10,
   "metadata": {
    "colab": {
     "base_uri": "https://localhost:8080/",
     "height": 54
    },
    "execution": {
     "iopub.execute_input": "2022-09-23T00:20:03.610902Z",
     "iopub.status.busy": "2022-09-23T00:20:03.609840Z",
     "iopub.status.idle": "2022-09-23T00:20:03.613778Z",
     "shell.execute_reply": "2022-09-23T00:20:03.614272Z"
    },
    "executionInfo": {
     "elapsed": 850,
     "status": "ok",
     "timestamp": 1554324365093,
     "user": {
      "displayName": "Benedict Paten",
      "photoUrl": "https://lh6.googleusercontent.com/-KEXp34y2Ra8/AAAAAAAAAAI/AAAAAAAAAHs/xzPsOsCpcaU/s64/photo.jpg",
      "userId": "06399644931392855882"
     },
     "user_tz": 420
    },
    "id": "2NARKErpkhsr",
    "outputId": "062c975d-aed6-4de7-c18b-4be0692e3bc8",
    "slideshow": {
     "slide_type": "subslide"
    }
   },
   "outputs": [
    {
     "data": {
      "text/plain": [
       "\" \\nA comment string. \\n\\nThese can be used to document some code\\nacross multiple lines. We'll later see this at the top\\nof classes and functions as a standard way of giving\\na description string.\\n\""
      ]
     },
     "execution_count": 10,
     "metadata": {},
     "output_type": "execute_result"
    }
   ],
   "source": [
    "# You will also see this a lot in Python code:\n",
    "\n",
    "\"\"\" \n",
    "A comment string. \n",
    "\n",
    "These can be used to document some code\n",
    "across multiple lines. We'll later see this at the top\n",
    "of classes and functions as a standard way of giving\n",
    "a description string.\n",
    "\"\"\"\n"
   ]
  },
  {
   "cell_type": "markdown",
   "metadata": {
    "slideshow": {
     "slide_type": "subslide"
    }
   },
   "source": [
    "# Challenge 1"
   ]
  },
  {
   "cell_type": "code",
   "execution_count": 11,
   "metadata": {
    "execution": {
     "iopub.execute_input": "2022-09-23T00:20:03.619066Z",
     "iopub.status.busy": "2022-09-23T00:20:03.618145Z",
     "iopub.status.idle": "2022-09-23T00:20:03.620685Z",
     "shell.execute_reply": "2022-09-23T00:20:03.621290Z"
    },
    "slideshow": {
     "slide_type": "fragment"
    }
   },
   "outputs": [],
   "source": [
    "# Create a string containing single quotes, double quotes and which spans multiple lines"
   ]
  },
  {
   "cell_type": "markdown",
   "metadata": {
    "id": "JPxEMRO9bFgc",
    "slideshow": {
     "slide_type": "slide"
    }
   },
   "source": [
    "# White Space Characters\n",
    "\n",
    "* There is a difference between the contents of a Python string you type (termed a string literal) and what gets printed to the screen.\n",
    "\n",
    "* In general, Python and most other programming languages use reserved ASCII or unicode characters to encode white space in string literals. \n",
    "\n",
    "* Lets cover tabs and newlines"
   ]
  },
  {
   "cell_type": "code",
   "execution_count": 12,
   "metadata": {
    "colab": {
     "base_uri": "https://localhost:8080/",
     "height": 34
    },
    "execution": {
     "iopub.execute_input": "2022-09-23T00:20:03.625773Z",
     "iopub.status.busy": "2022-09-23T00:20:03.625042Z",
     "iopub.status.idle": "2022-09-23T00:20:03.627833Z",
     "shell.execute_reply": "2022-09-23T00:20:03.628306Z"
    },
    "executionInfo": {
     "elapsed": 872,
     "status": "ok",
     "timestamp": 1571351313722,
     "user": {
      "displayName": "Benedict Paten",
      "photoUrl": "https://lh3.googleusercontent.com/a-/AAuE7mBMnWy8dDR7jyTHNy9tPaRx6DCyA3QKrIcuQ7R4=s64",
      "userId": "06399644931392855882"
     },
     "user_tz": 420
    },
    "id": "lwuNwoa1kPb1",
    "outputId": "f77eb9ac-60af-4b1b-c933-4c4a1e47eb17",
    "slideshow": {
     "slide_type": "fragment"
    }
   },
   "outputs": [
    {
     "name": "stdout",
     "output_type": "stream",
     "text": [
      "This\tis\ttab\tseparated\n"
     ]
    }
   ],
   "source": [
    "s = \"This\\tis\\ttab\\tseparated\" # Tabs are encoded with '\\t' \n",
    "\n",
    "print(s)"
   ]
  },
  {
   "cell_type": "code",
   "execution_count": 13,
   "metadata": {
    "colab": {
     "base_uri": "https://localhost:8080/",
     "height": 87
    },
    "execution": {
     "iopub.execute_input": "2022-09-23T00:20:03.632636Z",
     "iopub.status.busy": "2022-09-23T00:20:03.631969Z",
     "iopub.status.idle": "2022-09-23T00:20:03.634732Z",
     "shell.execute_reply": "2022-09-23T00:20:03.635339Z"
    },
    "executionInfo": {
     "elapsed": 484,
     "status": "ok",
     "timestamp": 1571351375970,
     "user": {
      "displayName": "Benedict Paten",
      "photoUrl": "https://lh3.googleusercontent.com/a-/AAuE7mBMnWy8dDR7jyTHNy9tPaRx6DCyA3QKrIcuQ7R4=s64",
      "userId": "06399644931392855882"
     },
     "user_tz": 420
    },
    "id": "-S3ED-nHk4uA",
    "outputId": "12ed2be0-97e4-4141-dcb7-37cf24e25d10",
    "slideshow": {
     "slide_type": "subslide"
    }
   },
   "outputs": [
    {
     "name": "stdout",
     "output_type": "stream",
     "text": [
      "This\n",
      "is\n",
      "newline\n",
      "separated\n"
     ]
    }
   ],
   "source": [
    "s = \"This\\nis\\nnewline\\nseparated\" # Newline characters: '\\n' specify new lines\n",
    "\n",
    "print(s)"
   ]
  },
  {
   "cell_type": "code",
   "execution_count": 14,
   "metadata": {
    "colab": {
     "base_uri": "https://localhost:8080/",
     "height": 34
    },
    "execution": {
     "iopub.execute_input": "2022-09-23T00:20:03.640290Z",
     "iopub.status.busy": "2022-09-23T00:20:03.639491Z",
     "iopub.status.idle": "2022-09-23T00:20:03.642959Z",
     "shell.execute_reply": "2022-09-23T00:20:03.643526Z"
    },
    "executionInfo": {
     "elapsed": 929,
     "status": "ok",
     "timestamp": 1571351438223,
     "user": {
      "displayName": "Benedict Paten",
      "photoUrl": "https://lh3.googleusercontent.com/a-/AAuE7mBMnWy8dDR7jyTHNy9tPaRx6DCyA3QKrIcuQ7R4=s64",
      "userId": "06399644931392855882"
     },
     "user_tz": 420
    },
    "id": "UlraTeHQlUvU",
    "outputId": "b42aef5a-099a-4c51-e513-4711fc29a452",
    "slideshow": {
     "slide_type": "fragment"
    }
   },
   "outputs": [
    {
     "name": "stdout",
     "output_type": "stream",
     "text": [
      "True\n"
     ]
    }
   ],
   "source": [
    "s2 = \"\"\"This\n",
    "is\n",
    "newline\n",
    "separated\"\"\" # This is the equivalent way of specifying s by using \n",
    "# explicit white space in your code\n",
    "\n",
    "print(s == s2)"
   ]
  },
  {
   "cell_type": "code",
   "execution_count": 15,
   "metadata": {
    "colab": {
     "base_uri": "https://localhost:8080/",
     "height": 87
    },
    "execution": {
     "iopub.execute_input": "2022-09-23T00:20:03.648430Z",
     "iopub.status.busy": "2022-09-23T00:20:03.647662Z",
     "iopub.status.idle": "2022-09-23T00:20:03.650313Z",
     "shell.execute_reply": "2022-09-23T00:20:03.650751Z"
    },
    "executionInfo": {
     "elapsed": 476,
     "status": "ok",
     "timestamp": 1571351461721,
     "user": {
      "displayName": "Benedict Paten",
      "photoUrl": "https://lh3.googleusercontent.com/a-/AAuE7mBMnWy8dDR7jyTHNy9tPaRx6DCyA3QKrIcuQ7R4=s64",
      "userId": "06399644931392855882"
     },
     "user_tz": 420
    },
    "id": "JYS9BkO6lg2I",
    "outputId": "9dbc2e01-4047-4bea-c45f-b1dd45974af4",
    "slideshow": {
     "slide_type": "fragment"
    }
   },
   "outputs": [
    {
     "name": "stdout",
     "output_type": "stream",
     "text": [
      "This\n",
      "is\n",
      "newline\n",
      "separated\n"
     ]
    }
   ],
   "source": [
    "print(s)"
   ]
  },
  {
   "cell_type": "code",
   "execution_count": 16,
   "metadata": {
    "colab": {
     "base_uri": "https://localhost:8080/",
     "height": 87
    },
    "execution": {
     "iopub.execute_input": "2022-09-23T00:20:03.654844Z",
     "iopub.status.busy": "2022-09-23T00:20:03.654031Z",
     "iopub.status.idle": "2022-09-23T00:20:03.656797Z",
     "shell.execute_reply": "2022-09-23T00:20:03.657283Z"
    },
    "executionInfo": {
     "elapsed": 485,
     "status": "ok",
     "timestamp": 1571351463892,
     "user": {
      "displayName": "Benedict Paten",
      "photoUrl": "https://lh3.googleusercontent.com/a-/AAuE7mBMnWy8dDR7jyTHNy9tPaRx6DCyA3QKrIcuQ7R4=s64",
      "userId": "06399644931392855882"
     },
     "user_tz": 420
    },
    "id": "p1PTjHmMliDv",
    "outputId": "dc867dbb-f667-4b5a-9039-a2f1b089c974",
    "slideshow": {
     "slide_type": "fragment"
    }
   },
   "outputs": [
    {
     "name": "stdout",
     "output_type": "stream",
     "text": [
      "This\n",
      "is\n",
      "newline\n",
      "separated\n"
     ]
    }
   ],
   "source": [
    "print(s2)"
   ]
  },
  {
   "cell_type": "code",
   "execution_count": 17,
   "metadata": {
    "colab": {
     "base_uri": "https://localhost:8080/",
     "height": 69
    },
    "execution": {
     "iopub.execute_input": "2022-09-23T00:20:03.661255Z",
     "iopub.status.busy": "2022-09-23T00:20:03.660506Z",
     "iopub.status.idle": "2022-09-23T00:20:03.665011Z",
     "shell.execute_reply": "2022-09-23T00:20:03.666628Z"
    },
    "executionInfo": {
     "elapsed": 874,
     "status": "ok",
     "timestamp": 1571351511757,
     "user": {
      "displayName": "Benedict Paten",
      "photoUrl": "https://lh3.googleusercontent.com/a-/AAuE7mBMnWy8dDR7jyTHNy9tPaRx6DCyA3QKrIcuQ7R4=s64",
      "userId": "06399644931392855882"
     },
     "user_tz": 420
    },
    "id": "Wk43tEb0l550",
    "outputId": "b9239e54-5105-472e-de52-6ae4ddd5092d",
    "slideshow": {
     "slide_type": "subslide"
    }
   },
   "outputs": [
    {
     "name": "stdout",
     "output_type": "stream",
     "text": [
      "Welcome to my program.\n",
      "\tHere is an indent.\n",
      "\t\tHere is a double indent\n"
     ]
    }
   ],
   "source": [
    "# It is often convenient to use tab and newline characters in your string \n",
    "# formatting to make the strings do what you want, e.g.\n",
    "\n",
    "print(\"Welcome to my program.\\n\\tHere is an indent.\\n\\t\\tHere is a double indent\")"
   ]
  },
  {
   "cell_type": "markdown",
   "metadata": {
    "id": "Mdhal66NmQHu",
    "slideshow": {
     "slide_type": "fragment"
    }
   },
   "source": [
    "Doing the above with triple quoted strings is less compact, and generally more error prone,\n",
    "because the way the editor encodes tabs depends on how the code formatting is setup:\n",
    "e.g. are blocks of spaces tabs? how many spaces? etc."
   ]
  },
  {
   "cell_type": "code",
   "execution_count": 18,
   "metadata": {
    "colab": {
     "base_uri": "https://localhost:8080/",
     "height": 69
    },
    "execution": {
     "iopub.execute_input": "2022-09-23T00:20:03.671637Z",
     "iopub.status.busy": "2022-09-23T00:20:03.670827Z",
     "iopub.status.idle": "2022-09-23T00:20:03.673594Z",
     "shell.execute_reply": "2022-09-23T00:20:03.674153Z"
    },
    "executionInfo": {
     "elapsed": 626,
     "status": "ok",
     "timestamp": 1571351574595,
     "user": {
      "displayName": "Benedict Paten",
      "photoUrl": "https://lh3.googleusercontent.com/a-/AAuE7mBMnWy8dDR7jyTHNy9tPaRx6DCyA3QKrIcuQ7R4=s64",
      "userId": "06399644931392855882"
     },
     "user_tz": 420
    },
    "id": "MqDnWyC_mXwN",
    "outputId": "66396915-41fa-4076-c1e9-ccdbaae24efa",
    "slideshow": {
     "slide_type": "fragment"
    }
   },
   "outputs": [
    {
     "name": "stdout",
     "output_type": "stream",
     "text": [
      "Welcome to my program.\n",
      "    Here is an indent.\n",
      "        Here is a double indent\n"
     ]
    }
   ],
   "source": [
    "print(\"\"\"Welcome to my program.\n",
    "    Here is an indent.\n",
    "        Here is a double indent\"\"\")"
   ]
  },
  {
   "cell_type": "markdown",
   "metadata": {
    "slideshow": {
     "slide_type": "subslide"
    }
   },
   "source": [
    "# Challenge 2"
   ]
  },
  {
   "cell_type": "code",
   "execution_count": 19,
   "metadata": {
    "execution": {
     "iopub.execute_input": "2022-09-23T00:20:03.678928Z",
     "iopub.status.busy": "2022-09-23T00:20:03.678038Z",
     "iopub.status.idle": "2022-09-23T00:20:03.681220Z",
     "shell.execute_reply": "2022-09-23T00:20:03.681680Z"
    },
    "slideshow": {
     "slide_type": "fragment"
    }
   },
   "outputs": [
    {
     "data": {
      "text/plain": [
       "'this is\\na contrived example\\n    to test \\n            you!'"
      ]
     },
     "execution_count": 19,
     "metadata": {},
     "output_type": "execute_result"
    }
   ],
   "source": [
    "# Rewrite the following string to use single quotes and escape characters\n",
    "\"\"\"this is\n",
    "a contrived example\n",
    "    to test \n",
    "            you!\"\"\""
   ]
  },
  {
   "cell_type": "markdown",
   "metadata": {
    "pycharm": {
     "name": "#%% md\n"
    },
    "slideshow": {
     "slide_type": "slide"
    }
   },
   "source": [
    "# F-strings"
   ]
  },
  {
   "cell_type": "markdown",
   "metadata": {
    "slideshow": {
     "slide_type": "fragment"
    }
   },
   "source": [
    "Often we want to substitute values into strings. Python's f-strings are a nice way to do this (we'll see other ways to do this later)"
   ]
  },
  {
   "cell_type": "code",
   "execution_count": 20,
   "metadata": {
    "execution": {
     "iopub.execute_input": "2022-09-23T00:20:03.686049Z",
     "iopub.status.busy": "2022-09-23T00:20:03.685399Z",
     "iopub.status.idle": "2022-09-23T00:20:03.687906Z",
     "shell.execute_reply": "2022-09-23T00:20:03.688352Z"
    },
    "slideshow": {
     "slide_type": "fragment"
    }
   },
   "outputs": [
    {
     "name": "stdout",
     "output_type": "stream",
     "text": [
      "I went to 10 Downing St, London, SW1A, UK to see the prime minister\n"
     ]
    }
   ],
   "source": [
    "# Suppose we have these two variables\n",
    "\n",
    "address=\"10 Downing St, London, SW1A, UK\"\n",
    "person=\"prime minister\"\n",
    "\n",
    "# We can introduce them into a f-string as follows\n",
    "print(f\"I went to {address} to see the {person}\")"
   ]
  },
  {
   "cell_type": "markdown",
   "metadata": {
    "pycharm": {
     "name": "#%%\n"
    },
    "slideshow": {
     "slide_type": "fragment"
    }
   },
   "source": [
    "F-strings were introduced in Python 3.6. They provide a convenient alternative to the format method (see below)"
   ]
  },
  {
   "cell_type": "code",
   "execution_count": 21,
   "metadata": {
    "execution": {
     "iopub.execute_input": "2022-09-23T00:20:03.693129Z",
     "iopub.status.busy": "2022-09-23T00:20:03.692474Z",
     "iopub.status.idle": "2022-09-23T00:20:03.695142Z",
     "shell.execute_reply": "2022-09-23T00:20:03.695673Z"
    },
    "slideshow": {
     "slide_type": "subslide"
    }
   },
   "outputs": [
    {
     "name": "stdout",
     "output_type": "stream",
     "text": [
      "I went to 10 Downing St, London, SW1A, UK to see the prime minister\n",
      "I went to 10 Downing St, London, SW1A, UK to see the prime minister\n",
      "I went to 10 Downing St, London, SW1A, UK to see the prime minister\n",
      "I went to 10 Downing St, London, SW1A, UK to see the prime minister\n"
     ]
    }
   ],
   "source": [
    "# The general syntax allows either F or f as the prefix. \n",
    "# They work with single quotes, double quotes and triple quotes, just as with vanilla strings\n",
    "\n",
    "print(f\"I went to {address} to see the {person}\")\n",
    "print(F\"I went to {address} to see the {person}\")\n",
    "print(f'I went to {address} to see the {person}')\n",
    "print(F\"\"\"I went to {address} to see the {person}\"\"\")\n",
    "# etc..."
   ]
  },
  {
   "cell_type": "code",
   "execution_count": 22,
   "metadata": {
    "execution": {
     "iopub.execute_input": "2022-09-23T00:20:03.699949Z",
     "iopub.status.busy": "2022-09-23T00:20:03.699171Z",
     "iopub.status.idle": "2022-09-23T00:20:03.701742Z",
     "shell.execute_reply": "2022-09-23T00:20:03.702174Z"
    },
    "slideshow": {
     "slide_type": "fragment"
    }
   },
   "outputs": [
    {
     "name": "stdout",
     "output_type": "stream",
     "text": [
      "This is math: 25, and this is string multiplication: hellohello\n"
     ]
    }
   ],
   "source": [
    "# You can embed arbitrary expressions within the f-string:\n",
    "print(f\"This is math: { 5 * 5 }, and this is string multiplication: { 'hello' * 2 }\")"
   ]
  },
  {
   "cell_type": "markdown",
   "metadata": {
    "slideshow": {
     "slide_type": "fragment"
    }
   },
   "source": [
    "Note in the above example we must embed single quoted strings in the double quoted string."
   ]
  },
  {
   "cell_type": "markdown",
   "metadata": {
    "id": "SfuZ30qgzSDd",
    "slideshow": {
     "slide_type": "slide"
    }
   },
   "source": [
    "# Formatting Numbers\n",
    "\n",
    "It is important to be able to control the format of numbers during printing!\n",
    "\n",
    "This is one of those things I always have to look up to get right, this table is useful as a cheat sheet:\n",
    "\n",
    "https://mkaz.blog/code/python-string-format-cookbook/"
   ]
  },
  {
   "cell_type": "code",
   "execution_count": 23,
   "metadata": {
    "colab": {
     "base_uri": "https://localhost:8080/",
     "height": 34
    },
    "execution": {
     "iopub.execute_input": "2022-09-23T00:20:03.706990Z",
     "iopub.status.busy": "2022-09-23T00:20:03.706242Z",
     "iopub.status.idle": "2022-09-23T00:20:03.708825Z",
     "shell.execute_reply": "2022-09-23T00:20:03.709244Z"
    },
    "executionInfo": {
     "elapsed": 615,
     "status": "ok",
     "timestamp": 1571354377395,
     "user": {
      "displayName": "Benedict Paten",
      "photoUrl": "https://lh3.googleusercontent.com/a-/AAuE7mBMnWy8dDR7jyTHNy9tPaRx6DCyA3QKrIcuQ7R4=s64",
      "userId": "06399644931392855882"
     },
     "user_tz": 420
    },
    "id": "Kej77oYdI540",
    "outputId": "555063a7-033f-4690-98b0-18e43461d0ae",
    "slideshow": {
     "slide_type": "fragment"
    }
   },
   "outputs": [
    {
     "data": {
      "text/plain": [
       "'The number is: 0.9745000'"
      ]
     },
     "execution_count": 23,
     "metadata": {},
     "output_type": "execute_result"
    }
   ],
   "source": [
    "x = 0.9745\n",
    "\n",
    "f\"The number is: {x:.7f}\" # The : indicates that you're issuing a formatting command\n",
    "# the .7 says you want to seven decimal places, \n",
    "# f says the thing you're printing is a float"
   ]
  },
  {
   "cell_type": "code",
   "execution_count": 24,
   "metadata": {
    "execution": {
     "iopub.execute_input": "2022-09-23T00:20:03.713601Z",
     "iopub.status.busy": "2022-09-23T00:20:03.712873Z",
     "iopub.status.idle": "2022-09-23T00:20:03.716283Z",
     "shell.execute_reply": "2022-09-23T00:20:03.715826Z"
    },
    "slideshow": {
     "slide_type": "fragment"
    }
   },
   "outputs": [
    {
     "data": {
      "text/plain": [
       "'The number is: 0.9745000'"
      ]
     },
     "execution_count": 24,
     "metadata": {},
     "output_type": "execute_result"
    }
   ],
   "source": [
    "# We can also embed the number directly\n",
    "\n",
    "f\"The number is: {0.9745:.7f}\" # The same"
   ]
  },
  {
   "cell_type": "code",
   "execution_count": 25,
   "metadata": {
    "execution": {
     "iopub.execute_input": "2022-09-23T00:20:03.721584Z",
     "iopub.status.busy": "2022-09-23T00:20:03.720310Z",
     "iopub.status.idle": "2022-09-23T00:20:03.724098Z",
     "shell.execute_reply": "2022-09-23T00:20:03.724520Z"
    },
    "slideshow": {
     "slide_type": "fragment"
    }
   },
   "outputs": [
    {
     "data": {
      "text/plain": [
       "'The number is: 0.9745000'"
      ]
     },
     "execution_count": 25,
     "metadata": {},
     "output_type": "execute_result"
    }
   ],
   "source": [
    "# You can also use the number formatting commands with the format method\n",
    "\n",
    "\"The number is: {:.7f}\".format(0.9745) # The same"
   ]
  },
  {
   "cell_type": "markdown",
   "metadata": {
    "slideshow": {
     "slide_type": "subslide"
    }
   },
   "source": [
    "A couple more examples..."
   ]
  },
  {
   "cell_type": "code",
   "execution_count": 26,
   "metadata": {
    "colab": {
     "base_uri": "https://localhost:8080/",
     "height": 34
    },
    "execution": {
     "iopub.execute_input": "2022-09-23T00:20:03.729412Z",
     "iopub.status.busy": "2022-09-23T00:20:03.728306Z",
     "iopub.status.idle": "2022-09-23T00:20:03.732223Z",
     "shell.execute_reply": "2022-09-23T00:20:03.732869Z"
    },
    "executionInfo": {
     "elapsed": 562,
     "status": "ok",
     "timestamp": 1571354409251,
     "user": {
      "displayName": "Benedict Paten",
      "photoUrl": "https://lh3.googleusercontent.com/a-/AAuE7mBMnWy8dDR7jyTHNy9tPaRx6DCyA3QKrIcuQ7R4=s64",
      "userId": "06399644931392855882"
     },
     "user_tz": 420
    },
    "id": "EWKu3b0pKLkC",
    "outputId": "dd0d4171-b215-4e0f-8530-813730e61b86",
    "slideshow": {
     "slide_type": "fragment"
    }
   },
   "outputs": [
    {
     "data": {
      "text/plain": [
       "'+0.97'"
      ]
     },
     "execution_count": 26,
     "metadata": {},
     "output_type": "execute_result"
    }
   ],
   "source": [
    "f\"{0.9745:+.2f}\" # The + indicates to print a sign (either + or -)"
   ]
  },
  {
   "cell_type": "code",
   "execution_count": 27,
   "metadata": {
    "colab": {
     "base_uri": "https://localhost:8080/",
     "height": 34
    },
    "execution": {
     "iopub.execute_input": "2022-09-23T00:20:03.737725Z",
     "iopub.status.busy": "2022-09-23T00:20:03.736932Z",
     "iopub.status.idle": "2022-09-23T00:20:03.739776Z",
     "shell.execute_reply": "2022-09-23T00:20:03.740282Z"
    },
    "executionInfo": {
     "elapsed": 959,
     "status": "ok",
     "timestamp": 1571354441635,
     "user": {
      "displayName": "Benedict Paten",
      "photoUrl": "https://lh3.googleusercontent.com/a-/AAuE7mBMnWy8dDR7jyTHNy9tPaRx6DCyA3QKrIcuQ7R4=s64",
      "userId": "06399644931392855882"
     },
     "user_tz": 420
    },
    "id": "XOOfIWhVJwUI",
    "outputId": "6d9057b2-65f4-4a20-eea3-068752474ab9",
    "slideshow": {
     "slide_type": "fragment"
    }
   },
   "outputs": [
    {
     "data": {
      "text/plain": [
       "'00005'"
      ]
     },
     "execution_count": 27,
     "metadata": {},
     "output_type": "execute_result"
    }
   ],
   "source": [
    "f\"{5:0>5d}\" # the d indicates an integer\n",
    "# the 0>5 says pad the integer with 0s to make it have at least 5 characters"
   ]
  },
  {
   "cell_type": "markdown",
   "metadata": {
    "slideshow": {
     "slide_type": "fragment"
    }
   },
   "source": [
    "There is a lot more to learn about formatting numbers for printing, so refer to the cheat sheet and play with the standard to learn it better."
   ]
  },
  {
   "cell_type": "markdown",
   "metadata": {
    "slideshow": {
     "slide_type": "subslide"
    }
   },
   "source": [
    "# Challenge 3"
   ]
  },
  {
   "cell_type": "code",
   "execution_count": 28,
   "metadata": {
    "execution": {
     "iopub.execute_input": "2022-09-23T00:20:03.744492Z",
     "iopub.status.busy": "2022-09-23T00:20:03.743706Z",
     "iopub.status.idle": "2022-09-23T00:20:03.746565Z",
     "shell.execute_reply": "2022-09-23T00:20:03.746997Z"
    },
    "slideshow": {
     "slide_type": "fragment"
    }
   },
   "outputs": [
    {
     "name": "stdout",
     "output_type": "stream",
     "text": [
      "5.6872\n"
     ]
    }
   ],
   "source": [
    "# Complete the command to print '0005.69'\n",
    "print(f\"{5.6872}\")"
   ]
  },
  {
   "cell_type": "markdown",
   "metadata": {
    "id": "nx4iryO296kf",
    "slideshow": {
     "slide_type": "slide"
    }
   },
   "source": [
    "# Type Conversion"
   ]
  },
  {
   "cell_type": "code",
   "execution_count": 29,
   "metadata": {
    "colab": {
     "base_uri": "https://localhost:8080/",
     "height": 34
    },
    "execution": {
     "iopub.execute_input": "2022-09-23T00:20:03.751965Z",
     "iopub.status.busy": "2022-09-23T00:20:03.751229Z",
     "iopub.status.idle": "2022-09-23T00:20:03.754133Z",
     "shell.execute_reply": "2022-09-23T00:20:03.754566Z"
    },
    "executionInfo": {
     "elapsed": 469,
     "status": "ok",
     "timestamp": 1569539824065,
     "user": {
      "displayName": "Benedict Paten",
      "photoUrl": "",
      "userId": "02468802669323291213"
     },
     "user_tz": 420
    },
    "id": "6wtzEpU6hH4D",
    "outputId": "47fd552f-33fd-44cf-c5b4-5f91d608fdd7",
    "slideshow": {
     "slide_type": "fragment"
    }
   },
   "outputs": [
    {
     "data": {
      "text/plain": [
       "int"
      ]
     },
     "execution_count": 29,
     "metadata": {},
     "output_type": "execute_result"
    }
   ],
   "source": [
    "# It is useful to know that int, float and string types can be cross converted\n",
    "\n",
    "type( int('5') ) # This int() turns the string into an integer "
   ]
  },
  {
   "cell_type": "code",
   "execution_count": 30,
   "metadata": {
    "colab": {
     "base_uri": "https://localhost:8080/",
     "height": 34
    },
    "execution": {
     "iopub.execute_input": "2022-09-23T00:20:03.758939Z",
     "iopub.status.busy": "2022-09-23T00:20:03.758224Z",
     "iopub.status.idle": "2022-09-23T00:20:03.761018Z",
     "shell.execute_reply": "2022-09-23T00:20:03.761551Z"
    },
    "executionInfo": {
     "elapsed": 486,
     "status": "ok",
     "timestamp": 1569539847816,
     "user": {
      "displayName": "Benedict Paten",
      "photoUrl": "",
      "userId": "02468802669323291213"
     },
     "user_tz": 420
    },
    "id": "3_CzAiTvhzXQ",
    "outputId": "748b4210-804e-404c-b4b0-ba24889cb259",
    "slideshow": {
     "slide_type": "fragment"
    }
   },
   "outputs": [
    {
     "data": {
      "text/plain": [
       "str"
      ]
     },
     "execution_count": 30,
     "metadata": {},
     "output_type": "execute_result"
    }
   ],
   "source": [
    "type( str(5) ) # We can also go back the other way"
   ]
  },
  {
   "cell_type": "code",
   "execution_count": 31,
   "metadata": {
    "colab": {
     "base_uri": "https://localhost:8080/",
     "height": 166
    },
    "execution": {
     "iopub.execute_input": "2022-09-23T00:20:03.766211Z",
     "iopub.status.busy": "2022-09-23T00:20:03.765021Z",
     "iopub.status.idle": "2022-09-23T00:20:03.827391Z",
     "shell.execute_reply": "2022-09-23T00:20:03.827843Z"
    },
    "executionInfo": {
     "elapsed": 466,
     "status": "error",
     "timestamp": 1569539868997,
     "user": {
      "displayName": "Benedict Paten",
      "photoUrl": "",
      "userId": "02468802669323291213"
     },
     "user_tz": 420
    },
    "id": "7galkn84iCsf",
    "outputId": "ed75be1f-2c32-429e-a29a-3f5bb02eaf45",
    "slideshow": {
     "slide_type": "subslide"
    }
   },
   "outputs": [
    {
     "ename": "ValueError",
     "evalue": "invalid literal for int() with base 10: 'foo'",
     "output_type": "error",
     "traceback": [
      "\u001b[0;31m---------------------------------------------------------------------------\u001b[0m",
      "\u001b[0;31mValueError\u001b[0m                                Traceback (most recent call last)",
      "\u001b[0;32m<ipython-input-31-908385b0227a>\u001b[0m in \u001b[0;36m<module>\u001b[0;34m\u001b[0m\n\u001b[1;32m      1\u001b[0m \u001b[0;31m# Of course, this doesn't work because int() doesn't how\u001b[0m\u001b[0;34m\u001b[0m\u001b[0;34m\u001b[0m\u001b[0;34m\u001b[0m\u001b[0m\n\u001b[1;32m      2\u001b[0m \u001b[0;31m# to interpret 'foo'\u001b[0m\u001b[0;34m\u001b[0m\u001b[0;34m\u001b[0m\u001b[0;34m\u001b[0m\u001b[0m\n\u001b[0;32m----> 3\u001b[0;31m \u001b[0mint\u001b[0m\u001b[0;34m(\u001b[0m\u001b[0;34m\"foo\"\u001b[0m\u001b[0;34m)\u001b[0m\u001b[0;34m\u001b[0m\u001b[0;34m\u001b[0m\u001b[0m\n\u001b[0m",
      "\u001b[0;31mValueError\u001b[0m: invalid literal for int() with base 10: 'foo'"
     ]
    }
   ],
   "source": [
    "# Of course, this doesn't work because int() doesn't how\n",
    "# to interpret 'foo'\n",
    "int(\"foo\")"
   ]
  },
  {
   "cell_type": "code",
   "execution_count": 32,
   "metadata": {
    "colab": {
     "base_uri": "https://localhost:8080/",
     "height": 34
    },
    "execution": {
     "iopub.execute_input": "2022-09-23T00:20:03.831907Z",
     "iopub.status.busy": "2022-09-23T00:20:03.831207Z",
     "iopub.status.idle": "2022-09-23T00:20:03.834246Z",
     "shell.execute_reply": "2022-09-23T00:20:03.834709Z"
    },
    "executionInfo": {
     "elapsed": 535,
     "status": "ok",
     "timestamp": 1569539921108,
     "user": {
      "displayName": "Benedict Paten",
      "photoUrl": "",
      "userId": "02468802669323291213"
     },
     "user_tz": 420
    },
    "id": "b-su-iJhiVUg",
    "outputId": "f5aef519-2a67-447a-b758-0e95e30ad25d",
    "slideshow": {
     "slide_type": "subslide"
    }
   },
   "outputs": [
    {
     "data": {
      "text/plain": [
       "5"
      ]
     },
     "execution_count": 32,
     "metadata": {},
     "output_type": "execute_result"
    }
   ],
   "source": [
    "# We can also convert between floats and ints, doing \n",
    "# rounding as we go float --> int\n",
    "int(5.999)"
   ]
  },
  {
   "cell_type": "code",
   "execution_count": 33,
   "metadata": {
    "colab": {
     "base_uri": "https://localhost:8080/",
     "height": 34
    },
    "execution": {
     "iopub.execute_input": "2022-09-23T00:20:03.838815Z",
     "iopub.status.busy": "2022-09-23T00:20:03.838148Z",
     "iopub.status.idle": "2022-09-23T00:20:03.840752Z",
     "shell.execute_reply": "2022-09-23T00:20:03.841273Z"
    },
    "executionInfo": {
     "elapsed": 497,
     "status": "ok",
     "timestamp": 1569539932138,
     "user": {
      "displayName": "Benedict Paten",
      "photoUrl": "",
      "userId": "02468802669323291213"
     },
     "user_tz": 420
    },
    "id": "z6ISL0_Hif7J",
    "outputId": "ae78ec2d-ec9a-4f19-cfde-5368aa9e7771",
    "slideshow": {
     "slide_type": "subslide"
    }
   },
   "outputs": [
    {
     "data": {
      "text/plain": [
       "5.0"
      ]
     },
     "execution_count": 33,
     "metadata": {},
     "output_type": "execute_result"
    }
   ],
   "source": [
    "float(5)"
   ]
  },
  {
   "cell_type": "markdown",
   "metadata": {
    "id": "MiqSwuSkggbP",
    "slideshow": {
     "slide_type": "slide"
    }
   },
   "source": [
    "# Automatic Type Conversion"
   ]
  },
  {
   "cell_type": "code",
   "execution_count": 34,
   "metadata": {
    "colab": {
     "base_uri": "https://localhost:8080/"
    },
    "execution": {
     "iopub.execute_input": "2022-09-23T00:20:03.845436Z",
     "iopub.status.busy": "2022-09-23T00:20:03.844779Z",
     "iopub.status.idle": "2022-09-23T00:20:03.847526Z",
     "shell.execute_reply": "2022-09-23T00:20:03.847936Z"
    },
    "executionInfo": {
     "elapsed": 457,
     "status": "ok",
     "timestamp": 1607393155959,
     "user": {
      "displayName": "Benedict Paten",
      "photoUrl": "https://lh3.googleusercontent.com/a-/AOh14Gh2rYrrH6yoNnUp0Oj4p4ouybc6ZcWGyPmKFtIY=s64",
      "userId": "06399644931392855882"
     },
     "user_tz": 480
    },
    "id": "-tRC_KvLQznp",
    "outputId": "0af55f0a-757a-4b36-a73b-93e00d1358cb",
    "slideshow": {
     "slide_type": "fragment"
    }
   },
   "outputs": [
    {
     "data": {
      "text/plain": [
       "int"
      ]
     },
     "execution_count": 34,
     "metadata": {},
     "output_type": "execute_result"
    }
   ],
   "source": [
    "# Remember everything in Python has a type, discoverable with \"type()\"\n",
    "\n",
    "# What's the type of x?\n",
    "x = 6\n",
    "\n",
    "type(x)"
   ]
  },
  {
   "cell_type": "code",
   "execution_count": 35,
   "metadata": {
    "colab": {
     "base_uri": "https://localhost:8080/"
    },
    "execution": {
     "iopub.execute_input": "2022-09-23T00:20:03.852189Z",
     "iopub.status.busy": "2022-09-23T00:20:03.851463Z",
     "iopub.status.idle": "2022-09-23T00:20:03.854438Z",
     "shell.execute_reply": "2022-09-23T00:20:03.854920Z"
    },
    "executionInfo": {
     "elapsed": 383,
     "status": "ok",
     "timestamp": 1607393157453,
     "user": {
      "displayName": "Benedict Paten",
      "photoUrl": "https://lh3.googleusercontent.com/a-/AOh14Gh2rYrrH6yoNnUp0Oj4p4ouybc6ZcWGyPmKFtIY=s64",
      "userId": "06399644931392855882"
     },
     "user_tz": 480
    },
    "id": "PZLtFsLwQ1Xk",
    "outputId": "7abf453e-57db-4be9-8fc4-0e70c1356a04",
    "slideshow": {
     "slide_type": "fragment"
    }
   },
   "outputs": [
    {
     "data": {
      "text/plain": [
       "int"
      ]
     },
     "execution_count": 35,
     "metadata": {},
     "output_type": "execute_result"
    }
   ],
   "source": [
    "y = 5\n",
    "\n",
    "type(y)"
   ]
  },
  {
   "cell_type": "code",
   "execution_count": 36,
   "metadata": {
    "colab": {
     "base_uri": "https://localhost:8080/"
    },
    "execution": {
     "iopub.execute_input": "2022-09-23T00:20:03.859363Z",
     "iopub.status.busy": "2022-09-23T00:20:03.858733Z",
     "iopub.status.idle": "2022-09-23T00:20:03.861863Z",
     "shell.execute_reply": "2022-09-23T00:20:03.861414Z"
    },
    "executionInfo": {
     "elapsed": 383,
     "status": "ok",
     "timestamp": 1607393158678,
     "user": {
      "displayName": "Benedict Paten",
      "photoUrl": "https://lh3.googleusercontent.com/a-/AOh14Gh2rYrrH6yoNnUp0Oj4p4ouybc6ZcWGyPmKFtIY=s64",
      "userId": "06399644931392855882"
     },
     "user_tz": 480
    },
    "id": "vvlSITbvQmp8",
    "outputId": "c0c32394-6952-46c9-c01b-1630872dabc9",
    "slideshow": {
     "slide_type": "fragment"
    }
   },
   "outputs": [
    {
     "data": {
      "text/plain": [
       "int"
      ]
     },
     "execution_count": 36,
     "metadata": {},
     "output_type": "execute_result"
    }
   ],
   "source": [
    "# So what's the type of our expression result?\n",
    "\n",
    "type(x // y)"
   ]
  },
  {
   "cell_type": "code",
   "execution_count": 37,
   "metadata": {
    "colab": {
     "base_uri": "https://localhost:8080/"
    },
    "execution": {
     "iopub.execute_input": "2022-09-23T00:20:03.866072Z",
     "iopub.status.busy": "2022-09-23T00:20:03.865413Z",
     "iopub.status.idle": "2022-09-23T00:20:03.868158Z",
     "shell.execute_reply": "2022-09-23T00:20:03.868566Z"
    },
    "executionInfo": {
     "elapsed": 386,
     "status": "ok",
     "timestamp": 1607393163405,
     "user": {
      "displayName": "Benedict Paten",
      "photoUrl": "https://lh3.googleusercontent.com/a-/AOh14Gh2rYrrH6yoNnUp0Oj4p4ouybc6ZcWGyPmKFtIY=s64",
      "userId": "06399644931392855882"
     },
     "user_tz": 480
    },
    "id": "fL7D8cPVQu7T",
    "outputId": "b7289a02-c419-4530-95d8-2e842547dff3",
    "slideshow": {
     "slide_type": "subslide"
    }
   },
   "outputs": [
    {
     "data": {
      "text/plain": [
       "float"
      ]
     },
     "execution_count": 37,
     "metadata": {},
     "output_type": "execute_result"
    }
   ],
   "source": [
    "type(x / y) # And this one ?"
   ]
  },
  {
   "cell_type": "code",
   "execution_count": 38,
   "metadata": {
    "colab": {
     "base_uri": "https://localhost:8080/"
    },
    "execution": {
     "iopub.execute_input": "2022-09-23T00:20:03.872836Z",
     "iopub.status.busy": "2022-09-23T00:20:03.872113Z",
     "iopub.status.idle": "2022-09-23T00:20:03.875098Z",
     "shell.execute_reply": "2022-09-23T00:20:03.875518Z"
    },
    "executionInfo": {
     "elapsed": 452,
     "status": "ok",
     "timestamp": 1607393165002,
     "user": {
      "displayName": "Benedict Paten",
      "photoUrl": "https://lh3.googleusercontent.com/a-/AOh14Gh2rYrrH6yoNnUp0Oj4p4ouybc6ZcWGyPmKFtIY=s64",
      "userId": "06399644931392855882"
     },
     "user_tz": 480
    },
    "id": "ak9CmTIJREvA",
    "outputId": "33470a33-d35a-47af-a912-a653813f78d9",
    "slideshow": {
     "slide_type": "subslide"
    }
   },
   "outputs": [
    {
     "data": {
      "text/plain": [
       "float"
      ]
     },
     "execution_count": 38,
     "metadata": {},
     "output_type": "execute_result"
    }
   ],
   "source": [
    "type(x + 0.0) # Python will generally automatically switch into floating point to avoid losing the decimal"
   ]
  },
  {
   "cell_type": "markdown",
   "metadata": {
    "id": "VNemVpofRKmr",
    "slideshow": {
     "slide_type": "fragment"
    }
   },
   "source": [
    "In general, Python will try to convert into floating point if needed. However, you can use float() and int() to make it do what you want."
   ]
  },
  {
   "cell_type": "markdown",
   "metadata": {
    "slideshow": {
     "slide_type": "subslide"
    }
   },
   "source": [
    "# Challenge 4"
   ]
  },
  {
   "cell_type": "code",
   "execution_count": 39,
   "metadata": {
    "execution": {
     "iopub.execute_input": "2022-09-23T00:20:03.879751Z",
     "iopub.status.busy": "2022-09-23T00:20:03.879081Z",
     "iopub.status.idle": "2022-09-23T00:20:03.881705Z",
     "shell.execute_reply": "2022-09-23T00:20:03.882110Z"
    },
    "slideshow": {
     "slide_type": "fragment"
    }
   },
   "outputs": [
    {
     "data": {
      "text/plain": [
       "1.5999999999999996"
      ]
     },
     "execution_count": 39,
     "metadata": {},
     "output_type": "execute_result"
    }
   ],
   "source": [
    "# What is the type and value of?:\n",
    "5 % 2\n",
    "# And ?\n",
    "5.6 % 2"
   ]
  },
  {
   "cell_type": "markdown",
   "metadata": {
    "id": "GFggsPxW6lqW",
    "slideshow": {
     "slide_type": "slide"
    }
   },
   "source": [
    "# More Input"
   ]
  },
  {
   "cell_type": "code",
   "execution_count": 40,
   "metadata": {
    "colab": {
     "base_uri": "https://localhost:8080/"
    },
    "execution": {
     "iopub.execute_input": "2022-09-23T00:20:03.886010Z",
     "iopub.status.busy": "2022-09-23T00:20:03.885249Z",
     "iopub.status.idle": "2022-09-23T00:20:03.891693Z",
     "shell.execute_reply": "2022-09-23T00:20:03.892381Z"
    },
    "executionInfo": {
     "elapsed": 2440,
     "status": "ok",
     "timestamp": 1607393280148,
     "user": {
      "displayName": "Benedict Paten",
      "photoUrl": "https://lh3.googleusercontent.com/a-/AOh14Gh2rYrrH6yoNnUp0Oj4p4ouybc6ZcWGyPmKFtIY=s64",
      "userId": "06399644931392855882"
     },
     "user_tz": 480
    },
    "id": "Kbsy1ieS6lqY",
    "outputId": "5c1b3879-f9c3-4c8e-b153-bb66d6e75229",
    "slideshow": {
     "slide_type": "fragment"
    }
   },
   "outputs": [
    {
     "ename": "StdinNotImplementedError",
     "evalue": "raw_input was called, but this frontend does not support input requests.",
     "output_type": "error",
     "traceback": [
      "\u001b[0;31m---------------------------------------------------------------------------\u001b[0m",
      "\u001b[0;31mStdinNotImplementedError\u001b[0m                  Traceback (most recent call last)",
      "\u001b[0;32m<ipython-input-40-9522bd922f3c>\u001b[0m in \u001b[0;36m<module>\u001b[0;34m\u001b[0m\n\u001b[1;32m      1\u001b[0m \u001b[0;31m# Recall:\u001b[0m\u001b[0;34m\u001b[0m\u001b[0;34m\u001b[0m\u001b[0;34m\u001b[0m\u001b[0m\n\u001b[1;32m      2\u001b[0m \u001b[0;34m\u001b[0m\u001b[0m\n\u001b[0;32m----> 3\u001b[0;31m \u001b[0mname\u001b[0m \u001b[0;34m=\u001b[0m \u001b[0minput\u001b[0m\u001b[0;34m(\u001b[0m\u001b[0;34m\"What's your name? \"\u001b[0m\u001b[0;34m)\u001b[0m\u001b[0;34m\u001b[0m\u001b[0;34m\u001b[0m\u001b[0m\n\u001b[0m\u001b[1;32m      4\u001b[0m \u001b[0;34m\u001b[0m\u001b[0m\n\u001b[1;32m      5\u001b[0m \u001b[0mprint\u001b[0m\u001b[0;34m(\u001b[0m\u001b[0;34m\"Hello\"\u001b[0m\u001b[0;34m,\u001b[0m \u001b[0mname\u001b[0m\u001b[0;34m)\u001b[0m\u001b[0;34m\u001b[0m\u001b[0;34m\u001b[0m\u001b[0m\n",
      "\u001b[0;32m~/opt/anaconda3/lib/python3.8/site-packages/ipykernel/kernelbase.py\u001b[0m in \u001b[0;36mraw_input\u001b[0;34m(self, prompt)\u001b[0m\n\u001b[1;32m    855\u001b[0m         \"\"\"\n\u001b[1;32m    856\u001b[0m         \u001b[0;32mif\u001b[0m \u001b[0;32mnot\u001b[0m \u001b[0mself\u001b[0m\u001b[0;34m.\u001b[0m\u001b[0m_allow_stdin\u001b[0m\u001b[0;34m:\u001b[0m\u001b[0;34m\u001b[0m\u001b[0;34m\u001b[0m\u001b[0m\n\u001b[0;32m--> 857\u001b[0;31m             raise StdinNotImplementedError(\n\u001b[0m\u001b[1;32m    858\u001b[0m                 \u001b[0;34m\"raw_input was called, but this frontend does not support input requests.\"\u001b[0m\u001b[0;34m\u001b[0m\u001b[0;34m\u001b[0m\u001b[0m\n\u001b[1;32m    859\u001b[0m             )\n",
      "\u001b[0;31mStdinNotImplementedError\u001b[0m: raw_input was called, but this frontend does not support input requests."
     ]
    }
   ],
   "source": [
    "# Recall:\n",
    "\n",
    "name = input(\"What's your name? \")\n",
    "\n",
    "print(\"Hello\", name)"
   ]
  },
  {
   "cell_type": "code",
   "execution_count": 41,
   "metadata": {
    "colab": {
     "base_uri": "https://localhost:8080/"
    },
    "execution": {
     "iopub.execute_input": "2022-09-23T00:20:03.896286Z",
     "iopub.status.busy": "2022-09-23T00:20:03.895694Z",
     "iopub.status.idle": "2022-09-23T00:20:03.901630Z",
     "shell.execute_reply": "2022-09-23T00:20:03.902155Z"
    },
    "executionInfo": {
     "elapsed": 2705,
     "status": "ok",
     "timestamp": 1610495174610,
     "user": {
      "displayName": "Benedict Paten",
      "photoUrl": "https://lh3.googleusercontent.com/a-/AOh14Gh2rYrrH6yoNnUp0Oj4p4ouybc6ZcWGyPmKFtIY=s64",
      "userId": "06399644931392855882"
     },
     "user_tz": 480
    },
    "id": "olkcXHHz6lqg",
    "outputId": "5efa2d35-6c2f-4f23-a0bd-265c3507cd40",
    "slideshow": {
     "slide_type": "subslide"
    }
   },
   "outputs": [
    {
     "ename": "StdinNotImplementedError",
     "evalue": "raw_input was called, but this frontend does not support input requests.",
     "output_type": "error",
     "traceback": [
      "\u001b[0;31m---------------------------------------------------------------------------\u001b[0m",
      "\u001b[0;31mStdinNotImplementedError\u001b[0m                  Traceback (most recent call last)",
      "\u001b[0;32m<ipython-input-41-afac642b1648>\u001b[0m in \u001b[0;36m<module>\u001b[0;34m\u001b[0m\n\u001b[1;32m      3\u001b[0m \u001b[0;31m# We can use type conversion to create numbers\u001b[0m\u001b[0;34m\u001b[0m\u001b[0;34m\u001b[0m\u001b[0;34m\u001b[0m\u001b[0m\n\u001b[1;32m      4\u001b[0m \u001b[0;34m\u001b[0m\u001b[0m\n\u001b[0;32m----> 5\u001b[0;31m \u001b[0mvalue1\u001b[0m \u001b[0;34m=\u001b[0m \u001b[0mint\u001b[0m\u001b[0;34m(\u001b[0m\u001b[0minput\u001b[0m\u001b[0;34m(\u001b[0m\u001b[0;34m\"Enter a number: \"\u001b[0m\u001b[0;34m)\u001b[0m\u001b[0;34m)\u001b[0m \u001b[0;31m# Read a first number\u001b[0m\u001b[0;34m\u001b[0m\u001b[0;34m\u001b[0m\u001b[0m\n\u001b[0m\u001b[1;32m      6\u001b[0m \u001b[0;31m# from the user\u001b[0m\u001b[0;34m\u001b[0m\u001b[0;34m\u001b[0m\u001b[0;34m\u001b[0m\u001b[0m\n\u001b[1;32m      7\u001b[0m \u001b[0;34m\u001b[0m\u001b[0m\n",
      "\u001b[0;32m~/opt/anaconda3/lib/python3.8/site-packages/ipykernel/kernelbase.py\u001b[0m in \u001b[0;36mraw_input\u001b[0;34m(self, prompt)\u001b[0m\n\u001b[1;32m    855\u001b[0m         \"\"\"\n\u001b[1;32m    856\u001b[0m         \u001b[0;32mif\u001b[0m \u001b[0;32mnot\u001b[0m \u001b[0mself\u001b[0m\u001b[0;34m.\u001b[0m\u001b[0m_allow_stdin\u001b[0m\u001b[0;34m:\u001b[0m\u001b[0;34m\u001b[0m\u001b[0;34m\u001b[0m\u001b[0m\n\u001b[0;32m--> 857\u001b[0;31m             raise StdinNotImplementedError(\n\u001b[0m\u001b[1;32m    858\u001b[0m                 \u001b[0;34m\"raw_input was called, but this frontend does not support input requests.\"\u001b[0m\u001b[0;34m\u001b[0m\u001b[0;34m\u001b[0m\u001b[0m\n\u001b[1;32m    859\u001b[0m             )\n",
      "\u001b[0;31mStdinNotImplementedError\u001b[0m: raw_input was called, but this frontend does not support input requests."
     ]
    }
   ],
   "source": [
    "# Input always creates a string.\n",
    "\n",
    "# We can use type conversion to create numbers\n",
    "\n",
    "value1 = int(input(\"Enter a number: \")) # Read a first number\n",
    "# from the user\n",
    "\n",
    "value2 = int(input(\"Enter another number: \")) # Read a second number\n",
    "# from the user\n",
    "\n",
    "print(\"The sum of your two numbers is: \", value1 + value2)"
   ]
  },
  {
   "cell_type": "markdown",
   "metadata": {
    "id": "V4a91aOq6lql",
    "slideshow": {
     "slide_type": "fragment"
    }
   },
   "source": [
    "* Note: input(), like print(), str(), int(), type() is an example of a function, we'll come back to how these work soon"
   ]
  },
  {
   "cell_type": "markdown",
   "metadata": {
    "slideshow": {
     "slide_type": "subslide"
    }
   },
   "source": [
    "# Challenge 5"
   ]
  },
  {
   "cell_type": "code",
   "execution_count": 42,
   "metadata": {
    "execution": {
     "iopub.execute_input": "2022-09-23T00:20:03.906336Z",
     "iopub.status.busy": "2022-09-23T00:20:03.905741Z",
     "iopub.status.idle": "2022-09-23T00:20:03.911443Z",
     "shell.execute_reply": "2022-09-23T00:20:03.911889Z"
    },
    "slideshow": {
     "slide_type": "fragment"
    }
   },
   "outputs": [
    {
     "ename": "StdinNotImplementedError",
     "evalue": "raw_input was called, but this frontend does not support input requests.",
     "output_type": "error",
     "traceback": [
      "\u001b[0;31m---------------------------------------------------------------------------\u001b[0m",
      "\u001b[0;31mStdinNotImplementedError\u001b[0m                  Traceback (most recent call last)",
      "\u001b[0;32m<ipython-input-42-900e6713979c>\u001b[0m in \u001b[0;36m<module>\u001b[0;34m\u001b[0m\n\u001b[1;32m      1\u001b[0m \u001b[0;31m# Adapt the below program to read in floating point numbers:\u001b[0m\u001b[0;34m\u001b[0m\u001b[0;34m\u001b[0m\u001b[0;34m\u001b[0m\u001b[0m\n\u001b[1;32m      2\u001b[0m \u001b[0;34m\u001b[0m\u001b[0m\n\u001b[0;32m----> 3\u001b[0;31m \u001b[0mvalue1\u001b[0m \u001b[0;34m=\u001b[0m \u001b[0mint\u001b[0m\u001b[0;34m(\u001b[0m\u001b[0minput\u001b[0m\u001b[0;34m(\u001b[0m\u001b[0;34m\"Enter a number: \"\u001b[0m\u001b[0;34m)\u001b[0m\u001b[0;34m)\u001b[0m \u001b[0;31m# Read a first number\u001b[0m\u001b[0;34m\u001b[0m\u001b[0;34m\u001b[0m\u001b[0m\n\u001b[0m\u001b[1;32m      4\u001b[0m \u001b[0;31m# from the user\u001b[0m\u001b[0;34m\u001b[0m\u001b[0;34m\u001b[0m\u001b[0;34m\u001b[0m\u001b[0m\n\u001b[1;32m      5\u001b[0m \u001b[0;34m\u001b[0m\u001b[0m\n",
      "\u001b[0;32m~/opt/anaconda3/lib/python3.8/site-packages/ipykernel/kernelbase.py\u001b[0m in \u001b[0;36mraw_input\u001b[0;34m(self, prompt)\u001b[0m\n\u001b[1;32m    855\u001b[0m         \"\"\"\n\u001b[1;32m    856\u001b[0m         \u001b[0;32mif\u001b[0m \u001b[0;32mnot\u001b[0m \u001b[0mself\u001b[0m\u001b[0;34m.\u001b[0m\u001b[0m_allow_stdin\u001b[0m\u001b[0;34m:\u001b[0m\u001b[0;34m\u001b[0m\u001b[0;34m\u001b[0m\u001b[0m\n\u001b[0;32m--> 857\u001b[0;31m             raise StdinNotImplementedError(\n\u001b[0m\u001b[1;32m    858\u001b[0m                 \u001b[0;34m\"raw_input was called, but this frontend does not support input requests.\"\u001b[0m\u001b[0;34m\u001b[0m\u001b[0;34m\u001b[0m\u001b[0m\n\u001b[1;32m    859\u001b[0m             )\n",
      "\u001b[0;31mStdinNotImplementedError\u001b[0m: raw_input was called, but this frontend does not support input requests."
     ]
    }
   ],
   "source": [
    "# Adapt the below program to read in floating point numbers:\n",
    "\n",
    "value1 = int(input(\"Enter a number: \")) # Read a first number\n",
    "# from the user\n",
    "\n",
    "value2 = int(input(\"Enter another number: \")) # Read a second number\n",
    "# from the user\n",
    "\n",
    "print(\"The sum of your two numbers is: \", value1 + value2)"
   ]
  },
  {
   "cell_type": "markdown",
   "metadata": {
    "id": "MID_5W3JHkY8",
    "slideshow": {
     "slide_type": "slide"
    }
   },
   "source": [
    "# List Basics\n",
    "\n",
    "Python lists are sequences of objects"
   ]
  },
  {
   "cell_type": "code",
   "execution_count": 43,
   "metadata": {
    "execution": {
     "iopub.execute_input": "2022-09-23T00:20:03.915517Z",
     "iopub.status.busy": "2022-09-23T00:20:03.914929Z",
     "iopub.status.idle": "2022-09-23T00:20:03.916903Z",
     "shell.execute_reply": "2022-09-23T00:20:03.917361Z"
    },
    "id": "7jpmuhZ2H9Mj",
    "slideshow": {
     "slide_type": "fragment"
    }
   },
   "outputs": [],
   "source": [
    "x = [ 1, 8, \"hello\"] # Python lists are sequences of objects\n",
    "\n",
    "# They are specified using this square bracket notation"
   ]
  },
  {
   "cell_type": "code",
   "execution_count": 44,
   "metadata": {
    "colab": {
     "base_uri": "https://localhost:8080/"
    },
    "execution": {
     "iopub.execute_input": "2022-09-23T00:20:03.921525Z",
     "iopub.status.busy": "2022-09-23T00:20:03.920824Z",
     "iopub.status.idle": "2022-09-23T00:20:03.923519Z",
     "shell.execute_reply": "2022-09-23T00:20:03.924013Z"
    },
    "executionInfo": {
     "elapsed": 394,
     "status": "ok",
     "timestamp": 1610495395337,
     "user": {
      "displayName": "Benedict Paten",
      "photoUrl": "https://lh3.googleusercontent.com/a-/AOh14Gh2rYrrH6yoNnUp0Oj4p4ouybc6ZcWGyPmKFtIY=s64",
      "userId": "06399644931392855882"
     },
     "user_tz": 480
    },
    "id": "L404R-wpIJNB",
    "outputId": "d53d4067-5f3c-4142-c3e4-6580d28b6143",
    "slideshow": {
     "slide_type": "fragment"
    }
   },
   "outputs": [
    {
     "data": {
      "text/plain": [
       "3"
      ]
     },
     "execution_count": 44,
     "metadata": {},
     "output_type": "execute_result"
    }
   ],
   "source": [
    "len(x)  # The length of the list"
   ]
  },
  {
   "cell_type": "code",
   "execution_count": 45,
   "metadata": {
    "colab": {
     "base_uri": "https://localhost:8080/"
    },
    "execution": {
     "iopub.execute_input": "2022-09-23T00:20:03.928425Z",
     "iopub.status.busy": "2022-09-23T00:20:03.927506Z",
     "iopub.status.idle": "2022-09-23T00:20:03.930410Z",
     "shell.execute_reply": "2022-09-23T00:20:03.930824Z"
    },
    "executionInfo": {
     "elapsed": 338,
     "status": "ok",
     "timestamp": 1607393851269,
     "user": {
      "displayName": "Benedict Paten",
      "photoUrl": "https://lh3.googleusercontent.com/a-/AOh14Gh2rYrrH6yoNnUp0Oj4p4ouybc6ZcWGyPmKFtIY=s64",
      "userId": "06399644931392855882"
     },
     "user_tz": 480
    },
    "id": "P8ZaQvcFIMJn",
    "outputId": "5b08d31e-3b34-4d5a-9072-d171382ed479",
    "slideshow": {
     "slide_type": "subslide"
    }
   },
   "outputs": [
    {
     "name": "stdout",
     "output_type": "stream",
     "text": [
      "[1, 8, 'hello']\n"
     ]
    }
   ],
   "source": [
    "print(x) # Printing a list shows it contents"
   ]
  },
  {
   "cell_type": "code",
   "execution_count": 46,
   "metadata": {
    "colab": {
     "base_uri": "https://localhost:8080/"
    },
    "execution": {
     "iopub.execute_input": "2022-09-23T00:20:03.935604Z",
     "iopub.status.busy": "2022-09-23T00:20:03.934666Z",
     "iopub.status.idle": "2022-09-23T00:20:03.937979Z",
     "shell.execute_reply": "2022-09-23T00:20:03.938406Z"
    },
    "executionInfo": {
     "elapsed": 338,
     "status": "ok",
     "timestamp": 1607393852471,
     "user": {
      "displayName": "Benedict Paten",
      "photoUrl": "https://lh3.googleusercontent.com/a-/AOh14Gh2rYrrH6yoNnUp0Oj4p4ouybc6ZcWGyPmKFtIY=s64",
      "userId": "06399644931392855882"
     },
     "user_tz": 480
    },
    "id": "z7kWX_iuIXnf",
    "outputId": "e20c4700-f52f-4208-ea21-2c018f108ede",
    "slideshow": {
     "slide_type": "subslide"
    }
   },
   "outputs": [
    {
     "data": {
      "text/plain": [
       "1"
      ]
     },
     "execution_count": 46,
     "metadata": {},
     "output_type": "execute_result"
    }
   ],
   "source": [
    "x[0] # The first element of the list, Python lists are INDEXED FROM 0 "
   ]
  },
  {
   "cell_type": "code",
   "execution_count": 47,
   "metadata": {
    "colab": {
     "base_uri": "https://localhost:8080/"
    },
    "execution": {
     "iopub.execute_input": "2022-09-23T00:20:03.943198Z",
     "iopub.status.busy": "2022-09-23T00:20:03.942348Z",
     "iopub.status.idle": "2022-09-23T00:20:03.945672Z",
     "shell.execute_reply": "2022-09-23T00:20:03.946133Z"
    },
    "executionInfo": {
     "elapsed": 326,
     "status": "ok",
     "timestamp": 1607393853731,
     "user": {
      "displayName": "Benedict Paten",
      "photoUrl": "https://lh3.googleusercontent.com/a-/AOh14Gh2rYrrH6yoNnUp0Oj4p4ouybc6ZcWGyPmKFtIY=s64",
      "userId": "06399644931392855882"
     },
     "user_tz": 480
    },
    "id": "4zxPY5pvIdcT",
    "outputId": "cd79b1fd-379a-449b-99f7-0327fe4c87ed",
    "slideshow": {
     "slide_type": "fragment"
    }
   },
   "outputs": [
    {
     "data": {
      "text/plain": [
       "8"
      ]
     },
     "execution_count": 47,
     "metadata": {},
     "output_type": "execute_result"
    }
   ],
   "source": [
    "x[1] # The second"
   ]
  },
  {
   "cell_type": "code",
   "execution_count": 48,
   "metadata": {
    "colab": {
     "base_uri": "https://localhost:8080/",
     "height": 35
    },
    "execution": {
     "iopub.execute_input": "2022-09-23T00:20:03.951056Z",
     "iopub.status.busy": "2022-09-23T00:20:03.950077Z",
     "iopub.status.idle": "2022-09-23T00:20:03.953729Z",
     "shell.execute_reply": "2022-09-23T00:20:03.954148Z"
    },
    "executionInfo": {
     "elapsed": 353,
     "status": "ok",
     "timestamp": 1607393855019,
     "user": {
      "displayName": "Benedict Paten",
      "photoUrl": "https://lh3.googleusercontent.com/a-/AOh14Gh2rYrrH6yoNnUp0Oj4p4ouybc6ZcWGyPmKFtIY=s64",
      "userId": "06399644931392855882"
     },
     "user_tz": 480
    },
    "id": "j5sUzBpxIfJy",
    "outputId": "b36d07aa-349f-47c7-82e3-865c3d510fc3",
    "slideshow": {
     "slide_type": "fragment"
    }
   },
   "outputs": [
    {
     "data": {
      "text/plain": [
       "'hello'"
      ]
     },
     "execution_count": 48,
     "metadata": {},
     "output_type": "execute_result"
    }
   ],
   "source": [
    "x[2] # The third"
   ]
  },
  {
   "cell_type": "code",
   "execution_count": 49,
   "metadata": {
    "colab": {
     "base_uri": "https://localhost:8080/"
    },
    "execution": {
     "iopub.execute_input": "2022-09-23T00:20:03.958674Z",
     "iopub.status.busy": "2022-09-23T00:20:03.958050Z",
     "iopub.status.idle": "2022-09-23T00:20:03.960459Z",
     "shell.execute_reply": "2022-09-23T00:20:03.960929Z"
    },
    "executionInfo": {
     "elapsed": 343,
     "status": "ok",
     "timestamp": 1607393856573,
     "user": {
      "displayName": "Benedict Paten",
      "photoUrl": "https://lh3.googleusercontent.com/a-/AOh14Gh2rYrrH6yoNnUp0Oj4p4ouybc6ZcWGyPmKFtIY=s64",
      "userId": "06399644931392855882"
     },
     "user_tz": 480
    },
    "id": "Mal2A87YImp2",
    "outputId": "cb527017-7c8a-45e6-9c17-e52eb6d5f9cc",
    "slideshow": {
     "slide_type": "subslide"
    }
   },
   "outputs": [
    {
     "name": "stdout",
     "output_type": "stream",
     "text": [
      "Before [1, 8, 'hello']\n",
      "After [2, 8, 'hello']\n"
     ]
    }
   ],
   "source": [
    "print(\"Before\", x)\n",
    "\n",
    "x[0] = 2 # Replace a member of the list\n",
    "\n",
    "print(\"After\", x)"
   ]
  },
  {
   "cell_type": "code",
   "execution_count": 50,
   "metadata": {
    "colab": {
     "base_uri": "https://localhost:8080/"
    },
    "execution": {
     "iopub.execute_input": "2022-09-23T00:20:03.965606Z",
     "iopub.status.busy": "2022-09-23T00:20:03.964870Z",
     "iopub.status.idle": "2022-09-23T00:20:03.967778Z",
     "shell.execute_reply": "2022-09-23T00:20:03.968372Z"
    },
    "executionInfo": {
     "elapsed": 317,
     "status": "ok",
     "timestamp": 1607393907915,
     "user": {
      "displayName": "Benedict Paten",
      "photoUrl": "https://lh3.googleusercontent.com/a-/AOh14Gh2rYrrH6yoNnUp0Oj4p4ouybc6ZcWGyPmKFtIY=s64",
      "userId": "06399644931392855882"
     },
     "user_tz": 480
    },
    "id": "z8lM2V7EI0VX",
    "outputId": "a3901eaf-2ac7-4a51-b009-260a213c9549",
    "slideshow": {
     "slide_type": "subslide"
    }
   },
   "outputs": [
    {
     "data": {
      "text/plain": [
       "['__add__',\n",
       " '__class__',\n",
       " '__contains__',\n",
       " '__delattr__',\n",
       " '__delitem__',\n",
       " '__dir__',\n",
       " '__doc__',\n",
       " '__eq__',\n",
       " '__format__',\n",
       " '__ge__',\n",
       " '__getattribute__',\n",
       " '__getitem__',\n",
       " '__gt__',\n",
       " '__hash__',\n",
       " '__iadd__',\n",
       " '__imul__',\n",
       " '__init__',\n",
       " '__init_subclass__',\n",
       " '__iter__',\n",
       " '__le__',\n",
       " '__len__',\n",
       " '__lt__',\n",
       " '__mul__',\n",
       " '__ne__',\n",
       " '__new__',\n",
       " '__reduce__',\n",
       " '__reduce_ex__',\n",
       " '__repr__',\n",
       " '__reversed__',\n",
       " '__rmul__',\n",
       " '__setattr__',\n",
       " '__setitem__',\n",
       " '__sizeof__',\n",
       " '__str__',\n",
       " '__subclasshook__',\n",
       " 'append',\n",
       " 'clear',\n",
       " 'copy',\n",
       " 'count',\n",
       " 'extend',\n",
       " 'index',\n",
       " 'insert',\n",
       " 'pop',\n",
       " 'remove',\n",
       " 'reverse',\n",
       " 'sort']"
      ]
     },
     "execution_count": 50,
     "metadata": {},
     "output_type": "execute_result"
    }
   ],
   "source": [
    "dir(x) # Lists have many other features, we'll visit them again soon\n",
    "\n",
    "# dir() is a builtin function we can use to discoer the variables \n",
    "# and methods of a Python object - the \"__\" names look strange here, \n",
    "# we'll figure these out later"
   ]
  },
  {
   "cell_type": "markdown",
   "metadata": {
    "slideshow": {
     "slide_type": "subslide"
    }
   },
   "source": [
    "# Challenge 6"
   ]
  },
  {
   "cell_type": "code",
   "execution_count": 51,
   "metadata": {
    "execution": {
     "iopub.execute_input": "2022-09-23T00:20:03.972014Z",
     "iopub.status.busy": "2022-09-23T00:20:03.971438Z",
     "iopub.status.idle": "2022-09-23T00:20:03.974060Z",
     "shell.execute_reply": "2022-09-23T00:20:03.973630Z"
    },
    "slideshow": {
     "slide_type": "fragment"
    }
   },
   "outputs": [],
   "source": [
    "x = [ \"1\", \"2\", \"3\" ]\n",
    "# Convert each member of the list to an integer"
   ]
  },
  {
   "cell_type": "markdown",
   "metadata": {
    "id": "VUnSbmkzyKwd",
    "slideshow": {
     "slide_type": "slide"
    }
   },
   "source": [
    "# Dictionary Basics\n",
    "\n",
    "Dictionaries are \"maps\" (think like a function) from a set of keys (domain) to a set of values (codomain)"
   ]
  },
  {
   "cell_type": "code",
   "execution_count": 52,
   "metadata": {
    "execution": {
     "iopub.execute_input": "2022-09-23T00:20:03.978215Z",
     "iopub.status.busy": "2022-09-23T00:20:03.977578Z",
     "iopub.status.idle": "2022-09-23T00:20:03.979980Z",
     "shell.execute_reply": "2022-09-23T00:20:03.980513Z"
    },
    "id": "Fv6ucZiFYbG9",
    "slideshow": {
     "slide_type": "fragment"
    }
   },
   "outputs": [],
   "source": [
    "english_to_spanish = {\"two\": \"dos\", \"one\": \"uno\", \"three\":\"tres\"}\n",
    "\n",
    "fruit_costs = {\"apples\": 430, \"bananas\": 312, \"oranges\": 525, \"pears\": 217}"
   ]
  },
  {
   "cell_type": "markdown",
   "metadata": {
    "id": "L2INsf0OhGkP",
    "slideshow": {
     "slide_type": "fragment"
    }
   },
   "source": [
    "* Dictionaries are defined by curly braces {}\n",
    "\n",
    "* They are a collection of key:value pairs, each pair separated by a comma.\n",
    "\n",
    "* Keys and values can be most Python objects, e.g: { 1:\"hello\", \"two\":True }\n",
    "\n",
    "* You look up elements in a dictionary using square bracket notation:"
   ]
  },
  {
   "cell_type": "code",
   "execution_count": 53,
   "metadata": {
    "colab": {
     "base_uri": "https://localhost:8080/",
     "height": 35
    },
    "execution": {
     "iopub.execute_input": "2022-09-23T00:20:03.985460Z",
     "iopub.status.busy": "2022-09-23T00:20:03.984641Z",
     "iopub.status.idle": "2022-09-23T00:20:03.987942Z",
     "shell.execute_reply": "2022-09-23T00:20:03.988399Z"
    },
    "executionInfo": {
     "elapsed": 1128,
     "status": "ok",
     "timestamp": 1606701189291,
     "user": {
      "displayName": "Benedict Paten",
      "photoUrl": "https://lh3.googleusercontent.com/a-/AOh14Gh2rYrrH6yoNnUp0Oj4p4ouybc6ZcWGyPmKFtIY=s64",
      "userId": "06399644931392855882"
     },
     "user_tz": 480
    },
    "id": "0tE3-3TZiLY1",
    "outputId": "42f08720-81ae-49cc-f542-c6d921639555",
    "slideshow": {
     "slide_type": "fragment"
    }
   },
   "outputs": [
    {
     "data": {
      "text/plain": [
       "'uno'"
      ]
     },
     "execution_count": 53,
     "metadata": {},
     "output_type": "execute_result"
    }
   ],
   "source": [
    "english_to_spanish[\"one\"]"
   ]
  },
  {
   "cell_type": "markdown",
   "metadata": {
    "id": "cuONFTaehZ9M",
    "slideshow": {
     "slide_type": "subslide"
    }
   },
   "source": [
    "**No duplicate keys**: You can't have duplicate keys in a dictionary:"
   ]
  },
  {
   "cell_type": "code",
   "execution_count": 54,
   "metadata": {
    "colab": {
     "base_uri": "https://localhost:8080/"
    },
    "execution": {
     "iopub.execute_input": "2022-09-23T00:20:03.994775Z",
     "iopub.status.busy": "2022-09-23T00:20:03.993664Z",
     "iopub.status.idle": "2022-09-23T00:20:03.997445Z",
     "shell.execute_reply": "2022-09-23T00:20:03.998163Z"
    },
    "executionInfo": {
     "elapsed": 1125,
     "status": "ok",
     "timestamp": 1606701189292,
     "user": {
      "displayName": "Benedict Paten",
      "photoUrl": "https://lh3.googleusercontent.com/a-/AOh14Gh2rYrrH6yoNnUp0Oj4p4ouybc6ZcWGyPmKFtIY=s64",
      "userId": "06399644931392855882"
     },
     "user_tz": 480
    },
    "id": "4vxBbOTbysDq",
    "outputId": "2bfac3c3-5d17-47e1-bdb8-3300eecd2638",
    "slideshow": {
     "slide_type": "fragment"
    }
   },
   "outputs": [
    {
     "name": "stdout",
     "output_type": "stream",
     "text": [
      "{1: 6, 3: 4}\n"
     ]
    }
   ],
   "source": [
    "a = { 1:2, 3:4, 1:6 } # Don't expect this to out work well\n",
    "\n",
    "print(a) "
   ]
  },
  {
   "cell_type": "markdown",
   "metadata": {
    "id": "a8MVbh8f3VB0",
    "slideshow": {
     "slide_type": "subslide"
    }
   },
   "source": [
    "**Duplicate values are allowed**:"
   ]
  },
  {
   "cell_type": "code",
   "execution_count": 55,
   "metadata": {
    "colab": {
     "base_uri": "https://localhost:8080/"
    },
    "execution": {
     "iopub.execute_input": "2022-09-23T00:20:04.004521Z",
     "iopub.status.busy": "2022-09-23T00:20:04.003389Z",
     "iopub.status.idle": "2022-09-23T00:20:04.007234Z",
     "shell.execute_reply": "2022-09-23T00:20:04.008085Z"
    },
    "executionInfo": {
     "elapsed": 1122,
     "status": "ok",
     "timestamp": 1606701189292,
     "user": {
      "displayName": "Benedict Paten",
      "photoUrl": "https://lh3.googleusercontent.com/a-/AOh14Gh2rYrrH6yoNnUp0Oj4p4ouybc6ZcWGyPmKFtIY=s64",
      "userId": "06399644931392855882"
     },
     "user_tz": 480
    },
    "id": "qJOxmZ1p3X-A",
    "outputId": "0f3af977-2a7f-4c9f-8331-179e205d95a2",
    "slideshow": {
     "slide_type": "fragment"
    }
   },
   "outputs": [
    {
     "name": "stdout",
     "output_type": "stream",
     "text": [
      "{1: 1, 3: 4, 5: 1}\n"
     ]
    }
   ],
   "source": [
    "a = { 1:1, 3:4, 5:1 } \n",
    "\n",
    "print(a) "
   ]
  },
  {
   "cell_type": "markdown",
   "metadata": {
    "id": "9MdtD4pgy89t",
    "slideshow": {
     "slide_type": "subslide"
    }
   },
   "source": [
    "**Dictionaries are mutable:**"
   ]
  },
  {
   "cell_type": "code",
   "execution_count": 56,
   "metadata": {
    "colab": {
     "base_uri": "https://localhost:8080/"
    },
    "execution": {
     "iopub.execute_input": "2022-09-23T00:20:04.014807Z",
     "iopub.status.busy": "2022-09-23T00:20:04.013638Z",
     "iopub.status.idle": "2022-09-23T00:20:04.017671Z",
     "shell.execute_reply": "2022-09-23T00:20:04.018521Z"
    },
    "executionInfo": {
     "elapsed": 1119,
     "status": "ok",
     "timestamp": 1606701189293,
     "user": {
      "displayName": "Benedict Paten",
      "photoUrl": "https://lh3.googleusercontent.com/a-/AOh14Gh2rYrrH6yoNnUp0Oj4p4ouybc6ZcWGyPmKFtIY=s64",
      "userId": "06399644931392855882"
     },
     "user_tz": 480
    },
    "id": "0x2AWL4EzBlb",
    "outputId": "34eeedea-26de-48fc-a3b1-2e6de1515df7",
    "slideshow": {
     "slide_type": "fragment"
    }
   },
   "outputs": [
    {
     "name": "stdout",
     "output_type": "stream",
     "text": [
      "{1: 'hello', 3: 4, 5: 1}\n"
     ]
    }
   ],
   "source": [
    "a[1] = \"hello\"\n",
    "\n",
    "print(a)"
   ]
  },
  {
   "cell_type": "code",
   "execution_count": 57,
   "metadata": {
    "colab": {
     "base_uri": "https://localhost:8080/"
    },
    "execution": {
     "iopub.execute_input": "2022-09-23T00:20:04.025126Z",
     "iopub.status.busy": "2022-09-23T00:20:04.023981Z",
     "iopub.status.idle": "2022-09-23T00:20:04.028808Z",
     "shell.execute_reply": "2022-09-23T00:20:04.029314Z"
    },
    "executionInfo": {
     "elapsed": 1115,
     "status": "ok",
     "timestamp": 1606701189293,
     "user": {
      "displayName": "Benedict Paten",
      "photoUrl": "https://lh3.googleusercontent.com/a-/AOh14Gh2rYrrH6yoNnUp0Oj4p4ouybc6ZcWGyPmKFtIY=s64",
      "userId": "06399644931392855882"
     },
     "user_tz": 480
    },
    "id": "OSUCX1d9zHpM",
    "outputId": "7cf2d42f-0058-4a84-cf69-59b4ff5e43eb",
    "slideshow": {
     "slide_type": "fragment"
    }
   },
   "outputs": [
    {
     "name": "stdout",
     "output_type": "stream",
     "text": [
      "{1: 'hello', 3: 4, 5: 1, 'a new key': 9}\n"
     ]
    }
   ],
   "source": [
    "a[\"a new key\"] = 9\n",
    "\n",
    "print(a)"
   ]
  },
  {
   "cell_type": "markdown",
   "metadata": {
    "slideshow": {
     "slide_type": "subslide"
    }
   },
   "source": [
    "# Challenge 7"
   ]
  },
  {
   "cell_type": "code",
   "execution_count": 58,
   "metadata": {
    "execution": {
     "iopub.execute_input": "2022-09-23T00:20:04.034887Z",
     "iopub.status.busy": "2022-09-23T00:20:04.033856Z",
     "iopub.status.idle": "2022-09-23T00:20:04.036812Z",
     "shell.execute_reply": "2022-09-23T00:20:04.037322Z"
    }
   },
   "outputs": [],
   "source": [
    "# Make a dictionary mapping the integers 1, 2, ..., 5 to their cubes (1, 8, 27, ...)"
   ]
  },
  {
   "cell_type": "markdown",
   "metadata": {
    "id": "KZP9y5sgyVm8",
    "slideshow": {
     "slide_type": "slide"
    }
   },
   "source": [
    "# Homework\n",
    "\n",
    "* Go to Canvas and complete the third lecture quiz, which involves completing each challenge problem\n",
    "* ZyBook: Reading 3\n"
   ]
  }
 ],
 "metadata": {
  "celltoolbar": "Slideshow",
  "colab": {
   "collapsed_sections": [
    "S4CkZnM_4FvB",
    "odfPyGzkdUIJ",
    "JPxEMRO9bFgc",
    "nx4iryO296kf",
    "MiqSwuSkggbP",
    "GFggsPxW6lqW",
    "MID_5W3JHkY8",
    "VUnSbmkzyKwd"
   ],
   "name": "L03 More Types",
   "provenance": []
  },
  "kernelspec": {
   "display_name": "Python 3 (ipykernel)",
   "language": "python",
   "name": "python3"
  },
  "language_info": {
   "codemirror_mode": {
    "name": "ipython",
    "version": 3
   },
   "file_extension": ".py",
   "mimetype": "text/x-python",
   "name": "python",
   "nbconvert_exporter": "python",
   "pygments_lexer": "ipython3",
   "version": "3.8.8"
  }
 },
 "nbformat": 4,
 "nbformat_minor": 1
}
