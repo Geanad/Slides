{
 "cells": [
  {
   "cell_type": "markdown",
   "metadata": {
    "id": "Uz6CuQUwlUsK",
    "slideshow": {
     "slide_type": "slide"
    }
   },
   "source": [
    "# Lecture 4 - Conditionals and Branching \n",
    "\n",
    "Today:\n",
    "* If statements\n",
    "  * Else\n",
    "  * Elif\n",
    "  * Pass\n",
    "* While loops\n"
   ]
  },
  {
   "cell_type": "markdown",
   "metadata": {
    "id": "vE5fhwAet5B6",
    "slideshow": {
     "slide_type": "slide"
    }
   },
   "source": [
    "# If statements\n",
    "\n",
    "Just like reading a book,  Python reads\n",
    "each line of code in turn, progressively updating it's \"state\" (aka memory) with variables and definitions. \n",
    "\n",
    "The flow is not necessarily linear through the lines of code, the program can skip lines and jump around using \"conditionals\" "
   ]
  },
  {
   "cell_type": "markdown",
   "metadata": {
    "id": "GUovzl4O6lqn",
    "slideshow": {
     "slide_type": "slide"
    }
   },
   "source": [
    "# If\n",
    "\n",
    "The if statement decides to do something based on the result of a logical expression.\n",
    "\n",
    "<img src=\"https://raw.githubusercontent.com/cormacflanagan/intro_python/main/lecture_notebooks/figures/graffles/if.jpg\" width=400 height=400 />\n",
    "\n"
   ]
  },
  {
   "cell_type": "code",
   "execution_count": 5,
   "metadata": {
    "colab": {
     "base_uri": "https://localhost:8080/",
     "height": 52
    },
    "execution": {
     "iopub.execute_input": "2022-09-23T00:20:05.476865Z",
     "iopub.status.busy": "2022-09-23T00:20:05.475924Z",
     "iopub.status.idle": "2022-09-23T00:20:05.479256Z",
     "shell.execute_reply": "2022-09-23T00:20:05.481100Z"
    },
    "executionInfo": {
     "elapsed": 483,
     "status": "ok",
     "timestamp": 1570142288296,
     "user": {
      "displayName": "Benedict Paten",
      "photoUrl": "https://lh3.googleusercontent.com/a-/AAuE7mBMnWy8dDR7jyTHNy9tPaRx6DCyA3QKrIcuQ7R4=s64",
      "userId": "06399644931392855882"
     },
     "user_tz": 420
    },
    "id": "B6fK-_sU6lqo",
    "outputId": "ae318066-ae9b-4d66-d837-e68b288f689e",
    "slideshow": {
     "slide_type": "subslide"
    }
   },
   "outputs": [
    {
     "name": "stdout",
     "output_type": "stream",
     "text": [
      "cats are nice too\n"
     ]
    }
   ],
   "source": [
    "animal = \"bat\"\n",
    "if animal > \"cats\": # Strings are compared lexicographically (dictionary ordering)\n",
    "  print(animal, \"really are the best\") \n",
    "print(\"cats are nice too\")"
   ]
  },
  {
   "cell_type": "code",
   "execution_count": 6,
   "metadata": {
    "slideshow": {
     "slide_type": "slide"
    }
   },
   "outputs": [
    {
     "data": {
      "text/plain": [
       "'\\nThe general structure of an if statement is:\\nif expression:\\n  statement\\n  statement\\n  ...\\nmore statements\\n'"
      ]
     },
     "execution_count": 6,
     "metadata": {},
     "output_type": "execute_result"
    }
   ],
   "source": [
    "\"\"\"\n",
    "The general structure of an if statement is:\n",
    "if expression:\n",
    "  statement\n",
    "  statement\n",
    "  ...\n",
    "more statements\n",
    "\"\"\""
   ]
  },
  {
   "cell_type": "markdown",
   "metadata": {
    "id": "VaBVgBIT_7uD",
    "slideshow": {
     "slide_type": "fragment"
    }
   },
   "source": [
    "You read the above as \"if expression is True\" then execute the \"statement block\", which is composed of one or more indented lines. After the if, regardless of if the expression is true the program continues executing more statements.\n",
    "\n",
    "**Critically note the indent of the statement block - only stuff indented by a tab width will get run.**"
   ]
  },
  {
   "cell_type": "markdown",
   "metadata": {
    "slideshow": {
     "slide_type": "subslide"
    }
   },
   "source": [
    "# Challenge 1"
   ]
  },
  {
   "cell_type": "code",
   "execution_count": 7,
   "metadata": {
    "execution": {
     "iopub.execute_input": "2022-09-23T00:20:05.488760Z",
     "iopub.status.busy": "2022-09-23T00:20:05.487842Z",
     "iopub.status.idle": "2022-09-23T00:20:05.559783Z",
     "shell.execute_reply": "2022-09-23T00:20:05.560435Z"
    },
    "slideshow": {
     "slide_type": "fragment"
    }
   },
   "outputs": [
    {
     "name": "stdout",
     "output_type": "stream",
     "text": [
      "Input a number: 2\n",
      "Input another number: 4\n"
     ]
    }
   ],
   "source": [
    "x = float(input(\"Input a number: \"))\n",
    "y = float(input(\"Input another number: \"))\n",
    "\n",
    "# Write an if statement such that if the product of x and y is larger then 50 print \"Hello\"\n",
    "if x*y > 50 :\n",
    "  print(\"Hello\")"
   ]
  },
  {
   "cell_type": "markdown",
   "metadata": {
    "id": "HQ6_JVLQxXdk",
    "slideshow": {
     "slide_type": "slide"
    }
   },
   "source": [
    "# Else\n",
    "\n",
    "Else is the partner of if:\n",
    "\n",
    "<img src=\"https://raw.githubusercontent.com/cormacflanagan/intro_python/main/lecture_notebooks/figures/graffles/if%3Aelse.jpg\" width=400 height=400 />\n",
    "\n",
    "We can use if/else to control flow - choosing to do one thing or the other\n"
   ]
  },
  {
   "cell_type": "code",
   "execution_count": 11,
   "metadata": {
    "colab": {
     "base_uri": "https://localhost:8080/"
    },
    "execution": {
     "iopub.execute_input": "2022-09-23T00:20:05.565468Z",
     "iopub.status.busy": "2022-09-23T00:20:05.564530Z",
     "iopub.status.idle": "2022-09-23T00:20:05.571918Z",
     "shell.execute_reply": "2022-09-23T00:20:05.572634Z"
    },
    "executionInfo": {
     "elapsed": 14309,
     "status": "ok",
     "timestamp": 1607538910708,
     "user": {
      "displayName": "Benedict Paten",
      "photoUrl": "https://lh3.googleusercontent.com/a-/AOh14Gh2rYrrH6yoNnUp0Oj4p4ouybc6ZcWGyPmKFtIY=s64",
      "userId": "06399644931392855882"
     },
     "user_tz": 480
    },
    "id": "KZI1QLl96lqr",
    "outputId": "6b9884e3-4ebc-4bc7-d9bc-fb2ac43cc497",
    "slideshow": {
     "slide_type": "subslide"
    }
   },
   "outputs": [
    {
     "name": "stdout",
     "output_type": "stream",
     "text": [
      "Enter a number: 8\n",
      "Enter another number: 8\n",
      "The first number is smaller or equal\n"
     ]
    }
   ],
   "source": [
    "value1 = float(input(\"Enter a number: \")) # Read a first number\n",
    "# from the user\n",
    "\n",
    "value2 = float(input(\"Enter another number: \")) # Read a second number\n",
    "# from the user\n",
    "\n",
    "if value1 > value2:\n",
    "  print(\"The first number is bigger\")\n",
    "else:\n",
    "  print(\"The first number is smaller or equal\")\n"
   ]
  },
  {
   "cell_type": "markdown",
   "metadata": {
    "id": "rfY-d-Y9AWua",
    "slideshow": {
     "slide_type": "fragment"
    }
   },
   "source": [
    "You read the above as if expression is True then execute statement block1 else execute statement block2.\n",
    "\n",
    "Again, critical to note that only indented code counts in the statement blocks."
   ]
  },
  {
   "cell_type": "code",
   "execution_count": 11,
   "metadata": {
    "execution": {
     "iopub.execute_input": "2022-09-23T00:20:05.577782Z",
     "iopub.status.busy": "2022-09-23T00:20:05.576855Z",
     "iopub.status.idle": "2022-09-23T00:20:05.579789Z",
     "shell.execute_reply": "2022-09-23T00:20:05.580604Z"
    },
    "id": "ELOHTigjyhMt",
    "slideshow": {
     "slide_type": "subslide"
    }
   },
   "outputs": [
    {
     "data": {
      "text/plain": [
       "' \\nThe general structure of an if/else statement is:\\n\\nif expression:\\n  statement block1\\nelse:\\n  statement block2\\n'"
      ]
     },
     "execution_count": 11,
     "metadata": {},
     "output_type": "execute_result"
    }
   ],
   "source": [
    "\"\"\" \n",
    "The general structure of an if/else statement is:\n",
    "\n",
    "if expression:\n",
    "  statement block1\n",
    "else:\n",
    "  statement block2\n",
    "\"\"\""
   ]
  },
  {
   "cell_type": "markdown",
   "metadata": {
    "slideshow": {
     "slide_type": "subslide"
    }
   },
   "source": [
    "# Challenge 2"
   ]
  },
  {
   "cell_type": "code",
   "execution_count": 22,
   "metadata": {
    "execution": {
     "iopub.execute_input": "2022-09-23T00:20:05.587375Z",
     "iopub.status.busy": "2022-09-23T00:20:05.586654Z",
     "iopub.status.idle": "2022-09-23T00:20:05.592848Z",
     "shell.execute_reply": "2022-09-23T00:20:05.592160Z"
    },
    "slideshow": {
     "slide_type": "fragment"
    }
   },
   "outputs": [
    {
     "name": "stdout",
     "output_type": "stream",
     "text": [
      "Input a weight in grams: 2000\n",
      "Enter 'kilos' or 'lbs': No\n",
      "Incorrect input\n"
     ]
    }
   ],
   "source": [
    "x = float(input(\"Input a weight in grams: \"))\n",
    "y = input(\"Enter 'kilos' or 'lbs': \")\n",
    "\n",
    "# Write an if/else statement such that if y equals 'kilos' print the input weight in kilograms \n",
    "# else print the weight in lbs\n",
    "# There are 1000 grams in a kilogram, there are 453.592 grams in a lb.\n",
    "if y == 'kilos' or y == 'Kilos':\n",
    "    print(x / 1000)\n",
    "elif y == 'lbs':\n",
    "    print(x / 453.592)\n",
    "else:\n",
    "    print(\"Incorrect input\")"
   ]
  },
  {
   "cell_type": "markdown",
   "metadata": {
    "id": "N48eQTsU-33z",
    "slideshow": {
     "slide_type": "slide"
    }
   },
   "source": [
    "# Else and elif\n",
    "\n",
    "Elif is the partner of if and else:\n",
    "\n",
    "<img src=\"https://raw.githubusercontent.com/cormacflanagan/intro_python/main/lecture_notebooks/figures/graffles/if%3Aelif%3Aelse.jpg\" width=400 height=400 />\n"
   ]
  },
  {
   "cell_type": "code",
   "execution_count": null,
   "metadata": {
    "colab": {
     "base_uri": "https://localhost:8080/"
    },
    "execution": {
     "iopub.execute_input": "2022-09-23T00:20:05.598833Z",
     "iopub.status.busy": "2022-09-23T00:20:05.598086Z",
     "iopub.status.idle": "2022-09-23T00:20:05.605834Z",
     "shell.execute_reply": "2022-09-23T00:20:05.606523Z"
    },
    "executionInfo": {
     "elapsed": 19064,
     "status": "ok",
     "timestamp": 1607539084982,
     "user": {
      "displayName": "Benedict Paten",
      "photoUrl": "https://lh3.googleusercontent.com/a-/AOh14Gh2rYrrH6yoNnUp0Oj4p4ouybc6ZcWGyPmKFtIY=s64",
      "userId": "06399644931392855882"
     },
     "user_tz": 480
    },
    "id": "G3r0A_6A6lqu",
    "outputId": "06a1d65b-b538-4f6a-bf51-c6c209b5b167",
    "slideshow": {
     "slide_type": "subslide"
    }
   },
   "outputs": [],
   "source": [
    "# If, else and elif\n",
    "\n",
    "x = float(input(\"What's your favorite number? : \"))\n",
    "\n",
    "if x == 7:\n",
    "  print(\"We have the same favorite number!\")\n",
    "elif x < 2:\n",
    "  print(\"Your favorite number is way less than mine\")\n",
    "elif x < 7:\n",
    "  print(\"Your favorite number is less than mine\")\n",
    "else:\n",
    "  print(\"Your favorite number is greater than mine\")\n",
    "  "
   ]
  },
  {
   "cell_type": "markdown",
   "metadata": {
    "id": "79QIBoDX6lqz",
    "slideshow": {
     "slide_type": "subslide"
    }
   },
   "source": [
    "* Note: You can string together if, elif and else to have control determined by multiple chaining expressions"
   ]
  },
  {
   "cell_type": "code",
   "execution_count": 2,
   "metadata": {
    "execution": {
     "iopub.execute_input": "2022-09-23T00:20:05.612345Z",
     "iopub.status.busy": "2022-09-23T00:20:05.611293Z",
     "iopub.status.idle": "2022-09-23T00:20:05.616589Z",
     "shell.execute_reply": "2022-09-23T00:20:05.617434Z"
    },
    "id": "qzOPIrG7zAIL",
    "slideshow": {
     "slide_type": "fragment"
    }
   },
   "outputs": [
    {
     "data": {
      "text/plain": [
       "'\\nif expression:\\n  statement block1\\nelif expression2:\\n  statement block2 \\nelif expression3:\\n  ...\\nelse:\\n  statement blockN\\n'"
      ]
     },
     "execution_count": 2,
     "metadata": {},
     "output_type": "execute_result"
    }
   ],
   "source": [
    "# The general structure of an if/elif/else statement is:\n",
    "\"\"\"\n",
    "if expression:\n",
    "  statement block1\n",
    "elif expression2:\n",
    "  statement block2 \n",
    "elif expression3:\n",
    "  ...\n",
    "else:\n",
    "  statement blockN\n",
    "\"\"\"\n",
    "# You read this as if expression is True then execute statement block1 else\n",
    "# if expression2 is true execute statement block2, etc. until you get to the \n",
    "# else, whose statement block is only evaluated if all the previous expressions\n",
    "# are false.\n",
    "\n",
    "# It is important to understand that only one statement block will get run in this\n",
    "# logic, so the order of the expressions is important.\n",
    "\n",
    "# Again, critical to note that only indented code counts in the statement blocks.\n",
    "# In general Python uses these indents to govern control flow"
   ]
  },
  {
   "cell_type": "markdown",
   "metadata": {
    "slideshow": {
     "slide_type": "subslide"
    }
   },
   "source": [
    "# Challenge 3"
   ]
  },
  {
   "cell_type": "code",
   "execution_count": 2,
   "metadata": {
    "execution": {
     "iopub.execute_input": "2022-09-23T00:20:05.625918Z",
     "iopub.status.busy": "2022-09-23T00:20:05.624843Z",
     "iopub.status.idle": "2022-09-23T00:20:05.633096Z",
     "shell.execute_reply": "2022-09-23T00:20:05.633934Z"
    }
   },
   "outputs": [
    {
     "name": "stdout",
     "output_type": "stream",
     "text": [
      "Input a weight in grams: 2000\n",
      "Enter 'kilos', 'lbs', 'ounces' or 'tons': No\n"
     ]
    }
   ],
   "source": [
    "x = float(input(\"Input a weight in grams: \"))\n",
    "y = input(\"Enter 'kilos', 'lbs', 'ounces' or 'tons': \")\n",
    "\n",
    "# Modify the program you wrote in challenge 2 to print the desired weight\n",
    "# There are 1000 grams in a kilogram\n",
    "# there are 453.592 grams in a lb.\n",
    "# there are 28.3495 grams in an ounce\n",
    "# there are 907185 grams in a ton\n",
    "# if the user does not correctly input either 'kilos', 'lbs', 'ounces' or 'tons' print \"unknown unit, please try again\"\n",
    "if (y == \"kilos\") or (y==\"Kilos\"):\n",
    "    print(x/1000)\n",
    "elif y == \"lbs\" or y == \"Lbs\":\n",
    "    print(x/453.592)\n",
    "elif y == \"ounces\" or y == \"Ounces\":\n",
    "    print(x/28.3495)\n",
    "elif y == \"tons\" or y == \"Tons\":\n",
    "    print(x/907185)"
   ]
  },
  {
   "cell_type": "markdown",
   "metadata": {
    "id": "Uy6j31wLA5E3",
    "slideshow": {
     "slide_type": "slide"
    }
   },
   "source": [
    "# Nested conditionals"
   ]
  },
  {
   "cell_type": "code",
   "execution_count": 1,
   "metadata": {
    "colab": {
     "base_uri": "https://localhost:8080/"
    },
    "execution": {
     "iopub.execute_input": "2022-09-23T00:20:05.639736Z",
     "iopub.status.busy": "2022-09-23T00:20:05.638649Z",
     "iopub.status.idle": "2022-09-23T00:20:05.647698Z",
     "shell.execute_reply": "2022-09-23T00:20:05.647050Z"
    },
    "executionInfo": {
     "elapsed": 4263,
     "status": "ok",
     "timestamp": 1607539159638,
     "user": {
      "displayName": "Benedict Paten",
      "photoUrl": "https://lh3.googleusercontent.com/a-/AOh14Gh2rYrrH6yoNnUp0Oj4p4ouybc6ZcWGyPmKFtIY=s64",
      "userId": "06399644931392855882"
     },
     "user_tz": 480
    },
    "id": "wuj_LMwIa3M2",
    "outputId": "d0306f6f-8bc8-475d-ac2c-f08141e3919c",
    "slideshow": {
     "slide_type": "fragment"
    }
   },
   "outputs": [
    {
     "name": "stdout",
     "output_type": "stream",
     "text": [
      "Give me a number? : 1\n",
      "x is less than or equal to 2\n"
     ]
    }
   ],
   "source": [
    "# Consider the following if/elif/else block\n",
    "\n",
    "x = float(input(\"Give me a number? : \"))\n",
    "\n",
    "if not x < 2:\n",
    "    print(\"x is less than or equal to 2\")\n",
    "elif x < 5:\n",
    "    print(\"x is greater than or equal to 2 but less than 5\")\n",
    "elif x <= 10:   \n",
    "    print(\"x is greater than or equal to 5 but less than or equal to 10\")\n",
    "else:\n",
    "    print(\"x is greater than 10\")"
   ]
  },
  {
   "cell_type": "code",
   "execution_count": 3,
   "metadata": {
    "colab": {
     "base_uri": "https://localhost:8080/"
    },
    "execution": {
     "iopub.execute_input": "2022-09-23T00:20:05.653723Z",
     "iopub.status.busy": "2022-09-23T00:20:05.652753Z",
     "iopub.status.idle": "2022-09-23T00:20:05.660245Z",
     "shell.execute_reply": "2022-09-23T00:20:05.660988Z"
    },
    "executionInfo": {
     "elapsed": 5650,
     "status": "ok",
     "timestamp": 1607539207669,
     "user": {
      "displayName": "Benedict Paten",
      "photoUrl": "https://lh3.googleusercontent.com/a-/AOh14Gh2rYrrH6yoNnUp0Oj4p4ouybc6ZcWGyPmKFtIY=s64",
      "userId": "06399644931392855882"
     },
     "user_tz": 480
    },
    "id": "EkL6WUVCrMgC",
    "outputId": "8730049d-331e-4738-9a20-136902516d76",
    "slideshow": {
     "slide_type": "subslide"
    }
   },
   "outputs": [
    {
     "name": "stdout",
     "output_type": "stream",
     "text": [
      "Give me a number? : 1\n",
      "x is less than or equal to 2\n"
     ]
    }
   ],
   "source": [
    "# You can achieve the same with nested if statements:\n",
    "\n",
    "x = float(input(\"Give me a number? : \"))\n",
    "\n",
    "if x < 5:\n",
    "  if not x > 2: # This if is nested in the outer if statement, \n",
    "    # it is only tested if the outer conditional evaluates to True\n",
    "    print(\"x is less than or equal to 2\")\n",
    "  else:\n",
    "    print(\"x is greater than 2 but less than 5\")\n",
    "else:\n",
    "  if x <= 10: \n",
    "    print(\"x is greater than or equal to 5 but less than or equal to 10\")\n",
    "  else:\n",
    "    print(\"x is greater than 10\")\n"
   ]
  },
  {
   "cell_type": "markdown",
   "metadata": {
    "id": "QKLjfm0nBAVA",
    "slideshow": {
     "slide_type": "fragment"
    }
   },
   "source": [
    "The if/elif/else version is clearer and easier to read (so better, IMO).\n",
    "\n",
    "In general, you will find nesting allows more varied and complex control flow."
   ]
  },
  {
   "cell_type": "markdown",
   "metadata": {
    "id": "6DuN8AbvBfEv",
    "slideshow": {
     "slide_type": "slide"
    }
   },
   "source": [
    "# Inline conditionals\n",
    "\n",
    "Just as in natural languages, Python has short hand abbreviations, like we saw with abbreviated assignment.\n",
    "\n",
    "Inline conditionals are \"syntatic sugar\", a shorthand for doing conditional evaluation on one line."
   ]
  },
  {
   "cell_type": "code",
   "execution_count": 5,
   "metadata": {
    "colab": {
     "base_uri": "https://localhost:8080/"
    },
    "execution": {
     "iopub.execute_input": "2022-09-23T00:20:05.667893Z",
     "iopub.status.busy": "2022-09-23T00:20:05.666939Z",
     "iopub.status.idle": "2022-09-23T00:20:05.669884Z",
     "shell.execute_reply": "2022-09-23T00:20:05.670331Z"
    },
    "executionInfo": {
     "elapsed": 340,
     "status": "ok",
     "timestamp": 1607539463026,
     "user": {
      "displayName": "Benedict Paten",
      "photoUrl": "https://lh3.googleusercontent.com/a-/AOh14Gh2rYrrH6yoNnUp0Oj4p4ouybc6ZcWGyPmKFtIY=s64",
      "userId": "06399644931392855882"
     },
     "user_tz": 480
    },
    "id": "uUfU9TWy6lq0",
    "outputId": "8ede0ef2-94fe-43b2-c775-b24232b083ad",
    "slideshow": {
     "slide_type": "fragment"
    }
   },
   "outputs": [
    {
     "name": "stdout",
     "output_type": "stream",
     "text": [
      "heads\n",
      "heads\n",
      "0.8874567846854274\n",
      "0.7874810636234877\n",
      "0.14210522025213335\n",
      "0.8891787847572509\n",
      "0.3199575563238617\n"
     ]
    }
   ],
   "source": [
    "import random # This adds functions from a module for \n",
    "# making random numbers\n",
    "# (don't worry, we'll cover this later)\n",
    "\n",
    "# Consider picking a random flip of a coin...\n",
    "if random.random() > 0.5:\n",
    "  x = \"heads\"\n",
    "else:\n",
    "  x = \"tails\"\n",
    "\n",
    "print(x)\n",
    "\n",
    "# This if/else structure can be written \"inline\"\n",
    "x = \"heads\" if random.random() > 0.5 else \"tails\"\n",
    "\n",
    "print(x)\n",
    "\n",
    "print(random.random())\n",
    "print(random.random())\n",
    "print(random.random())\n",
    "print(random.random())\n",
    "print(random.random())\n"
   ]
  },
  {
   "cell_type": "markdown",
   "metadata": {
    "id": "bJcwPSeE75es",
    "slideshow": {
     "slide_type": "slide"
    }
   },
   "source": [
    "# Pass\n",
    "\n",
    "Sometimes, when you're writing code you want a placeholder statement - use pass"
   ]
  },
  {
   "cell_type": "code",
   "execution_count": 7,
   "metadata": {
    "execution": {
     "iopub.execute_input": "2022-09-23T00:20:05.675300Z",
     "iopub.status.busy": "2022-09-23T00:20:05.674032Z",
     "iopub.status.idle": "2022-09-23T00:20:05.676582Z",
     "shell.execute_reply": "2022-09-23T00:20:05.677112Z"
    },
    "id": "OxcP-RfCCMSK",
    "slideshow": {
     "slide_type": "fragment"
    }
   },
   "outputs": [],
   "source": [
    "x = 6\n",
    "\n",
    "if x > 5:\n",
    "  pass # Pass acts as a placeholder for the code you will write\n",
    "else:\n",
    "  print(\"hello\")\n"
   ]
  },
  {
   "cell_type": "markdown",
   "metadata": {
    "id": "ftjUa2adLc5_",
    "slideshow": {
     "slide_type": "slide"
    }
   },
   "source": [
    "# While \n",
    "\n",
    "The while statement is the first looping statement we're going to see.\n",
    "\n",
    "The basic idea is that it may be useful to repeatedly execute a statement block \n",
    "to progressively update the state of the program.\n",
    "\n",
    "<img src=\"https://raw.githubusercontent.com/cormacflanagan/intro_python/main/lecture_notebooks/figures/graffles/while.jpg\" width=400 height=400 />"
   ]
  },
  {
   "cell_type": "markdown",
   "metadata": {
    "execution": {
     "iopub.execute_input": "2022-09-23T00:20:05.682462Z",
     "iopub.status.busy": "2022-09-23T00:20:05.681693Z",
     "iopub.status.idle": "2022-09-23T00:20:05.684786Z",
     "shell.execute_reply": "2022-09-23T00:20:05.685307Z"
    },
    "id": "ir-G5cOq5MT_",
    "slideshow": {
     "slide_type": "subslide"
    }
   },
   "source": [
    "# The while statement has the general structure:\n",
    "```\n",
    "while expression:\n",
    "  statements\n",
    "  statements\n",
    "  \n",
    "more stuff after the while\n",
    "```"
   ]
  },
  {
   "cell_type": "code",
   "execution_count": 14,
   "metadata": {
    "colab": {
     "base_uri": "https://localhost:8080/"
    },
    "execution": {
     "iopub.execute_input": "2022-09-23T00:20:05.690837Z",
     "iopub.status.busy": "2022-09-23T00:20:05.690064Z",
     "iopub.status.idle": "2022-09-23T00:20:05.693415Z",
     "shell.execute_reply": "2022-09-23T00:20:05.694196Z"
    },
    "executionInfo": {
     "elapsed": 874,
     "status": "ok",
     "timestamp": 1607540792103,
     "user": {
      "displayName": "Benedict Paten",
      "photoUrl": "https://lh3.googleusercontent.com/a-/AOh14Gh2rYrrH6yoNnUp0Oj4p4ouybc6ZcWGyPmKFtIY=s64",
      "userId": "06399644931392855882"
     },
     "user_tz": 480
    },
    "id": "ypUMLaFI5bur",
    "outputId": "958214bb-fbb8-46ab-fb7a-13a3ac6dc872",
    "slideshow": {
     "slide_type": "subslide"
    }
   },
   "outputs": [
    {
     "name": "stdout",
     "output_type": "stream",
     "text": [
      " i is: 0\n",
      " i is: 1\n",
      " i is: 2\n",
      " i is: 3\n",
      " i is: 4\n",
      " i is: 5\n",
      " i is: 6\n",
      " i is: 7\n",
      " i is: 8\n",
      " i is: 9\n",
      "we're done! i is:  10\n"
     ]
    }
   ],
   "source": [
    "# A first example\n",
    "\n",
    "i = 0 \n",
    "\n",
    "while i < 10: \n",
    "  print(\" i is:\", i)\n",
    "  i = i + 1 \n",
    "\n",
    "print(\"we're done! i is: \", i)  # This line is executed after the while loop has finished "
   ]
  },
  {
   "cell_type": "markdown",
   "metadata": {
    "id": "LCD8jy9q5hvn",
    "slideshow": {
     "slide_type": "subslide"
    }
   },
   "source": [
    "Let's look at this carefully:"
   ]
  },
  {
   "cell_type": "code",
   "execution_count": 9,
   "metadata": {
    "colab": {
     "base_uri": "https://localhost:8080/"
    },
    "execution": {
     "iopub.execute_input": "2022-09-23T00:20:05.700393Z",
     "iopub.status.busy": "2022-09-23T00:20:05.699517Z",
     "iopub.status.idle": "2022-09-23T00:20:05.702621Z",
     "shell.execute_reply": "2022-09-23T00:20:05.703067Z"
    },
    "executionInfo": {
     "elapsed": 2528,
     "status": "ok",
     "timestamp": 1607540624762,
     "user": {
      "displayName": "Benedict Paten",
      "photoUrl": "https://lh3.googleusercontent.com/a-/AOh14Gh2rYrrH6yoNnUp0Oj4p4ouybc6ZcWGyPmKFtIY=s64",
      "userId": "06399644931392855882"
     },
     "user_tz": 480
    },
    "id": "0OZHhCcKL18l",
    "outputId": "25b9d60c-10f4-4390-8697-9f6588c8e3ea",
    "slideshow": {
     "slide_type": "subslide"
    }
   },
   "outputs": [
    {
     "name": "stdout",
     "output_type": "stream",
     "text": [
      " i is: 0\n",
      " i is: 1\n",
      " i is: 2\n",
      " i is: 3\n",
      " i is: 4\n",
      " i is: 5\n",
      " i is: 6\n",
      " i is: 7\n",
      " i is: 8\n",
      " i is: 9\n",
      "we're done! i is:  10\n"
     ]
    }
   ],
   "source": [
    "i = 0               # This is the setup, at the beginning of the loop i will equal 0\n",
    "\n",
    "while i < 10:       # This expression is re-evaluated until it is no longer true\n",
    "  # The statement block gets run over and over\n",
    "  print(\" i is:\", i)# This statement causes the series of \"i is:\" lines in the output\n",
    "  i = i + 1         # Here we update i, if we didn't change i we'd loop infinitely\n",
    "\n",
    "print(\"we're done! i is: \", i)  # This line is executed after the while loop has finished \n",
    "\n",
    "\n",
    "# You read this program as:\n",
    "\n",
    "# Set i to 0\n",
    "\n",
    "# check if i < 0, if it is:\n",
    "  # print \"i is: \", i\n",
    "  # add one to i\n",
    "  # go back to the start of the while loop\n",
    "\n",
    "# print \"we're done\""
   ]
  },
  {
   "cell_type": "markdown",
   "metadata": {
    "id": "4nQGkC6165O0",
    "slideshow": {
     "slide_type": "subslide"
    }
   },
   "source": [
    "To get this flow into your head think about a curser moving through the\n",
    "program from top-to-bottom going back to the top of loop at the end \n",
    "of each loop of the while. In effect, you can unroll the flow in your head:\n"
   ]
  },
  {
   "cell_type": "code",
   "execution_count": 16,
   "metadata": {
    "colab": {
     "base_uri": "https://localhost:8080/"
    },
    "execution": {
     "iopub.execute_input": "2022-09-23T00:20:05.711695Z",
     "iopub.status.busy": "2022-09-23T00:20:05.711018Z",
     "iopub.status.idle": "2022-09-23T00:20:05.714357Z",
     "shell.execute_reply": "2022-09-23T00:20:05.714902Z"
    },
    "executionInfo": {
     "elapsed": 576,
     "status": "ok",
     "timestamp": 1607541107944,
     "user": {
      "displayName": "Benedict Paten",
      "photoUrl": "https://lh3.googleusercontent.com/a-/AOh14Gh2rYrrH6yoNnUp0Oj4p4ouybc6ZcWGyPmKFtIY=s64",
      "userId": "06399644931392855882"
     },
     "user_tz": 480
    },
    "id": "bO11b2B45zr_",
    "outputId": "8d087eac-23a0-4212-8072-de09e90887ce",
    "slideshow": {
     "slide_type": "subslide"
    }
   },
   "outputs": [
    {
     "name": "stdout",
     "output_type": "stream",
     "text": [
      " i is: 0\n",
      " i is: 1\n",
      " i is: 2\n",
      " i is: 3\n",
      " i is: 4\n",
      " i is: 5\n",
      " i is: 6\n",
      " i is: 7\n",
      " i is: 8\n",
      " i is: 9\n",
      "we're done! i is:  10\n"
     ]
    }
   ],
   "source": [
    "# Equivalent to the other above code with a while loop:\n",
    "\n",
    "i = 0 \n",
    "print(\" i is:\", i)\n",
    "i += 1 # i is 1\n",
    "print(\" i is:\", i)\n",
    "i += 1 # i is 2\n",
    "print(\" i is:\", i)\n",
    "i += 1 # i is 3\n",
    "print(\" i is:\", i)\n",
    "i += 1 # i is 4\n",
    "print(\" i is:\", i)\n",
    "i += 1 # i is 5\n",
    "print(\" i is:\", i)\n",
    "i += 1 # i is 6\n",
    "print(\" i is:\", i)\n",
    "i += 1 # i is 7\n",
    "print(\" i is:\", i)\n",
    "i += 1 # i is 8\n",
    "print(\" i is:\", i)\n",
    "i += 1 # i is 9\n",
    "print(\" i is:\", i)\n",
    "i += 1 # i is 10\n",
    "print(\"we're done! i is: \", i)  "
   ]
  },
  {
   "cell_type": "markdown",
   "metadata": {
    "id": "B-F46B4H6jM1",
    "slideshow": {
     "slide_type": "subslide"
    }
   },
   "source": [
    "Unrolling the code shows we could have explicitly done the same thing without a loop, but it's very repetitive and long and if we want to change the value of i that we count up to we have to edit many lines of code:"
   ]
  },
  {
   "cell_type": "markdown",
   "metadata": {},
   "source": [
    "# Warm up Challenge"
   ]
  },
  {
   "cell_type": "code",
   "execution_count": 2,
   "metadata": {},
   "outputs": [
    {
     "name": "stdout",
     "output_type": "stream",
     "text": [
      "Enter a number?4\n",
      "Even\n"
     ]
    }
   ],
   "source": [
    "# Write a program to input an integer and print Odd or Even as appropriate.\n",
    "\n",
    "n = int(input(\"Enter a number?\"))\n",
    "if n % 2 == 0:\n",
    "    print(\"Even\")\n",
    "else:\n",
    "    print(\"Odd\")\n",
    "\n",
    "\n",
    "\n",
    "\n",
    "\n",
    "\n",
    "\n",
    "\n",
    "\n",
    "\n",
    "\n",
    "\n",
    "\n",
    "\n"
   ]
  },
  {
   "cell_type": "markdown",
   "metadata": {},
   "source": [
    "# While Loops"
   ]
  },
  {
   "cell_type": "code",
   "execution_count": 3,
   "metadata": {},
   "outputs": [
    {
     "name": "stdout",
     "output_type": "stream",
     "text": [
      "1\n",
      "4\n",
      "9\n",
      "16\n",
      "25\n"
     ]
    }
   ],
   "source": [
    "# Write a program to print out the first 5 squares\n",
    "print(1**2)\n",
    "print(2**2)\n",
    "print(3**2)\n",
    "print(4**2)\n",
    "print(5**2)"
   ]
  },
  {
   "cell_type": "code",
   "execution_count": 4,
   "metadata": {},
   "outputs": [
    {
     "name": "stdout",
     "output_type": "stream",
     "text": [
      "n is  1  n squared is  1\n",
      "n is  2  n squared is  4\n",
      "n is  3  n squared is  9\n",
      "n is  4  n squared is  16\n",
      "n is  5  n squared is  25\n",
      "Bye, n is 6\n"
     ]
    }
   ],
   "source": [
    "# Write a program to print out the first 5 squares, version 2\n",
    "n = 1\n",
    "\n",
    "print(\"n is \", n, \" n squared is \",n**2)\n",
    "n = n + 1\n",
    "\n",
    "print(\"n is \", n, \" n squared is \",n**2)\n",
    "n = n + 1\n",
    "\n",
    "print(\"n is \", n, \" n squared is \",n**2)\n",
    "n = n + 1\n",
    "\n",
    "print(\"n is \", n, \" n squared is \",n**2)\n",
    "n = n + 1\n",
    "\n",
    "print(\"n is \", n, \" n squared is \",n**2)\n",
    "n = n + 1\n",
    "\n",
    "print(\"Bye, n is\", n)"
   ]
  },
  {
   "cell_type": "code",
   "execution_count": 8,
   "metadata": {},
   "outputs": [
    {
     "name": "stdout",
     "output_type": "stream",
     "text": [
      "n is  1  n squared is  1\n",
      "End of loop body, n is 2\n",
      "n is  2  n squared is  4\n",
      "End of loop body, n is 3\n",
      "n is  3  n squared is  9\n",
      "End of loop body, n is 4\n",
      "n is  4  n squared is  16\n",
      "End of loop body, n is 5\n",
      "n is  5  n squared is  25\n",
      "End of loop body, n is 6\n",
      "Bye, n is 6\n"
     ]
    }
   ],
   "source": [
    "# Write a program to print out the first 5 squares, version 3\n",
    "n = 1\n",
    "\n",
    "# Repeat the following block of code 5 times please\n",
    "# Repeat the following block of code as long as (n <= 5)\n",
    "while n <= 5:\n",
    "    print(\"n is \", n, \" n squared is \",n**2)\n",
    "    n = n + 1\n",
    "    print(\"End of loop body, n is\", n)\n",
    "\n",
    "print(\"Bye, n is\", n)"
   ]
  },
  {
   "cell_type": "markdown",
   "metadata": {
    "slideshow": {
     "slide_type": "subslide"
    }
   },
   "source": [
    "# Challenge 4"
   ]
  },
  {
   "cell_type": "code",
   "execution_count": 11,
   "metadata": {
    "execution": {
     "iopub.execute_input": "2022-09-23T00:20:05.724571Z",
     "iopub.status.busy": "2022-09-23T00:20:05.723748Z",
     "iopub.status.idle": "2022-09-23T00:20:05.727624Z",
     "shell.execute_reply": "2022-09-23T00:20:05.728172Z"
    },
    "slideshow": {
     "slide_type": "fragment"
    }
   },
   "outputs": [
    {
     "name": "stdout",
     "output_type": "stream",
     "text": [
      "Enter a mantra: Hi\n",
      "How many times do you want me to repeat it? : 2\n",
      "Hi\n",
      "Hi\n",
      "---\n",
      "Hi\n",
      "Hi\n",
      "---\n",
      "Hi\n",
      "Hi\n"
     ]
    }
   ],
   "source": [
    "x = input(\"Enter a mantra: \")\n",
    "y = int(input(\"How many times do you want me to repeat it? : \"))\n",
    "\n",
    "# Write code to print x y times\n",
    "n = 0\n",
    "while n < y:\n",
    "    print(x)\n",
    "    n += 1\n",
    "print(\"---\")\n",
    "n = 1\n",
    "while n <= y:\n",
    "    print(x)\n",
    "    n += 1\n",
    "print(\"---\")\n",
    "while y > 0:\n",
    "    print(x)\n",
    "    y -= 1\n",
    "\n"
   ]
  },
  {
   "cell_type": "markdown",
   "metadata": {
    "slideshow": {
     "slide_type": "slide"
    }
   },
   "source": [
    "# Example: calculating the sum of the first 100 integers"
   ]
  },
  {
   "cell_type": "code",
   "execution_count": 12,
   "metadata": {},
   "outputs": [
    {
     "name": "stdout",
     "output_type": "stream",
     "text": [
      "5050\n"
     ]
    }
   ],
   "source": [
    "# n(n+1)/2\n",
    "sum = 0\n",
    "n = 0\n",
    "while n <= 100:\n",
    "    sum = sum + n\n",
    "    n = n + 1\n",
    "print(sum)\n"
   ]
  },
  {
   "cell_type": "code",
   "execution_count": 14,
   "metadata": {},
   "outputs": [
    {
     "name": "stdout",
     "output_type": "stream",
     "text": [
      "2500\n",
      "2500\n",
      "101\n"
     ]
    }
   ],
   "source": [
    "# Calculate the sum of the odd integers < 100\n",
    "\n",
    "sum = 0\n",
    "n = 0\n",
    "while n <= 100:\n",
    "    if n % 2 == 1:\n",
    "        sum = sum + n\n",
    "    n = n + 1\n",
    "print(sum)\n",
    "\n",
    "sum = 0\n",
    "n = 1\n",
    "while n <= 100:\n",
    "    sum = sum + n\n",
    "    n = n + 2\n",
    "print(sum)\n",
    "print(n)\n"
   ]
  },
  {
   "cell_type": "code",
   "execution_count": 8,
   "metadata": {
    "slideshow": {
     "slide_type": "slide"
    }
   },
   "outputs": [
    {
     "name": "stdout",
     "output_type": "stream",
     "text": [
      "Sum is 55\n"
     ]
    }
   ],
   "source": [
    "# Example: calculating the num of the first 10 integers\n",
    "\n",
    "sum = 0 # This is a counter for the sum\n",
    "i = 0\n",
    "while i <= 10: # We calculate the sum up to and including 10\n",
    "  sum = sum + i\n",
    "  i += 1\n",
    "\n",
    "print(\"Sum is\", sum)"
   ]
  },
  {
   "cell_type": "markdown",
   "metadata": {
    "id": "66UdL8pLaYO2",
    "slideshow": {
     "slide_type": "-"
    }
   },
   "source": [
    "# Example: Calculating the sum of odd numbrs"
   ]
  },
  {
   "cell_type": "code",
   "execution_count": 14,
   "metadata": {
    "colab": {
     "base_uri": "https://localhost:8080/"
    },
    "execution": {
     "iopub.execute_input": "2022-09-23T00:20:05.753542Z",
     "iopub.status.busy": "2022-09-23T00:20:05.750420Z",
     "iopub.status.idle": "2022-09-23T00:20:05.758652Z",
     "shell.execute_reply": "2022-09-23T00:20:05.759400Z"
    },
    "executionInfo": {
     "elapsed": 11137,
     "status": "ok",
     "timestamp": 1607549549001,
     "user": {
      "displayName": "Benedict Paten",
      "photoUrl": "https://lh3.googleusercontent.com/a-/AOh14Gh2rYrrH6yoNnUp0Oj4p4ouybc6ZcWGyPmKFtIY=s64",
      "userId": "06399644931392855882"
     },
     "user_tz": 480
    },
    "id": "HO0xOmC8DzkI",
    "outputId": "c83a044a-fbf2-406b-9ae4-b4a540dcf8b6",
    "slideshow": {
     "slide_type": "fragment"
    }
   },
   "outputs": [
    {
     "name": "stdout",
     "output_type": "stream",
     "text": [
      "Please enter an integer: 3\n",
      "Please enter a larger integer: 6\n",
      "Sum of odd integers is 8\n"
     ]
    }
   ],
   "source": [
    "# Calculate the sum of odd numbered integers in the range x, x+1, x+2, ... y-1\n",
    "\n",
    "x = int(input(\"Please enter an integer: \"))\n",
    "y = int(input(\"Please enter a larger integer: \"))\n",
    "\n",
    "assert y > x # Check the input is okay\n",
    "\n",
    "z = 0 # This is a counter for the sum\n",
    "i = x\n",
    "while i < y: # We calculate the sum up to but excluding y\n",
    "  if i % 2 == 1: # This conditional is true if i is odd\n",
    "    z += i\n",
    "  i += 1\n",
    "\n",
    "print(\"Sum of odd integers is\", z)"
   ]
  },
  {
   "cell_type": "markdown",
   "metadata": {
    "id": "_KTnjyZqZjs6",
    "slideshow": {
     "slide_type": "fragment"
    }
   },
   "source": [
    "You should be able to understand the above, if it hasn't stuck yet don't worry, but spend some time \"unrolling\" the code in your head to see how the flow of execution works.\n"
   ]
  },
  {
   "cell_type": "markdown",
   "metadata": {
    "slideshow": {
     "slide_type": "subslide"
    }
   },
   "source": [
    "# Challenge 5"
   ]
  },
  {
   "cell_type": "code",
   "execution_count": 16,
   "metadata": {
    "execution": {
     "iopub.execute_input": "2022-09-23T00:20:05.766467Z",
     "iopub.status.busy": "2022-09-23T00:20:05.765511Z",
     "iopub.status.idle": "2022-09-23T00:20:05.773023Z",
     "shell.execute_reply": "2022-09-23T00:20:05.773556Z"
    },
    "slideshow": {
     "slide_type": "fragment"
    }
   },
   "outputs": [
    {
     "name": "stdout",
     "output_type": "stream",
     "text": [
      "Please enter an integer: .9\n",
      "Please enter a power: 2\n",
      "0.81\n"
     ]
    }
   ],
   "source": [
    "x = float(input(\"Please enter an integer: \"))\n",
    "y = int(input(\"Please enter a power: \"))\n",
    "\n",
    "# Write a program to find x**y without using the power operator (hint: using a while loop!). print the resulting number\n",
    "# Compute 1 * x * x * x ... (y times)\n",
    "\n",
    "n = 0\n",
    "product = 1\n",
    "while n < y:\n",
    "    product = product * x\n",
    "    n += 1\n",
    "\n",
    "print(product)"
   ]
  },
  {
   "cell_type": "markdown",
   "metadata": {
    "id": "SCdB4AkyYU2L",
    "slideshow": {
     "slide_type": "slide"
    }
   },
   "source": [
    "# Example: Calculating Fibonacci Numbers\n",
    "\n",
    "We can use loops do repetitive, repeating calculations\n",
    "\n",
    "Let's calculate Fibonacci numbers. \n",
    " * The first Fibonacci number is 0 and the second is 1. \n",
    " * The ith Fibonacci number is the sum of \n",
    "the preceding two Fibonacci numbers in the sequence, the i-1th and i-2th Fibonacci numbers. \n",
    "\n",
    "\n",
    "The Fibonacci sequence is therefore 0, 1, 1, 2, 3, 5, 8, 13, ..."
   ]
  },
  {
   "cell_type": "code",
   "execution_count": 17,
   "metadata": {
    "colab": {
     "base_uri": "https://localhost:8080/"
    },
    "execution": {
     "iopub.execute_input": "2022-09-23T00:20:05.736906Z",
     "iopub.status.busy": "2022-09-23T00:20:05.734553Z",
     "iopub.status.idle": "2022-09-23T00:20:05.743986Z",
     "shell.execute_reply": "2022-09-23T00:20:05.744750Z"
    },
    "executionInfo": {
     "elapsed": 3122,
     "status": "ok",
     "timestamp": 1607549176002,
     "user": {
      "displayName": "Benedict Paten",
      "photoUrl": "https://lh3.googleusercontent.com/a-/AOh14Gh2rYrrH6yoNnUp0Oj4p4ouybc6ZcWGyPmKFtIY=s64",
      "userId": "06399644931392855882"
     },
     "user_tz": 480
    },
    "id": "gpLlOyLxOQue",
    "outputId": "5f91215e-77ca-4bf3-f018-e098b322802c",
    "slideshow": {
     "slide_type": "subslide"
    }
   },
   "outputs": [
    {
     "name": "stdout",
     "output_type": "stream",
     "text": [
      "Fibonacci number 1 is 0\n",
      "Fibonacci number 2 is 1\n",
      "In the loop, Fibonacci number 3 is 1 fibiMinus2 is 0 fibiMinus1 is 1\n",
      "In the loop, Fibonacci number 4 is 2 fibiMinus2 is 1 fibiMinus1 is 1\n",
      "In the loop, Fibonacci number 5 is 3 fibiMinus2 is 1 fibiMinus1 is 2\n",
      "In the loop, Fibonacci number 6 is 5 fibiMinus2 is 2 fibiMinus1 is 3\n",
      "In the loop, Fibonacci number 7 is 8 fibiMinus2 is 3 fibiMinus1 is 5\n",
      "In the loop, Fibonacci number 8 is 13 fibiMinus2 is 5 fibiMinus1 is 8\n",
      "In the loop, Fibonacci number 9 is 21 fibiMinus2 is 8 fibiMinus1 is 13\n",
      "In the loop, Fibonacci number 10 is 34 fibiMinus2 is 13 fibiMinus1 is 21\n",
      "Loop ended, i is 11\n"
     ]
    }
   ],
   "source": [
    "# A calculater for Fibonacci numbers\n",
    "\n",
    "print(\"Fibonacci number 1 is 0\")\n",
    "print(\"Fibonacci number 2 is 1\")\n",
    "\n",
    "i = 3\n",
    "fibiMinus2 = 0 # The first Fibonacci number\n",
    "fibiMinus1 = 1 # The second Fibonacci number\n",
    "\n",
    "while i <= 10:\n",
    "  fibi = fibiMinus1 + fibiMinus2  # The ith Fibonacci number\n",
    "  print(\"In the loop, Fibonacci number\", i, \"is\", fibi, \"fibiMinus2 is\", fibiMinus2, \"fibiMinus1 is\",fibiMinus1)\n",
    "    \n",
    "  i = i + 1\n",
    "  fibiMinus2 = fibiMinus1\n",
    "  fibiMinus1 = fibi\n",
    "\n",
    "print(\"Loop ended, i is\",i)"
   ]
  },
  {
   "cell_type": "code",
   "execution_count": 2,
   "metadata": {},
   "outputs": [
    {
     "name": "stdout",
     "output_type": "stream",
     "text": [
      "5"
     ]
    }
   ],
   "source": [
    "\n",
    "print(5, end=\"\")\n",
    "        \n",
    "        \n"
   ]
  },
  {
   "cell_type": "markdown",
   "metadata": {
    "id": "f2jTGrfA5kx5",
    "slideshow": {
     "slide_type": "slide"
    }
   },
   "source": [
    "# Reading\n",
    "\n",
    "Chapter 5 of the open book: http://openbookproject.net/thinkcs/python/english3e/conditionals.html\n",
    "\n",
    "# Homework \n",
    "\n",
    "* Go to Canvas and complete the lecture quiz, which involves completing each challenge problem\n",
    "* ZyBook: Reading 4\n"
   ]
  }
 ],
 "metadata": {
  "celltoolbar": "Slideshow",
  "colab": {
   "collapsed_sections": [],
   "name": "L04 Conditionals and Branching.ipynb",
   "provenance": [
    {
     "file_id": "1kkmlQW4vnBVbvlK3b2I29lUrre_3gD2y",
     "timestamp": 1547248458335
    },
    {
     "file_id": "17GPUwfjMAW-SkqDI2qb9LangNzYzgNH_",
     "timestamp": 1547074807405
    }
   ]
  },
  "kernelspec": {
   "display_name": "Python 3",
   "language": "python",
   "name": "python3"
  },
  "language_info": {
   "codemirror_mode": {
    "name": "ipython",
    "version": 3
   },
   "file_extension": ".py",
   "mimetype": "text/x-python",
   "name": "python",
   "nbconvert_exporter": "python",
   "pygments_lexer": "ipython3",
   "version": "3.6.6+"
  }
 },
 "nbformat": 4,
 "nbformat_minor": 1
}
