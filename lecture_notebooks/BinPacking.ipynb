{
 "cells": [
  {
   "cell_type": "code",
   "execution_count": 2,
   "metadata": {},
   "outputs": [
    {
     "name": "stdout",
     "output_type": "stream",
     "text": [
      "[[], [2], [], [2]]\n",
      "[7, 5, 4, 1, 1]\n"
     ]
    }
   ],
   "source": [
    "# Write a generator function (using yield) called gen: \n",
    "# Input: a list of boxes\n",
    "# Output: a generator (using yield) that enumerates all possible configuration,\n",
    "# where each configuration is a list of boxes\n",
    "# (using each box size at most once)\n",
    "# Hint: use recursion, good exam prep!\n",
    "\n",
    "def gen(boxes):\n",
    "    if boxes == []:\n",
    "        yield []\n",
    "    else:\n",
    "        first = boxes[0]\n",
    "        rest  = boxes[1:]\n",
    "        for c in gen(rest):\n",
    "            yield c\n",
    "            yield rest + c\n",
    "            \n",
    "print(list(gen([1,2])))\n",
    "            \n",
    "# Write a function binpacking\n",
    "# Input: a list of boxes and an integer limit\n",
    "# Output: the highest configuration (list of boxes) that fits under that limit.\n",
    "\n",
    "def binpacking(boxes,limit):\n",
    "    allconfigs = list(gen(boxes))\n",
    "    allconfigsok = [c for c in allconfigs if sum(c) <= limit]\n",
    "    return max(allconfigsok, key=sum)\n",
    "\n",
    "print(binpacking( [10,7,5,4,1], 20))"
   ]
  },
  {
   "cell_type": "code",
   "execution_count": 1,
   "metadata": {},
   "outputs": [
    {
     "ename": "KeyError",
     "evalue": "3",
     "output_type": "error",
     "traceback": [
      "\u001b[0;31m---------------------------------------------------------------------------\u001b[0m",
      "\u001b[0;31mKeyError\u001b[0m                                  Traceback (most recent call last)",
      "\u001b[0;32m<ipython-input-1-882ef86af1c9>\u001b[0m in \u001b[0;36m<module>\u001b[0;34m\u001b[0m\n\u001b[0;32m----> 1\u001b[0;31m \u001b[0;34m{\u001b[0m\u001b[0;34m}\u001b[0m\u001b[0;34m[\u001b[0m\u001b[0;36m3\u001b[0m\u001b[0;34m]\u001b[0m\u001b[0;34m\u001b[0m\u001b[0m\n\u001b[0m",
      "\u001b[0;31mKeyError\u001b[0m: 3"
     ]
    }
   ],
   "source": []
  },
  {
   "cell_type": "code",
   "execution_count": 9,
   "metadata": {},
   "outputs": [
    {
     "name": "stdout",
     "output_type": "stream",
     "text": [
      "cs is [[], [10], [7], [10, 7], [5], [10, 5], [7, 5], [10, 7, 5], [4], [10, 4], [7, 4], [10, 7, 4], [5, 4], [10, 5, 4], [7, 5, 4], [10, 7, 5, 4], [2], [10, 2], [7, 2], [10, 7, 2], [5, 2], [10, 5, 2], [7, 5, 2], [10, 7, 5, 2], [4, 2], [10, 4, 2], [7, 4, 2], [10, 7, 4, 2], [5, 4, 2], [10, 5, 4, 2], [7, 5, 4, 2], [10, 7, 5, 4, 2]]\n",
      "cs is [[], [10], [7], [10, 7], [5], [10, 5], [7, 5], [4], [10, 4], [7, 4], [5, 4], [10, 5, 4], [7, 5, 4], [2], [10, 2], [7, 2], [10, 7, 2], [5, 2], [10, 5, 2], [7, 5, 2], [4, 2], [10, 4, 2], [7, 4, 2], [5, 4, 2], [7, 5, 4, 2]]\n",
      "[10, 5, 4]\n"
     ]
    }
   ],
   "source": [
    "\n",
    "# Write a function binpacking\n",
    "# Input: a list of boxes and an integer limit\n",
    "# Output: the highest configuration (list of boxes) that fits under that limit.\n",
    "\n",
    "def binpacking(boxes,limit):\n",
    "\n",
    "    \n",
    "    \n",
    "# Test case    \n",
    "print(binpacking([10,7,5,4,1],20))\n"
   ]
  },
  {
   "cell_type": "markdown",
   "metadata": {},
   "source": [
    "# What is the Computational Complexity of Bin Packing Algorithm?\n",
    "\n"
   ]
  }
 ],
 "metadata": {
  "kernelspec": {
   "display_name": "Python 3",
   "language": "python",
   "name": "python3"
  },
  "language_info": {
   "codemirror_mode": {
    "name": "ipython",
    "version": 3
   },
   "file_extension": ".py",
   "mimetype": "text/x-python",
   "name": "python",
   "nbconvert_exporter": "python",
   "pygments_lexer": "ipython3",
   "version": "3.6.6+"
  }
 },
 "nbformat": 4,
 "nbformat_minor": 2
}
