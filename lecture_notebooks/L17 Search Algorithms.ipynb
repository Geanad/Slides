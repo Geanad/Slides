{
 "cells": [
  {
   "cell_type": "markdown",
   "metadata": {
    "id": "5UyFJYXOx-WH",
    "slideshow": {
     "slide_type": "slide"
    }
   },
   "source": [
    "# Lecture 17 - Search Algorithms \n",
    "\n",
    "Today: \n",
    "* A couple of simple list algorithms:\n",
    "  * Linear search\n",
    "  * Binary search \n",
    "* A very brief introduction to runtime analysis and Big O Notation\n",
    "* Word counting with dictionaries\n"
   ]
  },
  {
   "cell_type": "markdown",
   "metadata": {
    "id": "OFnux5O92Gk9",
    "slideshow": {
     "slide_type": "slide"
    }
   },
   "source": [
    "# Algorithms\n",
    "\n",
    "* Algorithm: a finite sequence of computer-implementable instructions to solve a class of problems (eg search, pattern recognition) or to perform a computation (eg matrix multiplication)\n",
    "\n",
    "* Algorithms are frequently coupled with data structures\n",
    "* A data structure is a data organization, management, and storage format that enables efficient access and modification.\n",
    "\n",
    "We compare algorithms according to their performance characteristics, typically:\n",
    "  * Speed\n",
    "  * Memory and computational requirments\n",
    "  * Performance at the task - do they solve the problem? If partially, how well?\n"
   ]
  },
  {
   "cell_type": "markdown",
   "metadata": {
    "id": "IawxdVk_6-Ay",
    "slideshow": {
     "slide_type": "fragment"
    }
   },
   "source": [
    "To give you a flavor of how think about and develop algorithms and data structures today we'll look at problems of searching text and develop a couple of simple algorithms and compare them. "
   ]
  },
  {
   "cell_type": "markdown",
   "metadata": {
    "id": "SL8ubi5VCXnS",
    "slideshow": {
     "slide_type": "slide"
    }
   },
   "source": [
    "# Loading Some Test Data\n",
    "\n",
    "We're going to implement some methods to search a corpus (collection) of words.\n",
    "\n",
    "Let's start by grabbing some text. Here, we'll load Alice in Wonderland (the example used in the open text book):"
   ]
  },
  {
   "cell_type": "code",
   "execution_count": 1,
   "metadata": {
    "id": "gXujhkeoCfYN",
    "slideshow": {
     "slide_type": "fragment"
    }
   },
   "outputs": [],
   "source": [
    "import urllib.request\n",
    "\n",
    "# Location of book\n",
    "url = \"http://openbookproject.net/thinkcs/python/english3e/_downloads/alice_in_wonderland.txt\"\n",
    "local_copy = \"alice_in_wonderland.txt\" # Local file to store book in\n",
    "\n",
    "urllib.request.urlretrieve(url, local_copy) # This function copies the \n",
    "# thing the url points at into the local file copy\n",
    "\n",
    "with open(local_copy) as fh: # Read from the local file into a string\n",
    "  alice_text = fh.read()"
   ]
  },
  {
   "cell_type": "markdown",
   "metadata": {
    "id": "TPY2D9NiySyR",
    "slideshow": {
     "slide_type": "subslide"
    }
   },
   "source": [
    "We've loaded the data, let's check it looks okay:"
   ]
  },
  {
   "cell_type": "code",
   "execution_count": 3,
   "metadata": {
    "colab": {
     "base_uri": "https://localhost:8080/"
    },
    "executionInfo": {
     "elapsed": 400,
     "status": "ok",
     "timestamp": 1608143089607,
     "user": {
      "displayName": "Benedict Paten",
      "photoUrl": "https://lh3.googleusercontent.com/a-/AOh14Gh2rYrrH6yoNnUp0Oj4p4ouybc6ZcWGyPmKFtIY=s64",
      "userId": "06399644931392855882"
     },
     "user_tz": 480
    },
    "id": "WH76JjM9vlMz",
    "outputId": "e4cb3048-0126-416c-9b52-e64a17870221",
    "slideshow": {
     "slide_type": "fragment"
    }
   },
   "outputs": [
    {
     "name": "stdout",
     "output_type": "stream",
     "text": [
      "\n",
      "ALICE'S ADVENTURES IN WONDERLAND\n",
      "\n",
      "Lewis Carroll\n",
      "\n",
      "\n",
      "\n",
      "CHAPTER I. Down the Rabbit-Hole\n",
      "\n",
      "\n"
     ]
    },
    {
     "data": {
      "text/plain": [
       "144391"
      ]
     },
     "execution_count": 3,
     "metadata": {},
     "output_type": "execute_result"
    }
   ],
   "source": [
    "print(alice_text[:85]) # Check we've got the words\n",
    "len(alice_text)"
   ]
  },
  {
   "cell_type": "markdown",
   "metadata": {
    "id": "a65KrCHLyfx2",
    "slideshow": {
     "slide_type": "subslide"
    }
   },
   "source": [
    "Let's preprocess the data into lowercase words:"
   ]
  },
  {
   "cell_type": "code",
   "execution_count": 5,
   "metadata": {
    "id": "wqBqdZJuyggP",
    "slideshow": {
     "slide_type": "fragment"
    }
   },
   "outputs": [],
   "source": [
    "# Make all the alphabet characters lower case (so that we ignore capitalization)\n",
    "alice_text = alice_text.lower()\n",
    "\n",
    "alice_words = alice_text.split() # Chop the text up into individual words\n",
    "# using the split() method, which breaks the string up at whitespace"
   ]
  },
  {
   "cell_type": "markdown",
   "metadata": {
    "id": "STjZ9HyjzLJO",
    "slideshow": {
     "slide_type": "fragment"
    }
   },
   "source": [
    "Finally, let's check it:"
   ]
  },
  {
   "cell_type": "code",
   "execution_count": 6,
   "metadata": {
    "colab": {
     "base_uri": "https://localhost:8080/"
    },
    "executionInfo": {
     "elapsed": 598,
     "status": "ok",
     "timestamp": 1608145884864,
     "user": {
      "displayName": "Benedict Paten",
      "photoUrl": "https://lh3.googleusercontent.com/a-/AOh14Gh2rYrrH6yoNnUp0Oj4p4ouybc6ZcWGyPmKFtIY=s64",
      "userId": "06399644931392855882"
     },
     "user_tz": 480
    },
    "id": "sEurvsArzLjb",
    "outputId": "b6e02edb-9610-4973-fc41-85cb579f1b5b",
    "slideshow": {
     "slide_type": "fragment"
    }
   },
   "outputs": [
    {
     "name": "stdout",
     "output_type": "stream",
     "text": [
      "There are 26443 words\n",
      "[\"alice's\", 'adventures', 'in', 'wonderland', 'lewis', 'carroll', 'chapter', 'i.', 'down', 'the', 'rabbit-hole', 'alice', 'was', 'beginning', 'to', 'get', 'very', 'tired', 'of', 'sitting', 'by', 'her', 'sister', 'on', 'the', 'bank,', 'and', 'of', 'having', 'nothing', 'to', 'do:', 'once', 'or', 'twice', 'she', 'had', 'peeped', 'into', 'the', 'book', 'her', 'sister', 'was', 'reading,', 'but', 'it', 'had', 'no', 'pictures', 'or', 'conversations', 'in', 'it,', \"'and\", 'what', 'is', 'the', 'use', 'of', 'a', \"book,'\", 'thought', 'alice', \"'without\", 'pictures', 'or', \"conversation?'\", 'so', 'she', 'was', 'considering', 'in', 'her', 'own', 'mind', '(as', 'well', 'as', 'she', 'could,', 'for', 'the', 'hot', 'day']\n"
     ]
    }
   ],
   "source": [
    "## Checking again:\n",
    "print(f\"There are {len(alice_words)} words\")\n",
    "\n",
    "print(alice_words[:85])"
   ]
  },
  {
   "cell_type": "markdown",
   "metadata": {
    "id": "JRXQ4Y-U5c3Q",
    "slideshow": {
     "slide_type": "slide"
    }
   },
   "source": [
    "# Linear Search\n",
    "\n",
    "Let's implement a simplest possible method to check if a search word is in Alice in Wonderland:"
   ]
  },
  {
   "cell_type": "code",
   "execution_count": 7,
   "metadata": {
    "colab": {
     "base_uri": "https://localhost:8080/"
    },
    "executionInfo": {
     "elapsed": 872,
     "status": "ok",
     "timestamp": 1608146198625,
     "user": {
      "displayName": "Benedict Paten",
      "photoUrl": "https://lh3.googleusercontent.com/a-/AOh14Gh2rYrrH6yoNnUp0Oj4p4ouybc6ZcWGyPmKFtIY=s64",
      "userId": "06399644931392855882"
     },
     "user_tz": 480
    },
    "id": "cgorGTYL99xi",
    "outputId": "e7c39919-b769-4a62-bc17-d651e733e142",
    "slideshow": {
     "slide_type": "subslide"
    }
   },
   "outputs": [
    {
     "name": "stdout",
     "output_type": "stream",
     "text": [
      "index: 0 word: some\n",
      "index: 1 word: words\n",
      "index: 2 word: in\n",
      "index: 3 word: a\n",
      "index: 4 word: string\n"
     ]
    }
   ],
   "source": [
    "# First, a quick aside on \"enumerate()\"\n",
    "\n",
    "# enumerate is a cool function which returns for each\n",
    "# element v in a list a pair (i, v), where i is the index of v in the list\n",
    "for (i, word) in enumerate(\"some words in a string\".split()):\n",
    "  print(\"index:\", i, \"word:\", word)"
   ]
  },
  {
   "cell_type": "code",
   "execution_count": 7,
   "metadata": {
    "id": "4_RmtlKF5e_8",
    "slideshow": {
     "slide_type": "subslide"
    }
   },
   "outputs": [],
   "source": [
    "def search_linear(text, target):\n",
    "    \"\"\" Find and return the index of the first instance of target in text.\n",
    "    \"\"\"\n",
    "    for (i, word) in enumerate(text): \n",
    "       if word == target:\n",
    "           return i # We return the first index\n",
    "    return -1 # We did not find the string"
   ]
  },
  {
   "cell_type": "markdown",
   "metadata": {
    "id": "tULer_DTbIVb",
    "slideshow": {
     "slide_type": "fragment"
    }
   },
   "source": [
    "The **algorithm** here is the simplest you  think of - informally: to check if the word is in the text start reading the text from the beginning, and then, if you find it, return, otherwise keep going until you reach the end. Let's check it works:"
   ]
  },
  {
   "cell_type": "code",
   "execution_count": 9,
   "metadata": {
    "colab": {
     "base_uri": "https://localhost:8080/"
    },
    "executionInfo": {
     "elapsed": 725,
     "status": "ok",
     "timestamp": 1608157548352,
     "user": {
      "displayName": "Benedict Paten",
      "photoUrl": "https://lh3.googleusercontent.com/a-/AOh14Gh2rYrrH6yoNnUp0Oj4p4ouybc6ZcWGyPmKFtIY=s64",
      "userId": "06399644931392855882"
     },
     "user_tz": 480
    },
    "id": "17QQVX8tFZvI",
    "outputId": "d1a680b2-6add-45ae-f411-fe05ccc27334",
    "slideshow": {
     "slide_type": "fragment"
    }
   },
   "outputs": [
    {
     "name": "stdout",
     "output_type": "stream",
     "text": [
      "Found hatter at:  13384  context:  ['hatter', \"instead!'\", 'chapter', 'vii.', 'a', 'mad', 'tea-party', 'there', 'was', 'a', 'table', 'set', 'out', 'under', 'a', 'tree', 'in', 'front', 'of', 'the', 'house,', 'and', 'the', 'march', 'hare', 'and', 'the', 'hatter', 'were', 'having', 'tea', 'at', 'it:', 'a', 'dormouse', 'was', 'sitting', 'between', 'them,', 'fast', 'asleep,', 'and', 'the', 'other', 'two', 'were', 'using', 'it', 'as', 'a', 'cushion,', 'resting', 'their', 'elbows', 'on', 'it,', 'and', 'talking', 'over', 'its', 'head.', \"'very\", 'uncomfortable', 'for', 'the', \"dormouse,'\", 'thought', 'alice;', \"'only,\", 'as', \"it's\", 'asleep,', 'i', 'suppose', 'it', \"doesn't\", \"mind.'\", 'the', 'table', 'was', 'a', 'large', 'one,', 'but', 'the', 'three', 'were', 'all', 'crowded', 'together', 'at', 'one', 'corner', 'of', 'it:', \"'no\", 'room!', 'no', \"room!'\", 'they']\n"
     ]
    }
   ],
   "source": [
    "x = search_linear(alice_words, target=\"hatter\") \n",
    "# Search for the word \"hatter\" in the text\" - this should\n",
    "# be here, cos of the \"Mad Hatter\"\n",
    "\n",
    "if x != -1:\n",
    "  print(\"Found hatter at: \", x, \" context: \", alice_words[x:x+100]) # Check the match"
   ]
  },
  {
   "cell_type": "code",
   "execution_count": 10,
   "metadata": {
    "colab": {
     "base_uri": "https://localhost:8080/"
    },
    "executionInfo": {
     "elapsed": 484,
     "status": "ok",
     "timestamp": 1608157548553,
     "user": {
      "displayName": "Benedict Paten",
      "photoUrl": "https://lh3.googleusercontent.com/a-/AOh14Gh2rYrrH6yoNnUp0Oj4p4ouybc6ZcWGyPmKFtIY=s64",
      "userId": "06399644931392855882"
     },
     "user_tz": 480
    },
    "id": "4sf1jfpibM2g",
    "outputId": "a6199fcf-9154-471a-ea43-fb4af1509bc3",
    "slideshow": {
     "slide_type": "fragment"
    }
   },
   "outputs": [
    {
     "name": "stdout",
     "output_type": "stream",
     "text": [
      "-1\n"
     ]
    }
   ],
   "source": [
    "# Let's check a negative case:\n",
    "x = search_linear(alice_words, target=\"donald\") # Search for the word \"donald\" in the text\"\n",
    "# I don't remember a Donald in the book\n",
    "\n",
    "print(x) # Donald is not in the text"
   ]
  },
  {
   "cell_type": "markdown",
   "metadata": {
    "slideshow": {
     "slide_type": "subslide"
    }
   },
   "source": [
    "# Challenge 1"
   ]
  },
  {
   "cell_type": "code",
   "execution_count": 11,
   "metadata": {
    "slideshow": {
     "slide_type": "fragment"
    }
   },
   "outputs": [],
   "source": [
    "# Adapt search_linear to find and return the last instance of the target in the text. \n",
    "# Call the adapted function search_linear_reversed"
   ]
  },
  {
   "cell_type": "markdown",
   "metadata": {
    "id": "NtRZkIQDEGaF",
    "slideshow": {
     "slide_type": "slide"
    }
   },
   "source": [
    "# Pseudocode\n",
    "\n",
    "Often times when we write algorithms in **pseudocode**, a programming language like description of the procedure that is sufficintly formal to allow implementation. For example, we can write down the linear \n",
    "search algorithm in pseudocode:\n",
    "\n",
    "* let s be the search word\n",
    "* let t be the text we are searching as a list of words\n",
    "* let j equal -1\n",
    "\n",
    "* for each word w and its index i in t, from beginning to end:\n",
    "    * if s equals w:\n",
    "        * j = i, setting the index of w in t\n",
    "        * break out of the loop\n",
    "\n",
    "* at termination, j equals the first index of s in t or -1 if s is not contained in t"
   ]
  },
  {
   "cell_type": "markdown",
   "metadata": {
    "id": "tUvPUCkubyZX",
    "slideshow": {
     "slide_type": "fragment"
    }
   },
   "source": [
    "Pseudocode should be sufficiently detailed to make it clear how to implement it, but it need not be an actual implementation in a language like Python."
   ]
  },
  {
   "cell_type": "markdown",
   "metadata": {
    "id": "nGOShGrsI_FM",
    "slideshow": {
     "slide_type": "slide"
    }
   },
   "source": [
    "# Big O Notation - Analyzing Computational Complexity\n",
    "\n",
    "* Say that *N* is the number of words in the text you're searching.  It takes in the worst case (if the word you search for is not in the text) *N* string comparisons for search_linear() to run. \n",
    "\n",
    "* We denote this O(N) time, which is just a shorthand called \"Big O notation\" for saying that the **worst-case running time** of search_linear is linear in the length of the text. \n",
    "\n",
    "*  For many applications, O(N) may be just fine, but often, if you want to analyse a lot of data, or if you want to run the algorithm a lot of times, you find you need faster methods. "
   ]
  },
  {
   "cell_type": "markdown",
   "metadata": {
    "id": "grhfzUnx514E",
    "slideshow": {
     "slide_type": "slide"
    }
   },
   "source": [
    "# Binary Search\n",
    "\n",
    "Let's say we can first sort the words in the text. Given a sorted list of the words in the book \"binary search\" is a much faster method.\n",
    "\n",
    "Here's an illustration - we are searching for 7 in the sorted list of integers (example from Wikipedia):\n",
    "\n",
    "<img src=\"https://upload.wikimedia.org/wikipedia/commons/thumb/8/83/Binary_Search_Depiction.svg/2880px-Binary_Search_Depiction.svg.png\" width=800 height=400 />\n",
    "\n",
    "\n",
    "We start from the middle of the list, and then check if the middle element is less than, equal or greater than the search query. Based on the result we either find the query or can halve the size of the search, and so recursively solve the problem."
   ]
  },
  {
   "cell_type": "markdown",
   "metadata": {
    "id": "6Mb9Rskkd8mY",
    "slideshow": {
     "slide_type": "slide"
    }
   },
   "source": [
    "# Binary Search Pseudocode\n",
    "\n",
    "* let s be the search word\n",
    "* let t be the text we are searching as a list of N words sorted\n",
    "in ascending order\n",
    "\n",
    "* let l = 0, the leftmost index of our search interval (inclusive)\n",
    "* let r = N, rightmost index of search interval (exclusive)\n",
    "* let i = -1 \n",
    "\n",
    "* while l < r, the interval that we are searching is non-zero length\n",
    "  * m = (l + r) // 2, the mid point of the interval\n",
    "\n",
    "  * if s < t[m]: (If the word is in t it must be in the interval l, m)\n",
    "    * r = m # Shrink the interval from the right\n",
    "\n",
    "  * else if s > t[m]: (If the word is in t it must be in the interval m+1, r)\n",
    "    * l = m+1 # Shrink the interval from the left\n",
    "\n",
    "  * else: s must equal t[m]\n",
    "    * i = m\n",
    "    * break out of the loop\n",
    "\n",
    "* at termination i equals an index of s in t or -1 if s is not contained in t\n",
    "  "
   ]
  },
  {
   "cell_type": "markdown",
   "metadata": {
    "id": "ddFQ2S7Nvp2O",
    "slideshow": {
     "slide_type": "subslide"
    }
   },
   "source": [
    "Let's translate this into a Python function:"
   ]
  },
  {
   "cell_type": "code",
   "execution_count": 8,
   "metadata": {
    "id": "9KoR3Fys55XO",
    "slideshow": {
     "slide_type": "fragment"
    }
   },
   "outputs": [],
   "source": [
    "def search_binary(sorted_text, target, debug_print=False):\n",
    "    \"\"\" Find and return an index of target in sorted_text\n",
    "    \"\"\"\n",
    "    # l and r represent the region of interest (ROI) that we search over\n",
    "    # initially the ROI is the whole of xs\n",
    "    l = 0 \n",
    "    r = len(sorted_text)\n",
    "    \n",
    "    while l < r:\n",
    "        m = (l + r) // 2 # The mid point of the interval\n",
    "\n",
    "        if debug_print:\n",
    "          print(f\"Interval[{l}:{r}](size={r-l}), probed='{sorted_text[m]}', target='{target}'\")\n",
    "\n",
    "        if target < sorted_text[m]:\n",
    "          r = m\n",
    "\n",
    "        elif target > sorted_text[m]:\n",
    "          l = m+1\n",
    "\n",
    "        else:\n",
    "          assert target == sorted_text[m] # Sanity check\n",
    "          return m\n",
    "    \n",
    "    return -1 # If we've gotten here the word isn't in the text"
   ]
  },
  {
   "cell_type": "markdown",
   "metadata": {
    "id": "AZ0H__aEGbpY",
    "slideshow": {
     "slide_type": "subslide"
    }
   },
   "source": [
    "So, let's test it:"
   ]
  },
  {
   "cell_type": "code",
   "execution_count": 9,
   "metadata": {
    "colab": {
     "base_uri": "https://localhost:8080/"
    },
    "executionInfo": {
     "elapsed": 557,
     "status": "ok",
     "timestamp": 1608165005768,
     "user": {
      "displayName": "Benedict Paten",
      "photoUrl": "https://lh3.googleusercontent.com/a-/AOh14Gh2rYrrH6yoNnUp0Oj4p4ouybc6ZcWGyPmKFtIY=s64",
      "userId": "06399644931392855882"
     },
     "user_tz": 480
    },
    "id": "HmpKI-KeXEb1",
    "outputId": "b8bdee22-1956-4164-a02d-95e8eae3f779",
    "slideshow": {
     "slide_type": "fragment"
    }
   },
   "outputs": [
    {
     "name": "stdout",
     "output_type": "stream",
     "text": [
      "Interval[0:26443](size=26443), probed='many', target='hatter'\n",
      "Interval[0:13221](size=13221), probed='distraction,', target='hatter'\n",
      "Interval[6611:13221](size=6610), probed='herself.', target='hatter'\n",
      "Interval[6611:9916](size=3305), probed='get', target='hatter'\n",
      "Interval[8264:9916](size=1652), probed='hare:', target='hatter'\n",
      "Interval[9091:9916](size=825), probed='hearts', target='hatter'\n",
      "Interval[9091:9503](size=412), probed='he', target='hatter'\n",
      "Interval[9091:9297](size=206), probed='have', target='hatter'\n",
      "Interval[9091:9194](size=103), probed='hatter', target='hatter'\n",
      "Found hatter at:  9142\n"
     ]
    }
   ],
   "source": [
    "# Let's demo search binary\n",
    "\n",
    "sorted_alice_words = sorted(alice_words) \n",
    "# Sort the words in alice in wonder land into dictionary order\n",
    "\n",
    "#print(sorted_alice_words[:100])\n",
    "\n",
    "x = search_binary(sorted_alice_words, target=\"hatter\", debug_print=True) \n",
    "# Search for the word \"hatter\" in the text\" \n",
    "\n",
    "if x != -1:\n",
    "  print(\"Found hatter at: \", x) # Check the match"
   ]
  },
  {
   "cell_type": "code",
   "execution_count": 17,
   "metadata": {
    "colab": {
     "base_uri": "https://localhost:8080/"
    },
    "executionInfo": {
     "elapsed": 339,
     "status": "ok",
     "timestamp": 1608165105170,
     "user": {
      "displayName": "Benedict Paten",
      "photoUrl": "https://lh3.googleusercontent.com/a-/AOh14Gh2rYrrH6yoNnUp0Oj4p4ouybc6ZcWGyPmKFtIY=s64",
      "userId": "06399644931392855882"
     },
     "user_tz": 480
    },
    "id": "-f882DwwGvoW",
    "outputId": "5ec7b7e6-72ca-4643-d6a8-59699b762633",
    "slideshow": {
     "slide_type": "subslide"
    }
   },
   "outputs": [
    {
     "name": "stdout",
     "output_type": "stream",
     "text": [
      "Interval[0:26443](size=26443), probed='many', target='donald'\n",
      "Interval[0:13221](size=13221), probed='distraction,', target='donald'\n",
      "Interval[6611:13221](size=6610), probed='herself.', target='donald'\n",
      "Interval[6611:9916](size=3305), probed='get', target='donald'\n",
      "Interval[6611:8263](size=1652), probed='eye,', target='donald'\n",
      "Interval[6611:7437](size=826), probed='dreamy', target='donald'\n",
      "Interval[6611:7024](size=413), probed='door,', target='donald'\n",
      "Interval[6611:6817](size=206), probed='doesn't', target='donald'\n",
      "Interval[6715:6817](size=102), probed='don't', target='donald'\n",
      "Interval[6767:6817](size=50), probed='done', target='donald'\n",
      "Interval[6767:6792](size=25), probed='don't', target='donald'\n",
      "Interval[6780:6792](size=12), probed='don't!'', target='donald'\n",
      "Interval[6787:6792](size=5), probed='done', target='donald'\n",
      "Interval[6787:6789](size=2), probed='done', target='donald'\n",
      "Interval[6787:6788](size=1), probed='done', target='donald'\n",
      "-1\n"
     ]
    }
   ],
   "source": [
    "# Let's check a negative case:\n",
    "x = search_binary(sorted_alice_words, target=\"donald\", debug_print=True) \n",
    "# Search for the word \"donald\" in the text\"\n",
    "# I don't remember a Donald in the book\n",
    "\n",
    "print(x) # Donald is not in the text"
   ]
  },
  {
   "cell_type": "markdown",
   "metadata": {
    "slideshow": {
     "slide_type": "subslide"
    }
   },
   "source": [
    "# Challenge 2"
   ]
  },
  {
   "cell_type": "code",
   "execution_count": 11,
   "metadata": {
    "slideshow": {
     "slide_type": "fragment"
    }
   },
   "outputs": [],
   "source": [
    "# Write an adapted version of search_binary that uses recursion\n",
    "\n",
    "def search_binary_recursive(sorted_text, target):\n",
    "    \"\"\" Find and return an index of target in sorted_text\n",
    "    \"\"\"\n",
    "    # Code to write - hint, use slices to reduce the size of the list to search\n",
    "    return -1\n",
    "    \n",
    "x = search_binary_recursive(sorted_alice_words, \"hatter\") \n",
    "# Search for the word \"hatter\" in the text\" \n",
    "\n",
    "if x != -1:\n",
    "  print(\"Found hatter at: \", x, \" context: \", sorted_alice_words[x-10:x+10]) \n"
   ]
  },
  {
   "cell_type": "markdown",
   "metadata": {
    "id": "mf_S6f6bbIMa",
    "slideshow": {
     "slide_type": "slide"
    }
   },
   "source": [
    "# Analysing Computational Complexity\n",
    "\n",
    "* Intuitively binary_search seems a lot faster than the linear_search. But, can we figure out it's actual worst case running time?\n",
    "\n",
    "* Knowing the worst-case is helpful, because it lets us design robust programs that will *always* run quickly, regardless of the input.\n",
    "\n",
    "* Again, N is the number of words in the text. \n",
    "\n",
    "* At each loop of the code we halve the size of the list we're searching. It follows we can not perform more than log2(N) loops to find any word (or establish it is not there). (See the text book for a slightly more detailed explanation). \n",
    "\n",
    "* The worst case running time is therefore O(log(N)). \n",
    "  * Note, we drop the log2, because d * log2(N) = logX(N), and with this kind of analysis, we don't care about the coefficients, just the nature of the scaling curve.\n",
    "\n",
    "\n",
    "\n"
   ]
  },
  {
   "cell_type": "markdown",
   "metadata": {
    "id": "ssNeuvR4uUrT",
    "slideshow": {
     "slide_type": "slide"
    }
   },
   "source": [
    "# Comparing Linear vs. Binary Search Empirically"
   ]
  },
  {
   "cell_type": "code",
   "execution_count": 2,
   "metadata": {
    "colab": {
     "base_uri": "https://localhost:8080/"
    },
    "executionInfo": {
     "elapsed": 2653,
     "status": "ok",
     "timestamp": 1608165679190,
     "user": {
      "displayName": "Benedict Paten",
      "photoUrl": "https://lh3.googleusercontent.com/a-/AOh14Gh2rYrrH6yoNnUp0Oj4p4ouybc6ZcWGyPmKFtIY=s64",
      "userId": "06399644931392855882"
     },
     "user_tz": 480
    },
    "id": "FFR29Ic1Zg_b",
    "outputId": "06fe2d3d-826b-452c-da54-cd73773fdb4a",
    "slideshow": {
     "slide_type": "fragment"
    }
   },
   "outputs": [
    {
     "name": "stdout",
     "output_type": "stream",
     "text": [
      "It took 1.3322830200195312 seconds to search linear\n"
     ]
    }
   ],
   "source": [
    "# So, what is the speed difference for queries to these methods on data?\n",
    "\n",
    "import time\n",
    "import random\n",
    "\n",
    "# Sample with replacement 10,000 words from the book \n",
    "## Reminder: this is a list comprehension: super useful\n",
    "test_words = [ random.choice(alice_words) for i in range(10000)] \n",
    "\n",
    "# Sum up the amount of time it takes to locate these words in the book\n",
    "# using the linear search method\n",
    "total_linear_time = 0\n",
    "for test_word in test_words:\n",
    "  start_time = time.time() # time.time() gives the time in seconds to high precision\n",
    "  search_linear(alice_words, target=test_word)\n",
    "  total_linear_time += time.time()-start_time\n",
    "\n",
    "# Print the total linear search time\n",
    "print(\"It took \" + str(total_linear_time) + \" seconds to search linear\")\n"
   ]
  },
  {
   "cell_type": "markdown",
   "metadata": {
    "id": "waQP4phYJUpU",
    "slideshow": {
     "slide_type": "subslide"
    }
   },
   "source": [
    "Okay, how about binary search?"
   ]
  },
  {
   "cell_type": "code",
   "execution_count": 5,
   "metadata": {
    "colab": {
     "base_uri": "https://localhost:8080/"
    },
    "executionInfo": {
     "elapsed": 399,
     "status": "ok",
     "timestamp": 1608165691694,
     "user": {
      "displayName": "Benedict Paten",
      "photoUrl": "https://lh3.googleusercontent.com/a-/AOh14Gh2rYrrH6yoNnUp0Oj4p4ouybc6ZcWGyPmKFtIY=s64",
      "userId": "06399644931392855882"
     },
     "user_tz": 480
    },
    "id": "y2ipDujRJPr5",
    "outputId": "a298353c-d51b-4fc8-9428-42530371d2be",
    "slideshow": {
     "slide_type": "fragment"
    }
   },
   "outputs": [
    {
     "name": "stdout",
     "output_type": "stream",
     "text": [
      "It took 0.03300046920776367 seconds to search binary\n",
      "Speed up of binary vs. linear is: 40.371638707067206 times\n"
     ]
    }
   ],
   "source": [
    "# Sum up the amount of time it takes to locate these words in the book\n",
    "# using the binary search method\n",
    "total_binary_time = 0\n",
    "for test_word in test_words:\n",
    "  start_time = time.time()\n",
    "  search_binary(sorted_alice_words, target=test_word)\n",
    "  total_binary_time += time.time()-start_time\n",
    "\n",
    "print(\"It took \" + str(total_binary_time) + \" seconds to search binary\")\n",
    "\n",
    "print(\"Speed up of binary vs. linear is: \" + \n",
    "      str(total_linear_time/total_binary_time) + \" times\")"
   ]
  },
  {
   "cell_type": "markdown",
   "metadata": {
    "id": "ea_uApA96XkA",
    "slideshow": {
     "slide_type": "slide"
    }
   },
   "source": [
    "# Word Counting with Dictionaries\n",
    "\n",
    "Okay, we've seen how by sorting the text and formulating a better algorithm we can improve from O(N) to O(log(N)) time to search for a word in our text.\n",
    "\n",
    "Can we do better?\n",
    "\n",
    "Now we use a dictionary to produce a map from the words in the text to their locations:"
   ]
  },
  {
   "cell_type": "code",
   "execution_count": 7,
   "metadata": {
    "id": "djNIjm4nBKiZ",
    "slideshow": {
     "slide_type": "fragment"
    }
   },
   "outputs": [],
   "source": [
    "def index_words(words):\n",
    "  \"\"\" Returns a dictionary of words. \n",
    "  \n",
    "  words is a list of strings, each representing a word.\n",
    "  \n",
    "  The return value is a dictionary whose keys are the words in \"words\" and\n",
    "  whose values are lists, each representing the unique occurrences of the given\n",
    "  word.\n",
    "  \"\"\"\n",
    "  d = {}\n",
    "  for i, word in enumerate(words): # Using enumerate again\n",
    "    if word in d: # Test is the word is already in the index, if it is\n",
    "      # just add the occurrence to the index\n",
    "      d[word].append(i)\n",
    "    else: # Otherwise, create a new entry, storing the occurence in a list\n",
    "      d[word] = [ i ]\n",
    "      \n",
    "  return d      "
   ]
  },
  {
   "cell_type": "markdown",
   "metadata": {
    "id": "AJ0zep5iOmrg",
    "slideshow": {
     "slide_type": "subslide"
    }
   },
   "source": [
    "Let's test it:"
   ]
  },
  {
   "cell_type": "code",
   "execution_count": 11,
   "metadata": {
    "colab": {
     "base_uri": "https://localhost:8080/"
    },
    "executionInfo": {
     "elapsed": 390,
     "status": "ok",
     "timestamp": 1608167200114,
     "user": {
      "displayName": "Benedict Paten",
      "photoUrl": "https://lh3.googleusercontent.com/a-/AOh14Gh2rYrrH6yoNnUp0Oj4p4ouybc6ZcWGyPmKFtIY=s64",
      "userId": "06399644931392855882"
     },
     "user_tz": 480
    },
    "id": "Xdr_7lSpOvTf",
    "outputId": "466eb49a-a4d2-419d-a199-bdfb2f5c4464",
    "slideshow": {
     "slide_type": "fragment"
    }
   },
   "outputs": [
    {
     "name": "stdout",
     "output_type": "stream",
     "text": [
      "There are 4940 unique words in Alice.\n",
      "Hatter occurs 24 times in Alice\n",
      "These are the occurrences of hatter in Alice: [13384, 13411, 13640, 13865, 13964, 14179, 14267, 14427, 14500, 14585, 14629, 14969, 15041, 15174, 23193, 23300, 23580, 23614, 23657, 23684, 23737, 23800, 24021, 24051]\n"
     ]
    }
   ],
   "source": [
    "alice_dict = index_words(alice_words)\n",
    "\n",
    "print(f\"There are {len(alice_dict)} unique words in Alice.\")\n",
    "\n",
    "print(f\"Hatter occurs {len(alice_dict['hatter'])} times in Alice\")\n",
    "\n",
    "print(f\"These are the occurrences of hatter in Alice: {alice_dict['hatter']}\")"
   ]
  },
  {
   "cell_type": "markdown",
   "metadata": {
    "id": "kH4p1ZYmPNFz",
    "slideshow": {
     "slide_type": "subslide"
    }
   },
   "source": [
    "# The Computational Complexity of Dictionary Search\n",
    "\n",
    "Recall that Python dictionaries are backed by hash tables, a data structure that produces a function from a set of keys to a set of values:\n",
    "\n",
    "<img src=\"https://upload.wikimedia.org/wikipedia/commons/thumb/d/d0/Hash_table_5_0_1_1_1_1_1_LL.svg/2560px-Hash_table_5_0_1_1_1_1_1_LL.svg.png\" width=800 height=400 />\n",
    "\n",
    "\n",
    "Making a few assumptions that the hash table is setup correctly the cost of looking up a key in a hashtable is O(1). \n",
    "  * Hash functions are typically O(1)\n",
    "  * Looking up the index of the hash value is O(1)\n",
    "  * Returning the address of the value in the bucket is O(1). If you are interested in more details see: https://en.wikipedia.org/wiki/Hash_table\n",
    "\n",
    "\n",
    "Given the dictionary, the algorithm to determine the location of a word in the dictionary is trivial - you just look it up!\n",
    "\n",
    "With the dictionary we have therefore reduced the search to an O(1) operation! This comes at the expense of building the hash table and keeping it in memory, but often this is a good trade!\n",
    "\n",
    "\n",
    "\n"
   ]
  },
  {
   "cell_type": "markdown",
   "metadata": {
    "id": "BFIDZZy4RD5V",
    "slideshow": {
     "slide_type": "slide"
    }
   },
   "source": [
    "# Comparing Dictionary vs. Linear vs. Binary Search Empirically"
   ]
  },
  {
   "cell_type": "code",
   "execution_count": 12,
   "metadata": {
    "colab": {
     "base_uri": "https://localhost:8080/"
    },
    "executionInfo": {
     "elapsed": 395,
     "status": "ok",
     "timestamp": 1608167891390,
     "user": {
      "displayName": "Benedict Paten",
      "photoUrl": "https://lh3.googleusercontent.com/a-/AOh14Gh2rYrrH6yoNnUp0Oj4p4ouybc6ZcWGyPmKFtIY=s64",
      "userId": "06399644931392855882"
     },
     "user_tz": 480
    },
    "id": "_4Q9a6bEPMRa",
    "outputId": "b37ab676-185f-41ab-8a84-5e199b6e49b4",
    "slideshow": {
     "slide_type": "fragment"
    }
   },
   "outputs": [
    {
     "name": "stdout",
     "output_type": "stream",
     "text": [
      "It took 0.0038568973541259766 seconds to search the dictionary\n",
      "Speed up of dictionary vs. linear is: 345.4286950608889 times\n",
      "Speed up of dictionary vs. binary is: 8.556221796377573 times\n"
     ]
    }
   ],
   "source": [
    "# Sum up the amount of time it takes to locate these words in the book\n",
    "# using the binary search method\n",
    "total_dict_time = 0\n",
    "for test_word in test_words:\n",
    "  start_time = time.time()\n",
    "  if test_word in alice_dict: # This checks if the word is in the dictionary\n",
    "    pass\n",
    "  total_dict_time += time.time()-start_time\n",
    "\n",
    "print(\"It took \" + str(total_dict_time) + \" seconds to search the dictionary\")\n",
    "\n",
    "print(\"Speed up of dictionary vs. linear is: \" + \n",
    "      str(total_linear_time/total_dict_time) + \" times\")\n",
    "\n",
    "print(\"Speed up of dictionary vs. binary is: \" + \n",
    "      str(total_binary_time/total_dict_time) + \" times\")"
   ]
  },
  {
   "cell_type": "markdown",
   "metadata": {
    "id": "NjM6RUvgR0NH",
    "slideshow": {
     "slide_type": "slide"
    }
   },
   "source": [
    "# Summary\n",
    "\n",
    "We've covered the concepts of data structures and algorithms today, but obviously we've barely scratched the surface. \n",
    "\n",
    "The takeaway concepts:\n",
    "\n",
    "* Algorithm: a finite sequence of well-defined, computer-implementable instructions, typically to solve a class of problems or to perform a computation.\n",
    "\n",
    "* Data structures: a data structure is a data organization, management, and storage format that enables efficient access and modification.\n",
    "\n",
    "* Pseudocode: a formal, language independent description of an algorithm\n",
    "\n",
    "* Computational complexity and Big O notation - an abstract way of reasoning about the cost of running an algorithm, invariant to the underlying computer\n",
    "\n",
    "\n"
   ]
  },
  {
   "cell_type": "markdown",
   "metadata": {
    "id": "nk-g1CxMH2gn",
    "slideshow": {
     "slide_type": "slide"
    }
   },
   "source": [
    "# Finally...\n",
    "\n",
    "Just for fun, let's use a plotting library to plot the frequency distribution of words in the book (don't worry, you don't need to know how to use this library, it won't be on the test):"
   ]
  },
  {
   "cell_type": "code",
   "execution_count": null,
   "metadata": {
    "colab": {
     "base_uri": "https://localhost:8080/",
     "height": 295
    },
    "executionInfo": {
     "elapsed": 1083,
     "status": "ok",
     "timestamp": 1608168003842,
     "user": {
      "displayName": "Benedict Paten",
      "photoUrl": "https://lh3.googleusercontent.com/a-/AOh14Gh2rYrrH6yoNnUp0Oj4p4ouybc6ZcWGyPmKFtIY=s64",
      "userId": "06399644931392855882"
     },
     "user_tz": 480
    },
    "id": "TTDE9AkvH_dM",
    "outputId": "417cf6d1-35ae-4440-f5ca-adc384a376a0",
    "slideshow": {
     "slide_type": "fragment"
    }
   },
   "outputs": [
    {
     "data": {
      "image/png": "[encoded data removed]",
      "text/plain": [
       "<Figure size 432x288 with 1 Axes>"
      ]
     },
     "metadata": {
      "needs_background": "light",
      "tags": []
     },
     "output_type": "display_data"
    }
   ],
   "source": [
    "import matplotlib.pyplot as plt\n",
    "\n",
    "x = [ len(alice_dict[i]) for i in alice_dict ] # Counts of words in Alice\n",
    "\n",
    "# the histogram of the data, using 100 bins\n",
    "n, bins, patches = plt.hist(x, 100, log=1)\n",
    "\n",
    "plt.xlabel('Word occurrences')\n",
    "plt.ylabel('f')\n",
    "plt.title('Histogram of word frequencies in Alice')\n",
    "plt.grid(True)\n",
    "plt.show()"
   ]
  },
  {
   "cell_type": "markdown",
   "metadata": {
    "id": "tSzCtefGTojo",
    "slideshow": {
     "slide_type": "slide"
    }
   },
   "source": [
    "# Challenge 3: Indexing with dictionaries"
   ]
  },
  {
   "cell_type": "code",
   "execution_count": 14,
   "metadata": {
    "id": "f6Q1jhWatP7f",
    "slideshow": {
     "slide_type": "fragment"
    }
   },
   "outputs": [
    {
     "name": "stdout",
     "output_type": "stream",
     "text": [
      "There are 0 capitalized words in Alice\n"
     ]
    }
   ],
   "source": [
    "# Write a function \"index_capitalized_words\" to build a dictionary of \n",
    "# all words starting with a capital letter and their occurrences in the text.\n",
    "\n",
    "# E.g. if the text was [ \"Alice!\", \"said\", \"the\", \"Queen\", \"of\", \"Hearts.\", \"Alice!\"]\n",
    "# the return value of the function would be \n",
    "# { \"Alice!\":[0,6], \"Queen\":[3], \"Hearts.\":[5] }\n",
    "\n",
    "# First let's reload Alice to not ignore capitalization:\n",
    "with open(local_copy) as fh:\n",
    "  alice_text = fh.read()\n",
    "alice_words = alice_text.split()\n",
    "\n",
    "# Code to complete here\n",
    "def index_capitalized_words(words):\n",
    "    return {}\n",
    "\n",
    "\n",
    "# Test code\n",
    "d = index_capitalized_words(alice_words)\n",
    "print(f\"There are {len(d)} capitalized words in Alice\")\n",
    "  "
   ]
  },
  {
   "cell_type": "markdown",
   "metadata": {
    "id": "PucGp8tOZC_s",
    "slideshow": {
     "slide_type": "slide"
    }
   },
   "source": [
    "\n",
    "# Homework\n",
    "\n",
    "* Zybooks Reading 17\n",
    "* Go to Canvas and complete the lecture quiz, which involves completing each challenge problem\n",
    "* Please, please fill out the SETS evaluation for CSE20! We appreciate any kind comments and constructive criticism you have!!"
   ]
  }
 ],
 "metadata": {
  "celltoolbar": "Slideshow",
  "colab": {
   "collapsed_sections": [],
   "name": "L17 Search Algorithms.ipynb",
   "provenance": []
  },
  "kernelspec": {
   "display_name": "Python 3",
   "language": "python",
   "name": "python3"
  },
  "language_info": {
   "codemirror_mode": {
    "name": "ipython",
    "version": 3
   },
   "file_extension": ".py",
   "mimetype": "text/x-python",
   "name": "python",
   "nbconvert_exporter": "python",
   "pygments_lexer": "ipython3",
   "version": "3.6.6+"
  }
 },
 "nbformat": 4,
 "nbformat_minor": 1
}
