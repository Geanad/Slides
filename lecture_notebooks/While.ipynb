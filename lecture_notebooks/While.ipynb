{
 "cells": [
  {
   "cell_type": "code",
   "execution_count": 1,
   "metadata": {},
   "outputs": [
    {
     "name": "stdout",
     "output_type": "stream",
     "text": [
      "1\n",
      "4\n"
     ]
    }
   ],
   "source": [
    "print(1**2)\n",
    "print(2**2)"
   ]
  },
  {
   "cell_type": "code",
   "execution_count": 2,
   "metadata": {},
   "outputs": [
    {
     "name": "stdout",
     "output_type": "stream",
     "text": [
      "1\n",
      "4\n",
      "9\n",
      "16\n"
     ]
    }
   ],
   "source": [
    "n = 1\n",
    "\n",
    "print(n**2)\n",
    "n = n + 1\n",
    "\n",
    "print(n**2)\n",
    "n = n + 1\n",
    "\n",
    "print(n**2)\n",
    "n = n + 1\n",
    "\n",
    "print(n**2)\n",
    "n = n + 1\n",
    "\n"
   ]
  },
  {
   "cell_type": "code",
   "execution_count": 1,
   "metadata": {},
   "outputs": [
    {
     "name": "stdout",
     "output_type": "stream",
     "text": [
      "1 cubed is 1\n",
      "2 cubed is 4\n",
      "3 cubed is 9\n",
      "4 cubed is 16\n",
      "5 cubed is 25\n"
     ]
    }
   ],
   "source": [
    "n = 1\n",
    "\n",
    "# Repeat the following code 5 times\n",
    "# Repeat the following code while n <= 5\n",
    "while n <= 5:\n",
    "  print(n,\"cubed is\",n**2)\n",
    "  n = n + 1\n"
   ]
  }
 ],
 "metadata": {
  "kernelspec": {
   "display_name": "Python 3",
   "language": "python",
   "name": "python3"
  },
  "language_info": {
   "codemirror_mode": {
    "name": "ipython",
    "version": 3
   },
   "file_extension": ".py",
   "mimetype": "text/x-python",
   "name": "python",
   "nbconvert_exporter": "python",
   "pygments_lexer": "ipython3",
   "version": "3.6.6+"
  }
 },
 "nbformat": 4,
 "nbformat_minor": 2
}
