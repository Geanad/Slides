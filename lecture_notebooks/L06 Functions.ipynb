{
 "cells": [
  {
   "cell_type": "markdown",
   "metadata": {
    "id": "V7DbjYGNM1I6",
    "slideshow": {
     "slide_type": "slide"
    }
   },
   "source": [
    "# Lecture 6 - Functions \n",
    "\n",
    "Today:\n",
    "* Functions:\n",
    "  * Function definitions and function calls\n",
    "  * Return values are optional\n",
    "  * Docstrings\n",
    "  * Return can be used for control flow\n",
    "  * None and the default return value\n",
    "  * Return can often sub for break\n",
    "  * Functions can call other functions - the stack\n",
    "  * The stack: getting to grips with functions and control flow\n"
   ]
  },
  {
   "cell_type": "markdown",
   "metadata": {
    "id": "BleZjMKkcxW_",
    "slideshow": {
     "slide_type": "slide"
    }
   },
   "source": [
    "# Functions\n",
    "\n",
    "A function in Python is like a mini program that takes inputs, executes some code and then (potentially) returns some value. \n",
    "\n",
    "They are very convenient for organizing and structuring programs."
   ]
  },
  {
   "cell_type": "code",
   "execution_count": null,
   "metadata": {
    "colab": {
     "base_uri": "https://localhost:8080/"
    },
    "execution": {
     "iopub.execute_input": "2022-09-23T00:20:08.613270Z",
     "iopub.status.busy": "2022-09-23T00:20:08.612184Z",
     "iopub.status.idle": "2022-09-23T00:20:08.697496Z",
     "shell.execute_reply": "2022-09-23T00:20:08.696758Z"
    },
    "executionInfo": {
     "elapsed": 3677,
     "status": "ok",
     "timestamp": 1607566707014,
     "user": {
      "displayName": "Benedict Paten",
      "photoUrl": "https://lh3.googleusercontent.com/a-/AOh14Gh2rYrrH6yoNnUp0Oj4p4ouybc6ZcWGyPmKFtIY=s64",
      "userId": "06399644931392855882"
     },
     "user_tz": 480
    },
    "id": "MB7Bm9u8cxXA",
    "outputId": "287c43d9-7cd7-46d1-e46a-4855deda3803",
    "slideshow": {
     "slide_type": "fragment"
    }
   },
   "outputs": [],
   "source": [
    "\n",
    "\n",
    "\n",
    "\n"
   ]
  },
  {
   "cell_type": "markdown",
   "metadata": {
    "slideshow": {
     "slide_type": "slide"
    }
   },
   "source": [
    "# Examples and Challenges "
   ]
  },
  {
   "cell_type": "code",
   "execution_count": 3,
   "metadata": {
    "slideshow": {
     "slide_type": "fragment"
    }
   },
   "outputs": [
    {
     "data": {
      "text/plain": [
       "4"
      ]
     },
     "execution_count": 3,
     "metadata": {},
     "output_type": "execute_result"
    }
   ],
   "source": [
    "def abs(x):\n",
    "    \"Returns the absolute value of its argument\"\n",
    "    if x >= 0:\n",
    "        r = x\n",
    "    else:\n",
    "        r = -x\n",
    "    return r\n",
    "\n",
    "abs(-4)\n"
   ]
  },
  {
   "cell_type": "code",
   "execution_count": null,
   "metadata": {
    "slideshow": {
     "slide_type": "fragment"
    }
   },
   "outputs": [],
   "source": [
    "def max(x,y):\n",
    "    pass\n",
    "\n"
   ]
  },
  {
   "cell_type": "code",
   "execution_count": null,
   "metadata": {
    "slideshow": {
     "slide_type": "fragment"
    }
   },
   "outputs": [],
   "source": [
    "def min(x,y):\n",
    "    pass\n",
    "\n"
   ]
  },
  {
   "cell_type": "code",
   "execution_count": 14,
   "metadata": {
    "slideshow": {
     "slide_type": "slide"
    }
   },
   "outputs": [
    {
     "data": {
      "text/plain": [
       "True"
      ]
     },
     "execution_count": 14,
     "metadata": {},
     "output_type": "execute_result"
    }
   ],
   "source": [
    "def contains(x,l):\n",
    "    \"Returns True iff the list l contains x\"\n",
    "    found = False\n",
    "    for y in l:\n",
    "        if x == y:\n",
    "            found = True\n",
    "    return found\n",
    "\n",
    "contains('a',['b','c','a'])"
   ]
  },
  {
   "cell_type": "markdown",
   "metadata": {
    "id": "Vyrs7TNsOvzK",
    "slideshow": {
     "slide_type": "slide"
    }
   },
   "source": [
    "  # Return values are optional\n",
    "\n",
    "\n",
    "  \n",
    "  Functions do something. Often the cleanest way to express that result is by returning a value - in this way they can be used in an expression to result in something. We saw this with the trivial \"add()\" example above. \n",
    "\n",
    "  However, functions do not have to return anything, consider this example:\n",
    "  \n"
   ]
  },
  {
   "cell_type": "code",
   "execution_count": 16,
   "metadata": {
    "colab": {
     "base_uri": "https://localhost:8080/"
    },
    "execution": {
     "iopub.execute_input": "2022-09-23T00:20:08.820816Z",
     "iopub.status.busy": "2022-09-23T00:20:08.819568Z",
     "iopub.status.idle": "2022-09-23T00:20:08.823399Z",
     "shell.execute_reply": "2022-09-23T00:20:08.824150Z"
    },
    "executionInfo": {
     "elapsed": 556,
     "status": "ok",
     "timestamp": 1607624793283,
     "user": {
      "displayName": "Benedict Paten",
      "photoUrl": "https://lh3.googleusercontent.com/a-/AOh14Gh2rYrrH6yoNnUp0Oj4p4ouybc6ZcWGyPmKFtIY=s64",
      "userId": "06399644931392855882"
     },
     "user_tz": 480
    },
    "id": "JHfKfNJlAXfg",
    "outputId": "4e71ff1c-3f4c-4f0e-a9d0-5c6719c9b28d",
    "slideshow": {
     "slide_type": "fragment"
    }
   },
   "outputs": [],
   "source": [
    "def printStrings(strings):\n",
    "    \"Print all the strings in the list strings\"\n",
    "    pass\n",
    "\n",
    "printStrings([ \"a\", \"list\", \"of\", \"strings\"])"
   ]
  },
  {
   "cell_type": "markdown",
   "metadata": {
    "id": "EEzCrh0W5_bx",
    "slideshow": {
     "slide_type": "subslide"
    }
   },
   "source": [
    "Here printStrings() does not return anything, rather it is used to print its input argument to the screen. This is an example of a \"side effect\" - it is not like a traditional math function, rather we call it because we want the side effect of printing the strings to the screen. \n",
    "\n",
    "It is important to understand that printing to the screen is not the same as returning a value."
   ]
  },
  {
   "cell_type": "markdown",
   "metadata": {
    "id": "QyhLzw5mq_ER",
    "slideshow": {
     "slide_type": "slide"
    }
   },
   "source": [
    "# Docstrings"
   ]
  },
  {
   "cell_type": "markdown",
   "metadata": {
    "id": "g7GWkgwBxw7N",
    "slideshow": {
     "slide_type": "fragment"
    }
   },
   "source": [
    "In general, a docstring is any string literal that occurs \n",
    "as the first statement  in a module, function, class, or method definition. "
   ]
  },
  {
   "cell_type": "code",
   "execution_count": 11,
   "metadata": {
    "colab": {
     "base_uri": "https://localhost:8080/"
    },
    "execution": {
     "iopub.execute_input": "2022-09-23T00:20:08.831380Z",
     "iopub.status.busy": "2022-09-23T00:20:08.830356Z",
     "iopub.status.idle": "2022-09-23T00:20:08.833841Z",
     "shell.execute_reply": "2022-09-23T00:20:08.834508Z"
    },
    "executionInfo": {
     "elapsed": 650,
     "status": "ok",
     "timestamp": 1607626625227,
     "user": {
      "displayName": "Benedict Paten",
      "photoUrl": "https://lh3.googleusercontent.com/a-/AOh14Gh2rYrrH6yoNnUp0Oj4p4ouybc6ZcWGyPmKFtIY=s64",
      "userId": "06399644931392855882"
     },
     "user_tz": 480
    },
    "id": "eJaBewuFPwMG",
    "outputId": "8dd973f1-e4dd-4179-b3cd-8592e87468d5",
    "slideshow": {
     "slide_type": "fragment"
    }
   },
   "outputs": [
    {
     "name": "stdout",
     "output_type": "stream",
     "text": [
      "Help on function printStrings in module __main__:\n",
      "\n",
      "printStrings(strings)\n",
      "    Function that prints the strings in a list of strings\n",
      "    \n",
      "    (this is a docstring)\n",
      "\n"
     ]
    }
   ],
   "source": [
    "# Docstrings are a way to document what a function does - \n",
    "# they are a (generally triple quoted)\n",
    "# string that occurs immediately after the def line.\n",
    "\n",
    "# Adding a docstring to your functions \n",
    "# is a good convention, they are also parsed by documentation building\n",
    "# tools\n",
    "\n",
    "def printStrings(strings):\n",
    "  \"\"\"\n",
    "  Function that prints the strings in a list of strings\n",
    "  \n",
    "  (this is a docstring)\n",
    "  \"\"\"\n",
    "  for string in strings:\n",
    "    print(string)\n",
    "\n",
    "help(printStrings) # Calling \"help\" prints the docstring"
   ]
  },
  {
   "cell_type": "markdown",
   "metadata": {
    "id": "nQbZ7QHKkB5G",
    "slideshow": {
     "slide_type": "slide"
    }
   },
   "source": [
    "# Return can be used for control flow\n",
    "\n",
    "Return does not need to be accompanied with a value, it is often just used to halt the execution of a function - it is therefore also a control flow statement"
   ]
  },
  {
   "cell_type": "markdown",
   "metadata": {
    "id": "mvAcAc3OlYv8",
    "slideshow": {
     "slide_type": "subslide"
    }
   },
   "source": [
    "For a function that returns a value, it is important that all control paths actually return a variable of the expected type:"
   ]
  },
  {
   "cell_type": "markdown",
   "metadata": {
    "slideshow": {
     "slide_type": "subslide"
    }
   },
   "source": [
    "# Challenge 3"
   ]
  },
  {
   "cell_type": "code",
   "execution_count": 15,
   "metadata": {
    "execution": {
     "iopub.execute_input": "2022-09-23T00:20:08.879757Z",
     "iopub.status.busy": "2022-09-23T00:20:08.878774Z",
     "iopub.status.idle": "2022-09-23T00:20:08.881295Z",
     "shell.execute_reply": "2022-09-23T00:20:08.881979Z"
    },
    "slideshow": {
     "slide_type": "fragment"
    }
   },
   "outputs": [],
   "source": [
    "# Complete the following function by replacing the pass statements\n",
    "\n",
    "def find(l, x):\n",
    "    \"\"\"Finds the index of the first occurrence of x \n",
    "    in the list l otherwise returns -1 if x is not in l\"\"\"\n",
    "    j = 0\n",
    "    for i in l:\n",
    "        if i == x:\n",
    "            pass\n",
    "        j += 1\n",
    "    pass\n",
    "\n",
    "find([2, 3, 5, 4, 5 ], 5) # Should return 2\n",
    "find([2, 3, 5, 4, 5 ], 9) # Should return -1"
   ]
  },
  {
   "cell_type": "markdown",
   "metadata": {
    "id": "uPaf3G1p_Bhg",
    "slideshow": {
     "slide_type": "slide"
    }
   },
   "source": [
    "# None\n",
    "\n",
    "If you define a function that does not return anything then the return value is None"
   ]
  },
  {
   "cell_type": "code",
   "execution_count": 7,
   "metadata": {
    "colab": {
     "base_uri": "https://localhost:8080/"
    },
    "execution": {
     "iopub.execute_input": "2022-09-23T00:20:08.888395Z",
     "iopub.status.busy": "2022-09-23T00:20:08.887418Z",
     "iopub.status.idle": "2022-09-23T00:20:08.890810Z",
     "shell.execute_reply": "2022-09-23T00:20:08.891474Z"
    },
    "executionInfo": {
     "elapsed": 545,
     "status": "ok",
     "timestamp": 1607626352205,
     "user": {
      "displayName": "Benedict Paten",
      "photoUrl": "https://lh3.googleusercontent.com/a-/AOh14Gh2rYrrH6yoNnUp0Oj4p4ouybc6ZcWGyPmKFtIY=s64",
      "userId": "06399644931392855882"
     },
     "user_tz": 480
    },
    "id": "oMBiJrg1_GRY",
    "outputId": "a8e1449c-7bf5-4045-e2cc-9353a0ee1fc6",
    "slideshow": {
     "slide_type": "fragment"
    }
   },
   "outputs": [
    {
     "name": "stdout",
     "output_type": "stream",
     "text": [
      "a\n",
      "list\n",
      "of\n",
      "strings\n"
     ]
    }
   ],
   "source": [
    "def printStrings(strings):\n",
    "  for string in strings:\n",
    "    print(string)\n",
    "\n",
    "x = printStrings([ \"a\", \"list\", \"of\", \"strings\"])\n",
    "\n",
    "# What is the value of x?"
   ]
  },
  {
   "cell_type": "code",
   "execution_count": 17,
   "metadata": {
    "colab": {
     "base_uri": "https://localhost:8080/"
    },
    "execution": {
     "iopub.execute_input": "2022-09-23T00:20:08.897098Z",
     "iopub.status.busy": "2022-09-23T00:20:08.896140Z",
     "iopub.status.idle": "2022-09-23T00:20:08.899313Z",
     "shell.execute_reply": "2022-09-23T00:20:08.900272Z"
    },
    "executionInfo": {
     "elapsed": 370,
     "status": "ok",
     "timestamp": 1607626362676,
     "user": {
      "displayName": "Benedict Paten",
      "photoUrl": "https://lh3.googleusercontent.com/a-/AOh14Gh2rYrrH6yoNnUp0Oj4p4ouybc6ZcWGyPmKFtIY=s64",
      "userId": "06399644931392855882"
     },
     "user_tz": 480
    },
    "id": "TKPzy6y1_3a9",
    "outputId": "46f997b7-d0b1-4bdb-c3a6-fd6440777b2c",
    "slideshow": {
     "slide_type": "fragment"
    }
   },
   "outputs": [
    {
     "name": "stdout",
     "output_type": "stream",
     "text": [
      "None\n"
     ]
    }
   ],
   "source": [
    "print(x)"
   ]
  },
  {
   "cell_type": "markdown",
   "metadata": {
    "id": "tlclSkWeAE7H",
    "slideshow": {
     "slide_type": "subslide"
    }
   },
   "source": [
    "None is the NULL value, it ensures that all function calls are expressions, even if you don't explicitly return a value. None is like nothing:"
   ]
  },
  {
   "cell_type": "code",
   "execution_count": 18,
   "metadata": {
    "colab": {
     "base_uri": "https://localhost:8080/"
    },
    "execution": {
     "iopub.execute_input": "2022-09-23T00:20:08.905309Z",
     "iopub.status.busy": "2022-09-23T00:20:08.904407Z",
     "iopub.status.idle": "2022-09-23T00:20:08.908267Z",
     "shell.execute_reply": "2022-09-23T00:20:08.907665Z"
    },
    "executionInfo": {
     "elapsed": 749,
     "status": "ok",
     "timestamp": 1607626503535,
     "user": {
      "displayName": "Benedict Paten",
      "photoUrl": "https://lh3.googleusercontent.com/a-/AOh14Gh2rYrrH6yoNnUp0Oj4p4ouybc6ZcWGyPmKFtIY=s64",
      "userId": "06399644931392855882"
     },
     "user_tz": 480
    },
    "id": "2b-a8vneAZPu",
    "outputId": "045a1403-b7df-4599-fc8d-bddbf51311b9",
    "slideshow": {
     "slide_type": "fragment"
    }
   },
   "outputs": [
    {
     "data": {
      "text/plain": [
       "NoneType"
      ]
     },
     "execution_count": 18,
     "metadata": {},
     "output_type": "execute_result"
    }
   ],
   "source": [
    "type(x)"
   ]
  },
  {
   "cell_type": "code",
   "execution_count": 19,
   "metadata": {
    "colab": {
     "base_uri": "https://localhost:8080/"
    },
    "execution": {
     "iopub.execute_input": "2022-09-23T00:20:08.913638Z",
     "iopub.status.busy": "2022-09-23T00:20:08.912651Z",
     "iopub.status.idle": "2022-09-23T00:20:08.915915Z",
     "shell.execute_reply": "2022-09-23T00:20:08.916601Z"
    },
    "executionInfo": {
     "elapsed": 465,
     "status": "ok",
     "timestamp": 1607626438004,
     "user": {
      "displayName": "Benedict Paten",
      "photoUrl": "https://lh3.googleusercontent.com/a-/AOh14Gh2rYrrH6yoNnUp0Oj4p4ouybc6ZcWGyPmKFtIY=s64",
      "userId": "06399644931392855882"
     },
     "user_tz": 480
    },
    "id": "ZayhDMVIAJPt",
    "outputId": "75060951-631b-46e9-e268-59356775508f",
    "slideshow": {
     "slide_type": "fragment"
    }
   },
   "outputs": [
    {
     "data": {
      "text/plain": [
       "False"
      ]
     },
     "execution_count": 19,
     "metadata": {},
     "output_type": "execute_result"
    }
   ],
   "source": [
    "# It is not True \n",
    "\n",
    "x == True"
   ]
  },
  {
   "cell_type": "code",
   "execution_count": 20,
   "metadata": {
    "colab": {
     "base_uri": "https://localhost:8080/"
    },
    "execution": {
     "iopub.execute_input": "2022-09-23T00:20:08.920845Z",
     "iopub.status.busy": "2022-09-23T00:20:08.920199Z",
     "iopub.status.idle": "2022-09-23T00:20:08.923289Z",
     "shell.execute_reply": "2022-09-23T00:20:08.923817Z"
    },
    "executionInfo": {
     "elapsed": 413,
     "status": "ok",
     "timestamp": 1607626450435,
     "user": {
      "displayName": "Benedict Paten",
      "photoUrl": "https://lh3.googleusercontent.com/a-/AOh14Gh2rYrrH6yoNnUp0Oj4p4ouybc6ZcWGyPmKFtIY=s64",
      "userId": "06399644931392855882"
     },
     "user_tz": 480
    },
    "id": "ht8A7NLUAMh0",
    "outputId": "deba70c1-81e3-4b99-962c-b778429593f7",
    "slideshow": {
     "slide_type": "fragment"
    }
   },
   "outputs": [
    {
     "data": {
      "text/plain": [
       "False"
      ]
     },
     "execution_count": 20,
     "metadata": {},
     "output_type": "execute_result"
    }
   ],
   "source": [
    "# And it is not False either, it is just \"None\"\n",
    "x == False"
   ]
  },
  {
   "cell_type": "markdown",
   "metadata": {
    "id": "pj_RWnvmAitH",
    "slideshow": {
     "slide_type": "subslide"
    }
   },
   "source": [
    "If you really liked you can explicitly use None:"
   ]
  },
  {
   "cell_type": "code",
   "execution_count": 21,
   "metadata": {
    "execution": {
     "iopub.execute_input": "2022-09-23T00:20:08.928633Z",
     "iopub.status.busy": "2022-09-23T00:20:08.927930Z",
     "iopub.status.idle": "2022-09-23T00:20:08.930597Z",
     "shell.execute_reply": "2022-09-23T00:20:08.931132Z"
    },
    "id": "4z408CB9_8gM",
    "slideshow": {
     "slide_type": "fragment"
    }
   },
   "outputs": [],
   "source": [
    "# This is the same as the previous definition, it's just now we explicitly define\n",
    "# the return value, whereas this was implicit previously:\n",
    "\n",
    "def printStrings(strings):\n",
    "  for string in strings:\n",
    "    print(string)\n",
    "  return None"
   ]
  },
  {
   "cell_type": "markdown",
   "metadata": {
    "id": "YWe5_kABBOqp",
    "slideshow": {
     "slide_type": "fragment"
    }
   },
   "source": [
    "Similarly if you just specify return without a return value the returned value is None:"
   ]
  },
  {
   "cell_type": "code",
   "execution_count": 22,
   "metadata": {
    "execution": {
     "iopub.execute_input": "2022-09-23T00:20:08.935875Z",
     "iopub.status.busy": "2022-09-23T00:20:08.935041Z",
     "iopub.status.idle": "2022-09-23T00:20:08.937357Z",
     "shell.execute_reply": "2022-09-23T00:20:08.937965Z"
    },
    "id": "SZIJ_UM_BUve",
    "slideshow": {
     "slide_type": "fragment"
    }
   },
   "outputs": [],
   "source": [
    "def printStrings(strings):\n",
    "  for string in strings:\n",
    "    print(string)\n",
    "  return # This returns None"
   ]
  },
  {
   "cell_type": "markdown",
   "metadata": {
    "slideshow": {
     "slide_type": "subslide"
    }
   },
   "source": [
    "# Challenge 4"
   ]
  },
  {
   "cell_type": "code",
   "execution_count": 23,
   "metadata": {
    "execution": {
     "iopub.execute_input": "2022-09-23T00:20:08.942674Z",
     "iopub.status.busy": "2022-09-23T00:20:08.941770Z",
     "iopub.status.idle": "2022-09-23T00:20:08.944391Z",
     "shell.execute_reply": "2022-09-23T00:20:08.944860Z"
    },
    "slideshow": {
     "slide_type": "fragment"
    }
   },
   "outputs": [],
   "source": [
    "# First write a function \"print_ounces\" that takes a weight in grams and prints the weight\n",
    "# in ounces. Note: There are ~28.3495 grams in an ounce. Do not return a value\n",
    "\n",
    "# Secondly, write a function \"convert_grams_to_ounces\" which takes a weight in grams and returns the weight in ounces.\n",
    "# It should not print to the screen"
   ]
  },
  {
   "cell_type": "markdown",
   "metadata": {
    "id": "WNwWbM6DeG3A",
    "slideshow": {
     "slide_type": "slide"
    }
   },
   "source": [
    "# Functions can call other functions - the stack\n",
    "\n",
    "Functions can be wired to achieve complex control flow\n",
    "\n",
    "The following example shows this, and is useful for understanding control flow between functions. \n",
    "\n"
   ]
  },
  {
   "cell_type": "code",
   "execution_count": 26,
   "metadata": {
    "colab": {
     "base_uri": "https://localhost:8080/"
    },
    "execution": {
     "iopub.execute_input": "2022-09-23T00:20:08.976384Z",
     "iopub.status.busy": "2022-09-23T00:20:08.975386Z",
     "iopub.status.idle": "2022-09-23T00:20:08.979623Z",
     "shell.execute_reply": "2022-09-23T00:20:08.978976Z"
    },
    "executionInfo": {
     "elapsed": 425,
     "status": "ok",
     "timestamp": 1607627988180,
     "user": {
      "displayName": "Benedict Paten",
      "photoUrl": "https://lh3.googleusercontent.com/a-/AOh14Gh2rYrrH6yoNnUp0Oj4p4ouybc6ZcWGyPmKFtIY=s64",
      "userId": "06399644931392855882"
     },
     "user_tz": 480
    },
    "id": "7tZm0iV4eTFJ",
    "outputId": "fc685424-c0d3-4127-a651-ca4ed199040d",
    "slideshow": {
     "slide_type": "fragment"
    }
   },
   "outputs": [
    {
     "name": "stdout",
     "output_type": "stream",
     "text": [
      "in one\n",
      "in two\n",
      "in three\n",
      "exiting three\n",
      "exiting two\n",
      "exiting one\n"
     ]
    }
   ],
   "source": [
    "# Here are three functions calling each other\n",
    "\n",
    "def one():\n",
    "  print(\"in one\")\n",
    "  two()\n",
    "  print(\"exiting one\")\n",
    "\n",
    "def two():\n",
    "  print(\"in two\")\n",
    "  three()\n",
    "  print(\"exiting two\")\n",
    "\n",
    "def three():\n",
    "  print(\"in three\")\n",
    "  print(\"exiting three\")\n",
    "\n",
    "one()"
   ]
  },
  {
   "cell_type": "markdown",
   "metadata": {
    "id": "U6ClCBtOEtk2",
    "slideshow": {
     "slide_type": "subslide"
    }
   },
   "source": [
    "It is useful to understand that Python manages a \"call stack\" in which execution is controlled, with each \n",
    "successive function call being added to the top of the stack, and with each function being \n",
    "\"popped\" (removed) from the top of the stack when it is finished, returning execution to the \n",
    "point at which it was invoked.  \n",
    "\n",
    "<img src=\"https://raw.githubusercontent.com/cormacflanagan/intro_python/main/lecture_notebooks/figures/graffles/call%20stack.jpg\" width=1000 height=500 />"
   ]
  },
  {
   "cell_type": "markdown",
   "metadata": {
    "id": "8zEfBmSlGbaf",
    "slideshow": {
     "slide_type": "slide"
    }
   },
   "source": [
    "# Challenge 5"
   ]
  },
  {
   "cell_type": "code",
   "execution_count": 18,
   "metadata": {
    "colab": {
     "base_uri": "https://localhost:8080/",
     "height": 69
    },
    "execution": {
     "iopub.execute_input": "2022-09-23T00:20:08.988038Z",
     "iopub.status.busy": "2022-09-23T00:20:08.986920Z",
     "iopub.status.idle": "2022-09-23T00:20:08.993711Z",
     "shell.execute_reply": "2022-09-23T00:20:08.994361Z"
    },
    "executionInfo": {
     "elapsed": 3944,
     "status": "ok",
     "timestamp": 1555100629731,
     "user": {
      "displayName": "Benedict Paten",
      "photoUrl": "https://lh6.googleusercontent.com/-KEXp34y2Ra8/AAAAAAAAAAI/AAAAAAAAAHs/xzPsOsCpcaU/s64/photo.jpg",
      "userId": "06399644931392855882"
     },
     "user_tz": 420
    },
    "id": "tT3HiYlY-ve-",
    "outputId": "a194f52e-4b3d-4f4f-f4e8-49361c6a4493",
    "slideshow": {
     "slide_type": "fragment"
    }
   },
   "outputs": [
    {
     "name": "stdout",
     "output_type": "stream",
     "text": [
      "Please enter an integer: 2\n",
      "Please enter a larger integer: 3\n",
      "The sum of odd integers from:  2  up to:  3  is:  None\n"
     ]
    }
   ],
   "source": [
    "# Complete this simple example by writing \"sum_odd_numbers_in_range\" - it should be familiar\n",
    "# sumOddNumbersInRange calculates the sum of odd numbers, for two input arguments X and Y, from X\n",
    "# (including X) to Y (excluding Y) and returns the result\n",
    "# e.g. if X = 4 and Y = 9 then the result is 5 + 7 = 12\n",
    "\n",
    "def sum_odd_numbers_in_range(X,Y):\n",
    "    pass\n",
    "\n",
    "x = int(input(\"Please enter an integer: \"))\n",
    "y = int(input(\"Please enter a larger integer: \"))\n",
    "\n",
    "# Function to write\n",
    "\n",
    "print(\"The sum of odd integers from: \", x, \" up to: \", y, \" is: \",\n",
    "      sum_odd_numbers_in_range(x, y))\n"
   ]
  },
  {
   "cell_type": "markdown",
   "metadata": {
    "id": "L8o5zkQjNHMU",
    "slideshow": {
     "slide_type": "slide"
    }
   },
   "source": [
    "# Reading\n",
    "\n",
    "* Open book Chapter 4: http://openbookproject.net/thinkcs/python/english3e/functions.html\n",
    "\n",
    "\n",
    "# Homework\n",
    "\n",
    "* Go to Canvas and complete the lecture quiz, which involves completing each challenge problem\n",
    "* Zybook Reading 6"
   ]
  }
 ],
 "metadata": {
  "celltoolbar": "Slideshow",
  "colab": {
   "collapsed_sections": [
    "V7DbjYGNM1I6"
   ],
   "name": "L06 Functions.ipynb",
   "provenance": []
  },
  "kernelspec": {
   "display_name": "Python 3",
   "language": "python",
   "name": "python3"
  },
  "language_info": {
   "codemirror_mode": {
    "name": "ipython",
    "version": 3
   },
   "file_extension": ".py",
   "mimetype": "text/x-python",
   "name": "python",
   "nbconvert_exporter": "python",
   "pygments_lexer": "ipython3",
   "version": "3.6.6+"
  }
 },
 "nbformat": 4,
 "nbformat_minor": 1
}
