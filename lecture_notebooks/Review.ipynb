{
 "cells": [
  {
   "cell_type": "markdown",
   "id": "cfbe5b22",
   "metadata": {},
   "source": [
    "# Revision Session CSE20\n",
    "\n",
    "\n",
    "**Final Exam**\n",
    "\n",
    "* Here, Tuesday 4-7pm\n",
    "* Juypter notebook with coding challenges, complete and submit to canvas\n",
    "* During exam, you can access\n",
    "  * textbooks (including zybooks)\n",
    "  * class notes on github\n",
    "  * help(max), help(\"\".find) etc to get docstrings for python functions\n",
    "\n",
    "Not on exam\n",
    "  * Big O notation, eg O(2^N) etc\n",
    "  * **recursive** generators covered on wednesday (a little too hard, removed from exam)\n",
    "  * P = NP\n",
    "  * Data science module (L18 on github, not covered in class)\n",
    "  * Sorting\n",
    "  \n",
    "Good luck!\n",
    "  \n",
    "  "
   ]
  },
  {
   "cell_type": "code",
   "execution_count": 10,
   "id": "f01408db",
   "metadata": {},
   "outputs": [
    {
     "name": "stdout",
     "output_type": "stream",
     "text": [
      "[5, 4, 9, 6, 9, 2, 1, 9, 2, 2]\n",
      "[5, 4, 9, 6, 9, 2, 1, 9, 2, 2]\n"
     ]
    }
   ],
   "source": [
    "## Files\n",
    "\n",
    "## Write 10 random integers into a file and then read those numbers back\n",
    "\n",
    "import random\n",
    "\n",
    "# Make the 10 random numbers\n",
    "rand_nums = [ random.randint(1, 10) for i in range(10)]\n",
    "\n",
    "# Write the numbers in a file\n",
    "file_name = \"temp.txt\"\n",
    "with open(file_name, \"w\") as file_handle:\n",
    "    for i in rand_nums: # Write each number of a new line\n",
    "        file_handle.write(f\"{i}\\n\")\n",
    "                \n",
    "# Read the numbers from the file\n",
    "rand_nums_2 = [] # Intitially an empty list that we'll put the numbers in\n",
    "with open(file_name, \"r\") as file_handle:\n",
    "    for line in file_handle: # This for loop will return successive lines of the file\n",
    "        rand_nums_2.append(int(line))\n",
    "\n",
    "print(rand_nums)\n",
    "print(rand_nums_2)\n",
    "assert rand_nums == rand_nums_2"
   ]
  },
  {
   "cell_type": "code",
   "execution_count": 32,
   "id": "54e18534",
   "metadata": {},
   "outputs": [
    {
     "name": "stdout",
     "output_type": "stream",
     "text": [
      "['L03 More Types.ipynb', 'L15 More Functions and Recursion.ipynb', 'L11 Files.ipynb', 'L09 Tuples, Lists and Dictionaries.ipynb', 'myadder.py', 'out.txt', '.unbitly.icloud', 'test2.txt', 'L07 Functions Continued.ipynb', 'fasta.fa', 'L14 Inheritance.ipynb', 'Mortality', 'L18 Data Science .ipynb', 'L06 Functions.ipynb', 'new_directory', 'alice_in_wonderland.txt', 'L16 Exceptions and Unit Testing.ipynb', 'Final exam review.ipynb', 'While.ipynb', 'L02 Variables and Expressions.ipynb', 'L05 Loops.ipynb', 'temp.txt', 'Me.ipynb', 'figures', 'L10 Modules.ipynb', 'Untitled 2.ipynb', 'L08 Strings.ipynb', 'Review.ipynb', 'test.txt', '.ipynb_checkpoints', 'sum.py', 'BinPacking.ipynb', 'zhivago.txt', 'L01 Intro.ipynb', 'L04 Conditionals and Branching.ipynb', 'data', 'Untitled.ipynb', 'L17 Search Algorithms.ipynb', 'L13 Classes and Polymorphism.ipynb', '.L-- Syllabus.ipynb.icloud', 'Untitled 3.ipynb', 'cancer_data.csv', 'L12 Classes and Objects.ipynb', 'local.txt']\n"
     ]
    }
   ],
   "source": [
    "import os\n",
    "\n",
    "print(os.listdir(os.getcwd())) # This line will print \n",
    "# all files in the current working directory\n",
    "\n"
   ]
  },
  {
   "cell_type": "code",
   "execution_count": 20,
   "id": "d046af3f",
   "metadata": {},
   "outputs": [],
   "source": [
    "# Lambda functions\n",
    "\n",
    "## Write a lambda function that takes two numbers x, y and returns (x + y) / x\n",
    "\n",
    "# Written as a function\n",
    "def fn(x, y):\n",
    "    return (x + y) / x\n",
    "\n",
    "# Written as a lambda function\n",
    "fn = lambda x, y : (x + y) / x  # This is the same as the above \n"
   ]
  },
  {
   "cell_type": "code",
   "execution_count": 19,
   "id": "3c5f2946",
   "metadata": {},
   "outputs": [
    {
     "name": "stdout",
     "output_type": "stream",
     "text": [
      "10\n",
      "-7\n",
      "2\n"
     ]
    }
   ],
   "source": [
    "# Using lambdas to change the behaviour of a function \n",
    "# (passing lambdas as inline function arguments)\n",
    "\n",
    "z = [ 4, 5, 7, -3, -7, 2, 10] # List of unsorted numbers\n",
    "\n",
    "print(max(z))                        # 10\n",
    "print(max(z,key=lambda x: -x))       # -7\n",
    "print(max(z,key=lambda x: -abs(x)))  # 2"
   ]
  },
  {
   "cell_type": "code",
   "execution_count": 22,
   "id": "2539018d",
   "metadata": {},
   "outputs": [
    {
     "name": "stdout",
     "output_type": "stream",
     "text": [
      "[4, 5, 7, -3, -7, 2, 10]\n"
     ]
    }
   ],
   "source": [
    "print(z)"
   ]
  },
  {
   "cell_type": "code",
   "execution_count": 23,
   "id": "d9cd6e54",
   "metadata": {},
   "outputs": [
    {
     "name": "stdout",
     "output_type": "stream",
     "text": [
      "[-7, -3, 2, 4, 5, 7, 10]\n"
     ]
    }
   ],
   "source": [
    "print(sorted(z)) # Sort the numbers in ascending order"
   ]
  },
  {
   "cell_type": "code",
   "execution_count": 24,
   "id": "680acc42",
   "metadata": {},
   "outputs": [
    {
     "name": "stdout",
     "output_type": "stream",
     "text": [
      "[10, 7, 5, 4, 2, -3, -7]\n"
     ]
    }
   ],
   "source": [
    "print(sorted(z, key=lambda x : -x)) # Sort the numbers in descending order, using a lambda \n",
    "# function to change the \"key\" upon which the elements are sorted"
   ]
  },
  {
   "cell_type": "code",
   "execution_count": 25,
   "id": "6b872614",
   "metadata": {},
   "outputs": [
    {
     "name": "stdout",
     "output_type": "stream",
     "text": [
      "[2, -3, 4, 5, 7, -7, 10]\n"
     ]
    }
   ],
   "source": [
    "# Sort the numbers by absolute value\n",
    "print(sorted(z, key=lambda x: abs(x))) "
   ]
  },
  {
   "cell_type": "code",
   "execution_count": 27,
   "id": "203b3dc9",
   "metadata": {},
   "outputs": [
    {
     "name": "stdout",
     "output_type": "stream",
     "text": [
      "[2, -3, 4, 5, 7, -7, 10]\n"
     ]
    }
   ],
   "source": [
    "# equivalent to above\n",
    "print(sorted(z, key=abs))"
   ]
  },
  {
   "cell_type": "code",
   "execution_count": 21,
   "id": "2d892410",
   "metadata": {},
   "outputs": [
    {
     "name": "stdout",
     "output_type": "stream",
     "text": [
      "0.2870958419854919\n",
      "3\n",
      "2\n"
     ]
    }
   ],
   "source": [
    "## Modules\n",
    "\n",
    "import random # imports the random module into the namespace\n",
    "print(random.random()) # Print a random number between 0 and 1, I need to import the module\n",
    "# random to be able to refer to random.random()\n",
    "\n",
    "\n",
    "from random import randint  # Brings randint into the namespace from the random module\n",
    "print(randint(0, 10)) # Use randint to get a randome number between 0 and 10\n",
    "\n",
    "\n",
    "from random import randint as random_integer\n",
    "\n",
    "print(random_integer(0, 10)) # Same as before, but now I'm calling the function random_integer"
   ]
  },
  {
   "cell_type": "code",
   "execution_count": 28,
   "id": "b6ade440",
   "metadata": {},
   "outputs": [
    {
     "data": {
      "text/plain": [
       "False"
      ]
     },
     "execution_count": 28,
     "metadata": {},
     "output_type": "execute_result"
    }
   ],
   "source": [
    "# Example of function definition and for loops\n",
    "\n",
    "def character_in_the_string(s, c):\n",
    "    \"\"\" Returns true if c is in the string s \"\"\"\n",
    "    for b in s:\n",
    "        if b == c:\n",
    "            return True\n",
    "    return False\n",
    "\n",
    "character_in_the_string(\"hello and welcome to the exam\", \"z\")"
   ]
  },
  {
   "cell_type": "code",
   "execution_count": 16,
   "id": "0fb38c22",
   "metadata": {},
   "outputs": [
    {
     "name": "stdout",
     "output_type": "stream",
     "text": [
      "The string is: hello and welcome to the exam and c is: w\n",
      "The string is: ello and welcome to the exam and c is: w\n",
      "The string is: llo and welcome to the exam and c is: w\n",
      "The string is: lo and welcome to the exam and c is: w\n",
      "The string is: o and welcome to the exam and c is: w\n",
      "The string is:  and welcome to the exam and c is: w\n",
      "The string is: and welcome to the exam and c is: w\n",
      "The string is: nd welcome to the exam and c is: w\n",
      "The string is: d welcome to the exam and c is: w\n",
      "The string is:  welcome to the exam and c is: w\n",
      "The string is: welcome to the exam and c is: w\n",
      "True\n"
     ]
    }
   ],
   "source": [
    "# Recursion\n",
    "\n",
    "# Write a recursive version of character_in_the_string from the last code block:\n",
    "\n",
    "def character_in_the_string_recursive(s, c):\n",
    "    print(f\"The string is: {s} and c is: {c}\")\n",
    "    if s == \"\":  # do base case first\n",
    "        return False\n",
    "    elif s[0] == c:\n",
    "        return True\n",
    "    else:\n",
    "        # does c occur in s[1:] ?\n",
    "        return character_in_the_string_recursive( s[1:], c)\n",
    "            \n",
    "print(character_in_the_string_recursive(\"hello and welcome to the exam\", \"w\"))\n",
    "\n"
   ]
  },
  {
   "cell_type": "code",
   "execution_count": 22,
   "id": "cce50c96",
   "metadata": {},
   "outputs": [
    {
     "name": "stdout",
     "output_type": "stream",
     "text": [
      "Rock Rose\n",
      "Prickly Pear\n",
      "Cactus Prickly Pear 1\n",
      "Plant Prickly Pear/Rock Rose True\n"
     ]
    }
   ],
   "source": [
    "# Inheritance (and objects)\n",
    "\n",
    "## Create a Plant class that takes an name argument and a sun_not_shade boolean variable\"\n",
    "class Plant:\n",
    "    def __init__(self, plant_name, sun_not_shade=True):\n",
    "        self.plant_name = plant_name # Create object (aka instance) variables \n",
    "        self.sun_not_shade = sun_not_shade\n",
    "    def __str__(self):\n",
    "        return f\"Plant {self.plant_name} {self.sun_not_shade}\"\n",
    "     \n",
    "## Use inheritence at this point\n",
    "class Cactus(Plant):  # Class Cactus is child of parent Plant\n",
    "    def __init__(self, plant_name, how_often_do_you_water_per_week=1):\n",
    "        super().__init__(plant_name, sun_not_shade=True)       # Call Plant's init method\n",
    "        # Plant.__init__(self, plant_name, sun_not_shade=True) # Equivalent to above\n",
    "        self.how_often_do_you_water_per_week = how_often_do_you_water_per_week\n",
    "    def __str__(self):\n",
    "        return f\"Cactus {self.plant_name} {self.how_often_do_you_water_per_week}\"\n",
    "    def __add__(self,other):\n",
    "        return Plant(self.plant_name+\"/\"+other.plant_name)\n",
    "    \n",
    "\n",
    "# Make objects (aka instances) of the classes\n",
    "rose = Plant(\"Rock Rose\")\n",
    "prickly_pear = Cactus(\"Prickly Pear\", 1)\n",
    "\n",
    "print(rose.plant_name)\n",
    "print(prickly_pear.plant_name)\n",
    "print(prickly_pear)             # Challenge: make this nicer with __str__ method\n",
    "print(prickly_pear + rose)\n"
   ]
  },
  {
   "cell_type": "code",
   "execution_count": 5,
   "id": "48dfc274",
   "metadata": {},
   "outputs": [
    {
     "name": "stdout",
     "output_type": "stream",
     "text": [
      "Car options: ['Toyota', 'VW', 'BMW']\n",
      "Please input a make of carVw\n",
      "Not a recognized car make, try again\n",
      "Car options: ['Toyota', 'VW', 'BMW']\n",
      "Please input a make of carVW\n",
      "The cost of a VW is 34000\n"
     ]
    }
   ],
   "source": [
    "# Exceptions\n",
    "\n",
    "## Ask the user to input a name from a list of options, repeating the request until a valid \n",
    "## option is input\n",
    "\n",
    "cars = { \"Toyota\":10900, \"VW\": 34000, \"BMW\":53000}  \n",
    "# Using a dictionary to remind you\n",
    "\n",
    "while True:\n",
    "    try:\n",
    "        print(\"Car options:\", list(cars.keys()))\n",
    "        car = input(\"Please input a make of car\")\n",
    "        if car not in cars:\n",
    "            raise ValueError()  # I can create custom errors by \"raising\" exceptions\n",
    "        break # Stop looping\n",
    "    except ValueError: # Catch a ValueError\n",
    "        print(\"Not a recognized car make, try again\")\n",
    "        \n",
    "print(f\"The cost of a {car} is {cars[car]}\")"
   ]
  },
  {
   "cell_type": "code",
   "execution_count": 35,
   "id": "4b2d47bd",
   "metadata": {},
   "outputs": [
    {
     "name": "stdout",
     "output_type": "stream",
     "text": [
      "[2, 4, 8, 16, 3, 9, 27, 81, 4, 16, 64, 256, 5, 25, 125, 625, 6, 36, 216, 1296, 7, 49, 343, 2401, 8, 64, 512, 4096, 9, 81, 729, 6561]\n"
     ]
    }
   ],
   "source": [
    "# Generator functions and the yield keyword\n",
    "\n",
    "# Write a generator function called squares\n",
    "# to return the first 10 square numbers\n",
    "\n",
    "def squares():\n",
    "    for i in range(2,10):\n",
    "        yield i\n",
    "        yield i*i  # Yield is like return in that it returns a value\n",
    "        yield i*i*i\n",
    "        yield i*i*i*i\n",
    "\n",
    "#for j in squares(): # This iterates over the generator\n",
    "#    print(\"The next square number is\", j)\n",
    "\n",
    "#print(squares())\n",
    "print(list(squares()))\n",
    "#print(tuple(squares()))\n",
    "#print(set(squares()))"
   ]
  },
  {
   "cell_type": "code",
   "execution_count": 31,
   "id": "bf387a7a",
   "metadata": {},
   "outputs": [
    {
     "name": "stdout",
     "output_type": "stream",
     "text": [
      "[True, False, True, False, True, False, True, False, True, False]\n",
      "[True, False, True, False, True, False, True, False, True, False]\n"
     ]
    }
   ],
   "source": [
    "def even(n):\n",
    "    if n % 2 == 0:\n",
    "        return True\n",
    "    else:\n",
    "        return False\n",
    "    \n",
    "def even2(n):\n",
    "    return (True if n % 2 == 0 else False)\n",
    "    \n",
    "print([even(i) for i in range(10)])\n",
    "print([even2(i) for i in range(10)])"
   ]
  },
  {
   "cell_type": "markdown",
   "id": "797b2962",
   "metadata": {},
   "source": [
    "## Topics to make sure you review\n",
    "\n",
    "* Strings, slicing, indexing etc\n",
    "* f-strings and formatting, eg {n:...}\n",
    "* Dictionaries, lists, sets, tuples\n",
    "* Generators\n",
    "* File IO\n",
    "* Classes, and Operator overloading of +, * etc\n",
    "* Exceptions, try ... except ...\n",
    "* Lambda functions\n",
    "\n",
    "Finally, please fill out the Student Evaluation of Teaching on Canvas!"
   ]
  }
 ],
 "metadata": {
  "kernelspec": {
   "display_name": "Python 3",
   "language": "python",
   "name": "python3"
  },
  "language_info": {
   "codemirror_mode": {
    "name": "ipython",
    "version": 3
   },
   "file_extension": ".py",
   "mimetype": "text/x-python",
   "name": "python",
   "nbconvert_exporter": "python",
   "pygments_lexer": "ipython3",
   "version": "3.6.6+"
  }
 },
 "nbformat": 4,
 "nbformat_minor": 5
}
