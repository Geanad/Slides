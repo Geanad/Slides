{
 "cells": [
  {
   "cell_type": "markdown",
   "metadata": {
    "id": "5UyFJYXOx-WH",
    "slideshow": {
     "slide_type": "slide"
    }
   },
   "source": [
    "# Lecture 11 - Files \n",
    "\n",
    "Today:\n",
    "* Files.\n",
    "  * Writing Files\n",
    "  * Reading files\n",
    "  * With keyword\n",
    "  * For loops on file handles\n",
    "  * Binary files \n",
    "  * Large worked example (Fasta file processing)\n",
    "  * Directories\n",
    "  * Web file retrieval\n",
    "\n"
   ]
  },
  {
   "cell_type": "markdown",
   "metadata": {
    "id": "iT7epkfjCAq6",
    "slideshow": {
     "slide_type": "slide"
    }
   },
   "source": [
    "# Motivation\n",
    "\n",
    "* Up to now we've mainly used input() to get input to the programs we've written.\n",
    "\n",
    "* In the real world, this is not the way we generally get data into a program. Rather we read and write data to and from files.\n",
    "\n",
    "* Files, like documents, or spread sheets or images, are just semantically organized arrays of bits. \n",
    "\n",
    "* They can exist on a disk, be pulled from the internet or be created transiently as we pipe inputs and outputs from our programs. \n",
    "\n",
    "* They can be small, and they can be very large. Typically the data associated with a scientific analysis will be large relative to the size of the program. For this reason we have to think about processing the data in stages using streaming. \n",
    "\n",
    "Anyway, let's dive in... (as an aside, the examples today will show larger code samples than we've seen previously - you're leveling up)"
   ]
  },
  {
   "cell_type": "markdown",
   "metadata": {
    "id": "SZ27fsOR87Cw",
    "slideshow": {
     "slide_type": "slide"
    }
   },
   "source": [
    "# Writing Files\n",
    "\n",
    "Let's first look at creating a file. You'll often want to do this when writing out the results of some analysis."
   ]
  },
  {
   "cell_type": "code",
   "execution_count": 1,
   "metadata": {
    "execution": {
     "iopub.execute_input": "2022-09-23T00:20:18.582650Z",
     "iopub.status.busy": "2022-09-23T00:20:18.581626Z",
     "iopub.status.idle": "2022-09-23T00:20:18.585684Z",
     "shell.execute_reply": "2022-09-23T00:20:18.586336Z"
    },
    "id": "38xJY3yOui52",
    "slideshow": {
     "slide_type": "fragment"
    }
   },
   "outputs": [],
   "source": [
    "my_file = open(\"test.txt\", \"w\") # Call to open() opens a file\n",
    "# test.txt in the working directory of the Python program.\n",
    "# The \"w\" string argument (short for \"write\"), tells open()\n",
    "# that you intend to write to the file. \n",
    "\n",
    "# If test.txt does not exist before this point it is created as an empty file.\n",
    "\n",
    "# If test.txt existed before this point its contents are now overwritten - \n",
    "# so be careful opening files for writing\n",
    "\n",
    "# my_file (the return value from open) is a \"file handle\", that is you use it\n",
    "# to handle the communication with the file\n",
    "\n",
    "\n",
    "\n",
    "# The write method of the file_handle object is a lot like print(), except\n",
    "# the contents of the string arguments are written to the file, instead of the\n",
    "# screen, and write does not add newlines to the end of the string (so you add them\n",
    "# explicitly, as in this example)\n",
    "my_file.write(\"My first file written from Python\\n\") \n",
    "my_file.write(\"---------------------------------\\n\")\n",
    "my_file.write(\"Hello, world!\\n\")\n",
    "\n",
    "my_file.close() # This closes the file. You can't keep using my_file after this\n",
    "# as the file connection is closed. It is important to close the file when \n",
    "# you're done to ensure the file writing is completed successfully (although Python\n",
    "# will clean things up automatically on exit, you shouldn't rely on this in cases\n",
    "# where you're program gets terminated prematurely)"
   ]
  },
  {
   "cell_type": "markdown",
   "metadata": {
    "id": "2cf01WIn7pJZ",
    "slideshow": {
     "slide_type": "notes"
    }
   },
   "source": [
    "Note: (Do matched demo from terminal to show contents of file)\n"
   ]
  },
  {
   "cell_type": "markdown",
   "metadata": {
    "id": "KjJ_lZssTKgN",
    "slideshow": {
     "slide_type": "subslide"
    }
   },
   "source": [
    "**To append to the end of an existing file:** "
   ]
  },
  {
   "cell_type": "code",
   "execution_count": 2,
   "metadata": {
    "execution": {
     "iopub.execute_input": "2022-09-23T00:20:18.592268Z",
     "iopub.status.busy": "2022-09-23T00:20:18.591454Z",
     "iopub.status.idle": "2022-09-23T00:20:18.594228Z",
     "shell.execute_reply": "2022-09-23T00:20:18.594887Z"
    },
    "id": "2EpL3R5WBeVf",
    "slideshow": {
     "slide_type": "fragment"
    }
   },
   "outputs": [],
   "source": [
    "my_file = open(\"test.txt\", \"a\") # The 'a' argument (short for append) opens an \n",
    "# existing file to append to it \n",
    "# If test.txt does not exist then 'a' creates the file, just like 'w'\n",
    "\n",
    "my_file.write(\"Hello, again!\\n\") \n",
    "\n",
    "my_file.close() # Again, always close the file"
   ]
  },
  {
   "cell_type": "markdown",
   "metadata": {
    "id": "bf-ylIdLTQpE",
    "slideshow": {
     "slide_type": "notes"
    }
   },
   "source": [
    "Note: (Continue matched demo from terminal to show contents of appended to file)"
   ]
  },
  {
   "cell_type": "markdown",
   "metadata": {
    "id": "0Csg1vPc8_7C",
    "slideshow": {
     "slide_type": "slide"
    }
   },
   "source": [
    "# Reading Files"
   ]
  },
  {
   "cell_type": "code",
   "execution_count": 3,
   "metadata": {
    "colab": {
     "base_uri": "https://localhost:8080/",
     "height": 157
    },
    "execution": {
     "iopub.execute_input": "2022-09-23T00:20:18.601150Z",
     "iopub.status.busy": "2022-09-23T00:20:18.600024Z",
     "iopub.status.idle": "2022-09-23T00:20:18.603658Z",
     "shell.execute_reply": "2022-09-23T00:20:18.604194Z"
    },
    "executionInfo": {
     "elapsed": 503,
     "status": "ok",
     "timestamp": 1572561573602,
     "user": {
      "displayName": "Benedict Paten",
      "photoUrl": "https://lh3.googleusercontent.com/a-/AAuE7mBMnWy8dDR7jyTHNy9tPaRx6DCyA3QKrIcuQ7R4=s64",
      "userId": "06399644931392855882"
     },
     "user_tz": 420
    },
    "id": "CAhQ4GB07xBM",
    "outputId": "031dc175-94e2-4a44-e410-0e5eb5e2dfe2",
    "slideshow": {
     "slide_type": "fragment"
    }
   },
   "outputs": [
    {
     "name": "stdout",
     "output_type": "stream",
     "text": [
      "My first file written from Python\n",
      "---------------------------------\n",
      "Hello, world!\n",
      "Hello, again!\n"
     ]
    }
   ],
   "source": [
    "mynewhandle = open(\"test.txt\", \"r\") # This opens the file, \"r\" argument means \"read\"\n",
    "\n",
    "# The following loop walks through\n",
    "# the file line by line\n",
    "\n",
    "while True:                            # Keep reading forever\n",
    "  \n",
    "    theline = mynewhandle.readline()   # Try to read next line using readline()\n",
    "    \n",
    "    if theline == \"\":              # When done, readline returns the empty string ''\n",
    "      # allowing us to detect the end of the file and to leave the loop\n",
    "      \n",
    "        break                          #     leave the loop\n",
    "\n",
    "    # Now process the line we've just read\n",
    "    print(theline, end=\"\")\n",
    "\n",
    "mynewhandle.close() # This might seem less important, as you're just reading \n",
    "# from the file, however most underlying operating systems have limits on\n",
    "# the number of active file handles, so it is good to cleanup. It is also \n",
    "# generally a bad idea to have multiple file handles open on one file (unless they are\n",
    "# all read only file handles)"
   ]
  },
  {
   "cell_type": "markdown",
   "metadata": {
    "id": "XpE5L7547yKT",
    "slideshow": {
     "slide_type": "fragment"
    }
   },
   "source": [
    "What is nice about the above loop is that regardless of the number of files, Python only stores one line in memory, allowing it to process arbitrarily large files."
   ]
  },
  {
   "cell_type": "markdown",
   "metadata": {
    "slideshow": {
     "slide_type": "subslide"
    }
   },
   "source": [
    "**Python will complain if you try to open a file that doesn't exist...**"
   ]
  },
  {
   "cell_type": "code",
   "execution_count": 4,
   "metadata": {
    "colab": {
     "base_uri": "https://localhost:8080/",
     "height": 166
    },
    "execution": {
     "iopub.execute_input": "2022-09-23T00:20:18.610785Z",
     "iopub.status.busy": "2022-09-23T00:20:18.609914Z",
     "iopub.status.idle": "2022-09-23T00:20:18.679660Z",
     "shell.execute_reply": "2022-09-23T00:20:18.680380Z"
    },
    "executionInfo": {
     "elapsed": 925,
     "status": "error",
     "timestamp": 1572561338378,
     "user": {
      "displayName": "Benedict Paten",
      "photoUrl": "https://lh3.googleusercontent.com/a-/AAuE7mBMnWy8dDR7jyTHNy9tPaRx6DCyA3QKrIcuQ7R4=s64",
      "userId": "06399644931392855882"
     },
     "user_tz": 420
    },
    "id": "aTvzYDew7yiC",
    "outputId": "94122b46-28f1-431b-a42b-b5351990a730",
    "slideshow": {
     "slide_type": "fragment"
    }
   },
   "outputs": [
    {
     "ename": "FileNotFoundError",
     "evalue": "[Errno 2] No such file or directory: 'wharrah.txt'",
     "output_type": "error",
     "traceback": [
      "\u001b[0;31m---------------------------------------------------------------------------\u001b[0m",
      "\u001b[0;31mFileNotFoundError\u001b[0m                         Traceback (most recent call last)",
      "\u001b[0;32m<ipython-input-4-90876b2f847b>\u001b[0m in \u001b[0;36m<module>\u001b[0;34m\u001b[0m\n\u001b[0;32m----> 1\u001b[0;31m \u001b[0mmynewhandle\u001b[0m \u001b[0;34m=\u001b[0m \u001b[0mopen\u001b[0m\u001b[0;34m(\u001b[0m\u001b[0;34m\"wharrah.txt\"\u001b[0m\u001b[0;34m,\u001b[0m \u001b[0;34m\"r\"\u001b[0m\u001b[0;34m)\u001b[0m\u001b[0;34m\u001b[0m\u001b[0;34m\u001b[0m\u001b[0m\n\u001b[0m",
      "\u001b[0;31mFileNotFoundError\u001b[0m: [Errno 2] No such file or directory: 'wharrah.txt'"
     ]
    }
   ],
   "source": [
    "mynewhandle = open(\"wharrah.txt\", \"r\")"
   ]
  },
  {
   "cell_type": "markdown",
   "metadata": {
    "id": "ooeE2DB6FCRM",
    "slideshow": {
     "slide_type": "subslide"
    }
   },
   "source": [
    "**To read contents of file into memory in one go use read()**"
   ]
  },
  {
   "cell_type": "code",
   "execution_count": 11,
   "metadata": {
    "colab": {
     "base_uri": "https://localhost:8080/",
     "height": 122
    },
    "execution": {
     "iopub.execute_input": "2022-09-23T00:20:18.687392Z",
     "iopub.status.busy": "2022-09-23T00:20:18.686320Z",
     "iopub.status.idle": "2022-09-23T00:20:18.690036Z",
     "shell.execute_reply": "2022-09-23T00:20:18.690821Z"
    },
    "executionInfo": {
     "elapsed": 950,
     "status": "ok",
     "timestamp": 1572561373895,
     "user": {
      "displayName": "Benedict Paten",
      "photoUrl": "https://lh3.googleusercontent.com/a-/AAuE7mBMnWy8dDR7jyTHNy9tPaRx6DCyA3QKrIcuQ7R4=s64",
      "userId": "06399644931392855882"
     },
     "user_tz": 420
    },
    "id": "aGPsxgzYGuf1",
    "outputId": "1578e898-5c5e-4634-8238-8135069427ae",
    "slideshow": {
     "slide_type": "fragment"
    }
   },
   "outputs": [
    {
     "name": "stdout",
     "output_type": "stream",
     "text": [
      "<class 'str'>\n",
      "My first file written from Python\n",
      "---------------------------------\n",
      "Hello, world!\n",
      "Hello, again!\n",
      "\n"
     ]
    }
   ],
   "source": [
    "fh = open(\"test.txt\", \"r\") # I often use fh to denote a file handle, for some reason\n",
    "\n",
    "content = fh.read() # Read the contents of the file\n",
    "\n",
    "print(type(content)) # Yup, content is a string\n",
    "\n",
    "print(content)\n",
    "\n",
    "fh.close()"
   ]
  },
  {
   "cell_type": "markdown",
   "metadata": {
    "id": "fUUcCij9H0Vi",
    "slideshow": {
     "slide_type": "subslide"
    }
   },
   "source": [
    "**readlines will read all the lines in a file:**"
   ]
  },
  {
   "cell_type": "code",
   "execution_count": 12,
   "metadata": {
    "colab": {
     "base_uri": "https://localhost:8080/",
     "height": 72
    },
    "execution": {
     "iopub.execute_input": "2022-09-23T00:20:18.697490Z",
     "iopub.status.busy": "2022-09-23T00:20:18.696722Z",
     "iopub.status.idle": "2022-09-23T00:20:18.699976Z",
     "shell.execute_reply": "2022-09-23T00:20:18.700417Z"
    },
    "executionInfo": {
     "elapsed": 954,
     "status": "ok",
     "timestamp": 1572561427610,
     "user": {
      "displayName": "Benedict Paten",
      "photoUrl": "https://lh3.googleusercontent.com/a-/AAuE7mBMnWy8dDR7jyTHNy9tPaRx6DCyA3QKrIcuQ7R4=s64",
      "userId": "06399644931392855882"
     },
     "user_tz": 420
    },
    "id": "UyOOG16sHugL",
    "outputId": "85bde637-6439-490f-cec9-0398d9bc293a",
    "slideshow": {
     "slide_type": "fragment"
    }
   },
   "outputs": [
    {
     "name": "stdout",
     "output_type": "stream",
     "text": [
      "<class 'list'>\n",
      "['My first file written from Python\\n', '---------------------------------\\n', 'Hello, world!\\n', 'Hello, again!\\n']\n"
     ]
    }
   ],
   "source": [
    "fh = open(\"test.txt\") # I often use fh to denote a file handle, for some reason\n",
    "# If you don't give the second argument it defaults to read only\n",
    "\n",
    "content = fh.readlines() # Read the contents of the file\n",
    "\n",
    "print(type(content)) # Yup, content is now a list of strings\n",
    "\n",
    "print(content)\n",
    "\n",
    "fh.close()"
   ]
  },
  {
   "cell_type": "markdown",
   "metadata": {
    "slideshow": {
     "slide_type": "subslide"
    }
   },
   "source": [
    "# Challenge 1"
   ]
  },
  {
   "cell_type": "code",
   "execution_count": 26,
   "metadata": {
    "execution": {
     "iopub.execute_input": "2022-09-23T00:20:18.704758Z",
     "iopub.status.busy": "2022-09-23T00:20:18.703967Z",
     "iopub.status.idle": "2022-09-23T00:20:18.706503Z",
     "shell.execute_reply": "2022-09-23T00:20:18.706949Z"
    },
    "id": "UgYsFrEKE4Y4",
    "slideshow": {
     "slide_type": "fragment"
    }
   },
   "outputs": [],
   "source": [
    "l = list(range(100))\n",
    "\n",
    "## Write the numbers in l to a file \"out.txt\"\n",
    "## Read the numbers from out.txt into a new list, \"l2\"\n",
    "## check that l == l2\n",
    "\n",
    "fh = open(\"out.txt\",\"w\")\n",
    "for i in l:\n",
    "    fh.write(str(i)+\"\\n\")\n",
    "fh.close()\n",
    "\n",
    "fh = open(\"out.txt\",\"r\")\n",
    "l2 = []\n",
    "while True:\n",
    "    line = fh.readline()\n",
    "    if line == \"\": break\n",
    "    l2.append(int(line))\n",
    "assert l == l2\n",
    "fh.close()\n",
    "\n",
    "fh = open(\"out.txt\",\"r\")\n",
    "l3 = [int(i) for i in fh]\n",
    "assert l == l3\n",
    "fh.close()\n"
   ]
  },
  {
   "cell_type": "code",
   "execution_count": 15,
   "metadata": {
    "slideshow": {
     "slide_type": "fragment"
    }
   },
   "outputs": [
    {
     "data": {
      "text/plain": [
       "[0,\n",
       " 1,\n",
       " 2,\n",
       " 3,\n",
       " 4,\n",
       " 5,\n",
       " 6,\n",
       " 7,\n",
       " 8,\n",
       " 9,\n",
       " 10,\n",
       " 11,\n",
       " 12,\n",
       " 13,\n",
       " 14,\n",
       " 15,\n",
       " 16,\n",
       " 17,\n",
       " 18,\n",
       " 19,\n",
       " 20,\n",
       " 21,\n",
       " 22,\n",
       " 23,\n",
       " 24,\n",
       " 25,\n",
       " 26,\n",
       " 27,\n",
       " 28,\n",
       " 29,\n",
       " 30,\n",
       " 31,\n",
       " 32,\n",
       " 33,\n",
       " 34,\n",
       " 35,\n",
       " 36,\n",
       " 37,\n",
       " 38,\n",
       " 39,\n",
       " 40,\n",
       " 41,\n",
       " 42,\n",
       " 43,\n",
       " 44,\n",
       " 45,\n",
       " 46,\n",
       " 47,\n",
       " 48,\n",
       " 49,\n",
       " 50,\n",
       " 51,\n",
       " 52,\n",
       " 53,\n",
       " 54,\n",
       " 55,\n",
       " 56,\n",
       " 57,\n",
       " 58,\n",
       " 59,\n",
       " 60,\n",
       " 61,\n",
       " 62,\n",
       " 63,\n",
       " 64,\n",
       " 65,\n",
       " 66,\n",
       " 67,\n",
       " 68,\n",
       " 69,\n",
       " 70,\n",
       " 71,\n",
       " 72,\n",
       " 73,\n",
       " 74,\n",
       " 75,\n",
       " 76,\n",
       " 77,\n",
       " 78,\n",
       " 79,\n",
       " 80,\n",
       " 81,\n",
       " 82,\n",
       " 83,\n",
       " 84,\n",
       " 85,\n",
       " 86,\n",
       " 87,\n",
       " 88,\n",
       " 89,\n",
       " 90,\n",
       " 91,\n",
       " 92,\n",
       " 93,\n",
       " 94,\n",
       " 95,\n",
       " 96,\n",
       " 97,\n",
       " 98,\n",
       " 99]"
      ]
     },
     "execution_count": 15,
     "metadata": {},
     "output_type": "execute_result"
    }
   ],
   "source": [
    "l = list(range(100))\n",
    "\n",
    "## Write the numbers in l to a file \"out.txt\"\n",
    "## Read the numbers from out.txt into a new list, \"l2\"\n",
    "## check that l == l2\n",
    "fh = open(\"out.txt\",\"w\")\n",
    "for n in l:\n",
    "    fh.write(str(n)+\"\\n\")\n",
    "fh.close()\n",
    "fh = open(\"out.txt\",\"r\")\n",
    "l2 = []\n",
    "while True:\n",
    "    line = fh.readline()\n",
    "    if line == \"\": break\n",
    "    l2.append(int(line))\n",
    "assert l == l2\n",
    "l2"
   ]
  },
  {
   "cell_type": "markdown",
   "metadata": {
    "id": "nq84RePQIrbm",
    "slideshow": {
     "slide_type": "slide"
    }
   },
   "source": [
    "# The with Keyword\n",
    "\n",
    "Good programming is often about anticipating errors and dealing with them.\n",
    "\n",
    "The 'with' keyword is both useful short-hand and good defensive programming. We don't need to know the details (curious: https://docs.python.org/2.5/whatsnew/pep-343.html), but basically it cleans up the file handle for you"
   ]
  },
  {
   "cell_type": "code",
   "execution_count": 8,
   "metadata": {
    "colab": {
     "base_uri": "https://localhost:8080/",
     "height": 236
    },
    "execution": {
     "iopub.execute_input": "2022-09-23T00:20:18.711738Z",
     "iopub.status.busy": "2022-09-23T00:20:18.710824Z",
     "iopub.status.idle": "2022-09-23T00:20:18.717746Z",
     "shell.execute_reply": "2022-09-23T00:20:18.718215Z"
    },
    "executionInfo": {
     "elapsed": 513,
     "status": "error",
     "timestamp": 1572561758891,
     "user": {
      "displayName": "Benedict Paten",
      "photoUrl": "https://lh3.googleusercontent.com/a-/AAuE7mBMnWy8dDR7jyTHNy9tPaRx6DCyA3QKrIcuQ7R4=s64",
      "userId": "06399644931392855882"
     },
     "user_tz": 420
    },
    "id": "tZU5iNqQIqcF",
    "outputId": "3f0b7911-5255-493c-d0f5-ac5fa63030a3",
    "slideshow": {
     "slide_type": "fragment"
    }
   },
   "outputs": [
    {
     "ename": "AssertionError",
     "evalue": "",
     "output_type": "error",
     "traceback": [
      "\u001b[0;31m---------------------------------------------------------------------------\u001b[0m",
      "\u001b[0;31mAssertionError\u001b[0m                            Traceback (most recent call last)",
      "\u001b[0;32m<ipython-input-8-2efbed2a78a5>\u001b[0m in \u001b[0;36m<module>\u001b[0;34m\u001b[0m\n\u001b[1;32m      3\u001b[0m   \u001b[0;31m# in processing the file\u001b[0m\u001b[0;34m\u001b[0m\u001b[0;34m\u001b[0m\u001b[0;34m\u001b[0m\u001b[0m\n\u001b[1;32m      4\u001b[0m \u001b[0;34m\u001b[0m\u001b[0m\n\u001b[0;32m----> 5\u001b[0;31m   \u001b[0;32massert\u001b[0m \u001b[0;32mFalse\u001b[0m \u001b[0;31m# This causes an error, but fh will still be closed\u001b[0m\u001b[0;34m\u001b[0m\u001b[0;34m\u001b[0m\u001b[0m\n\u001b[0m\u001b[1;32m      6\u001b[0m \u001b[0;34m\u001b[0m\u001b[0m\n\u001b[1;32m      7\u001b[0m   \u001b[0mcontent\u001b[0m \u001b[0;34m=\u001b[0m \u001b[0mfh\u001b[0m\u001b[0;34m.\u001b[0m\u001b[0mreadlines\u001b[0m\u001b[0;34m(\u001b[0m\u001b[0;34m)\u001b[0m\u001b[0;34m\u001b[0m\u001b[0;34m\u001b[0m\u001b[0m\n",
      "\u001b[0;31mAssertionError\u001b[0m: "
     ]
    }
   ],
   "source": [
    "with open(\"test.txt\") as fh: # With removes the need for the \"fh.close()\" statement\n",
    "  # and is better because fh.close() is guaranteed to be run even if there is an error\n",
    "  # in processing the file\n",
    "  \n",
    "  assert False # This causes an error, but fh will still be closed\n",
    "  \n",
    "  content = fh.readlines() \n",
    "  print(content)\n",
    "  \n",
    "  \n",
    "# For files the syntax is:\n",
    "# with OPEN_EXPRESSION as FILE_HANDLE:\n",
    "#   STATEMENTS THAT USE FILE_HANDLE"
   ]
  },
  {
   "cell_type": "markdown",
   "metadata": {
    "id": "Ji9VkG3QO2JH",
    "slideshow": {
     "slide_type": "slide"
    }
   },
   "source": [
    "# For loop on file:"
   ]
  },
  {
   "cell_type": "code",
   "execution_count": 9,
   "metadata": {
    "colab": {
     "base_uri": "https://localhost:8080/",
     "height": 87
    },
    "execution": {
     "iopub.execute_input": "2022-09-23T00:20:18.725162Z",
     "iopub.status.busy": "2022-09-23T00:20:18.724308Z",
     "iopub.status.idle": "2022-09-23T00:20:18.727360Z",
     "shell.execute_reply": "2022-09-23T00:20:18.727874Z"
    },
    "executionInfo": {
     "elapsed": 869,
     "status": "ok",
     "timestamp": 1572561908305,
     "user": {
      "displayName": "Benedict Paten",
      "photoUrl": "https://lh3.googleusercontent.com/a-/AAuE7mBMnWy8dDR7jyTHNy9tPaRx6DCyA3QKrIcuQ7R4=s64",
      "userId": "06399644931392855882"
     },
     "user_tz": 420
    },
    "id": "PbI6o-TXOtJ2",
    "outputId": "1b95e776-e61a-4e34-d5c9-69f433f80672",
    "slideshow": {
     "slide_type": "fragment"
    }
   },
   "outputs": [
    {
     "name": "stdout",
     "output_type": "stream",
     "text": [
      "My first file written from Python\n",
      "---------------------------------\n",
      "Hello, world!\n",
      "Hello, again!\n"
     ]
    }
   ],
   "source": [
    "# If you run a for loop on a file handle open for reading then\n",
    "# it defaults to reading lines, this is compact and memory efficient (because\n",
    "# we only read a line at a time from the file)\n",
    "\n",
    "with open(\"test.txt\") as fh:\n",
    "  for line in fh:\n",
    "    print(line, end=\"\") # end=\"\" stops print() from adding a newline to the end"
   ]
  },
  {
   "cell_type": "markdown",
   "metadata": {
    "slideshow": {
     "slide_type": "subslide"
    }
   },
   "source": [
    "# Challenge 2"
   ]
  },
  {
   "cell_type": "code",
   "execution_count": 7,
   "metadata": {
    "execution": {
     "iopub.execute_input": "2022-09-23T00:20:18.733317Z",
     "iopub.status.busy": "2022-09-23T00:20:18.732194Z",
     "iopub.status.idle": "2022-09-23T00:20:18.734727Z",
     "shell.execute_reply": "2022-09-23T00:20:18.735508Z"
    },
    "slideshow": {
     "slide_type": "fragment"
    }
   },
   "outputs": [
    {
     "name": "stdout",
     "output_type": "stream",
     "text": [
      "On they went, singing \" Rest Eternal, \" and whenever they \n",
      "stopped, their feet, the horses, and the gusts of wind seemed to\n",
      "carry on their singing. \n",
      "\n",
      "Passers-by made way for the procession, counted the wreaths, \n",
      "and crossed themselves. Some joined in out of curiosity and \n",
      "asked: \" Who is being buried? \"  \" Zhivago, \" they were told. \n",
      "- \" Oh, I see. That's what it is. \" - \"It isn't him. It's his wife.\n",
      "\" - \" Well, it comes to the same thing. May her soul rest in \n",
      "peace. It's a fine funeral. "
     ]
    }
   ],
   "source": [
    "zhivago = \"\"\"On they went, singing \" Rest Eternal, \" and whenever they \n",
    "stopped, their feet, the horses, and the gusts of wind seemed to\n",
    "carry on their singing. \n",
    "\n",
    "Passers-by made way for the procession, counted the wreaths, \n",
    "and crossed themselves. Some joined in out of curiosity and \n",
    "asked: \" Who is being buried? \"  \" Zhivago, \" they were told. \n",
    "- \" Oh, I see. That's what it is. \" - \"It isn't him. It's his wife.\n",
    "\" - \" Well, it comes to the same thing. May her soul rest in \n",
    "peace. It's a fine funeral. \"\"\"\n",
    "\n",
    "# Write the zhivago string to the file \"zhivago.txt\". \n",
    "# Now read the contents of zhivago.txt, using a for loop to iterate over the lines, \n",
    "# printing each to the screen. \n",
    "# Use 'with' to cleanup all file handles.\n",
    "\n",
    "with open(\"zhivago.txt\",\"w\") as zt:\n",
    "    zt.write(zhivago)\n",
    "\n",
    "with open(\"zhivago.txt\") as fh:\n",
    "    for i in fh:\n",
    "        print(i, end=\"\")"
   ]
  },
  {
   "cell_type": "markdown",
   "metadata": {
    "id": "YSP_EVs7QpgW",
    "slideshow": {
     "slide_type": "slide"
    }
   },
   "source": [
    "# Binary Files\n",
    "\n",
    "All the files we've seen so far are assumed to be text files (i.e. composed of human readable stuff). However, Python can also happily process binary files, which are just files with arbitrary bits in them. \n",
    "\n",
    "On the left we've opened a binary file (a jpeg) - the bits aren't organized so that they can be decoded as text. We can't assume that the bits in such a binary file are organized into bytes that represent meaningful text characters with white space, etc. On the right is the jpeg when properly decoded as an image.\n",
    "\n",
    "\n",
    "<img src=\"https://raw.githubusercontent.com/cormacflanagan/intro_python/main/lecture_notebooks/figures/binary%20files.jpg\" width=1000 height=500 />\n"
   ]
  },
  {
   "cell_type": "code",
   "execution_count": 14,
   "metadata": {
    "colab": {
     "base_uri": "https://localhost:8080/",
     "height": 72
    },
    "execution": {
     "iopub.execute_input": "2022-09-23T00:20:18.743222Z",
     "iopub.status.busy": "2022-09-23T00:20:18.742190Z",
     "iopub.status.idle": "2022-09-23T00:20:18.745273Z",
     "shell.execute_reply": "2022-09-23T00:20:18.746034Z"
    },
    "executionInfo": {
     "elapsed": 477,
     "status": "ok",
     "timestamp": 1572562141485,
     "user": {
      "displayName": "Benedict Paten",
      "photoUrl": "https://lh3.googleusercontent.com/a-/AAuE7mBMnWy8dDR7jyTHNy9tPaRx6DCyA3QKrIcuQ7R4=s64",
      "userId": "06399644931392855882"
     },
     "user_tz": 420
    },
    "id": "AzQsT6aPXhkj",
    "outputId": "8f494076-51a6-404c-fb08-a54bee4a392c",
    "slideshow": {
     "slide_type": "subslide"
    }
   },
   "outputs": [
    {
     "name": "stdout",
     "output_type": "stream",
     "text": [
      "b'My first f'\n",
      "b'ile writte'\n",
      "b'n from Pyt'\n",
      "b'hon\\n------'\n",
      "b'----------'\n",
      "b'----------'\n",
      "b'-------\\nHe'\n",
      "b'llo, world'\n",
      "b'!\\nHello, a'\n",
      "b'gain!\\n'\n",
      "b''\n"
     ]
    }
   ],
   "source": [
    "# Reading and writing binary data\n",
    "\n",
    "with open(\"test.txt\", \"rb\") as f: # Here we treat test.txt as a binary file - any file\n",
    "  # can be considered just a collection of bits\n",
    "  \n",
    "  with open(\"test2.txt\", \"wb\") as g: # Note the nested with statements\n",
    "\n",
    "    while True:\n",
    "      buf = f.read(10) # The argument to read tells it to read a set number of \n",
    "      # bytes - each byte is an 8 bit (8 0's or 1's) words into the \"buf\" object, \n",
    "\n",
    "      print(buf)\n",
    "      #print(type(buf))\n",
    "      \n",
    "      if len(buf) == 0: # We're at the end\n",
    "         break\n",
    "          \n",
    "      g.write(buf)"
   ]
  },
  {
   "cell_type": "markdown",
   "metadata": {
    "id": "WgWDW4p-Y2Xb",
    "slideshow": {
     "slide_type": "fragment"
    }
   },
   "source": [
    "Now we can see that test2.txt is just a copy of the original file:"
   ]
  },
  {
   "cell_type": "code",
   "execution_count": 25,
   "metadata": {
    "colab": {
     "base_uri": "https://localhost:8080/",
     "height": 87
    },
    "execution": {
     "iopub.execute_input": "2022-09-23T00:20:18.751734Z",
     "iopub.status.busy": "2022-09-23T00:20:18.750668Z",
     "iopub.status.idle": "2022-09-23T00:20:18.753898Z",
     "shell.execute_reply": "2022-09-23T00:20:18.755755Z"
    },
    "executionInfo": {
     "elapsed": 867,
     "status": "ok",
     "timestamp": 1572562209509,
     "user": {
      "displayName": "Benedict Paten",
      "photoUrl": "https://lh3.googleusercontent.com/a-/AAuE7mBMnWy8dDR7jyTHNy9tPaRx6DCyA3QKrIcuQ7R4=s64",
      "userId": "06399644931392855882"
     },
     "user_tz": 420
    },
    "id": "oRO95FSoY9MI",
    "outputId": "75db7488-f6d9-4604-a510-77519a48b61e",
    "slideshow": {
     "slide_type": "fragment"
    }
   },
   "outputs": [
    {
     "name": "stdout",
     "output_type": "stream",
     "text": [
      ">a_dummy_dna_string\n",
      "GATTACA\n",
      ">gi 556503834 ref NC_000913.3 Escherichia coli str. K-12 substr. MG1655, complete genome\n",
      "AGCTTTTCATTCTGACTGCAACGGGCAATATGTCTCTGTGTGGATTAAAAAAAGAGTGTCTGATAGCAGCTTCTGAACTGGTTACCTGCCGTGAGTAAAT\n",
      "TAAAATTTTATTGACTTAGGTCACTAAATACTTTAACCAATATAGGCATAGCGCACAGACAGATAAAAATTACAGAGTACACAACATCCATGAAACGCAT\n",
      "TAGCACCACCATTACCACCACCATCACCATTACCACAGGTAACGGTGCGGGCTGACGCGTACAGGAAACACAGAAAAAAGCCCGCACCTGACAGTGCGGG\n",
      "CTTTTTTTTTCGACCAAAGGTAACGAGGTAACAACCATGCGAGTGTTGAAGTTCGGCGGTACATCAGTGGCAAATGCAGAACGTTTTCTGCGTGTTGCCG\n",
      "ATATTCTGGAAAGCAATGCCAGGCAGGGGCAGGTGGCCACCGTCCTCTCTGCCCCCGCCAAAATCACCAACCACCTGGTGGCGATGATTGAAAAAACCAT\n",
      "TAGCGGCCAGGATGCTTTACCCAATATCAGCGATGCCGAACGTATTTTTGCCGAACTTTTGACGGGACTCGCCGCCGCCCAGCCGGGGTTCCCGCTGGCG\n",
      "CAATTGAAAACTTTCGTCGATCAGGAATTTGCCCAAATAAAACATGTCCTGCATGGCATTAGTTTGTTGGGGCAGTGCCCGGATAGCATCAACGCTGCGC\n",
      ">another_dummy_dna_string\n",
      "CGGCGCGCGTCTTTGCAGCGATGTCACGCGCCCGTATTTCCGTGGTGCTGATTACGCAATCATCTTCCGAATACAGCATCAGTTTCTGCGTTCCACAAAG\n",
      "CGACTGTGTGCGAGCTGAACGGGCAATGCAGGAAGAGTTC\n"
     ]
    }
   ],
   "source": [
    "with open(\"fasta.fa\") as fh:\n",
    "  for line in fh:\n",
    "    print(line, end=\"\") # end=\"\" stops print() from adding a newline to the end"
   ]
  },
  {
   "cell_type": "markdown",
   "metadata": {
    "id": "h0iDQunV8V9W",
    "slideshow": {
     "slide_type": "slide"
    }
   },
   "source": [
    "# Directories\n",
    "\n",
    "In most systems the operating system has access to a file system in which files are kept. Getting into details\n",
    "is beyond the scope of this course, because it requires us getting into operating system stuff - but let's cover the very basics.\n",
    "\n",
    "For more see: https://docs.python.org/3/library/os.html and https://docs.python.org/3/library/os.path.html\n",
    "\n",
    "By default when you open/write a file in Python uses the current working directory."
   ]
  },
  {
   "cell_type": "code",
   "execution_count": 14,
   "metadata": {
    "colab": {
     "base_uri": "https://localhost:8080/",
     "height": 34
    },
    "execution": {
     "iopub.execute_input": "2022-09-23T00:20:18.775623Z",
     "iopub.status.busy": "2022-09-23T00:20:18.774502Z",
     "iopub.status.idle": "2022-09-23T00:20:18.778383Z",
     "shell.execute_reply": "2022-09-23T00:20:18.779063Z"
    },
    "executionInfo": {
     "elapsed": 954,
     "status": "ok",
     "timestamp": 1572562873979,
     "user": {
      "displayName": "Benedict Paten",
      "photoUrl": "https://lh3.googleusercontent.com/a-/AAuE7mBMnWy8dDR7jyTHNy9tPaRx6DCyA3QKrIcuQ7R4=s64",
      "userId": "06399644931392855882"
     },
     "user_tz": 420
    },
    "id": "sdevYDXf8XT6",
    "outputId": "76fbef28-9349-4e4a-ae84-1fab16b66865",
    "slideshow": {
     "slide_type": "fragment"
    }
   },
   "outputs": [
    {
     "data": {
      "text/plain": [
       "'/private/var/mobile/Library/Mobile Documents/com~apple~CloudDocs/Documents/w/teach/20-f22/intro_python/lecture_notebooks'"
      ]
     },
     "execution_count": 14,
     "metadata": {},
     "output_type": "execute_result"
    }
   ],
   "source": [
    "import os # This module provides all sorts of useful functions \n",
    "# for working with the operating system\n",
    "\n",
    "os.getcwd() # getcwd() tells us what working directory we're in. \n",
    "# (If you're using Google Collaboratory, this is some directory on\n",
    "# some (virtual) machine in Google Cloud Platform)"
   ]
  },
  {
   "cell_type": "code",
   "execution_count": 15,
   "metadata": {
    "colab": {
     "base_uri": "https://localhost:8080/",
     "height": 34
    },
    "execution": {
     "iopub.execute_input": "2022-09-23T00:20:18.783982Z",
     "iopub.status.busy": "2022-09-23T00:20:18.783059Z",
     "iopub.status.idle": "2022-09-23T00:20:18.788052Z",
     "shell.execute_reply": "2022-09-23T00:20:18.788576Z"
    },
    "executionInfo": {
     "elapsed": 901,
     "status": "ok",
     "timestamp": 1572562959521,
     "user": {
      "displayName": "Benedict Paten",
      "photoUrl": "https://lh3.googleusercontent.com/a-/AAuE7mBMnWy8dDR7jyTHNy9tPaRx6DCyA3QKrIcuQ7R4=s64",
      "userId": "06399644931392855882"
     },
     "user_tz": 420
    },
    "id": "y-ug5LCkjl4c",
    "outputId": "759cc447-56c4-46b2-be7a-7c8f5299ecd0",
    "slideshow": {
     "slide_type": "fragment"
    }
   },
   "outputs": [
    {
     "data": {
      "text/plain": [
       "['L03 More Types.ipynb',\n",
       " 'L11 Files.ipynb',\n",
       " 'L09 Tuples, Lists and Dictionaries.ipynb',\n",
       " 'myadder.py',\n",
       " 'out.txt',\n",
       " '.unbitly.icloud',\n",
       " '.L15 More Functions and Recursion.ipynb.icloud',\n",
       " '.L18 Data Science .ipynb.icloud',\n",
       " '.L16 Exceptions and Unit Testing.ipynb.icloud',\n",
       " 'test2.txt',\n",
       " '.L14 Inheritance.ipynb.icloud',\n",
       " 'L07 Functions Continued.ipynb',\n",
       " 'L06 Functions.ipynb',\n",
       " 'While.ipynb',\n",
       " 'L02 Variables and Expressions.ipynb',\n",
       " 'L05 Loops.ipynb',\n",
       " 'Me.ipynb',\n",
       " 'figures',\n",
       " 'L10 Modules.ipynb',\n",
       " 'L08 Strings.ipynb',\n",
       " 'test.txt',\n",
       " '.ipynb_checkpoints',\n",
       " 'sum.py',\n",
       " 'zhivago.txt',\n",
       " '.L17 Search Algorithms.ipynb.icloud',\n",
       " 'L01 Intro.ipynb',\n",
       " 'L04 Conditionals and Branching.ipynb',\n",
       " 'data',\n",
       " 'Untitled.ipynb',\n",
       " 'L13 Classes and Polymorphism.ipynb',\n",
       " '.L-- Syllabus.ipynb.icloud',\n",
       " 'L12 Classes and Objects.ipynb',\n",
       " 'local.txt']"
      ]
     },
     "execution_count": 15,
     "metadata": {},
     "output_type": "execute_result"
    }
   ],
   "source": [
    "os.listdir(os.getcwd()) # listdir() tells us what files are in the working directory"
   ]
  },
  {
   "cell_type": "code",
   "execution_count": 16,
   "metadata": {
    "colab": {
     "base_uri": "https://localhost:8080/",
     "height": 34
    },
    "execution": {
     "iopub.execute_input": "2022-09-23T00:20:18.794060Z",
     "iopub.status.busy": "2022-09-23T00:20:18.793112Z",
     "iopub.status.idle": "2022-09-23T00:20:18.797223Z",
     "shell.execute_reply": "2022-09-23T00:20:18.797716Z"
    },
    "executionInfo": {
     "elapsed": 845,
     "status": "ok",
     "timestamp": 1572563150292,
     "user": {
      "displayName": "Benedict Paten",
      "photoUrl": "https://lh3.googleusercontent.com/a-/AAuE7mBMnWy8dDR7jyTHNy9tPaRx6DCyA3QKrIcuQ7R4=s64",
      "userId": "06399644931392855882"
     },
     "user_tz": 420
    },
    "id": "Se2Rr5isj6I7",
    "outputId": "b6014ba6-cd3f-4094-8b28-cc80ddc97724",
    "slideshow": {
     "slide_type": "subslide"
    }
   },
   "outputs": [
    {
     "data": {
      "text/plain": [
       "[]"
      ]
     },
     "execution_count": 16,
     "metadata": {},
     "output_type": "execute_result"
    }
   ],
   "source": [
    "# We can create a directory like so:\n",
    "\n",
    "os.mkdir(\"new_directory\")\n",
    "\n",
    "os.listdir(os.getcwd() + \"/new_directory\")\n",
    "# Now \"new_directory\" is a directory in our working directory"
   ]
  },
  {
   "cell_type": "code",
   "execution_count": 19,
   "metadata": {
    "colab": {
     "base_uri": "https://localhost:8080/",
     "height": 34
    },
    "execution": {
     "iopub.execute_input": "2022-09-23T00:20:18.803979Z",
     "iopub.status.busy": "2022-09-23T00:20:18.802955Z",
     "iopub.status.idle": "2022-09-23T00:20:18.808659Z",
     "shell.execute_reply": "2022-09-23T00:20:18.809450Z"
    },
    "executionInfo": {
     "elapsed": 623,
     "status": "ok",
     "timestamp": 1572563281536,
     "user": {
      "displayName": "Benedict Paten",
      "photoUrl": "https://lh3.googleusercontent.com/a-/AAuE7mBMnWy8dDR7jyTHNy9tPaRx6DCyA3QKrIcuQ7R4=s64",
      "userId": "06399644931392855882"
     },
     "user_tz": 420
    },
    "id": "3LTGLKkqkRVB",
    "outputId": "eeb04894-a7e2-4ca6-94ed-69ac8cba96b2",
    "slideshow": {
     "slide_type": "subslide"
    }
   },
   "outputs": [
    {
     "data": {
      "text/plain": [
       "['test.txt']"
      ]
     },
     "execution_count": 19,
     "metadata": {},
     "output_type": "execute_result"
    }
   ],
   "source": [
    "# We can write a file in our new directory like so:\n",
    "\n",
    "# Python uses strings to indicate file paths, generally we can indicate file\n",
    "# paths with the / symbol, so new_directory/test.txt is a file \"test.txt\" in the \n",
    "# directory \"new_directory\"\n",
    "\n",
    "with open(\"new_directory/test.txt\", \"w\") as fh:\n",
    "  fh.write(\"Hello again!\")\n",
    "    \n",
    "os.listdir(os.getcwd() + \"/new_directory\") "
   ]
  },
  {
   "cell_type": "markdown",
   "metadata": {
    "id": "v7VoOWRTp66n",
    "slideshow": {
     "slide_type": "subslide"
    }
   },
   "source": [
    "It is worth mentioning how to delete a file, because your Python programs/scripts should try not make lots of messy files:"
   ]
  },
  {
   "cell_type": "code",
   "execution_count": 18,
   "metadata": {
    "colab": {
     "base_uri": "https://localhost:8080/",
     "height": 34
    },
    "execution": {
     "iopub.execute_input": "2022-09-23T00:20:18.815843Z",
     "iopub.status.busy": "2022-09-23T00:20:18.814775Z",
     "iopub.status.idle": "2022-09-23T00:20:18.818557Z",
     "shell.execute_reply": "2022-09-23T00:20:18.819183Z"
    },
    "executionInfo": {
     "elapsed": 491,
     "status": "ok",
     "timestamp": 1572563337020,
     "user": {
      "displayName": "Benedict Paten",
      "photoUrl": "https://lh3.googleusercontent.com/a-/AAuE7mBMnWy8dDR7jyTHNy9tPaRx6DCyA3QKrIcuQ7R4=s64",
      "userId": "06399644931392855882"
     },
     "user_tz": 420
    },
    "id": "Q8OHe-OKp9La",
    "outputId": "1deb2c8d-fdf6-48ba-94f3-ad0286e7ca66",
    "slideshow": {
     "slide_type": "fragment"
    }
   },
   "outputs": [
    {
     "data": {
      "text/plain": [
       "[]"
      ]
     },
     "execution_count": 18,
     "metadata": {},
     "output_type": "execute_result"
    }
   ],
   "source": [
    "os.remove(\"new_directory/test.txt\") # This removes the file test.txt from new_directory\n",
    "\n",
    "os.listdir(os.getcwd() + \"/new_directory\") # Now the directory is empty"
   ]
  },
  {
   "cell_type": "code",
   "execution_count": 18,
   "metadata": {
    "colab": {
     "base_uri": "https://localhost:8080/",
     "height": 34
    },
    "execution": {
     "iopub.execute_input": "2022-09-23T00:20:18.824007Z",
     "iopub.status.busy": "2022-09-23T00:20:18.822972Z",
     "iopub.status.idle": "2022-09-23T00:20:18.828478Z",
     "shell.execute_reply": "2022-09-23T00:20:18.829049Z"
    },
    "executionInfo": {
     "elapsed": 678,
     "status": "ok",
     "timestamp": 1572563338388,
     "user": {
      "displayName": "Benedict Paten",
      "photoUrl": "https://lh3.googleusercontent.com/a-/AAuE7mBMnWy8dDR7jyTHNy9tPaRx6DCyA3QKrIcuQ7R4=s64",
      "userId": "06399644931392855882"
     },
     "user_tz": 420
    },
    "id": "ql-fl1mvqVwr",
    "outputId": "33bf49bd-2eaf-4494-8848-3e1ff68b8670",
    "slideshow": {
     "slide_type": "fragment"
    }
   },
   "outputs": [
    {
     "data": {
      "text/plain": [
       "['L03 More Types.ipynb',\n",
       " 'L11 Files.ipynb',\n",
       " '.DS_Store',\n",
       " 'L18 Data Science .ipynb',\n",
       " 'unbitly',\n",
       " 'test2.txt',\n",
       " 'L06 Functions.ipynb',\n",
       " 'L10 Modules.ipynb',\n",
       " 'L08 Strings.ipynb',\n",
       " 'L05 Loops.ipynb',\n",
       " 'L04 Conditionals and Branching.ipynb',\n",
       " 'L13 Classes and Polymorphism.ipynb',\n",
       " 'L02 Variables and Expressions.ipynb',\n",
       " 'L07 Functions Continued.ipynb',\n",
       " 'L16 Exceptions and Unit Testing.ipynb',\n",
       " 'L-- Syllabus.ipynb',\n",
       " 'figures',\n",
       " 'L15 More Functions and Recursion.ipynb',\n",
       " 'L14 Inheritance.ipynb',\n",
       " 'test.txt',\n",
       " '.ipynb_checkpoints',\n",
       " 'L17 Search Algorithms.ipynb',\n",
       " 'data',\n",
       " 'L12 Classes and Objects.ipynb',\n",
       " 'tmp',\n",
       " 'L09 Tuples, Lists and Dictionaries.ipynb',\n",
       " 'L01 Intro.ipynb']"
      ]
     },
     "execution_count": 18,
     "metadata": {},
     "output_type": "execute_result"
    }
   ],
   "source": [
    "# Similarly you can remove empty directories\n",
    "os.rmdir(\"new_directory\") # This will error out if the directory is not empty\n",
    "\n",
    "os.listdir(os.getcwd()) # new_directory is gone"
   ]
  },
  {
   "cell_type": "markdown",
   "metadata": {
    "slideshow": {
     "slide_type": "subslide"
    }
   },
   "source": [
    "# Challenge 3"
   ]
  },
  {
   "cell_type": "code",
   "execution_count": 20,
   "metadata": {
    "execution": {
     "iopub.execute_input": "2022-09-23T00:20:18.833558Z",
     "iopub.status.busy": "2022-09-23T00:20:18.832669Z",
     "iopub.status.idle": "2022-09-23T00:20:18.835148Z",
     "shell.execute_reply": "2022-09-23T00:20:18.835615Z"
    },
    "slideshow": {
     "slide_type": "fragment"
    }
   },
   "outputs": [
    {
     "name": "stdout",
     "output_type": "stream",
     "text": [
      "L03 More Types.ipynb\n",
      "L11 Files.ipynb\n",
      "L09 Tuples, Lists and Dictionaries.ipynb\n",
      "myadder.py\n",
      "out.txt\n",
      ".unbitly.icloud\n",
      ".L15 More Functions and Recursion.ipynb.icloud\n",
      ".L18 Data Science .ipynb.icloud\n",
      ".L16 Exceptions and Unit Testing.ipynb.icloud\n",
      "test2.txt\n",
      ".L14 Inheritance.ipynb.icloud\n",
      "L07 Functions Continued.ipynb\n",
      "fasta.fa\n",
      "L06 Functions.ipynb\n",
      "new_directory\n",
      "While.ipynb\n",
      "L02 Variables and Expressions.ipynb\n",
      "L05 Loops.ipynb\n",
      "Me.ipynb\n",
      "figures\n",
      "L10 Modules.ipynb\n",
      "L08 Strings.ipynb\n",
      "test.txt\n",
      ".ipynb_checkpoints\n",
      "sum.py\n",
      "zhivago.txt\n",
      ".L17 Search Algorithms.ipynb.icloud\n",
      "L01 Intro.ipynb\n",
      "L04 Conditionals and Branching.ipynb\n",
      "data\n",
      "Untitled.ipynb\n",
      "L13 Classes and Polymorphism.ipynb\n",
      ".L-- Syllabus.ipynb.icloud\n",
      "L12 Classes and Objects.ipynb\n",
      "local.txt\n"
     ]
    }
   ],
   "source": [
    "# Iterate through the files in your current working directory and print their names\n",
    "import os\n",
    "for f in os.listdir(os.getcwd()):\n",
    "    print(f)\n",
    "    "
   ]
  },
  {
   "cell_type": "markdown",
   "metadata": {
    "id": "LeFOCs6H8dfE",
    "slideshow": {
     "slide_type": "slide"
    }
   },
   "source": [
    "# Getting Data from the Internet"
   ]
  },
  {
   "cell_type": "code",
   "execution_count": 22,
   "metadata": {
    "colab": {
     "base_uri": "https://localhost:8080/",
     "height": 69
    },
    "execution": {
     "iopub.execute_input": "2022-09-23T00:20:18.841682Z",
     "iopub.status.busy": "2022-09-23T00:20:18.840807Z",
     "iopub.status.idle": "2022-09-23T00:20:19.165320Z",
     "shell.execute_reply": "2022-09-23T00:20:19.165777Z"
    },
    "executionInfo": {
     "elapsed": 494,
     "status": "ok",
     "timestamp": 1572563503696,
     "user": {
      "displayName": "Benedict Paten",
      "photoUrl": "https://lh3.googleusercontent.com/a-/AAuE7mBMnWy8dDR7jyTHNy9tPaRx6DCyA3QKrIcuQ7R4=s64",
      "userId": "06399644931392855882"
     },
     "user_tz": 420
    },
    "id": "b-OAJZVF8iq7",
    "outputId": "6296a5bd-eb88-4ffa-e0c4-14f1de11ab57",
    "slideshow": {
     "slide_type": "fragment"
    }
   },
   "outputs": [
    {
     "name": "stdout",
     "output_type": "stream",
     "text": [
      "<!doctype html><html itemscope=\"\" itemtype=\"http://schema.org/WebPage\" lang=\"en\"><head><meta content=\"Search the world's information, including webpages, images, videos and more. Google has many special features to help you find exactly what you're looking for.\" name=\"description\"><meta content=\"noodp\" name=\"robots\"><meta content=\"text/html; charset=UTF-8\" http-equiv=\"Content-Type\"><meta content=\"/images/branding/googleg/1x/googleg_standard_color_128dp.png\" itemprop=\"image\"><title>Google</title><script nonce=\"rrTq9IYtgGohszf1MqxhGw\">(function(){window.google={kEI:'zlRcY_aRHofikPIPt4a3uAM',kEXPI:'0,1302536,56873,6059,206,4804,2316,383,246,5,5367,1123753,1197785,380705,16115,28684,22430,1362,12312,17587,4998,13226,3849,10622,14763,7978,2372,2709,885,710,1277,2453,289,149,1103,840,1983,213,4101,4120,2025,2296,14669,3227,2845,7,33770,1851,15324,432,3,346,1244,1,5444,149,11323,2652,4,1528,2304,7039,22023,5708,7355,13660,2980,1457,15351,1435,5827,2530,4097,4049,3,3541,1,11943,30211,2,3357,10665,2373,342,11401,9868,1755,5679,1021,2380,28742,4568,6258,23416,1248,5841,12200,2768,4332,2204,5280,445,2,2,1,24626,2006,8155,6680,701,2,3,15964,873,3088,6538,10008,7,1922,5784,3995,18543,587,12192,4832,17016,122,700,4,1,2,2,2,2,1440,3898,615,2700,106,5157,2552,977,7500,1825,2,733,1284,14,82,949,2941,751,201,1867,125,7432,51,2197,488,922,613,1323,346,109,364,466,683,899,2707,28,370,1170,456,1125,792,746,2247,963,299,1757,1327,857,24,247,10,3615,2006,965,478,299,814,1514,578,1187,201,380,681,440,1,197,171,1,2,346,227,991,545,425,863,216,2,43,172,269,916,5,444,6,488,95,35,2,4,2,284,7,1930,520,1086,12,529,4,237,982,136,172,403,21,214,1,39,275,1042,598,488,290,41,148,46,89,491,3,208,2,3,194,93,556,264,254,412,1,293,334,4,232,578,321,1,184,1,291,1803,264,491,5313363,5995903,2803376,3311,141,795,19736,1,298,48,2259,22,23948204,486,2769681,1271975,1964,1008,2086,11204,2374,3406,11318,298',kBL:'0MQP'};google.sn='webhp';google.kHL='en';})();(function(){\n",
      "var f=this||self;var h,k=[];function l(a){for(var b;a&&(!a.getAttribute||!(b=a.getAttribute(\"eid\")));)a=a.parentNode;return b||h}function m(a){for(var b=null;a&&(!a.getAttribute||!(b=a.getAttribute(\"leid\")));)a=a.parentNode;return b}\n",
      "function n(a,b,c,d,g){var e=\"\";c||-1!==b.search(\"&ei=\")||(e=\"&ei=\"+l(d),-1===b.search(\"&lei=\")&&(d=m(d))&&(e+=\"&lei=\"+d));d=\"\";!c&&f._cshid&&-1===b.search(\"&cshid=\")&&\"slh\"!==a&&(d=\"&cshid=\"+f._cshid);c=c||\"/\"+(g||\"gen_204\")+\"?atyp=i&ct=\"+a+\"&cad=\"+b+e+\"&zx=\"+Date.now()+d;/^http:/i.test(c)&&\"https:\"===window.location.protocol&&(google.ml&&google.ml(Error(\"a\"),!1,{src:c,glmm:1}),c=\"\");return c};h=google.kEI;google.getEI=l;google.getLEI=m;google.ml=function(){return null};google.log=function(a,b,c,d,g){if(c=n(a,b,c,d,g)){a=new Image;var e=k.length;k[e]=a;a.onerror=a.onload=a.onabort=function(){delete k[e]};a.src=c}};google.logUrl=n;}).call(this);(function(){\n",
      "google.y={};google.sy=[];google.x=function(a,b){if(a)var c=a.id;else{do c=Math.random();while(google.y[c])}google.y[c]=[a,b];return!1};google.sx=function(a){google.sy.push(a)};google.lm=[];google.plm=function(a){google.lm.push.apply(google.lm,a)};google.lq=[];google.load=function(a,b,c){google.lq.push([[a],b,c])};google.loadAll=function(a,b){google.lq.push([a,b])};google.bx=!1;google.lx=function(){};}).call(this);google.f={};(function(){\n",
      "document.documentElement.addEventListener(\"submit\",function(b){var a;if(a=b.target){var c=a.getAttribute(\"data-submitfalse\");a=\"1\"===c||\"q\"===c&&!a.elements.q.value?!0:!1}else a=!1;a&&(b.preventDefault(),b.stopPropagation())},!0);document.documentElement.addEventListener(\"click\",function(b){var a;a:{for(a=b.target;a&&a!==document.documentElement;a=a.parentElement)if(\"A\"===a.tagName){a=\"1\"===a.getAttribute(\"data-nohref\");break a}a=!1}a&&b.preventDefault()},!0);}).call(this);</script><style>#gbar,#guser{font-size:13px;padding-top:1px !important;}#gbar{height:22px}#guser{padding-bottom:7px !important;text-align:right}.gbh,.gbd{border-top:1px solid #c9d7f1;font-size:1px}.gbh{height:0;position:absolute;top:24px;width:100%}@media all{.gb1{height:22px;margin-right:.5em;vertical-align:top}#gbar{float:left}}a.gb1,a.gb4{text-decoration:underline !important}a.gb1,a.gb4{color:#00c !important}.gbi .gb4{color:#dd8e27 !important}.gbf .gb4{color:#900 !important}\n",
      "</style><style>body,td,a,p,.h{font-family:arial,sans-serif}body{margin:0;overflow-y:scroll}#gog{padding:3px 8px 0}td{line-height:.8em}.gac_m td{line-height:17px}form{margin-bottom:20px}.h{color:#1558d6}em{font-weight:bold;font-style:normal}.lst{height:25px;width:496px}.gsfi,.lst{font:18px arial,sans-serif}.gsfs{font:17px arial,sans-serif}.ds{display:inline-box;display:inline-block;margin:3px 0 4px;margin-left:4px}input{font-family:inherit}body{background:#fff;color:#000}a{color:#4b11a8;text-decoration:none}a:hover,a:active{text-decoration:underline}.fl a{color:#1558d6}a:visited{color:#4b11a8}.sblc{padding-top:5px}.sblc a{display:block;margin:2px 0;margin-left:13px;font-size:11px}.lsbb{background:#f8f9fa;border:solid 1px;border-color:#dadce0 #70757a #70757a #dadce0;height:30px}.lsbb{display:block}#WqQANb a{display:inline-block;margin:0 12px}.lsb{background:url(/images/nav_logo229.png) 0 -261px repeat-x;border:none;color:#000;cursor:pointer;height:30px;margin:0;outline:0;font:15px arial,sans-serif;vertical-align:top}.lsb:active{background:#dadce0}.lst:focus{outline:none}</style><script nonce=\"rrTq9IYtgGohszf1MqxhGw\">(function(){window.google.erd={jsr:1,bv:1676,de:true};\n",
      "var h=this||self;var k,l=null!=(k=h.mei)?k:1,n,p=null!=(n=h.sdo)?n:!0,q=0,r,t=google.erd,v=t.jsr;google.ml=function(a,b,d,m,e){e=void 0===e?2:e;b&&(r=a&&a.message);if(google.dl)return google.dl(a,e,d),null;if(0>v){window.console&&console.error(a,d);if(-2===v)throw a;b=!1}else b=!a||!a.message||\"Error loading script\"===a.message||q>=l&&!m?!1:!0;if(!b)return null;q++;d=d||{};b=encodeURIComponent;var c=\"/gen_204?atyp=i&ei=\"+b(google.kEI);google.kEXPI&&(c+=\"&jexpid=\"+b(google.kEXPI));c+=\"&srcpg=\"+b(google.sn)+\"&jsr=\"+b(t.jsr)+\"&bver=\"+b(t.bv);var f=a.lineNumber;void 0!==f&&(c+=\"&line=\"+f);var g=\n",
      "a.fileName;g&&(0<g.indexOf(\"-extension:/\")&&(e=3),c+=\"&script=\"+b(g),f&&g===window.location.href&&(f=document.documentElement.outerHTML.split(\"\\n\")[f],c+=\"&cad=\"+b(f?f.substring(0,300):\"No script found.\")));c+=\"&jsel=\"+e;for(var u in d)c+=\"&\",c+=b(u),c+=\"=\",c+=b(d[u]);c=c+\"&emsg=\"+b(a.name+\": \"+a.message);c=c+\"&jsst=\"+b(a.stack||\"N/A\");12288<=c.length&&(c=c.substr(0,12288));a=c;m||google.log(0,\"\",a);return a};window.onerror=function(a,b,d,m,e){r!==a&&(a=e instanceof Error?e:Error(a),void 0===d||\"lineNumber\"in a||(a.lineNumber=d),void 0===b||\"fileName\"in a||(a.fileName=b),google.ml(a,!1,void 0,!1,\"SyntaxError\"===a.name||\"SyntaxError\"===a.message.substring(0,11)||-1!==a.message.indexOf(\"Script error\")?3:0));r=null;p&&q>=l&&(window.onerror=null)};})();</script></head><body bgcolor=\"#fff\"><script nonce=\"rrTq9IYtgGohszf1MqxhGw\">(function(){var src='/images/nav_logo229.png';var iesg=false;document.body.onload = function(){window.n && window.n();if (document.images){new Image().src=src;}\n",
      "if (!iesg){document.f&&document.f.q.focus();document.gbqf&&document.gbqf.q.focus();}\n",
      "}\n"
     ]
    },
    {
     "ename": "UnicodeDecodeError",
     "evalue": "'ascii' codec can't decode byte 0xa0 in position 3393: ordinal not in range(128)",
     "output_type": "error",
     "traceback": [
      "\u001b[0;31m---------------------------------------------------------------------------\u001b[0m",
      "\u001b[0;31mUnicodeDecodeError\u001b[0m                        Traceback (most recent call last)",
      "\u001b[0;32m<ipython-input-22-75485cdfede3>\u001b[0m in \u001b[0;36m<module>\u001b[0;34m\u001b[0m\n\u001b[1;32m     10\u001b[0m \u001b[0;34m\u001b[0m\u001b[0m\n\u001b[1;32m     11\u001b[0m \u001b[0;32mwith\u001b[0m \u001b[0mopen\u001b[0m\u001b[0;34m(\u001b[0m\u001b[0mlocal_copy\u001b[0m\u001b[0;34m)\u001b[0m \u001b[0;32mas\u001b[0m \u001b[0mfh\u001b[0m\u001b[0;34m:\u001b[0m \u001b[0;31m# Print the file\u001b[0m\u001b[0;34m\u001b[0m\u001b[0m\n\u001b[0;32m---> 12\u001b[0;31m   \u001b[0;32mfor\u001b[0m \u001b[0mline\u001b[0m \u001b[0;32min\u001b[0m \u001b[0mfh\u001b[0m\u001b[0;34m:\u001b[0m\u001b[0;34m\u001b[0m\u001b[0m\n\u001b[0m\u001b[1;32m     13\u001b[0m     \u001b[0mprint\u001b[0m\u001b[0;34m(\u001b[0m\u001b[0mline\u001b[0m\u001b[0;34m,\u001b[0m \u001b[0mend\u001b[0m\u001b[0;34m=\u001b[0m\u001b[0;34m\"\"\u001b[0m\u001b[0;34m)\u001b[0m\u001b[0;34m\u001b[0m\u001b[0m\n",
      "\u001b[0;32m~/lib/python36.zip/encodings/ascii.py\u001b[0m in \u001b[0;36mdecode\u001b[0;34m(self, input, final)\u001b[0m\n\u001b[1;32m     24\u001b[0m \u001b[0;32mclass\u001b[0m \u001b[0mIncrementalDecoder\u001b[0m\u001b[0;34m(\u001b[0m\u001b[0mcodecs\u001b[0m\u001b[0;34m.\u001b[0m\u001b[0mIncrementalDecoder\u001b[0m\u001b[0;34m)\u001b[0m\u001b[0;34m:\u001b[0m\u001b[0;34m\u001b[0m\u001b[0m\n\u001b[1;32m     25\u001b[0m     \u001b[0;32mdef\u001b[0m \u001b[0mdecode\u001b[0m\u001b[0;34m(\u001b[0m\u001b[0mself\u001b[0m\u001b[0;34m,\u001b[0m \u001b[0minput\u001b[0m\u001b[0;34m,\u001b[0m \u001b[0mfinal\u001b[0m\u001b[0;34m=\u001b[0m\u001b[0;32mFalse\u001b[0m\u001b[0;34m)\u001b[0m\u001b[0;34m:\u001b[0m\u001b[0;34m\u001b[0m\u001b[0m\n\u001b[0;32m---> 26\u001b[0;31m         \u001b[0;32mreturn\u001b[0m \u001b[0mcodecs\u001b[0m\u001b[0;34m.\u001b[0m\u001b[0mascii_decode\u001b[0m\u001b[0;34m(\u001b[0m\u001b[0minput\u001b[0m\u001b[0;34m,\u001b[0m \u001b[0mself\u001b[0m\u001b[0;34m.\u001b[0m\u001b[0merrors\u001b[0m\u001b[0;34m)\u001b[0m\u001b[0;34m[\u001b[0m\u001b[0;36m0\u001b[0m\u001b[0;34m]\u001b[0m\u001b[0;34m\u001b[0m\u001b[0m\n\u001b[0m\u001b[1;32m     27\u001b[0m \u001b[0;34m\u001b[0m\u001b[0m\n\u001b[1;32m     28\u001b[0m \u001b[0;32mclass\u001b[0m \u001b[0mStreamWriter\u001b[0m\u001b[0;34m(\u001b[0m\u001b[0mCodec\u001b[0m\u001b[0;34m,\u001b[0m\u001b[0mcodecs\u001b[0m\u001b[0;34m.\u001b[0m\u001b[0mStreamWriter\u001b[0m\u001b[0;34m)\u001b[0m\u001b[0;34m:\u001b[0m\u001b[0;34m\u001b[0m\u001b[0m\n",
      "\u001b[0;31mUnicodeDecodeError\u001b[0m: 'ascii' codec can't decode byte 0xa0 in position 3393: ordinal not in range(128)"
     ]
    }
   ],
   "source": [
    "import urllib.request\n",
    "\n",
    "url=\"https://raw.githubusercontent.com/DataBiosphere/toil/master/src/toil/test/wdl/test.csv\"\n",
    "local_copy = \"local.txt\"\n",
    "\n",
    "urllib.request.urlretrieve(url, local_copy) \n",
    "# This function copies the thing the url points at into\n",
    "# a local file copy\n",
    "\n",
    "with open(local_copy) as fh: # Print the file\n",
    "  for line in fh:\n",
    "    print(line, end=\"\")"
   ]
  },
  {
   "cell_type": "markdown",
   "metadata": {
    "id": "jZBKbIBn9Woa",
    "slideshow": {
     "slide_type": "slide"
    }
   },
   "source": [
    "# Challenge 4: File Processing Example\n",
    "\n",
    "Here's a fairly complete worked example of doing file writing and parsing using the simplest bioinformatics format, the fasta file.\n",
    "\n",
    "A fasta file is a file that stores nucleotide (like DNA, RNA,) and amino-acid (protein) sequences.\n",
    "\n",
    "This is a code comprehension exercise, i.e. to complete the task you need to read the code and understand what it is doing. "
   ]
  },
  {
   "cell_type": "code",
   "execution_count": 27,
   "metadata": {
    "colab": {
     "base_uri": "https://localhost:8080/",
     "height": 282
    },
    "execution": {
     "iopub.execute_input": "2022-09-23T00:20:19.178390Z",
     "iopub.status.busy": "2022-09-23T00:20:19.175811Z",
     "iopub.status.idle": "2022-09-23T00:20:19.186596Z",
     "shell.execute_reply": "2022-09-23T00:20:19.187193Z"
    },
    "executionInfo": {
     "elapsed": 880,
     "status": "ok",
     "timestamp": 1572562678463,
     "user": {
      "displayName": "Benedict Paten",
      "photoUrl": "https://lh3.googleusercontent.com/a-/AAuE7mBMnWy8dDR7jyTHNy9tPaRx6DCyA3QKrIcuQ7R4=s64",
      "userId": "06399644931392855882"
     },
     "user_tz": 420
    },
    "id": "2YPQzixw8B1q",
    "outputId": "e2d5bde6-702d-4ca5-bca4-373e4ad1591b",
    "slideshow": {
     "slide_type": "fragment"
    }
   },
   "outputs": [],
   "source": [
    "\"\"\"\n",
    "Example creating read and write methods for fasta files.\n",
    "\n",
    "Fasta format is a dead simple text (ascii) file:\n",
    "\n",
    ">HEADER_1\n",
    "SEQUENCE_LINE_1\n",
    "SEQUENCE_LINE_2\n",
    "...\n",
    "SEQUENCE_LINE_N\n",
    ">HEADER_2\n",
    "SEQUENCE_LINE_1\n",
    "SEQUENCE_LINE_2\n",
    "...\n",
    "SEQUENCE_LINE_N\n",
    "\n",
    "Where HEADER_ lines give a string descriptor of the sequence\n",
    "and the SEQUENCE_LINE_ lines are concatenated together to form the actual \n",
    "amino-acid or nucleotide sequence.\n",
    "\"\"\"\n",
    "\n",
    "def writeFasta(fileHandle, header, sequence, sequenceLineWidth=100):\n",
    "  \"\"\" Function writes a fasta header/sequence combination to the given file handle.\n",
    "  \"\"\"\n",
    "  fileHandle.write('>' + header + \"\\n\") # Write the header line\n",
    "  \n",
    "  # Now write the sequence\n",
    "  for i in range(0,len(sequence),sequenceLineWidth): \n",
    "    # Step through sequence sequenceLineWidth characters at a time\n",
    "    \n",
    "    # Write the next sequenceLineWidth chars of the sequence\n",
    "    fileHandle.write(sequence[i:i+sequenceLineWidth] + \"\\n\") \n",
    "    \n",
    "def readFasta(fileHandle):\n",
    "    \"\"\" A generator that returns the header/sequence pairs from a fasta file.\n",
    "    \"\"\"\n",
    "    while True:\n",
    "        # Read the header line, skipping and lines not beginning with a '>'\n",
    "        while True:  # Keep looping until we break\n",
    "            l = fileHandle.readline()\n",
    "\n",
    "            if len(l) == 0:  # If we have reached the end of the file, terminate\n",
    "                return None  # None is a standard NULL or 0 quantity used to indicate\n",
    "            # termination\n",
    "\n",
    "            if l[0] == '>':  # Is a valid header line\n",
    "                header = l[1:-1]  # Get the  header between the '>' and the '\\n'\n",
    "                break\n",
    "\n",
    "        # Now read the sequence\n",
    "        substrings = []\n",
    "        while True:\n",
    "            i = fileHandle.tell()  \n",
    "            # tell() gives the index that the file handle is at in the file\n",
    "\n",
    "            l = fileHandle.readline()\n",
    "\n",
    "            if len(l) == 0:  # We have reached the end of the file\n",
    "                break\n",
    "\n",
    "            if l[0] == '>':  # We have encountered the start of another sequence\n",
    "                fileHandle.seek(i)  \n",
    "                # Roll back the file handle to the point before we called readline()\n",
    "                # this is like \"undoing\" the readline() call\n",
    "                break\n",
    "\n",
    "            substrings.append(l[:-1])  # Add the line, minus the newline to substrings\n",
    "\n",
    "        yield header, \"\".join(substrings)\n",
    "\n",
    "  \n",
    "# A few test sequences\n",
    "dna_sequences = {\n",
    "    \"a_dummy_dna_string\":\"GATTACA\",\n",
    "    \"gi 556503834 ref NC_000913.3 Escherichia coli str. K-12 substr. MG1655, complete genome\":\"AGCTTTTCATTCTGACTGCAACGGGCAATATGTCTCTGTGTGGATTAAAAAAAGAGTGTCTGATAGCAGCTTCTGAACTGGTTACCTGCCGTGAGTAAATTAAAATTTTATTGACTTAGGTCACTAAATACTTTAACCAATATAGGCATAGCGCACAGACAGATAAAAATTACAGAGTACACAACATCCATGAAACGCATTAGCACCACCATTACCACCACCATCACCATTACCACAGGTAACGGTGCGGGCTGACGCGTACAGGAAACACAGAAAAAAGCCCGCACCTGACAGTGCGGGCTTTTTTTTTCGACCAAAGGTAACGAGGTAACAACCATGCGAGTGTTGAAGTTCGGCGGTACATCAGTGGCAAATGCAGAACGTTTTCTGCGTGTTGCCGATATTCTGGAAAGCAATGCCAGGCAGGGGCAGGTGGCCACCGTCCTCTCTGCCCCCGCCAAAATCACCAACCACCTGGTGGCGATGATTGAAAAAACCATTAGCGGCCAGGATGCTTTACCCAATATCAGCGATGCCGAACGTATTTTTGCCGAACTTTTGACGGGACTCGCCGCCGCCCAGCCGGGGTTCCCGCTGGCGCAATTGAAAACTTTCGTCGATCAGGAATTTGCCCAAATAAAACATGTCCTGCATGGCATTAGTTTGTTGGGGCAGTGCCCGGATAGCATCAACGCTGCGC\",\n",
    "\"another_dummy_dna_string\":\"CGGCGCGCGTCTTTGCAGCGATGTCACGCGCCCGTATTTCCGTGGTGCTGATTACGCAATCATCTTCCGAATACAGCATCAGTTTCTGCGTTCCACAAAGCGACTGTGTGCGAGCTGAACGGGCAATGCAGGAAGAGTTC\"\n",
    "}\n",
    "\n",
    "# Challenge: \n",
    "# (1) Write the sequences in \"dna_sequences\" into a file \"fasta.fa\" using the writeFasta function, \n",
    "# for each pair in the dictionary using the key as the header and the value as the sequennce\n",
    "with open(\"fasta.fa\",\"w\") as fh:\n",
    "    for h in dna_sequences:\n",
    "        writeFasta(fh,h, dna_sequences[h])\n",
    "    \n",
    "# (2) Make an empty dictionary called dna_sequences_copy\n",
    "dna_sequences_copy = {}\n",
    "\n",
    "# (3) Read the sequences in \"fasta.fa\" using the readFasta function, putting the header:sequence pairs\n",
    "# into dna_sequences_copy\n",
    "with open(\"fasta.fa\",\"r\") as fh:\n",
    "    for (h,seq) in readFasta(fh):\n",
    "        dna_sequences_copy[h] = seq\n",
    "\n",
    "# We can check it all worked\n",
    "assert dna_sequences == dna_sequences_copy\n"
   ]
  },
  {
   "cell_type": "markdown",
   "metadata": {
    "id": "KZP9y5sgyVm8",
    "slideshow": {
     "slide_type": "slide"
    }
   },
   "source": [
    "# Reading\n",
    "\n",
    "* Open book Chapter 13 on files: http://openbookproject.net/thinkcs/python/english3e/files.html\n",
    "\n",
    "# Homework\n",
    "\n",
    "* Go to Canvas and complete the lecture quiz, which involves completing each challenge problem\n",
    "* ZyBook Reading 11\n",
    "\n"
   ]
  }
 ],
 "metadata": {
  "celltoolbar": "Slideshow",
  "colab": {
   "collapsed_sections": [],
   "name": "L11 Files.ipynb",
   "provenance": []
  },
  "kernelspec": {
   "display_name": "Python 3",
   "language": "python",
   "name": "python3"
  },
  "language_info": {
   "codemirror_mode": {
    "name": "ipython",
    "version": 3
   },
   "file_extension": ".py",
   "mimetype": "text/x-python",
   "name": "python",
   "nbconvert_exporter": "python",
   "pygments_lexer": "ipython3",
   "version": "3.6.6+"
  }
 },
 "nbformat": 4,
 "nbformat_minor": 1
}
