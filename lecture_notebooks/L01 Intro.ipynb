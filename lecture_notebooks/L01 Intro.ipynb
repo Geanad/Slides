{
 "cells": [
  {
   "cell_type": "markdown",
   "metadata": {
    "id": "WXxpm3igiL4w",
    "slideshow": {
     "slide_type": "slide"
    }
   },
   "source": [
    "# Welcome to CSE20\n",
    "# Introductory Programming in Python\n",
    "\n",
    "#\n",
    "\n",
    "## Professor Cormac Flanagan\n",
    "  "
   ]
  },
  {
   "cell_type": "markdown",
   "metadata": {
    "id": "unlvFtJL6PVb",
    "slideshow": {
     "slide_type": "slide"
    }
   },
   "source": [
    "# Course Syllabus\n",
    "\n",
    "* See Canvas for all the details\n",
    "* Summary\n",
    "  * Zybooks - assignments, readings, due each Monday\n",
    "  * Google calendar - where to get help\n"
   ]
  },
  {
   "cell_type": "markdown",
   "metadata": {
    "id": "y1cIFL7YSA7p",
    "slideshow": {
     "slide_type": "slide"
    }
   },
   "source": [
    "# Why Learn to Program?\n",
    "\n",
    "* Programming is everywhere, it is becoming *essential* as a basic skill in many fields. \n",
    " * Even if you don't want to be a software engineer, it should allow you to use programming as a tool in **your existing and future work**, to tackle bigger problems, as well as automating mundane things.\n",
    "\n",
    "\n"
   ]
  },
  {
   "cell_type": "markdown",
   "metadata": {
    "id": "vhNPyNOblB6b",
    "slideshow": {
     "slide_type": "slide"
    }
   },
   "source": [
    "# What Is a Computer Program?\n",
    "\n",
    "#### Class Discussion\n",
    "\n",
    "1. What is a computer program?\n",
    "2. What is like a computer program?"
   ]
  },
  {
   "cell_type": "markdown",
   "metadata": {
    "id": "PPeHeGQ4X3-w",
    "slideshow": {
     "slide_type": "slide"
    }
   },
   "source": [
    "# Hello, World!\n",
    "\n",
    "**Okay, let's write our first program...**"
   ]
  },
  {
   "cell_type": "code",
   "execution_count": 5,
   "metadata": {
    "colab": {
     "base_uri": "https://localhost:8080/"
    },
    "execution": {
     "iopub.execute_input": "2022-09-23T00:19:59.962367Z",
     "iopub.status.busy": "2022-09-23T00:19:59.961510Z",
     "iopub.status.idle": "2022-09-23T00:19:59.965693Z",
     "shell.execute_reply": "2022-09-23T00:19:59.966215Z"
    },
    "executionInfo": {
     "elapsed": 348,
     "status": "ok",
     "timestamp": 1609893292341,
     "user": {
      "displayName": "Benedict Paten",
      "photoUrl": "https://lh3.googleusercontent.com/a-/AOh14Gh2rYrrH6yoNnUp0Oj4p4ouybc6ZcWGyPmKFtIY=s64",
      "userId": "06399644931392855882"
     },
     "user_tz": 480
    },
    "id": "6_f_aG23rcN2",
    "outputId": "5ae94874-0281-4168-aeaa-240973f7be50",
    "slideshow": {
     "slide_type": "fragment"
    }
   },
   "outputs": [
    {
     "name": "stdout",
     "output_type": "stream",
     "text": [
      "Hello, World!\n"
     ]
    }
   ],
   "source": [
    "# Hello world program - this is a comment \n",
    "# (it's just to make the code readable)\n",
    "\n",
    "print(\"Hello, World!\") "
   ]
  },
  {
   "cell_type": "markdown",
   "metadata": {
    "id": "mY7WdWekSVvk",
    "slideshow": {
     "slide_type": "slide"
    }
   },
   "source": [
    "# Slides are Jupyter notebooks\n",
    "\n",
    "Each lecture is a Jupyter notebook \n",
    "* combines both text (like these words) and python code\n",
    "* allows you to easily change and run the python code.\n",
    "\n",
    "Jupyter notebooks can be edited and run in your web browser using Google **Colab** \n",
    "  * Go to http://colab.research.google.com\n",
    "  * Paste http://github.com/cormacflanagan/intro_python (where slides are stored) into the GitHub tab\n",
    "     \n",
    "Jupyter notebooks can be edited and run on your computer using software at http://jupyter.org/\n",
    "    "
   ]
  },
  {
   "cell_type": "markdown",
   "metadata": {
    "slideshow": {
     "slide_type": "slide"
    }
   },
   "source": [
    "# Challenge 1"
   ]
  },
  {
   "cell_type": "code",
   "execution_count": 1,
   "metadata": {
    "execution": {
     "iopub.execute_input": "2022-09-23T00:19:59.970843Z",
     "iopub.status.busy": "2022-09-23T00:19:59.970099Z",
     "iopub.status.idle": "2022-09-23T00:19:59.972437Z",
     "shell.execute_reply": "2022-09-23T00:19:59.972903Z"
    },
    "slideshow": {
     "slide_type": "fragment"
    }
   },
   "outputs": [],
   "source": [
    "# Print the words: My first program\n",
    "\n"
   ]
  },
  {
   "cell_type": "markdown",
   "metadata": {
    "id": "EqbOD-FoYffN",
    "slideshow": {
     "slide_type": "slide"
    }
   },
   "source": [
    "# A Bigger Example\n",
    "\n",
    "Don't worry if this is all a bit cryptic right now, \n",
    "we'll explain all the bits over the course of these lectures"
   ]
  },
  {
   "cell_type": "code",
   "execution_count": 4,
   "metadata": {
    "colab": {
     "base_uri": "https://localhost:8080/"
    },
    "execution": {
     "iopub.execute_input": "2022-09-23T00:19:59.977117Z",
     "iopub.status.busy": "2022-09-23T00:19:59.976531Z",
     "iopub.status.idle": "2022-09-23T00:20:00.045461Z",
     "shell.execute_reply": "2022-09-23T00:20:00.045923Z"
    },
    "executionInfo": {
     "elapsed": 8052,
     "status": "ok",
     "timestamp": 1607390613099,
     "user": {
      "displayName": "Benedict Paten",
      "photoUrl": "https://lh3.googleusercontent.com/a-/AOh14Gh2rYrrH6yoNnUp0Oj4p4ouybc6ZcWGyPmKFtIY=s64",
      "userId": "06399644931392855882"
     },
     "user_tz": 480
    },
    "id": "3qlDx_KihlqE",
    "outputId": "3a325b14-7f46-490d-cf0e-2e2e46725103",
    "slideshow": {
     "slide_type": "fragment"
    }
   },
   "outputs": [
    {
     "name": "stdout",
     "output_type": "stream",
     "text": [
      "The sum is 25\n"
     ]
    }
   ],
   "source": [
    "## A basic program\n",
    "\n",
    "# Here, 'x' is a variable (ie a box you can put numbers in)\n",
    "# Put 10 into the box called x\n",
    "x = 10\n",
    "\n",
    "# Ditto with y\n",
    "y = 15\n",
    "\n",
    "# Add x and y together, and put the result into variable z\n",
    "z = x + y \n",
    "\n",
    "# Print the result\n",
    "print(\"The sum is\", z)"
   ]
  },
  {
   "cell_type": "markdown",
   "metadata": {
    "slideshow": {
     "slide_type": "subslide"
    }
   },
   "source": [
    "# Challenge 2"
   ]
  },
  {
   "cell_type": "code",
   "execution_count": 2,
   "metadata": {
    "execution": {
     "iopub.execute_input": "2022-09-23T00:20:00.050505Z",
     "iopub.status.busy": "2022-09-23T00:20:00.049548Z",
     "iopub.status.idle": "2022-09-23T00:20:00.052288Z",
     "shell.execute_reply": "2022-09-23T00:20:00.051887Z"
    },
    "slideshow": {
     "slide_type": "fragment"
    }
   },
   "outputs": [],
   "source": [
    "# Adapt the above program to print the product of x and y. \n",
    "# Write your code here\n",
    "\n",
    "\n",
    "\n",
    "\n"
   ]
  },
  {
   "cell_type": "markdown",
   "metadata": {
    "slideshow": {
     "slide_type": "slide"
    }
   },
   "source": [
    "# Lecture Notebooks vs Zybooks\n",
    "\n",
    "* I have tried to align the lecture notes with the Zybooks chapters \n",
    "* These lecture notes do not cover everything in the Zybooks text book \n",
    "* Zybooks is more comprehensive than these notebooks and provides interactive exercises\n",
    "* The lecture notes are an interactive exploration of some of the key ideas. \n"
   ]
  },
  {
   "cell_type": "markdown",
   "metadata": {
    "id": "r0J1gm9NBqR2",
    "slideshow": {
     "slide_type": "slide"
    }
   },
   "source": [
    "# Basic Input and output"
   ]
  },
  {
   "cell_type": "code",
   "execution_count": 1,
   "metadata": {
    "colab": {
     "base_uri": "https://localhost:8080/"
    },
    "execution": {
     "iopub.execute_input": "2022-09-23T00:20:00.057336Z",
     "iopub.status.busy": "2022-09-23T00:20:00.056697Z",
     "iopub.status.idle": "2022-09-23T00:20:00.062544Z",
     "shell.execute_reply": "2022-09-23T00:20:00.062970Z"
    },
    "executionInfo": {
     "elapsed": 3514,
     "status": "ok",
     "timestamp": 1607390628419,
     "user": {
      "displayName": "Benedict Paten",
      "photoUrl": "https://lh3.googleusercontent.com/a-/AOh14Gh2rYrrH6yoNnUp0Oj4p4ouybc6ZcWGyPmKFtIY=s64",
      "userId": "06399644931392855882"
     },
     "user_tz": 480
    },
    "id": "S75-wdbs6bwI",
    "outputId": "a5402563-410b-424b-d9d9-0f2cb8c587a9",
    "slideshow": {
     "slide_type": "fragment"
    }
   },
   "outputs": [
    {
     "name": "stdout",
     "output_type": "stream",
     "text": [
      "What's your name? Prof. Flanagan\n"
     ]
    }
   ],
   "source": [
    "# Here is how we can get input\n",
    "\n",
    "x = input(\"What's your name? \") "
   ]
  },
  {
   "cell_type": "code",
   "execution_count": 2,
   "metadata": {
    "colab": {
     "base_uri": "https://localhost:8080/"
    },
    "execution": {
     "iopub.execute_input": "2022-09-23T00:20:00.066677Z",
     "iopub.status.busy": "2022-09-23T00:20:00.066084Z",
     "iopub.status.idle": "2022-09-23T00:20:00.072749Z",
     "shell.execute_reply": "2022-09-23T00:20:00.073152Z"
    },
    "executionInfo": {
     "elapsed": 540,
     "status": "ok",
     "timestamp": 1607390630359,
     "user": {
      "displayName": "Benedict Paten",
      "photoUrl": "https://lh3.googleusercontent.com/a-/AOh14Gh2rYrrH6yoNnUp0Oj4p4ouybc6ZcWGyPmKFtIY=s64",
      "userId": "06399644931392855882"
     },
     "user_tz": 480
    },
    "id": "Sywp442762ro",
    "outputId": "01e46ff1-2ba4-4eee-8871-a27df154c4be",
    "slideshow": {
     "slide_type": "fragment"
    }
   },
   "outputs": [
    {
     "name": "stdout",
     "output_type": "stream",
     "text": [
      "Your name is Prof. Flanagan\n"
     ]
    }
   ],
   "source": [
    "# We can print out this input\n",
    "\n",
    "print(\"Your name is\", x) "
   ]
  },
  {
   "cell_type": "markdown",
   "metadata": {
    "id": "LqeIGW5ki_To",
    "slideshow": {
     "slide_type": "slide"
    }
   },
   "source": [
    "# Debugging"
   ]
  },
  {
   "cell_type": "code",
   "execution_count": 1,
   "metadata": {
    "colab": {
     "base_uri": "https://localhost:8080/",
     "height": 201
    },
    "execution": {
     "iopub.execute_input": "2022-09-23T00:20:00.077106Z",
     "iopub.status.busy": "2022-09-23T00:20:00.076465Z",
     "iopub.status.idle": "2022-09-23T00:20:00.081465Z",
     "shell.execute_reply": "2022-09-23T00:20:00.081877Z"
    },
    "executionInfo": {
     "elapsed": 401,
     "status": "error",
     "timestamp": 1609892004205,
     "user": {
      "displayName": "Benedict Paten",
      "photoUrl": "https://lh3.googleusercontent.com/a-/AOh14Gh2rYrrH6yoNnUp0Oj4p4ouybc6ZcWGyPmKFtIY=s64",
      "userId": "06399644931392855882"
     },
     "user_tz": 480
    },
    "id": "9tiukjkD2bc4",
    "outputId": "9aeb7b20-9300-4039-d27a-d39b38f90207",
    "slideshow": {
     "slide_type": "fragment"
    }
   },
   "outputs": [
    {
     "ename": "NameError",
     "evalue": "name 'var2' is not defined",
     "output_type": "error",
     "traceback": [
      "\u001b[0;31m---------------------------------------------------------------------------\u001b[0m",
      "\u001b[0;31mNameError\u001b[0m                                 Traceback (most recent call last)",
      "\u001b[0;32m<ipython-input-1-28ee0472c4ec>\u001b[0m in \u001b[0;36m<module>\u001b[0;34m\u001b[0m\n\u001b[1;32m      4\u001b[0m \u001b[0mvar1\u001b[0m \u001b[0;34m=\u001b[0m \u001b[0;36m15\u001b[0m\u001b[0;34m\u001b[0m\u001b[0;34m\u001b[0m\u001b[0m\n\u001b[1;32m      5\u001b[0m \u001b[0;34m\u001b[0m\u001b[0m\n\u001b[0;32m----> 6\u001b[0;31m \u001b[0mprint\u001b[0m\u001b[0;34m(\u001b[0m \u001b[0mvar1\u001b[0m \u001b[0;34m+\u001b[0m \u001b[0mvar2\u001b[0m \u001b[0;34m)\u001b[0m\u001b[0;34m\u001b[0m\u001b[0;34m\u001b[0m\u001b[0m\n\u001b[0m",
      "\u001b[0;31mNameError\u001b[0m: name 'var2' is not defined"
     ]
    }
   ],
   "source": [
    "# Debugging is the process of removing errors/bugs from your code\n",
    "\n",
    "var1 = 10\n",
    "var1 = 15\n",
    "\n",
    "print( var1 + var2 )"
   ]
  },
  {
   "cell_type": "markdown",
   "metadata": {
    "id": "2WKWm5BfeTOJ",
    "slideshow": {
     "slide_type": "slide"
    }
   },
   "source": [
    "# Comments"
   ]
  },
  {
   "cell_type": "code",
   "execution_count": 3,
   "metadata": {
    "execution": {
     "iopub.execute_input": "2022-09-23T00:20:00.085822Z",
     "iopub.status.busy": "2022-09-23T00:20:00.085208Z",
     "iopub.status.idle": "2022-09-23T00:20:00.087606Z",
     "shell.execute_reply": "2022-09-23T00:20:00.088044Z"
    },
    "id": "ehNt7A36eXOu",
    "slideshow": {
     "slide_type": "fragment"
    }
   },
   "outputs": [],
   "source": [
    "# This is a comment\n",
    "\n",
    "# Code can be hard to read, and yet you \n",
    "# often have to edit and maintain code over time.\n",
    "\n",
    "# Comments let you keep notes in your code.\n",
    "\n",
    "# Good code is often about 50% code and 50% comments\n",
    "\n",
    "# It is amazing to read code you wrote last year - you\n",
    "# likely won't remember how it works without comments!\n",
    "\n",
    "# Because some text editors don't automatically line-wrap \n",
    "# it is a good idea to try to keep your comments to less than 80 or so\n",
    "# characters by spreading them across multiple lines. \n",
    "\n"
   ]
  },
  {
   "cell_type": "markdown",
   "metadata": {
    "id": "W1wzHe1W9-Jf",
    "slideshow": {
     "slide_type": "slide"
    }
   },
   "source": [
    "# Basic Types "
   ]
  },
  {
   "cell_type": "code",
   "execution_count": 1,
   "metadata": {
    "colab": {
     "base_uri": "https://localhost:8080/"
    },
    "execution": {
     "iopub.execute_input": "2022-09-23T00:20:00.096414Z",
     "iopub.status.busy": "2022-09-23T00:20:00.095757Z",
     "iopub.status.idle": "2022-09-23T00:20:00.098510Z",
     "shell.execute_reply": "2022-09-23T00:20:00.098946Z"
    },
    "executionInfo": {
     "elapsed": 478,
     "status": "ok",
     "timestamp": 1607390644790,
     "user": {
      "displayName": "Benedict Paten",
      "photoUrl": "https://lh3.googleusercontent.com/a-/AOh14Gh2rYrrH6yoNnUp0Oj4p4ouybc6ZcWGyPmKFtIY=s64",
      "userId": "06399644931392855882"
     },
     "user_tz": 480
    },
    "id": "-wi-i7VrGc8P",
    "outputId": "39c4bd73-4bc3-49f5-c938-10551901cdb1",
    "slideshow": {
     "slide_type": "fragment"
    }
   },
   "outputs": [
    {
     "data": {
      "text/plain": [
       "int"
      ]
     },
     "execution_count": 1,
     "metadata": {},
     "output_type": "execute_result"
    }
   ],
   "source": [
    "# Python has lots of different kinds of values\n",
    "# eg, 1,2,3,...\n",
    "# \"Hello World\", ...\n",
    "\n",
    "# Each value has a 'type' that says what kind of value it is.\n",
    "# We can use type(...) to find out the type of any value\n",
    "\n",
    "# eg, what is the \"type\" of 1?\n",
    "type(1)"
   ]
  },
  {
   "cell_type": "code",
   "execution_count": 10,
   "metadata": {
    "colab": {
     "base_uri": "https://localhost:8080/"
    },
    "execution": {
     "iopub.execute_input": "2022-09-23T00:20:00.103269Z",
     "iopub.status.busy": "2022-09-23T00:20:00.102538Z",
     "iopub.status.idle": "2022-09-23T00:20:00.105443Z",
     "shell.execute_reply": "2022-09-23T00:20:00.105810Z"
    },
    "executionInfo": {
     "elapsed": 459,
     "status": "ok",
     "timestamp": 1607390648494,
     "user": {
      "displayName": "Benedict Paten",
      "photoUrl": "https://lh3.googleusercontent.com/a-/AOh14Gh2rYrrH6yoNnUp0Oj4p4ouybc6ZcWGyPmKFtIY=s64",
      "userId": "06399644931392855882"
     },
     "user_tz": 480
    },
    "id": "FmtofQdU8JBs",
    "outputId": "4510b6aa-ce6f-4fcc-e38d-90a33c83e180",
    "slideshow": {
     "slide_type": "fragment"
    }
   },
   "outputs": [
    {
     "data": {
      "text/plain": [
       "int"
      ]
     },
     "execution_count": 10,
     "metadata": {},
     "output_type": "execute_result"
    }
   ],
   "source": [
    "type(5)"
   ]
  },
  {
   "cell_type": "markdown",
   "metadata": {
    "id": "W1wzHe1W9-Jf",
    "slideshow": {
     "slide_type": "slide"
    }
   },
   "source": [
    "# Basic Types "
   ]
  },
  {
   "cell_type": "code",
   "execution_count": 11,
   "metadata": {
    "colab": {
     "base_uri": "https://localhost:8080/"
    },
    "execution": {
     "iopub.execute_input": "2022-09-23T00:20:00.109798Z",
     "iopub.status.busy": "2022-09-23T00:20:00.109168Z",
     "iopub.status.idle": "2022-09-23T00:20:00.111694Z",
     "shell.execute_reply": "2022-09-23T00:20:00.112066Z"
    },
    "executionInfo": {
     "elapsed": 806,
     "status": "ok",
     "timestamp": 1607390649954,
     "user": {
      "displayName": "Benedict Paten",
      "photoUrl": "https://lh3.googleusercontent.com/a-/AOh14Gh2rYrrH6yoNnUp0Oj4p4ouybc6ZcWGyPmKFtIY=s64",
      "userId": "06399644931392855882"
     },
     "user_tz": 480
    },
    "id": "lwV0g90f8Kwl",
    "outputId": "6fae4488-8380-41dc-b977-196473db5d6f",
    "slideshow": {
     "slide_type": "fragment"
    }
   },
   "outputs": [
    {
     "data": {
      "text/plain": [
       "float"
      ]
     },
     "execution_count": 11,
     "metadata": {},
     "output_type": "execute_result"
    }
   ],
   "source": [
    "# Okay, so what's the type of a decimal?\n",
    "type(3.142)"
   ]
  },
  {
   "cell_type": "code",
   "execution_count": 12,
   "metadata": {
    "colab": {
     "base_uri": "https://localhost:8080/"
    },
    "execution": {
     "iopub.execute_input": "2022-09-23T00:20:00.115995Z",
     "iopub.status.busy": "2022-09-23T00:20:00.115317Z",
     "iopub.status.idle": "2022-09-23T00:20:00.117960Z",
     "shell.execute_reply": "2022-09-23T00:20:00.118565Z"
    },
    "executionInfo": {
     "elapsed": 502,
     "status": "ok",
     "timestamp": 1607390651654,
     "user": {
      "displayName": "Benedict Paten",
      "photoUrl": "https://lh3.googleusercontent.com/a-/AOh14Gh2rYrrH6yoNnUp0Oj4p4ouybc6ZcWGyPmKFtIY=s64",
      "userId": "06399644931392855882"
     },
     "user_tz": 480
    },
    "id": "v-0-HmvB85aI",
    "outputId": "01407285-ff2d-48f6-a58f-68c51408317c",
    "slideshow": {
     "slide_type": "fragment"
    }
   },
   "outputs": [
    {
     "data": {
      "text/plain": [
       "float"
      ]
     },
     "execution_count": 12,
     "metadata": {},
     "output_type": "execute_result"
    }
   ],
   "source": [
    "# And the type of 1.0? \n",
    "type(1.0)"
   ]
  },
  {
   "cell_type": "markdown",
   "metadata": {
    "id": "W1wzHe1W9-Jf",
    "slideshow": {
     "slide_type": "slide"
    }
   },
   "source": [
    "# Basic Types "
   ]
  },
  {
   "cell_type": "code",
   "execution_count": 13,
   "metadata": {
    "colab": {
     "base_uri": "https://localhost:8080/"
    },
    "execution": {
     "iopub.execute_input": "2022-09-23T00:20:00.122865Z",
     "iopub.status.busy": "2022-09-23T00:20:00.122215Z",
     "iopub.status.idle": "2022-09-23T00:20:00.124765Z",
     "shell.execute_reply": "2022-09-23T00:20:00.125135Z"
    },
    "executionInfo": {
     "elapsed": 529,
     "status": "ok",
     "timestamp": 1607390654537,
     "user": {
      "displayName": "Benedict Paten",
      "photoUrl": "https://lh3.googleusercontent.com/a-/AOh14Gh2rYrrH6yoNnUp0Oj4p4ouybc6ZcWGyPmKFtIY=s64",
      "userId": "06399644931392855882"
     },
     "user_tz": 480
    },
    "id": "65pK6WKbGc8i",
    "outputId": "1549ea7b-42e8-4d6d-9357-043d4f5e5af1",
    "slideshow": {
     "slide_type": "fragment"
    }
   },
   "outputs": [
    {
     "data": {
      "text/plain": [
       "str"
      ]
     },
     "execution_count": 13,
     "metadata": {},
     "output_type": "execute_result"
    }
   ],
   "source": [
    "# What about text?\n",
    "type(\"hello\")"
   ]
  },
  {
   "cell_type": "markdown",
   "metadata": {
    "slideshow": {
     "slide_type": "slide"
    }
   },
   "source": [
    "# Challenge 3"
   ]
  },
  {
   "cell_type": "code",
   "execution_count": null,
   "metadata": {},
   "outputs": [],
   "source": []
  },
  {
   "cell_type": "code",
   "execution_count": 14,
   "metadata": {
    "execution": {
     "iopub.execute_input": "2022-09-23T00:20:00.128676Z",
     "iopub.status.busy": "2022-09-23T00:20:00.128107Z",
     "iopub.status.idle": "2022-09-23T00:20:00.130347Z",
     "shell.execute_reply": "2022-09-23T00:20:00.130766Z"
    },
    "slideshow": {
     "slide_type": "fragment"
    }
   },
   "outputs": [],
   "source": [
    "# Find out the type of x\n",
    "x = [ 1, 2, 3 ]\n",
    "\n"
   ]
  },
  {
   "cell_type": "markdown",
   "metadata": {
    "id": "W1wzHe1W9-Jf",
    "slideshow": {
     "slide_type": "slide"
    }
   },
   "source": [
    "# How to Succeed in CSE20"
   ]
  },
  {
   "cell_type": "markdown",
   "metadata": {},
   "source": [
    "\n",
    "* 15 hours per week \n",
    "* Review & bookmark canvas, calendar, github, colab, zybooks, discord\n",
    "* After each class:\n",
    "  * review Jupyter notebook slides \n",
    "  * use Google colab to play with coding examples \n",
    "  * Zybooks readings and homeworks \n",
    "    * do by Friday, free extension to Monday\n",
    "* Lots of resources - use them!\n",
    "  * Sections, TA office hours, tutors, discord, yuja, optional textbook, ...\n",
    "* Get lots of time in the saddle"
   ]
  },
  {
   "cell_type": "markdown",
   "metadata": {
    "slideshow": {
     "slide_type": "slide"
    }
   },
   "source": [
    "# Horizontal vs Vertical\n"
   ]
  },
  {
   "cell_type": "markdown",
   "metadata": {
    "id": "Fvk23hnO6oXj",
    "pycharm": {
     "name": "#%% md\n"
    },
    "slideshow": {
     "slide_type": "slide"
    }
   },
   "source": [
    "# Homework\n",
    "\n",
    "* See \"Reading 1\" in Zybooks, available now, due by 11:59pm Monday\n",
    "\n",
    "\n",
    "\n",
    "\n",
    "\n",
    "# Recommended reading\n",
    "\n",
    "* Chapter 1 of http://openbookproject.net/thinkcs/python/english3e/way_of_the_program.html\n"
   ]
  }
 ],
 "metadata": {
  "celltoolbar": "Slideshow",
  "colab": {
   "collapsed_sections": [],
   "name": "L01 Intro.ipynb",
   "provenance": []
  },
  "kernelspec": {
   "display_name": "Python 3 (ipykernel)",
   "language": "python",
   "name": "python3"
  },
  "language_info": {
   "codemirror_mode": {
    "name": "ipython",
    "version": 3
   },
   "file_extension": ".py",
   "mimetype": "text/x-python",
   "name": "python",
   "nbconvert_exporter": "python",
   "pygments_lexer": "ipython3",
   "version": "3.11.5"
  }
 },
 "nbformat": 4,
 "nbformat_minor": 4
}
