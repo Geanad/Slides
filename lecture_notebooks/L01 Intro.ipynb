{
 "cells": [
  {
   "cell_type": "markdown",
   "metadata": {
    "id": "WXxpm3igiL4w",
    "slideshow": {
     "slide_type": "slide"
    }
   },
   "source": [
    "# Lecture 1 - Intro \n",
    "\n",
    "Today:\n",
    "\n",
    "* Course basics\n",
    "* Setting expectations about this course\n",
    "* What's a program?\n",
    "* Hello World!\n",
    "* Interpreted vs. compiled languages\n",
    "* Ways to run Python (notebooks, via the interactive console, via an editor (PyCharm))\n",
    "* Basic Input and Output\n",
    "* The debug loop\n",
    "* Comments\n",
    "* Basic types\n",
    "  * integers (ints)\n",
    "  * strings\n",
    "  * floating point numbers (floats)\n"
   ]
  },
  {
   "cell_type": "markdown",
   "metadata": {
    "id": "unlvFtJL6PVb",
    "slideshow": {
     "slide_type": "slide"
    }
   },
   "source": [
    "# Basics\n",
    "\n",
    "* About lecturers: \n",
    "    * Cormac Flanagan, cormac@ucsc.edu \n",
    "    * Benedict Paten, bpaten@ucsc.edu, (other section)\n",
    "    * Tracy Larrabee, larrabee@ucsc.edu (other section)\n",
    "    * Larissa A Munishkina, mlarissa@ucsc.edu (other section)\n",
    "    \n",
    "* Canvas:\n",
    "    * All the material is linked from Canvas\n",
    "        \n",
    "* Online text book: \n",
    "    * How to think like a computer scientist (free!): \n",
    "      * http://www.openbookproject.net/thinkcs/python/english3e/\n",
    "\n",
    "* Other online resources (There are loads and loads of free resources on the internet. Checkout):\n",
    "    * https://wiki.python.org/moin/BeginnersGuide/NonProgrammers"
   ]
  },
  {
   "cell_type": "markdown",
   "metadata": {
    "id": "YEix8lIRG2u6",
    "slideshow": {
     "slide_type": "slide"
    }
   },
   "source": [
    "# Zybooks\n",
    "\n",
    "* \\$34.50, mandatory, lots of interactive exercises and training materials.\n",
    "    * Go to learn.zybooks.com\n",
    "    * enter zyBook code: UCSCCSE20Fall2022\n",
    "    \n",
    "    * Reading assignments: your first reading assignment is there now! \n",
    "        * reading assignments involve reading and participation challenges\n",
    "        * readings are due on the following Monday at 11:59pm\n",
    "        * there will be a reading assignment for every lecture\n",
    "        \n",
    "    * Programming assignments: your first programming assignment is there now!\n",
    "        * \"micro assignments\", one per week\n",
    "        * due on Monday at 11:59pm\n",
    "    \n"
   ]
  },
  {
   "cell_type": "markdown",
   "metadata": {
    "slideshow": {
     "slide_type": "slide"
    }
   },
   "source": [
    "# Discord\n",
    "* https://discord.gg/bDtyhkPPCG\n",
    "* TAs and instructors will be on this Discord. \n",
    "* Don't post answers here\n",
    "* Please switch your name on the channel to your actual name. TAs and instructors will not answer questions unless you identify yourself.\n",
    "* Please don't make an unofficial discord - it definitely encourages cheating.\n",
    "* **Any cheating is going to get seriously punished in this class.**\n",
    "    * We use software to compare submissions for homework and will spot similarities*\n",
    "    * We have previously written up students for cheating - that's an automatic fail and a report to the school"
   ]
  },
  {
   "cell_type": "markdown",
   "metadata": {
    "id": "H4Hx5uypG9aO",
    "slideshow": {
     "slide_type": "slide"
    }
   },
   "source": [
    "# Grading\n",
    "\n",
    "* Lecture Challenges - 10%:\n",
    "  * A canvas quiz will be opened during each lecture whose answers depend upon challenge questions presented during the lecture. You have until 11:59 pm on the next Monday to complete the quiz. (This is to encourage regular attendance!)\n",
    "\n",
    "* Zybooks - 15%:\n",
    "  * There is one reading to complete per class\n",
    "  * Each reading is worth an equal amount\n",
    "  * Readings for the week are due on Monday at 11:59pm.\n",
    "\n",
    "* Assignments - 25%:\n",
    "  * One per week, due on Monday at 11:59pm.\n",
    "  * Each assignment is worth an equal amount\n",
    "\n",
    "* Exams:\n",
    "  * Midterm - 20%\n",
    "  * Final - 30%\n",
    "\n"
   ]
  },
  {
   "cell_type": "markdown",
   "metadata": {
    "slideshow": {
     "slide_type": "slide"
    }
   },
   "source": [
    "# Late policy\n",
    "\n",
    "* Strict but fair: Partial submissions are okay, but anything submitted after the deadline will be penalized at our discretion (e.g. 20% penalty), unless you get an exception for exceptional circumstances (e.g. medical reason with note, etc.).\n",
    "        * If you fail to meet the deadline, do still submit it as soon as you can.\n",
    "* The late policy is to encourage you to keep up with the course - students who fall behind tend to learn poorly\n",
    "  "
   ]
  },
  {
   "cell_type": "markdown",
   "metadata": {
    "id": "y1cIFL7YSA7p",
    "slideshow": {
     "slide_type": "slide"
    }
   },
   "source": [
    "# Setting expectations\n",
    "  * This class will not teach computer engineering or electronics.\n",
    "  * This class is a first programming class, you'll be bored if you've already learned to program another language.\n",
    "  * Programming is everywhere, it is becoming *essential* as a basic skill in many fields. Even if you don't think you want to be a software engineer, it should allow you to use programming as a tool in **your existing and future work**, to tackle bigger problems, as well as automating mundane things.\n",
    "\n",
    "\n"
   ]
  },
  {
   "cell_type": "markdown",
   "metadata": {
    "id": "vhNPyNOblB6b",
    "slideshow": {
     "slide_type": "slide"
    }
   },
   "source": [
    "# What's a program?\n",
    "\n",
    "**Class discussion:**\n",
    "\n",
    "1. What is a computer program?\n",
    "2. What is like a computer program?"
   ]
  },
  {
   "cell_type": "markdown",
   "metadata": {
    "slideshow": {
     "slide_type": "notes"
    }
   },
   "source": [
    "Notes for discussion \"What's a program\":\n",
    "\n",
    "What is a computer program?\n",
    "   * Input --> [ Computer Program ] --> Output\n",
    "\n",
    "What is like a computer program?\n",
    "   * Mathematical functions\n",
    "      * Domain --> [ function ] --> Range\n",
    "      * Mathematical functions do not need to specify how they are calculated\n",
    "   * Algorithm: A finite sequence of well-defined instructions, typically used to solve a class of specific problems or to perform a computation\n",
    "      * Think of an algorithm as a \"code recipe\" for performing a specific task\n",
    "   * A computer program is often composed of a series of algorithms, and like an algorithm is composed of sequences of machine readable instructions created by writing code. Here that code will be Python.\n",
    "        "
   ]
  },
  {
   "cell_type": "markdown",
   "metadata": {
    "id": "mY7WdWekSVvk",
    "slideshow": {
     "slide_type": "slide"
    }
   },
   "source": [
    "# The notes / slides for this class are programming notebooks:\n",
    "  * I think you can only learn programming by doing it.\n",
    "  \n",
    "    * **Jupyter** Each of these lectures is a Jupyter (aka IPython) notebook\n",
    "            \n",
    "         * **Interactive** The notebooks make it easy to poke around with the examples, these notebooks are also great way to do basic exploratory analysis. They allow you to combine text and code in a natural way.\n",
    "    \n",
    "    * **Collaboratory** Jupyter notebooks can be edited and run in your web browser using Google Colaboratory \n",
    "         * https://colab.research.google.com\n",
    "         * Paste https://github.com/cormacflanagan/intro_python into the GitHub tab (Note: do demo)\n",
    "     \n",
    "    * **On your computer**, you can run the notebook using (free) Jupyter software on your computer (https://jupyter.org/). You can download all the notebooks from the Github: https://github.com/cormacflanagan/intro_python \n",
    "    "
   ]
  },
  {
   "cell_type": "markdown",
   "metadata": {
    "slideshow": {
     "slide_type": "slide"
    }
   },
   "source": [
    "# The notes / slides and Zybooks:\n",
    "* **Not complete** These lecture notes do not cover everything in the Zybooks text book, they are really supposed to be an interactive exploration of some of the key ideas. \n",
    "* **Zybooks** Zybooks provides interactive exercises and is more comprehensive than these notebooks, I have tried to align the notebooks with the Zybooks chapters "
   ]
  },
  {
   "cell_type": "markdown",
   "metadata": {
    "id": "PPeHeGQ4X3-w",
    "slideshow": {
     "slide_type": "slide"
    }
   },
   "source": [
    "# Hello, world\n",
    "\n",
    "**Okay, let's write our first program...**"
   ]
  },
  {
   "cell_type": "code",
   "execution_count": 1,
   "metadata": {
    "colab": {
     "base_uri": "https://localhost:8080/"
    },
    "execution": {
     "iopub.execute_input": "2022-09-23T00:19:59.962367Z",
     "iopub.status.busy": "2022-09-23T00:19:59.961510Z",
     "iopub.status.idle": "2022-09-23T00:19:59.965693Z",
     "shell.execute_reply": "2022-09-23T00:19:59.966215Z"
    },
    "executionInfo": {
     "elapsed": 348,
     "status": "ok",
     "timestamp": 1609893292341,
     "user": {
      "displayName": "Benedict Paten",
      "photoUrl": "https://lh3.googleusercontent.com/a-/AOh14Gh2rYrrH6yoNnUp0Oj4p4ouybc6ZcWGyPmKFtIY=s64",
      "userId": "06399644931392855882"
     },
     "user_tz": 480
    },
    "id": "6_f_aG23rcN2",
    "outputId": "5ae94874-0281-4168-aeaa-240973f7be50",
    "slideshow": {
     "slide_type": "fragment"
    }
   },
   "outputs": [
    {
     "name": "stdout",
     "output_type": "stream",
     "text": [
      "Hello, CSE20\n"
     ]
    }
   ],
   "source": [
    "# Hello world program - this is a comment \n",
    "# (it's just to make the code readable)\n",
    "\n",
    "# Go ahead and run this by hitting the run button\n",
    "print(\"Hello, CSE20\") "
   ]
  },
  {
   "cell_type": "markdown",
   "metadata": {
    "slideshow": {
     "slide_type": "slide"
    }
   },
   "source": [
    "# Challenge 1"
   ]
  },
  {
   "cell_type": "code",
   "execution_count": 2,
   "metadata": {
    "execution": {
     "iopub.execute_input": "2022-09-23T00:19:59.970843Z",
     "iopub.status.busy": "2022-09-23T00:19:59.970099Z",
     "iopub.status.idle": "2022-09-23T00:19:59.972437Z",
     "shell.execute_reply": "2022-09-23T00:19:59.972903Z"
    },
    "slideshow": {
     "slide_type": "fragment"
    }
   },
   "outputs": [
    {
     "name": "stdout",
     "output_type": "stream",
     "text": [
      "My first program\n"
     ]
    }
   ],
   "source": [
    "# Print the words: My first program\n",
    "\n",
    "print(\"My first program\")"
   ]
  },
  {
   "cell_type": "markdown",
   "metadata": {
    "id": "EqbOD-FoYffN",
    "slideshow": {
     "slide_type": "slide"
    }
   },
   "source": [
    "# A Bigger Example\n",
    "\n",
    "**Now let's look at a more general program...**\n",
    "\n",
    "(Don't worry if this is all a bit cryptic right now, we'll explain all the bits over the course of these lectures.) "
   ]
  },
  {
   "cell_type": "code",
   "execution_count": null,
   "metadata": {
    "colab": {
     "base_uri": "https://localhost:8080/"
    },
    "execution": {
     "iopub.execute_input": "2022-09-23T00:19:59.977117Z",
     "iopub.status.busy": "2022-09-23T00:19:59.976531Z",
     "iopub.status.idle": "2022-09-23T00:20:00.045461Z",
     "shell.execute_reply": "2022-09-23T00:20:00.045923Z"
    },
    "executionInfo": {
     "elapsed": 8052,
     "status": "ok",
     "timestamp": 1607390613099,
     "user": {
      "displayName": "Benedict Paten",
      "photoUrl": "https://lh3.googleusercontent.com/a-/AOh14Gh2rYrrH6yoNnUp0Oj4p4ouybc6ZcWGyPmKFtIY=s64",
      "userId": "06399644931392855882"
     },
     "user_tz": 480
    },
    "id": "3qlDx_KihlqE",
    "outputId": "3a325b14-7f46-490d-cf0e-2e2e46725103",
    "slideshow": {
     "slide_type": "fragment"
    }
   },
   "outputs": [],
   "source": [
    "## A basic program\n",
    "\n",
    "# Inputs - let's ask the user to input two numbers and \n",
    "# call them x and y (x and y are called variables)\n",
    "x = float(input(\"Please enter a number: \"))\n",
    "y = float(input(\"Please enter another number: \"))\n",
    "\n",
    "# Doing stuff\n",
    "\n",
    "z = x + y # Add the inputs together\n",
    "\n",
    "# Outputs\n",
    "# Let's print the result\n",
    "print(\"The sum of your two inputs is:\", z)"
   ]
  },
  {
   "cell_type": "markdown",
   "metadata": {
    "slideshow": {
     "slide_type": "subslide"
    }
   },
   "source": [
    "# Challenge 2"
   ]
  },
  {
   "cell_type": "code",
   "execution_count": 4,
   "metadata": {
    "execution": {
     "iopub.execute_input": "2022-09-23T00:20:00.050505Z",
     "iopub.status.busy": "2022-09-23T00:20:00.049548Z",
     "iopub.status.idle": "2022-09-23T00:20:00.052288Z",
     "shell.execute_reply": "2022-09-23T00:20:00.051887Z"
    },
    "slideshow": {
     "slide_type": "fragment"
    }
   },
   "outputs": [],
   "source": [
    "# Adapt the above program to print the product of x and y. (you can write your code here)"
   ]
  },
  {
   "cell_type": "markdown",
   "metadata": {
    "id": "D7AjaHYxTvMZ",
    "slideshow": {
     "slide_type": "slide"
    }
   },
   "source": [
    "# Interpreted vs. Compiled Languages\n",
    "\n",
    "* Python is (basically) an interpreted language:\n",
    "  * Interpreted languages are generally read line-by-line and executed line-by-line.\n",
    "  * This allows you to use Python interactively (see below)\n",
    "  * You can also get the interpreter to use files, which is much better when you want to save your work.\n",
    "\n",
    "* Other languages, e.g. C, Java, etc. are *compiled*:\n",
    "   * The code is read in its entirety before it is executed.\n",
    "   * There are speed (optimization) and error checking benefits to this approach (can catch an error at the end of your program before executing any of it).\n",
    "   * But, more complex, and generally no interactive execution."
   ]
  },
  {
   "cell_type": "markdown",
   "metadata": {
    "id": "aMiebmkv8WhX",
    "slideshow": {
     "slide_type": "slide"
    }
   },
   "source": [
    "# Ways to run Python\n",
    "\n",
    "* Directly from your web browser using an iPython notebooks (like this one!)\n",
    "* Interatively via interpreter\n",
    "* Via a dev environment "
   ]
  },
  {
   "cell_type": "markdown",
   "metadata": {
    "id": "r0J1gm9NBqR2",
    "slideshow": {
     "slide_type": "slide"
    }
   },
   "source": [
    "# Basic Input and output"
   ]
  },
  {
   "cell_type": "code",
   "execution_count": 2,
   "metadata": {
    "colab": {
     "base_uri": "https://localhost:8080/"
    },
    "execution": {
     "iopub.execute_input": "2022-09-23T00:20:00.057336Z",
     "iopub.status.busy": "2022-09-23T00:20:00.056697Z",
     "iopub.status.idle": "2022-09-23T00:20:00.062544Z",
     "shell.execute_reply": "2022-09-23T00:20:00.062970Z"
    },
    "executionInfo": {
     "elapsed": 3514,
     "status": "ok",
     "timestamp": 1607390628419,
     "user": {
      "displayName": "Benedict Paten",
      "photoUrl": "https://lh3.googleusercontent.com/a-/AOh14Gh2rYrrH6yoNnUp0Oj4p4ouybc6ZcWGyPmKFtIY=s64",
      "userId": "06399644931392855882"
     },
     "user_tz": 480
    },
    "id": "S75-wdbs6bwI",
    "outputId": "a5402563-410b-424b-d9d9-0f2cb8c587a9",
    "slideshow": {
     "slide_type": "fragment"
    }
   },
   "outputs": [
    {
     "name": "stdout",
     "output_type": "stream",
     "text": [
      "What's your name? C\n"
     ]
    }
   ],
   "source": [
    "x = input(\"What's your name? \") # Input can be be used to gather input from a user.\n",
    "# Later we'll see ways of getting other kinds of input, like reading from files, but for\n",
    "# now just know that input reads text from the user"
   ]
  },
  {
   "cell_type": "code",
   "execution_count": 3,
   "metadata": {
    "colab": {
     "base_uri": "https://localhost:8080/"
    },
    "execution": {
     "iopub.execute_input": "2022-09-23T00:20:00.066677Z",
     "iopub.status.busy": "2022-09-23T00:20:00.066084Z",
     "iopub.status.idle": "2022-09-23T00:20:00.072749Z",
     "shell.execute_reply": "2022-09-23T00:20:00.073152Z"
    },
    "executionInfo": {
     "elapsed": 540,
     "status": "ok",
     "timestamp": 1607390630359,
     "user": {
      "displayName": "Benedict Paten",
      "photoUrl": "https://lh3.googleusercontent.com/a-/AOh14Gh2rYrrH6yoNnUp0Oj4p4ouybc6ZcWGyPmKFtIY=s64",
      "userId": "06399644931392855882"
     },
     "user_tz": 480
    },
    "id": "Sywp442762ro",
    "outputId": "01e46ff1-2ba4-4eee-8871-a27df154c4be",
    "slideshow": {
     "slide_type": "fragment"
    }
   },
   "outputs": [
    {
     "name": "stdout",
     "output_type": "stream",
     "text": [
      "Your name is C\n"
     ]
    }
   ],
   "source": [
    "# We can print the users input\n",
    "print(\"Your name is\", x) # Print is a way of outputting formatted text to the string. \n",
    "# here x acts as a \"variable\" to represent the text that input gathered"
   ]
  },
  {
   "cell_type": "markdown",
   "metadata": {
    "id": "LqeIGW5ki_To",
    "slideshow": {
     "slide_type": "slide"
    }
   },
   "source": [
    "# Debugging"
   ]
  },
  {
   "cell_type": "code",
   "execution_count": 7,
   "metadata": {
    "colab": {
     "base_uri": "https://localhost:8080/",
     "height": 201
    },
    "execution": {
     "iopub.execute_input": "2022-09-23T00:20:00.077106Z",
     "iopub.status.busy": "2022-09-23T00:20:00.076465Z",
     "iopub.status.idle": "2022-09-23T00:20:00.081465Z",
     "shell.execute_reply": "2022-09-23T00:20:00.081877Z"
    },
    "executionInfo": {
     "elapsed": 401,
     "status": "error",
     "timestamp": 1609892004205,
     "user": {
      "displayName": "Benedict Paten",
      "photoUrl": "https://lh3.googleusercontent.com/a-/AOh14Gh2rYrrH6yoNnUp0Oj4p4ouybc6ZcWGyPmKFtIY=s64",
      "userId": "06399644931392855882"
     },
     "user_tz": 480
    },
    "id": "9tiukjkD2bc4",
    "outputId": "9aeb7b20-9300-4039-d27a-d39b38f90207",
    "slideshow": {
     "slide_type": "fragment"
    }
   },
   "outputs": [
    {
     "ename": "AssertionError",
     "evalue": "",
     "output_type": "error",
     "traceback": [
      "\u001b[0;31m---------------------------------------------------------------------------\u001b[0m",
      "\u001b[0;31mAssertionError\u001b[0m                            Traceback (most recent call last)",
      "\u001b[0;32m<ipython-input-7-66e0d8407242>\u001b[0m in \u001b[0;36m<module>\u001b[0;34m\u001b[0m\n\u001b[1;32m     10\u001b[0m \u001b[0;31m## Let's try an assert - a check you can put in your code to establish that something\u001b[0m\u001b[0;34m\u001b[0m\u001b[0;34m\u001b[0m\u001b[0;34m\u001b[0m\u001b[0m\n\u001b[1;32m     11\u001b[0m \u001b[0;31m## is the way you think it should be\u001b[0m\u001b[0;34m\u001b[0m\u001b[0;34m\u001b[0m\u001b[0;34m\u001b[0m\u001b[0m\n\u001b[0;32m---> 12\u001b[0;31m \u001b[0;32massert\u001b[0m \u001b[0mx\u001b[0m \u001b[0;34m+\u001b[0m \u001b[0my\u001b[0m \u001b[0;34m==\u001b[0m \u001b[0;36m4\u001b[0m\u001b[0;34m\u001b[0m\u001b[0;34m\u001b[0m\u001b[0m\n\u001b[0m",
      "\u001b[0;31mAssertionError\u001b[0m: "
     ]
    }
   ],
   "source": [
    "## Our first debugging session!\n",
    "\n",
    "# Warning - most computer programming is debugging!\n",
    "# IMO, it is the process of taking an idea (represented by your initial code) and refining it\n",
    "# into a precise, working program\n",
    "\n",
    "x = 1\n",
    "y = 2\n",
    "\n",
    "## Let's try an assert - a check you can put in your code to establish that something\n",
    "## is the way you think it should be\n",
    "assert x + y == 4"
   ]
  },
  {
   "cell_type": "markdown",
   "metadata": {
    "id": "2WKWm5BfeTOJ",
    "slideshow": {
     "slide_type": "slide"
    }
   },
   "source": [
    "# Comments"
   ]
  },
  {
   "cell_type": "code",
   "execution_count": 8,
   "metadata": {
    "execution": {
     "iopub.execute_input": "2022-09-23T00:20:00.085822Z",
     "iopub.status.busy": "2022-09-23T00:20:00.085208Z",
     "iopub.status.idle": "2022-09-23T00:20:00.087606Z",
     "shell.execute_reply": "2022-09-23T00:20:00.088044Z"
    },
    "id": "ehNt7A36eXOu",
    "slideshow": {
     "slide_type": "fragment"
    }
   },
   "outputs": [],
   "source": [
    "# This is a comment\n",
    "\n",
    "# Code can be hard to read, and yet you \n",
    "# often have to edit and maintain code over time.\n",
    "\n",
    "# Comments let you keep notes in your code.\n",
    "\n",
    "# Rule of thumb: Good code is often about 50% code and 50% comments\n",
    "\n",
    "# It is amazing to read code you wrote last year - you\n",
    "# likely won't remember how it works without comments!\n",
    "\n",
    "# Because some text editors don't automatically line-wrap it is a good idea to try to keep your comments to less than 80 or so characters by spreading them across multiple lines. \n",
    "\n",
    "# Later on, we'll see docstrings, which are another way\n",
    "# of documenting code.\n"
   ]
  },
  {
   "cell_type": "markdown",
   "metadata": {
    "id": "W1wzHe1W9-Jf",
    "slideshow": {
     "slide_type": "slide"
    }
   },
   "source": [
    "# Basic Types"
   ]
  },
  {
   "cell_type": "code",
   "execution_count": 9,
   "metadata": {
    "colab": {
     "base_uri": "https://localhost:8080/"
    },
    "execution": {
     "iopub.execute_input": "2022-09-23T00:20:00.096414Z",
     "iopub.status.busy": "2022-09-23T00:20:00.095757Z",
     "iopub.status.idle": "2022-09-23T00:20:00.098510Z",
     "shell.execute_reply": "2022-09-23T00:20:00.098946Z"
    },
    "executionInfo": {
     "elapsed": 478,
     "status": "ok",
     "timestamp": 1607390644790,
     "user": {
      "displayName": "Benedict Paten",
      "photoUrl": "https://lh3.googleusercontent.com/a-/AOh14Gh2rYrrH6yoNnUp0Oj4p4ouybc6ZcWGyPmKFtIY=s64",
      "userId": "06399644931392855882"
     },
     "user_tz": 480
    },
    "id": "-wi-i7VrGc8P",
    "outputId": "39c4bd73-4bc3-49f5-c938-10551901cdb1",
    "slideshow": {
     "slide_type": "fragment"
    }
   },
   "outputs": [
    {
     "data": {
      "text/plain": [
       "int"
      ]
     },
     "execution_count": 9,
     "metadata": {},
     "output_type": "execute_result"
    }
   ],
   "source": [
    "# What's the \"type\" of 1?\n",
    "\n",
    "# For now, just understand that we can use type() \n",
    "# to find out the 'type' of any object in Python\n",
    "\n",
    "type(1)"
   ]
  },
  {
   "cell_type": "code",
   "execution_count": 10,
   "metadata": {
    "colab": {
     "base_uri": "https://localhost:8080/"
    },
    "execution": {
     "iopub.execute_input": "2022-09-23T00:20:00.103269Z",
     "iopub.status.busy": "2022-09-23T00:20:00.102538Z",
     "iopub.status.idle": "2022-09-23T00:20:00.105443Z",
     "shell.execute_reply": "2022-09-23T00:20:00.105810Z"
    },
    "executionInfo": {
     "elapsed": 459,
     "status": "ok",
     "timestamp": 1607390648494,
     "user": {
      "displayName": "Benedict Paten",
      "photoUrl": "https://lh3.googleusercontent.com/a-/AOh14Gh2rYrrH6yoNnUp0Oj4p4ouybc6ZcWGyPmKFtIY=s64",
      "userId": "06399644931392855882"
     },
     "user_tz": 480
    },
    "id": "FmtofQdU8JBs",
    "outputId": "4510b6aa-ce6f-4fcc-e38d-90a33c83e180",
    "slideshow": {
     "slide_type": "fragment"
    }
   },
   "outputs": [
    {
     "data": {
      "text/plain": [
       "int"
      ]
     },
     "execution_count": 10,
     "metadata": {},
     "output_type": "execute_result"
    }
   ],
   "source": [
    "# Similarly, 5 is an integer (called an 'int')\n",
    "type(5)"
   ]
  },
  {
   "cell_type": "code",
   "execution_count": 11,
   "metadata": {
    "colab": {
     "base_uri": "https://localhost:8080/"
    },
    "execution": {
     "iopub.execute_input": "2022-09-23T00:20:00.109798Z",
     "iopub.status.busy": "2022-09-23T00:20:00.109168Z",
     "iopub.status.idle": "2022-09-23T00:20:00.111694Z",
     "shell.execute_reply": "2022-09-23T00:20:00.112066Z"
    },
    "executionInfo": {
     "elapsed": 806,
     "status": "ok",
     "timestamp": 1607390649954,
     "user": {
      "displayName": "Benedict Paten",
      "photoUrl": "https://lh3.googleusercontent.com/a-/AOh14Gh2rYrrH6yoNnUp0Oj4p4ouybc6ZcWGyPmKFtIY=s64",
      "userId": "06399644931392855882"
     },
     "user_tz": 480
    },
    "id": "lwV0g90f8Kwl",
    "outputId": "6fae4488-8380-41dc-b977-196473db5d6f",
    "slideshow": {
     "slide_type": "fragment"
    }
   },
   "outputs": [
    {
     "data": {
      "text/plain": [
       "float"
      ]
     },
     "execution_count": 11,
     "metadata": {},
     "output_type": "execute_result"
    }
   ],
   "source": [
    "# Okay, so what's the type of a decimal?\n",
    "type(3.142)"
   ]
  },
  {
   "cell_type": "code",
   "execution_count": 12,
   "metadata": {
    "colab": {
     "base_uri": "https://localhost:8080/"
    },
    "execution": {
     "iopub.execute_input": "2022-09-23T00:20:00.115995Z",
     "iopub.status.busy": "2022-09-23T00:20:00.115317Z",
     "iopub.status.idle": "2022-09-23T00:20:00.117960Z",
     "shell.execute_reply": "2022-09-23T00:20:00.118565Z"
    },
    "executionInfo": {
     "elapsed": 502,
     "status": "ok",
     "timestamp": 1607390651654,
     "user": {
      "displayName": "Benedict Paten",
      "photoUrl": "https://lh3.googleusercontent.com/a-/AOh14Gh2rYrrH6yoNnUp0Oj4p4ouybc6ZcWGyPmKFtIY=s64",
      "userId": "06399644931392855882"
     },
     "user_tz": 480
    },
    "id": "v-0-HmvB85aI",
    "outputId": "01407285-ff2d-48f6-a58f-68c51408317c",
    "slideshow": {
     "slide_type": "fragment"
    }
   },
   "outputs": [
    {
     "data": {
      "text/plain": [
       "float"
      ]
     },
     "execution_count": 12,
     "metadata": {},
     "output_type": "execute_result"
    }
   ],
   "source": [
    "# And the type of 1.0? \n",
    "# (there is no room for indecision/ambiguity in a programming language)\n",
    "type(1.0)"
   ]
  },
  {
   "cell_type": "markdown",
   "metadata": {
    "id": "yReid9RY9dPG",
    "slideshow": {
     "slide_type": "skip"
    }
   },
   "source": [
    "* Under the hood, Python is storing ints using a different format of bits (zeroes and ones), because floating point math (floats) have different representational requirements to integers (ints). \n",
    "  * (Note: Brief, incomplete aside on binary representation on board)\n",
    "* In general, a type is a formatting of bits to represent the given information. \n",
    "* Types impose constraints, e.g. ints are whole numbers only\n",
    "* All objects (things) in Python have a type, and when we define our own objects, we'll define our own types.\n"
   ]
  },
  {
   "cell_type": "code",
   "execution_count": 13,
   "metadata": {
    "colab": {
     "base_uri": "https://localhost:8080/"
    },
    "execution": {
     "iopub.execute_input": "2022-09-23T00:20:00.122865Z",
     "iopub.status.busy": "2022-09-23T00:20:00.122215Z",
     "iopub.status.idle": "2022-09-23T00:20:00.124765Z",
     "shell.execute_reply": "2022-09-23T00:20:00.125135Z"
    },
    "executionInfo": {
     "elapsed": 529,
     "status": "ok",
     "timestamp": 1607390654537,
     "user": {
      "displayName": "Benedict Paten",
      "photoUrl": "https://lh3.googleusercontent.com/a-/AOh14Gh2rYrrH6yoNnUp0Oj4p4ouybc6ZcWGyPmKFtIY=s64",
      "userId": "06399644931392855882"
     },
     "user_tz": 480
    },
    "id": "65pK6WKbGc8i",
    "outputId": "1549ea7b-42e8-4d6d-9357-043d4f5e5af1",
    "slideshow": {
     "slide_type": "subslide"
    }
   },
   "outputs": [
    {
     "data": {
      "text/plain": [
       "str"
      ]
     },
     "execution_count": 13,
     "metadata": {},
     "output_type": "execute_result"
    }
   ],
   "source": [
    "# What about text?\n",
    "type(\"hello\")"
   ]
  },
  {
   "cell_type": "markdown",
   "metadata": {
    "slideshow": {
     "slide_type": "subslide"
    }
   },
   "source": [
    "# Challenge 3"
   ]
  },
  {
   "cell_type": "code",
   "execution_count": 14,
   "metadata": {
    "execution": {
     "iopub.execute_input": "2022-09-23T00:20:00.128676Z",
     "iopub.status.busy": "2022-09-23T00:20:00.128107Z",
     "iopub.status.idle": "2022-09-23T00:20:00.130347Z",
     "shell.execute_reply": "2022-09-23T00:20:00.130766Z"
    },
    "slideshow": {
     "slide_type": "fragment"
    }
   },
   "outputs": [],
   "source": [
    "# Find out the type of x\n",
    "x = [ 1, 2, 3 ]\n"
   ]
  },
  {
   "cell_type": "markdown",
   "metadata": {
    "id": "Fvk23hnO6oXj",
    "pycharm": {
     "name": "#%% md\n"
    },
    "slideshow": {
     "slide_type": "slide"
    }
   },
   "source": [
    "# Homework:\n",
    "\n",
    "* Go to Canvas and complete the first lecture quiz, which involves completing each challenge problem\n",
    "* See \"Reading 1\" in Zybooks, available now due by 11:59pm Monday\n",
    "\n",
    "\n",
    "# Reading:\n",
    "\n",
    "* Chapter 1 : (http://openbookproject.net/thinkcs/python/english3e/way_of_the_program.html)\n"
   ]
  },
  {
   "cell_type": "code",
   "execution_count": null,
   "metadata": {},
   "outputs": [],
   "source": []
  }
 ],
 "metadata": {
  "celltoolbar": "Slideshow",
  "colab": {
   "collapsed_sections": [],
   "name": "L01 Intro.ipynb",
   "provenance": []
  },
  "kernelspec": {
   "display_name": "Python 3",
   "language": "python",
   "name": "python3"
  },
  "language_info": {
   "codemirror_mode": {
    "name": "ipython",
    "version": 3
   },
   "file_extension": ".py",
   "mimetype": "text/x-python",
   "name": "python",
   "nbconvert_exporter": "python",
   "pygments_lexer": "ipython3",
   "version": "3.6.6+"
  }
 },
 "nbformat": 4,
 "nbformat_minor": 1
}
