{
 "cells": [
  {
   "cell_type": "markdown",
   "metadata": {
    "id": "1a-o5LXYOuXB",
    "slideshow": {
     "slide_type": "slide"
    }
   },
   "source": [
    "# Lecture 5 - Loops \n",
    "\n",
    "Today:\n",
    "* More control flow:\n",
    "  * For loops\n",
    "  * List iteration\n",
    "  * Range\n",
    "  * Nested loops\n",
    "  * Break statement\n",
    "  * Continue statement"
   ]
  },
  {
   "cell_type": "markdown",
   "metadata": {
    "slideshow": {
     "slide_type": "slide"
    }
   },
   "source": [
    "# Warmup challenge"
   ]
  },
  {
   "cell_type": "code",
   "execution_count": 12,
   "metadata": {
    "slideshow": {
     "slide_type": "fragment"
    }
   },
   "outputs": [
    {
     "name": "stdout",
     "output_type": "stream",
     "text": [
      "Happy Friday to all of CSE20 "
     ]
    }
   ],
   "source": [
    "# Print each element of this list on a separate line\n",
    "greeting = ['Happy', 'Friday', 'to', 'all', 'of', 'CSE20']\n",
    "n = 0                               # initializing\n",
    "while n < len(greeting):            # test\n",
    "    print(greeting[n], end=' ')\n",
    "    n = n + 1                       # update"
   ]
  },
  {
   "cell_type": "code",
   "execution_count": 28,
   "metadata": {},
   "outputs": [
    {
     "name": "stdout",
     "output_type": "stream",
     "text": [
      "Happy Friday to all of CSE20 "
     ]
    }
   ],
   "source": [
    "# Print each element of this list on a separate line\n",
    "greeting = ['Happy', 'Friday', 'to', 'all', 'of', 'CSE20']\n",
    "for x in greeting:\n",
    "    print(x, end=' ')"
   ]
  },
  {
   "cell_type": "markdown",
   "metadata": {
    "slideshow": {
     "slide_type": "fragment"
    }
   },
   "source": [
    "# Warmup challenge 2"
   ]
  },
  {
   "cell_type": "code",
   "execution_count": 10,
   "metadata": {
    "slideshow": {
     "slide_type": "subslide"
    }
   },
   "outputs": [
    {
     "name": "stdout",
     "output_type": "stream",
     "text": [
      "Happy Friday to all \n"
     ]
    }
   ],
   "source": [
    "# Combine all elements of this list into a string, and print it out\n",
    "greeting = ['Happy', 'Friday', 'to', 'all']\n",
    "n = 0\n",
    "line = ''\n",
    "while n < len(greeting):\n",
    "    line = line + greeting[n] + \" \"\n",
    "    n = n + 1\n",
    "print(line)"
   ]
  },
  {
   "cell_type": "code",
   "execution_count": 29,
   "metadata": {},
   "outputs": [
    {
     "name": "stdout",
     "output_type": "stream",
     "text": [
      "Happy Friday to all \n"
     ]
    }
   ],
   "source": [
    "# Combine all elements of this list into a string, and print it out\n",
    "greeting = ['Happy', 'Friday', 'to', 'all']\n",
    "line = ''\n",
    "for x in greeting:\n",
    "    line = line + x + \" \"\n",
    "print(line)"
   ]
  },
  {
   "cell_type": "markdown",
   "metadata": {
    "slideshow": {
     "slide_type": "slide"
    }
   },
   "source": [
    "# Challenge: Printing a Multiplication Table using Nested Loops"
   ]
  },
  {
   "cell_type": "code",
   "execution_count": 45,
   "metadata": {
    "slideshow": {
     "slide_type": "fragment"
    }
   },
   "outputs": [
    {
     "name": "stdout",
     "output_type": "stream",
     "text": [
      "xxx1xxx2xxx3xxx4xxx5xxx6xxx7xxx8xxx9xx10xx11xx12xx13xx14xx15xx16xx17xx18xx19xx20\n",
      "xxx2xxx4xxx6xxx8xx10xx12xx14xx16xx18xx20xx22xx24xx26xx28xx30xx32xx34xx36xx38xx40\n",
      "xxx3xxx6xxx9xx12xx15xx18xx21xx24xx27xx30xx33xx36xx39xx42xx45xx48xx51xx54xx57xx60\n",
      "xxx4xxx8xx12xx16xx20xx24xx28xx32xx36xx40xx44xx48xx52xx56xx60xx64xx68xx72xx76xx80\n",
      "xxx5xx10xx15xx20xx25xx30xx35xx40xx45xx50xx55xx60xx65xx70xx75xx80xx85xx90xx95x100\n",
      "xxx6xx12xx18xx24xx30xx36xx42xx48xx54xx60xx66xx72xx78xx84xx90xx96x102x108x114x120\n",
      "xxx7xx14xx21xx28xx35xx42xx49xx56xx63xx70xx77xx84xx91xx98x105x112x119x126x133x140\n",
      "xxx8xx16xx24xx32xx40xx48xx56xx64xx72xx80xx88xx96x104x112x120x128x136x144x152x160\n",
      "xxx9xx18xx27xx36xx45xx54xx63xx72xx81xx90xx99x108x117x126x135x144x153x162x171x180\n",
      "xx10xx20xx30xx40xx50xx60xx70xx80xx90x100x110x120x130x140x150x160x170x180x190x200\n",
      "xx11xx22xx33xx44xx55xx66xx77xx88xx99x110x121x132x143x154x165x176x187x198x209x220\n",
      "xx12xx24xx36xx48xx60xx72xx84xx96x108x120x132x144x156x168x180x192x204x216x228x240\n",
      "xx13xx26xx39xx52xx65xx78xx91x104x117x130x143x156x169x182x195x208x221x234x247x260\n",
      "xx14xx28xx42xx56xx70xx84xx98x112x126x140x154x168x182x196x210x224x238x252x266x280\n",
      "xx15xx30xx45xx60xx75xx90x105x120x135x150x165x180x195x210x225x240x255x270x285x300\n",
      "xx16xx32xx48xx64xx80xx96x112x128x144x160x176x192x208x224x240x256x272x288x304x320\n",
      "xx17xx34xx51xx68xx85x102x119x136x153x170x187x204x221x238x255x272x289x306x323x340\n",
      "xx18xx36xx54xx72xx90x108x126x144x162x180x198x216x234x252x270x288x306x324x342x360\n",
      "xx19xx38xx57xx76xx95x114x133x152x171x190x209x228x247x266x285x304x323x342x361x380\n",
      "xx20xx40xx60xx80x100x120x140x160x180x200x220x240x260x280x300x320x340x360x380x400\n"
     ]
    }
   ],
   "source": [
    "for row in range(1,21):\n",
    "    for col in range(1,21):\n",
    "        print( f\"{row*col:4d}\", end=\"\" )\n",
    "    print()"
   ]
  },
  {
   "cell_type": "raw",
   "metadata": {
    "slideshow": {
     "slide_type": "fragment"
    }
   },
   "source": [
    "   1   2   3   4   5   6   7   8   9  10\n",
    "   2   4   6   8  10  12  14  16  18  20\n",
    "   3   6   9  12  15  18  21  24  27  30\n",
    "   4   8  12  16  20  24  28  32  36  40\n",
    "   5  10  15  20  25  30  35  40  45  50\n",
    "   6  12  18  24  30  36  42  48  54  60\n",
    "   7  14  21  28  35  42  49  56  63  70\n",
    "   8  16  24  32  40  48  56  64  72  80\n",
    "   9  18  27  36  45  54  63  72  81  90\n",
    "  10  20  30  40  50  60  70  80  90 100"
   ]
  },
  {
   "cell_type": "markdown",
   "metadata": {
    "slideshow": {
     "slide_type": "slide"
    }
   },
   "source": [
    "# For loop syntax"
   ]
  },
  {
   "cell_type": "markdown",
   "metadata": {
    "execution": {
     "iopub.execute_input": "2022-09-23T00:20:07.079210Z",
     "iopub.status.busy": "2022-09-23T00:20:07.078288Z",
     "iopub.status.idle": "2022-09-23T00:20:07.139828Z",
     "shell.execute_reply": "2022-09-23T00:20:07.140254Z"
    },
    "id": "kAgiq8YNg_yr",
    "slideshow": {
     "slide_type": "fragment"
    }
   },
   "source": [
    "\n",
    "The general syntax is:\n",
    "```\n",
    "for variable in iterable:\n",
    "  statement_block\n",
    "```\n",
    "What counts as an 'iterable' thing?\n",
    " * Lists, eg ['Happy', 'Friday', 'to', 'all']\n",
    " * **range** is a powerful function for generating iterable sequences of integers\n",
    "   * range(0,10) is iterable, behaves like [0,1,2,3,4,5,6,7,8,9]\n",
    "     * includes 0\n",
    "     * excludes 10\n",
    "   * range(10) abbreviates range(0,10)"
   ]
  },
  {
   "cell_type": "markdown",
   "metadata": {
    "slideshow": {
     "slide_type": "subslide"
    }
   },
   "source": [
    "# Challenge 1"
   ]
  },
  {
   "cell_type": "code",
   "execution_count": 36,
   "metadata": {
    "execution": {
     "iopub.execute_input": "2022-09-23T00:20:07.143780Z",
     "iopub.status.busy": "2022-09-23T00:20:07.143199Z",
     "iopub.status.idle": "2022-09-23T00:20:07.145210Z",
     "shell.execute_reply": "2022-09-23T00:20:07.145574Z"
    },
    "slideshow": {
     "slide_type": "fragment"
    }
   },
   "outputs": [
    {
     "name": "stdout",
     "output_type": "stream",
     "text": [
      "1 2 3 4 5 6 7 8 9 10 "
     ]
    }
   ],
   "source": [
    "# Print the first 10 integers \n",
    "for i in range(1,11):\n",
    "  print(i, end=' ')"
   ]
  },
  {
   "cell_type": "code",
   "execution_count": 38,
   "metadata": {
    "execution": {
     "iopub.execute_input": "2022-09-23T00:20:07.143780Z",
     "iopub.status.busy": "2022-09-23T00:20:07.143199Z",
     "iopub.status.idle": "2022-09-23T00:20:07.145210Z",
     "shell.execute_reply": "2022-09-23T00:20:07.145574Z"
    },
    "slideshow": {
     "slide_type": "fragment"
    }
   },
   "outputs": [
    {
     "name": "stdout",
     "output_type": "stream",
     "text": [
      "55\n"
     ]
    }
   ],
   "source": [
    "# Sum the first 10 integers \n",
    "sum = 0\n",
    "for i in range(11):\n",
    "  sum += i\n",
    "print(sum)"
   ]
  },
  {
   "cell_type": "markdown",
   "metadata": {
    "id": "Mqd1YnDchZ7a",
    "slideshow": {
     "slide_type": "skip"
    }
   },
   "source": [
    "# Iterating on lists"
   ]
  },
  {
   "cell_type": "markdown",
   "metadata": {
    "id": "tX9EU0hShLy2",
    "slideshow": {
     "slide_type": "slide"
    }
   },
   "source": [
    "# Range\n",
    "\n",
    "Range is a powerful \"function\" for generating iterable sequences of integers."
   ]
  },
  {
   "cell_type": "code",
   "execution_count": 25,
   "metadata": {
    "colab": {
     "base_uri": "https://localhost:8080/"
    },
    "execution": {
     "iopub.execute_input": "2022-09-23T00:20:07.156014Z",
     "iopub.status.busy": "2022-09-23T00:20:07.155435Z",
     "iopub.status.idle": "2022-09-23T00:20:07.157845Z",
     "shell.execute_reply": "2022-09-23T00:20:07.158232Z"
    },
    "executionInfo": {
     "elapsed": 310,
     "status": "ok",
     "timestamp": 1607551903887,
     "user": {
      "displayName": "Benedict Paten",
      "photoUrl": "https://lh3.googleusercontent.com/a-/AOh14Gh2rYrrH6yoNnUp0Oj4p4ouybc6ZcWGyPmKFtIY=s64",
      "userId": "06399644931392855882"
     },
     "user_tz": 480
    },
    "id": "vFiO_0oijjAU",
    "outputId": "aec03087-1876-4bbc-82e2-0ab1f464d212",
    "slideshow": {
     "slide_type": "skip"
    }
   },
   "outputs": [
    {
     "name": "stdout",
     "output_type": "stream",
     "text": [
      "i is  5\n",
      "i is  6\n",
      "i is  7\n",
      "i is  8\n",
      "i is  9\n"
     ]
    }
   ],
   "source": [
    "# If you give range two arguments the first is the starting number of the iteration\n",
    "# the second is the ending point of the iteration (exclusive), counting up 1 each time:\n",
    "\n",
    "for i in range(5, 10): # From 5 (inclusive) to 10 (exclusive)\n",
    "  print(\"i is\",i)"
   ]
  },
  {
   "cell_type": "code",
   "execution_count": 27,
   "metadata": {
    "colab": {
     "base_uri": "https://localhost:8080/",
     "height": 193
    },
    "execution": {
     "iopub.execute_input": "2022-09-23T00:20:07.162444Z",
     "iopub.status.busy": "2022-09-23T00:20:07.161771Z",
     "iopub.status.idle": "2022-09-23T00:20:07.164160Z",
     "shell.execute_reply": "2022-09-23T00:20:07.164551Z"
    },
    "executionInfo": {
     "elapsed": 327,
     "status": "ok",
     "timestamp": 1570574154922,
     "user": {
      "displayName": "Benedict Paten",
      "photoUrl": "https://lh3.googleusercontent.com/a-/AAuE7mBMnWy8dDR7jyTHNy9tPaRx6DCyA3QKrIcuQ7R4=s64",
      "userId": "06399644931392855882"
     },
     "user_tz": 420
    },
    "id": "ngfEQSFtSszF",
    "outputId": "fc85ba0a-be25-4ec0-d00c-f6c2ca5e9d01",
    "slideshow": {
     "slide_type": "subslide"
    }
   },
   "outputs": [
    {
     "name": "stdout",
     "output_type": "stream",
     "text": [
      "i is 9\n",
      "i is 8\n",
      "i is 7\n",
      "i is 6\n",
      "i is 5\n",
      "i is 4\n",
      "i is 3\n",
      "i is 2\n",
      "i is 1\n",
      "i is 0\n"
     ]
    }
   ],
   "source": [
    "# If you give range a third argument it determines the \"step\" of the iteration\n",
    "for i in range(9, -1, -1): # Backwards from 9 to 0, stepping -1 each time:\n",
    "  print(\"i is\",i)"
   ]
  },
  {
   "cell_type": "code",
   "execution_count": 28,
   "metadata": {
    "colab": {
     "base_uri": "https://localhost:8080/",
     "height": 105
    },
    "execution": {
     "iopub.execute_input": "2022-09-23T00:20:07.168838Z",
     "iopub.status.busy": "2022-09-23T00:20:07.168229Z",
     "iopub.status.idle": "2022-09-23T00:20:07.170550Z",
     "shell.execute_reply": "2022-09-23T00:20:07.171016Z"
    },
    "executionInfo": {
     "elapsed": 383,
     "status": "ok",
     "timestamp": 1570574354511,
     "user": {
      "displayName": "Benedict Paten",
      "photoUrl": "https://lh3.googleusercontent.com/a-/AAuE7mBMnWy8dDR7jyTHNy9tPaRx6DCyA3QKrIcuQ7R4=s64",
      "userId": "06399644931392855882"
     },
     "user_tz": 420
    },
    "id": "FbVyQUwATL2-",
    "outputId": "7c6841e7-e6f6-4f18-ba7e-f6da5d98cbf0",
    "slideshow": {
     "slide_type": "subslide"
    }
   },
   "outputs": [
    {
     "name": "stdout",
     "output_type": "stream",
     "text": [
      "i is 0\n",
      "i is 2\n",
      "i is 4\n",
      "i is 6\n",
      "i is 8\n"
     ]
    }
   ],
   "source": [
    "# Jumping two steps at a time\n",
    "for i in range(0, 10, 2): \n",
    "  print(\"i is\",i)"
   ]
  },
  {
   "cell_type": "markdown",
   "metadata": {
    "slideshow": {
     "slide_type": "subslide"
    }
   },
   "source": [
    "# Challenge 2"
   ]
  },
  {
   "cell_type": "code",
   "execution_count": 41,
   "metadata": {
    "execution": {
     "iopub.execute_input": "2022-09-23T00:20:07.174477Z",
     "iopub.status.busy": "2022-09-23T00:20:07.173849Z",
     "iopub.status.idle": "2022-09-23T00:20:07.176079Z",
     "shell.execute_reply": "2022-09-23T00:20:07.176491Z"
    },
    "slideshow": {
     "slide_type": "fragment"
    }
   },
   "outputs": [
    {
     "name": "stdout",
     "output_type": "stream",
     "text": [
      "20\n",
      "23\n",
      "26\n",
      "29\n",
      "32\n",
      "35\n",
      "38\n"
     ]
    }
   ],
   "source": [
    "# Print every third integer starting at 20 and ending at and including 38\n",
    "for i in range(20,41,3):\n",
    "    print(i)\n",
    "\n",
    "\n",
    "\n",
    "\n",
    "\n",
    "\n",
    "\n",
    "\n",
    "\n"
   ]
  },
  {
   "cell_type": "markdown",
   "metadata": {
    "id": "RYt-oPWENG-F",
    "slideshow": {
     "slide_type": "slide"
    }
   },
   "source": [
    "# Break\n",
    "\n",
    "A break statement inside a loop immediately terminates the loop. Execution continues right after the loop."
   ]
  },
  {
   "cell_type": "code",
   "execution_count": 34,
   "metadata": {
    "colab": {
     "base_uri": "https://localhost:8080/"
    },
    "execution": {
     "iopub.execute_input": "2022-09-23T00:20:07.193039Z",
     "iopub.status.busy": "2022-09-23T00:20:07.192214Z",
     "iopub.status.idle": "2022-09-23T00:20:07.194892Z",
     "shell.execute_reply": "2022-09-23T00:20:07.195313Z"
    },
    "executionInfo": {
     "elapsed": 566,
     "status": "ok",
     "timestamp": 1615507806833,
     "user": {
      "displayName": "Benedict Paten",
      "photoUrl": "https://lh3.googleusercontent.com/a-/AOh14Gh2rYrrH6yoNnUp0Oj4p4ouybc6ZcWGyPmKFtIY=s64",
      "userId": "06399644931392855882"
     },
     "user_tz": 480
    },
    "id": "fUmk3NK91BUp",
    "outputId": "d5d6561e-25ae-44d6-d075-71c074677d59",
    "slideshow": {
     "slide_type": "subslide"
    }
   },
   "outputs": [
    {
     "name": "stdout",
     "output_type": "stream",
     "text": [
      "0\n",
      "1\n",
      "2\n",
      "3\n",
      "4\n",
      "5\n",
      "6\n",
      "7\n",
      "8\n",
      "9\n",
      "10\n",
      "We are at the end\n"
     ]
    }
   ],
   "source": [
    "# Break is used to jump out of a loop\n",
    "\n",
    "i = 0\n",
    "\n",
    "while True: \n",
    "  print(i)\n",
    "  i = i + 1 # Increase i, or the loop will never terminate \n",
    "  if i > 10:\n",
    "    break # This causes execution of the loop to stop \n",
    "    \n",
    "print(\"We are at the end\")"
   ]
  },
  {
   "cell_type": "markdown",
   "metadata": {
    "id": "DS6uGQR_1lwf",
    "slideshow": {
     "slide_type": "slide"
    }
   },
   "source": [
    "# Break to shortcut a loop\n",
    "\n",
    "Break is often used to shortcut a loop, for efficiency reasons"
   ]
  },
  {
   "cell_type": "code",
   "execution_count": 38,
   "metadata": {
    "colab": {
     "base_uri": "https://localhost:8080/",
     "height": 70
    },
    "execution": {
     "iopub.execute_input": "2022-09-23T00:20:07.200582Z",
     "iopub.status.busy": "2022-09-23T00:20:07.199919Z",
     "iopub.status.idle": "2022-09-23T00:20:07.202333Z",
     "shell.execute_reply": "2022-09-23T00:20:07.202740Z"
    },
    "executionInfo": {
     "elapsed": 325,
     "status": "ok",
     "timestamp": 1570575678814,
     "user": {
      "displayName": "Benedict Paten",
      "photoUrl": "https://lh3.googleusercontent.com/a-/AAuE7mBMnWy8dDR7jyTHNy9tPaRx6DCyA3QKrIcuQ7R4=s64",
      "userId": "06399644931392855882"
     },
     "user_tz": 420
    },
    "id": "QpQlSwQlNTXf",
    "outputId": "95c5bc1a-c2e1-4c4a-9f3e-810a0ae22412",
    "slideshow": {
     "slide_type": "subslide"
    }
   },
   "outputs": [
    {
     "name": "stdout",
     "output_type": "stream",
     "text": [
      "Looking at 10\n",
      "Looking at 11\n",
      "Looking at 1\n",
      "smallValue is True\n"
     ]
    }
   ],
   "source": [
    "# Loop through list to see if it contains a value less than 5\n",
    "list = [ 10, 11, 1, 12, 7, 8, 2 ]\n",
    "\n",
    "smallValue = False\n",
    "for i in list:\n",
    "  print(\"Looking at\", i)\n",
    "  if i < 5:\n",
    "    smallValue = True\n",
    "    break # This causes loop to terminate\n",
    "    \n",
    "print(\"smallValue is\", smallValue)"
   ]
  },
  {
   "cell_type": "markdown",
   "metadata": {
    "id": "7lzvyskJm9Vc",
    "slideshow": {
     "slide_type": "fragment"
    }
   },
   "source": [
    "Without the break statement the loop would continue to evaluate all the elements on the sequence, but with it we only need to look at elements until the condition is determined to be true"
   ]
  },
  {
   "cell_type": "markdown",
   "metadata": {
    "id": "WAg_8ZWoPA3_",
    "slideshow": {
     "slide_type": "slide"
    }
   },
   "source": [
    "# In general, why is break useful?\n",
    "\n",
    "* It can usefully short-cut a loop, preventing unnecessary computation\n",
    "* It allows more fine grain control of loops - you can choose to exit wherever you like"
   ]
  },
  {
   "cell_type": "markdown",
   "metadata": {
    "slideshow": {
     "slide_type": "subslide"
    }
   },
   "source": [
    "# Challenge 3"
   ]
  },
  {
   "cell_type": "code",
   "execution_count": null,
   "metadata": {
    "execution": {
     "iopub.execute_input": "2022-09-23T00:20:07.207814Z",
     "iopub.status.busy": "2022-09-23T00:20:07.206934Z",
     "iopub.status.idle": "2022-09-23T00:20:07.214950Z",
     "shell.execute_reply": "2022-09-23T00:20:07.215447Z"
    },
    "slideshow": {
     "slide_type": "fragment"
    }
   },
   "outputs": [],
   "source": [
    "# Add a conditional and a break statement to exit\n",
    "# the loop when the user enters a number greater than 0\n",
    "\n",
    "while True:\n",
    "    x = float(input(\"Enter a number greater than 0:\"))"
   ]
  },
  {
   "cell_type": "markdown",
   "metadata": {
    "slideshow": {
     "slide_type": "slide"
    }
   },
   "source": [
    "# Break With Nested Loops"
   ]
  },
  {
   "cell_type": "markdown",
   "metadata": {
    "slideshow": {
     "slide_type": "fragment"
    }
   },
   "source": [
    "Question: How does break behave with nested loops?"
   ]
  },
  {
   "cell_type": "code",
   "execution_count": 17,
   "metadata": {
    "execution": {
     "iopub.execute_input": "2022-09-23T00:20:07.244738Z",
     "iopub.status.busy": "2022-09-23T00:20:07.243966Z",
     "iopub.status.idle": "2022-09-23T00:20:07.247409Z",
     "shell.execute_reply": "2022-09-23T00:20:07.247827Z"
    },
    "slideshow": {
     "slide_type": "fragment"
    }
   },
   "outputs": [
    {
     "name": "stdout",
     "output_type": "stream",
     "text": [
      "The value of i is: 1 the value of j is: 1 there sum is: 2\n",
      "The value of i is: 1 the value of j is: 2 there sum is: 3\n",
      "I'm still in the outer loop\n",
      "The value of i is: 2 the value of j is: 1 there sum is: 3\n",
      "i am going to break 2 2\n",
      "I'm still in the outer loop\n",
      "i am going to break 3 1\n",
      "I'm still in the outer loop\n",
      "i am going to break 4 1\n",
      "I'm still in the outer loop\n",
      "i am going to break 5 1\n",
      "I'm still in the outer loop\n",
      "we're done\n"
     ]
    }
   ],
   "source": [
    "for i in range(1, 6):\n",
    "    for j in range(1, 3):\n",
    "        if i + j > 3:\n",
    "            print(\"i am going to break\", i, j)\n",
    "            break\n",
    "        print(\"The value of i is:\", i, \"the value of j is:\", j, \"there sum is:\", i+j)\n",
    "    print(\"I'm still in the outer loop\") # As this value gets printed, even when we break, it\n",
    "    # is clear break only \"breaks out\" of the inner most loop it is contained in\n",
    "print(\"we're done\")"
   ]
  },
  {
   "cell_type": "markdown",
   "metadata": {
    "slideshow": {
     "slide_type": "fragment"
    }
   },
   "source": [
    "Answer: It only breaks out of the inner most loop it is contained in."
   ]
  },
  {
   "cell_type": "markdown",
   "metadata": {
    "slideshow": {
     "slide_type": "subslide"
    }
   },
   "source": [
    "To break out of two or more loops, consider using a boolean variable:"
   ]
  },
  {
   "cell_type": "code",
   "execution_count": 18,
   "metadata": {
    "execution": {
     "iopub.execute_input": "2022-09-23T00:20:07.253606Z",
     "iopub.status.busy": "2022-09-23T00:20:07.252899Z",
     "iopub.status.idle": "2022-09-23T00:20:07.255338Z",
     "shell.execute_reply": "2022-09-23T00:20:07.255788Z"
    },
    "slideshow": {
     "slide_type": "fragment"
    }
   },
   "outputs": [
    {
     "name": "stdout",
     "output_type": "stream",
     "text": [
      "The value of i is: 1 the value of j is: 1 there sum is: 2\n",
      "The value of i is: 1 the value of j is: 2 there sum is: 3\n",
      "I'm still in the outer loop\n",
      "The value of i is: 2 the value of j is: 1 there sum is: 3\n",
      "i am going to break 2 2\n",
      "we're done\n"
     ]
    }
   ],
   "source": [
    "for i in range(1, 6):\n",
    "    breaked = False\n",
    "    for j in range(1, 3):\n",
    "        if i + j > 3:\n",
    "            print(\"i am going to break\", i, j)\n",
    "            breaked = True\n",
    "            break\n",
    "        print(\"The value of i is:\", i, \"the value of j is:\", j, \"there sum is:\", i+j)\n",
    "    if breaked:\n",
    "        break\n",
    "    print(\"I'm still in the outer loop\") # As this value gets printed, even when we break, it\n",
    "    # is clear break only \"breaks out\" of the inner most loop it is contained in\n",
    "print(\"we're done\")"
   ]
  },
  {
   "cell_type": "markdown",
   "metadata": {
    "id": "KzQsuZmH2G_m",
    "slideshow": {
     "slide_type": "slide"
    }
   },
   "source": [
    "# Continue\n",
    "\n",
    "Continue let's us skip the remaining portion of a loop, but not exit the loop itself.\n",
    "\n",
    "<img src=\"https://raw.githubusercontent.com/cormacflanagan/intro_python/main/lecture_notebooks/figures/graffles/continue.jpg\" width=400 height=400 />\n"
   ]
  },
  {
   "cell_type": "code",
   "execution_count": 19,
   "metadata": {
    "colab": {
     "base_uri": "https://localhost:8080/"
    },
    "execution": {
     "iopub.execute_input": "2022-09-23T00:20:07.260857Z",
     "iopub.status.busy": "2022-09-23T00:20:07.260263Z",
     "iopub.status.idle": "2022-09-23T00:20:07.262593Z",
     "shell.execute_reply": "2022-09-23T00:20:07.263030Z"
    },
    "executionInfo": {
     "elapsed": 364,
     "status": "ok",
     "timestamp": 1607563622084,
     "user": {
      "displayName": "Benedict Paten",
      "photoUrl": "https://lh3.googleusercontent.com/a-/AOh14Gh2rYrrH6yoNnUp0Oj4p4ouybc6ZcWGyPmKFtIY=s64",
      "userId": "06399644931392855882"
     },
     "user_tz": 480
    },
    "id": "wbpGJEVjPeDO",
    "outputId": "1587dc2e-32f3-4b93-f352-777133b034ee",
    "slideshow": {
     "slide_type": "subslide"
    }
   },
   "outputs": [
    {
     "name": "stdout",
     "output_type": "stream",
     "text": [
      "adding 10\n",
      "skipping 1\n",
      "adding 12\n",
      "adding 7\n",
      "adding 8\n",
      "skipping 2\n",
      "The sum of elements in the list, ignoring values less than 5 is: 37\n"
     ]
    }
   ],
   "source": [
    "# An example of using continue: sum integers > 5 in a sequence\n",
    "\n",
    "l = [ 10, 1, 12, 7, 8, 2 ] # The list\n",
    "\n",
    "j = 0 # Sum of elements in the list\n",
    "\n",
    "for i in l:\n",
    "  if i < 5:\n",
    "    print(\"skipping \" + str(i))\n",
    "\n",
    "    continue # This says go back to the top of the loop and evalute\n",
    "    # the loop conditional\n",
    "  \n",
    "  print(\"adding\", i)\n",
    "  j += i # Add the value of i to j\n",
    "  \n",
    "print(\"The sum of elements in the list,\"\n",
    "      + \" ignoring values less than 5 is: \" + str(j))"
   ]
  },
  {
   "cell_type": "markdown",
   "metadata": {
    "id": "oqa3DMzHQNjK",
    "slideshow": {
     "slide_type": "fragment"
    }
   },
   "source": [
    "Continue let's you be more selective about how much of a loop you execute. You can always substitute it for if/else constructs, but often it is more elegant (and less code) to use continue."
   ]
  },
  {
   "cell_type": "markdown",
   "metadata": {
    "slideshow": {
     "slide_type": "subslide"
    }
   },
   "source": [
    "# Challenge 4"
   ]
  },
  {
   "cell_type": "code",
   "execution_count": 20,
   "metadata": {
    "execution": {
     "iopub.execute_input": "2022-09-23T00:20:07.267858Z",
     "iopub.status.busy": "2022-09-23T00:20:07.267210Z",
     "iopub.status.idle": "2022-09-23T00:20:07.269521Z",
     "shell.execute_reply": "2022-09-23T00:20:07.269960Z"
    },
    "slideshow": {
     "slide_type": "fragment"
    }
   },
   "outputs": [
    {
     "name": "stdout",
     "output_type": "stream",
     "text": [
      "I'm\n",
      "learning\n",
      "Python\n",
      "because\n",
      "I'm\n",
      "into\n",
      "herpetology\n"
     ]
    }
   ],
   "source": [
    "# Add a conditional and continue statement to skip printing any word beginning with the letter 'I', 'l' or 'i'\n",
    "\n",
    "l = [ \"I'm\", \"learning\", \"Python\", \"because\", \"I'm\", \"into\", \"herpetology\"]\n",
    "\n",
    "for i in l:\n",
    "    print(i)"
   ]
  },
  {
   "cell_type": "markdown",
   "metadata": {
    "id": "6coWzD7V9SRk",
    "slideshow": {
     "slide_type": "slide"
    }
   },
   "source": [
    "# Let's practice a bit\n",
    "\n",
    "The following code examples are designed to make you think a little bit and practice what we've learned.\n",
    "\n",
    "If they doesn't make sense to you try reviewing the material we've covered so far to figure out what you're struggling with.\n",
    "\n",
    "They are all directly adapted from Chapter 7 of the open textbook, so you can use textbook to help you understand them."
   ]
  },
  {
   "cell_type": "markdown",
   "metadata": {
    "id": "1fvWuYf1ISYp",
    "slideshow": {
     "slide_type": "slide"
    }
   },
   "source": [
    " # Counting digits\n",
    "\n",
    " How many digits, base 10, are there in an integer?"
   ]
  },
  {
   "cell_type": "code",
   "execution_count": 2,
   "metadata": {
    "colab": {
     "base_uri": "https://localhost:8080/"
    },
    "execution": {
     "iopub.execute_input": "2022-09-23T00:20:07.274390Z",
     "iopub.status.busy": "2022-09-23T00:20:07.273735Z",
     "iopub.status.idle": "2022-09-23T00:20:07.280029Z",
     "shell.execute_reply": "2022-09-23T00:20:07.280824Z"
    },
    "executionInfo": {
     "elapsed": 9234,
     "status": "ok",
     "timestamp": 1607563814545,
     "user": {
      "displayName": "Benedict Paten",
      "photoUrl": "https://lh3.googleusercontent.com/a-/AOh14Gh2rYrrH6yoNnUp0Oj4p4ouybc6ZcWGyPmKFtIY=s64",
      "userId": "06399644931392855882"
     },
     "user_tz": 480
    },
    "id": "lWJ1ieJnH3Mt",
    "outputId": "2b545cfa-e858-443d-f34d-cb43ad70461a",
    "slideshow": {
     "slide_type": "fragment"
    }
   },
   "outputs": [
    {
     "name": "stdout",
     "output_type": "stream",
     "text": [
      "Enter a whole number: 105\n",
      "Number of digits in input is:  3\n"
     ]
    }
   ],
   "source": [
    "n = int(input(\"Enter a whole number: \"))\n",
    "  \n",
    "# Calculate the number of digits in an integer (base 10).\n",
    "# e.g. For n = 6706 returns 4\n",
    "count = 0\n",
    "while n != 0:\n",
    "  count = count + 1\n",
    "  n = n // 10 # This is the integer division operator, it loses the remainder\n",
    "  \n",
    "print(\"Number of digits in input is: \", count)\n"
   ]
  },
  {
   "cell_type": "markdown",
   "metadata": {
    "id": "EUI99pKQRFQD",
    "slideshow": {
     "slide_type": "fragment"
    }
   },
   "source": [
    "Challenge: Can you see how to adapt the above to count how many digits are in the binary representation of the number? (https://en.wikipedia.org/wiki/Binary_number)"
   ]
  },
  {
   "cell_type": "markdown",
   "metadata": {
    "id": "cagq9CB_AZAP",
    "slideshow": {
     "slide_type": "slide"
    }
   },
   "source": [
    "# A sqrt function\n",
    "\n",
    "Newton's method to find square roots relies on the observation that if x is a guess of the square root of n then: \n",
    " * (x + n/x)/2 \n",
    "is a better approximation.\n",
    "(If curious, see: https://math.mit.edu/~stevenj/18.335/newton-sqrt.pdf)\n",
    "\n",
    "For example:\n",
    "\n",
    "Say n = 49 and x = 3 then we can calculate the sequence of approximations iteratively:\n",
    "\n",
    "* x = 3, \n",
    "* x = (3 + 49/3)/2 = 9 2/3, \n",
    "* x = (9 + 2/3 + 49(9 + 2/3))/2 ~= 7.36\n",
    "* x = (7.36 + 49/(7.36))/2 = 7.008\n",
    "* etc..."
   ]
  },
  {
   "cell_type": "code",
   "execution_count": 43,
   "metadata": {
    "execution": {
     "iopub.execute_input": "2022-09-23T00:20:07.296749Z",
     "iopub.status.busy": "2022-09-23T00:20:07.296151Z",
     "iopub.status.idle": "2022-09-23T00:20:07.302396Z",
     "shell.execute_reply": "2022-09-23T00:20:07.302865Z"
    },
    "slideshow": {
     "slide_type": "subslide"
    }
   },
   "outputs": [
    {
     "name": "stdout",
     "output_type": "stream",
     "text": [
      "Enter a number: 10\n",
      "guess is 3.5\n",
      "guess is 3.178571428571429\n",
      "guess is 3.162319422150883\n",
      "guess is 3.1622776604441363\n",
      "guess is 3.162277660168379\n",
      "guess is 3.162277660168379\n",
      "guess is 3.162277660168379\n",
      "guess is 3.162277660168379\n",
      "guess is 3.162277660168379\n",
      "guess is 3.162277660168379\n",
      "The square root of 10.0 is approximately 3.162277660168379 whose square is 9.999999999999998\n"
     ]
    }
   ],
   "source": [
    "n = float(input(\"Enter a number: \"))\n",
    "x = n/2.0 # Start with guess at the answer\n",
    "for i in range(10):\n",
    "    x = (x + n/x)/2\n",
    "    print(\"guess is\", x) # See the intermediate guesses\n",
    "print(\"The square root of\", n, \"is approximately\", x, \"whose square is\", x**2)"
   ]
  },
  {
   "cell_type": "markdown",
   "metadata": {
    "slideshow": {
     "slide_type": "subslide"
    }
   },
   "source": [
    "# Challenge 5"
   ]
  },
  {
   "cell_type": "code",
   "execution_count": 6,
   "metadata": {
    "execution": {
     "iopub.execute_input": "2022-09-23T00:20:07.307318Z",
     "iopub.status.busy": "2022-09-23T00:20:07.306593Z",
     "iopub.status.idle": "2022-09-23T00:20:07.313296Z",
     "shell.execute_reply": "2022-09-23T00:20:07.313758Z"
    },
    "slideshow": {
     "slide_type": "fragment"
    }
   },
   "outputs": [
    {
     "name": "stdout",
     "output_type": "stream",
     "text": [
      "Enter a number: 100\n",
      "guess is 26.0\n",
      "guess is 14.923076923076923\n",
      "guess is 10.812053925455988\n",
      "guess is 10.030495203889796\n",
      "guess is 10.000046356507898\n",
      "guess is 10.000000000107445\n",
      "guess is 10.0\n",
      "guess is 10.0\n",
      "guess is 10.0\n",
      "guess is 10.0\n",
      "The sqrt is approximately: 10.0\n"
     ]
    }
   ],
   "source": [
    "# Challenge: Adapt the previous example (copied below) \n",
    "# to iterate until the absolute difference between successive values of x is less than a 0.00001\n",
    "# Hint: try using a while loop and break statement and the abs() function\n",
    "\n",
    "n = float(input(\"Enter a number: \"))\n",
    "x = n/2.0 # Start with guess at the answer\n",
    "for i in range(10):\n",
    "    x = (x + n/x)/2\n",
    "    print(\"guess is\", x) # See the intermediate guesses\n",
    "print(\"The sqrt is approximately:\", x)"
   ]
  },
  {
   "cell_type": "markdown",
   "metadata": {
    "id": "ur2PihONMXWV",
    "slideshow": {
     "slide_type": "slide"
    }
   },
   "source": [
    "# Reading\n",
    "\n",
    "* Open book Chapter 7: http://openbookproject.net/thinkcs/python/english3e/iteration.html\n",
    "\n",
    "# Homework\n",
    "\n",
    "* Go to Canvas and complete the lecture quiz, which involves completing each challenge problem\n",
    "* Zybook Reading 5\n"
   ]
  },
  {
   "cell_type": "code",
   "execution_count": null,
   "metadata": {
    "slideshow": {
     "slide_type": "skip"
    }
   },
   "outputs": [],
   "source": [
    "for row in range(1,11):\n",
    "    for col in range(1,11):\n",
    "        print(f\"{row*col:4d}\", end='')\n",
    "    print()"
   ]
  }
 ],
 "metadata": {
  "celltoolbar": "Slideshow",
  "colab": {
   "collapsed_sections": [
    "qrG-dqucPTBn",
    "ltqxd2dKfrrP",
    "RYt-oPWENG-F"
   ],
   "name": "L05 Loops.ipynb",
   "provenance": []
  },
  "kernelspec": {
   "display_name": "Python 3",
   "language": "python",
   "name": "python3"
  },
  "language_info": {
   "codemirror_mode": {
    "name": "ipython",
    "version": 3
   },
   "file_extension": ".py",
   "mimetype": "text/x-python",
   "name": "python",
   "nbconvert_exporter": "python",
   "pygments_lexer": "ipython3",
   "version": "3.6.6+"
  }
 },
 "nbformat": 4,
 "nbformat_minor": 1
}
